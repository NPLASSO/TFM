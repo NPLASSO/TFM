{
 "cells": [
  {
   "cell_type": "markdown",
   "metadata": {},
   "source": [
    "# 1. Imports and Funcions"
   ]
  },
  {
   "cell_type": "code",
   "execution_count": 11,
   "metadata": {},
   "outputs": [],
   "source": [
    "# Import SparkSession from pyspark.sql\n",
    "from pyspark.sql import SparkSession\n",
    "\n",
    "# Create a Session\n",
    "spark = SparkSession.builder.appName('SingleFamilyApp').master('spark://172.31.19.209:7077').getOrCreate()"
   ]
  },
  {
   "cell_type": "markdown",
   "metadata": {},
   "source": [
    "## 1.1. Imports"
   ]
  },
  {
   "cell_type": "code",
   "execution_count": 1,
   "metadata": {},
   "outputs": [],
   "source": [
    "import sys\n",
    "from pyspark.sql.types import *\n",
    "from pyspark.sql import Row, DataFrame, functions as F\n",
    "from datetime import datetime, date, timedelta\n",
    "from pyspark.sql.window import Window"
   ]
  },
  {
   "cell_type": "markdown",
   "metadata": {},
   "source": [
    "***With the next lines of code every time we perform an action with a show function, it doesnt matter how big is the dataframe or how many columns does it have, it will print the table like a pandas table without the need of conversion and the posibility of running out of memory.***"
   ]
  },
  {
   "cell_type": "code",
   "execution_count": 2,
   "metadata": {},
   "outputs": [
    {
     "data": {
      "text/html": [
       "<style>pre { white-space: pre !important; }</style>"
      ],
      "text/plain": [
       "<IPython.core.display.HTML object>"
      ]
     },
     "metadata": {},
     "output_type": "display_data"
    }
   ],
   "source": [
    "from IPython.core.display import HTML\n",
    "display(HTML(\"<style>pre { white-space: pre !important; }</style>\"))"
   ]
  },
  {
   "cell_type": "markdown",
   "metadata": {},
   "source": [
    "## 1.2. Functions"
   ]
  },
  {
   "cell_type": "code",
   "execution_count": 3,
   "metadata": {},
   "outputs": [],
   "source": [
    "def parse_closing_date(closing_date_str):\n",
    "    closing_date = datetime.strptime(closing_date_str, '%m/%d/%Y').date()\n",
    "    return closing_date"
   ]
  },
  {
   "cell_type": "code",
   "execution_count": 4,
   "metadata": {},
   "outputs": [],
   "source": [
    "def parse_closing_date1(closing_date_str):\n",
    "    closing_date = datetime.strptime(closing_date_str, '%m/%Y').date()\n",
    "    return closing_date"
   ]
  },
  {
   "cell_type": "markdown",
   "metadata": {},
   "source": [
    "# 2. Variables"
   ]
  },
  {
   "cell_type": "markdown",
   "metadata": {},
   "source": [
    "***Dataframe Path***"
   ]
  },
  {
   "cell_type": "code",
   "execution_count": 15,
   "metadata": {},
   "outputs": [],
   "source": [
    "df_acquisitions = 'hdfs://hdfs:9000/tfm/Dataframes/SingleFamily/SingleFamilyFixedRateMortgage/Acquisition/'\n",
    "df_performance = 'hdfs://hdfs:9000/tfm/Dataframes/SingleFamily/SingleFamilyFixedRateMortgage/Performance/'\n",
    "temp_acquisitions = 'hdfs://hdfs:9000/tfm//Dataframes/SingleFamily/temp/acquisitions/sandbox/'\n",
    "temp_performance = 'hdfs://hdfs:9000/tfm/Dataframes/SingleFamily/temp/performance/sandbox/'\n",
    "temp_combined = 'hdfs://hdfs:9000/tfm/Dataframes/SingleFamily/temp/combined/sandbox/'"
   ]
  },
  {
   "cell_type": "markdown",
   "metadata": {},
   "source": [
    "# 3. Manage Data"
   ]
  },
  {
   "cell_type": "markdown",
   "metadata": {},
   "source": [
    "## 3.1. Acquisitions File"
   ]
  },
  {
   "cell_type": "markdown",
   "metadata": {},
   "source": [
    "## 3.1.1. Read Data"
   ]
  },
  {
   "cell_type": "code",
   "execution_count": 7,
   "metadata": {
    "scrolled": true
   },
   "outputs": [],
   "source": [
    "acquisitions = spark.read.parquet(df_acquisitions)"
   ]
  },
  {
   "cell_type": "code",
   "execution_count": 7,
   "metadata": {},
   "outputs": [
    {
     "name": "stdout",
     "output_type": "stream",
     "text": [
      "+------------+--------+--------------------+-------+--------+--------+--------+--------+----+-----+------+---+--------+--------+-------+--------+--------+--------+-----+-----+------+------------+--------+-------+--------------+\n",
      "|     LOAN_ID|ORIG_CHN|         Seller_Name|ORIG_RT|ORIG_AMT|ORIG_TRM|ORIG_DTE|FRST_DTE|OLTV|OCLTV|NUM_BO|DTI|CSCORE_B|FTHB_FLG|PURPOSE|PROP_TYP|NUM_UNIT|OCC_STAT|STATE|ZIP_3|MI_PCT|Product_Type|CSCORE_C|MI_TYPE|RELOCATION_FLG|\n",
      "+------------+--------+--------------------+-------+--------+--------+--------+--------+----+-----+------+---+--------+--------+-------+--------+--------+--------+-----+-----+------+------------+--------+-------+--------------+\n",
      "|100000827160|       R|               OTHER|   4.25|  150000|     360| 03/2016| 05/2016|  49|   49|     2| 27|     809|       N|      C|      SF|       1|       I|   CA|  953|  null|         FRM|     812|   null|             N|\n",
      "|100002112463|       R|               OTHER|  4.625|  250000|     360| 04/2016| 06/2016|  69|   69|     1| 46|     774|       N|      C|      SF|       1|       I|   CA|  932|  null|         FRM|    null|   null|             N|\n",
      "|100007277669|       R|               OTHER|  3.625|  100000|     360| 04/2016| 06/2016|  95|  103|     1| 40|     758|       Y|      P|      SF|       1|       P|   NY|  130|    30|         FRM|    null|      1|             N|\n",
      "|100009404649|       R|               OTHER|    3.5|  149000|     360| 05/2016| 07/2016|  95|   95|     1| 32|     766|       N|      P|      PU|       1|       P|   TX|  765|    30|         FRM|    null|      1|             N|\n",
      "|100013046181|       R|               OTHER|   4.25|  216000|     360| 04/2016| 06/2016|  80|   80|     1| 44|     737|       N|      C|      SF|       1|       P|   WA|  980|  null|         FRM|    null|   null|             N|\n",
      "|100013782820|       R|               OTHER|  3.375|  150000|     240| 03/2016| 05/2016|  52|   52|     2| 15|     804|       N|      P|      PU|       1|       P|   NE|  681|  null|         FRM|     803|   null|             N|\n",
      "|100017601890|       R|               OTHER|  4.375|  236000|     360| 05/2016| 07/2016|  75|   75|     1|  5|     749|       N|      C|      SF|       1|       I|   OH|  441|  null|         FRM|    null|   null|             N|\n",
      "|100018154729|       R|  QUICKEN LOANS INC.|   3.99|   86000|     360| 05/2016| 07/2016|  90|   90|     1| 21|     753|       N|      P|      SF|       1|       P|   MI|  492|    25|         FRM|    null|      1|             N|\n",
      "|100018494233|       C|WELLS FARGO BANK,...|   3.75|  223000|     360| 04/2016| 06/2016|  95|   95|     1| 16|     797|       N|      P|      PU|       1|       P|   AL|  357|    30|         FRM|    null|      1|             N|\n",
      "|100026617283|       R|               OTHER|  3.625|  366000|     360| 03/2016| 05/2016|  65|   65|     1| 42|     731|       N|      R|      SF|       1|       P|   DC|  200|  null|         FRM|    null|   null|             N|\n",
      "|100029608476|       R|  QUICKEN LOANS INC.|   3.75|  240000|     360| 05/2016| 07/2016|  49|   49|     2| 40|     804|       N|      C|      PU|       1|       P|   FL|  334|  null|         FRM|     701|   null|             N|\n",
      "|100030562445|       C|FREEDOM MORTGAGE ...|  3.875|  246000|     360| 05/2016| 07/2016|  95|   95|     1| 44|     789|       N|      P|      PU|       1|       P|   KS|  662|    30|         FRM|    null|      2|             N|\n",
      "|100034301636|       R|       SUNTRUST BANK|   4.49|   70000|     360| 04/2016| 06/2016|  80|   80|     2| 41|     669|       N|      C|      SF|       1|       P|   GA|  300|  null|         FRM|     666|   null|             N|\n",
      "|100034834152|       B|UNITED SHORE FINA...|   4.25|   90000|     360| 02/2016| 04/2016|  62|   62|     1| 41|     668|       N|      C|      SF|       1|       P|   MI|  483|  null|         FRM|    null|   null|             N|\n",
      "|100035253992|       R|               OTHER|  3.875|  152000|     360| 04/2016| 06/2016|  80|   80|     2| 22|     811|       N|      P|      SF|       1|       S|   WA|  984|  null|         FRM|     747|   null|             N|\n",
      "|100036018474|       R|MOVEMENT MORTGAGE...|   3.99|  164000|     360| 03/2016| 05/2016|  90|   90|     2| 32|     704|       Y|      P|      PU|       1|       P|   NC|  282|    25|         FRM|     732|      1|             N|\n",
      "|100037414520|       R|               OTHER|  3.625|   76000|     240| 04/2016| 06/2016|  80|   80|     2| 36|     764|       N|      C|      SF|       1|       P|   IL|  615|  null|         FRM|     761|   null|             N|\n",
      "|100037814455|       C|WELLS FARGO BANK,...|  3.125|  220000|     120| 04/2016| 06/2016|  59|   59|     1| 31|     721|       N|      C|      SF|       1|       P|   KY|  400|  null|         FRM|    null|   null|             N|\n",
      "|100039948594|       C|               OTHER|  4.125|  246000|     360| 05/2016| 07/2016|  95|   95|     1| 32|     755|       Y|      P|      PU|       1|       P|   AL|  361|    30|         FRM|    null|      2|             N|\n",
      "|100043750331|       R|  QUICKEN LOANS INC.|   3.75|  373000|     360| 03/2016| 05/2016|  70|   70|     1| 25|     790|       N|      R|      PU|       1|       P|   CO|  800|  null|         FRM|    null|   null|             N|\n",
      "+------------+--------+--------------------+-------+--------+--------+--------+--------+----+-----+------+---+--------+--------+-------+--------+--------+--------+-----+-----+------+------------+--------+-------+--------------+\n",
      "only showing top 20 rows\n",
      "\n"
     ]
    }
   ],
   "source": [
    "acquisitions.show()"
   ]
  },
  {
   "cell_type": "markdown",
   "metadata": {},
   "source": [
    "## 3.1.2. Manage Data"
   ]
  },
  {
   "cell_type": "markdown",
   "metadata": {},
   "source": [
    "***First, I am going to delete the unnecessary Acquisition variables from the dataframe***"
   ]
  },
  {
   "cell_type": "code",
   "execution_count": 8,
   "metadata": {},
   "outputs": [],
   "source": [
    "acquisitions = acquisitions.drop('Seller_Name', 'Product_Type')"
   ]
  },
  {
   "cell_type": "markdown",
   "metadata": {},
   "source": [
    "***Calculation of the minimum FICO score by comparing the borrower credit score vs the coborrower credit score***"
   ]
  },
  {
   "cell_type": "code",
   "execution_count": 9,
   "metadata": {},
   "outputs": [],
   "source": [
    "acquisitions = acquisitions.where(~((F.col('CSCORE_B').isNull()) & (F.col('CSCORE_C').isNull())))"
   ]
  },
  {
   "cell_type": "code",
   "execution_count": 10,
   "metadata": {},
   "outputs": [],
   "source": [
    "acquisitions = acquisitions.withColumn('CSCORE_MN', F.when(F.col('CSCORE_B').isNull(), F.col('CSCORE_C'))\\\n",
    "                          .otherwise(F.when(F.col('CSCORE_C').isNull(), F.col('CSCORE_B'))\\\n",
    "                          .otherwise(F.when(F.col('CSCORE_C') < F.col('CSCORE_B'), F.col('CSCORE_C'))\\\n",
    "                          .otherwise(F.when(F.col('CSCORE_B') < F.col('CSCORE_C'), F.col('CSCORE_B')).otherwise(F.col('CSCORE_B'))))))"
   ]
  },
  {
   "cell_type": "code",
   "execution_count": 11,
   "metadata": {},
   "outputs": [],
   "source": [
    "acquisitions = acquisitions.withColumn('CSCORE_B', F.when(F.col('CSCORE_B').isNull(), F.col('CSCORE_C')).otherwise(F.col('CSCORE_B')))\\\n",
    "                           .withColumn('CSCORE_C', F.when(F.col('CSCORE_C').isNull(), F.col('CSCORE_B')).otherwise(F.col('CSCORE_C')))"
   ]
  },
  {
   "cell_type": "markdown",
   "metadata": {},
   "source": [
    "***Calculation of the House Price***"
   ]
  },
  {
   "cell_type": "code",
   "execution_count": 12,
   "metadata": {},
   "outputs": [],
   "source": [
    "acquisitions = acquisitions.withColumn('ORIG_VAL', F.lit(F.round(F.col('ORIG_AMT')/(F.col('OLTV')/100),1)))"
   ]
  },
  {
   "cell_type": "markdown",
   "metadata": {},
   "source": [
    "***Replacement of missing OCLTV with OLTV values***"
   ]
  },
  {
   "cell_type": "code",
   "execution_count": 13,
   "metadata": {},
   "outputs": [],
   "source": [
    "acquisitions = acquisitions.withColumn('OCLTV', F.when(F.col('OCLTV').isNull(), F.col('OLTV')).otherwise(F.col('OCLTV')))"
   ]
  },
  {
   "cell_type": "markdown",
   "metadata": {},
   "source": [
    "## 3.2. Performance File"
   ]
  },
  {
   "cell_type": "markdown",
   "metadata": {},
   "source": [
    "## 3.2.1. Read Data"
   ]
  },
  {
   "cell_type": "code",
   "execution_count": 14,
   "metadata": {
    "scrolled": true
   },
   "outputs": [],
   "source": [
    "performance = spark.read.parquet(df_performance)"
   ]
  },
  {
   "cell_type": "code",
   "execution_count": 15,
   "metadata": {},
   "outputs": [
    {
     "name": "stdout",
     "output_type": "stream",
     "text": [
      "+------------+---------------+-------------+-------+--------+--------+-------------------+----------------+-------------+-----+-----------+--------+-------------+------+-------+-------+-------+--------+-------+-------+-------+--------+--------+--------+---------+-------+-----------+------------------+----------+-----------------+------------+\n",
      "|     LOAN_ID|Monthly_Rpt_Prd|Servicer_Name|LAST_RT|LAST_UPB|Loan_Age|Months_To_Legal_Mat|Adj_Month_To_Mat|Maturity_Date|  MSA|Delq_Status|MOD_FLAG|Zero_Bal_Code|ZB_DTE|LPI_DTE|FCC_DTE|DISP_DT|FCC_COST|PP_COST|AR_COST|IE_COST|TAX_COST|NS_PROCS|CE_PROCS|RMW_PROCS|O_PROCS|NON_INT_UPB|PRIN_FORG_UPB_FHFA|REPCH_FLAG|PRIN_FORG_UPB_OTH|TRANSFER_FLG|\n",
      "+------------+---------------+-------------+-------+--------+--------+-------------------+----------------+-------------+-----+-----------+--------+-------------+------+-------+-------+-------+--------+-------+-------+-------+--------+--------+--------+---------+-------+-----------+------------------+----------+-----------------+------------+\n",
      "|735609827062|     01/01/2016|         null|   4.75|80181.38|      24|                336|             327|      01/2044|33100|          0|       N|         null|  null|   null|   null|   null|    null|   null|   null|   null|    null|    null|    null|     null|   null|       null|              null|      null|             null|           N|\n",
      "|735609827062|     02/01/2016|         null|   4.75|80025.52|      25|                335|             325|      01/2044|33100|          0|       N|         null|  null|   null|   null|   null|    null|   null|   null|   null|    null|    null|    null|     null|   null|       null|              null|      null|             null|           N|\n",
      "|735609827062|     03/01/2016|         null|   4.75|79869.05|      26|                334|             324|      01/2044|33100|          0|       N|         null|  null|   null|   null|   null|    null|   null|   null|   null|    null|    null|    null|     null|   null|       null|              null|      null|             null|           N|\n",
      "|735609827062|     04/01/2016|         null|   4.75|79711.96|      27|                333|             323|      01/2044|33100|          0|       N|         null|  null|   null|   null|   null|    null|   null|   null|   null|    null|    null|    null|     null|   null|       null|              null|      null|             null|           N|\n",
      "|735609827062|     05/01/2016|         null|   4.75|79554.25|      28|                332|             322|      01/2044|33100|          0|       N|         null|  null|   null|   null|   null|    null|   null|   null|   null|    null|    null|    null|     null|   null|       null|              null|      null|             null|           N|\n",
      "|735609827062|     06/01/2016|         null|   4.75|79395.91|      29|                331|             320|      01/2044|33100|          0|       N|         null|  null|   null|   null|   null|    null|   null|   null|   null|    null|    null|    null|     null|   null|       null|              null|      null|             null|           N|\n",
      "|735609827062|     07/01/2016|         null|   4.75|79236.95|      30|                330|             319|      01/2044|33100|          0|       N|         null|  null|   null|   null|   null|    null|   null|   null|   null|    null|    null|    null|     null|   null|       null|              null|      null|             null|           N|\n",
      "|735609827062|     08/01/2016|         null|   4.75|79077.36|      31|                329|             318|      01/2044|33100|          0|       N|         null|  null|   null|   null|   null|    null|   null|   null|   null|    null|    null|    null|     null|   null|       null|              null|      null|             null|           N|\n",
      "|735609827062|     09/01/2016|         null|   4.75|78917.13|      32|                328|             316|      01/2044|33100|          0|       N|         null|  null|   null|   null|   null|    null|   null|   null|   null|    null|    null|    null|     null|   null|       null|              null|      null|             null|           N|\n",
      "|735609827062|     10/01/2016|         null|   4.75|78756.27|      33|                327|             315|      01/2044|33100|          0|       N|         null|  null|   null|   null|   null|    null|   null|   null|   null|    null|    null|    null|     null|   null|       null|              null|      null|             null|           N|\n",
      "|735609827062|     11/01/2016|         null|   4.75|78594.77|      34|                326|             314|      01/2044|33100|          0|       N|         null|  null|   null|   null|   null|    null|   null|   null|   null|    null|    null|    null|     null|   null|       null|              null|      null|             null|           N|\n",
      "|735609827062|     12/01/2016|         null|   4.75|78380.07|      35|                325|             312|      01/2044|33100|          0|       N|         null|  null|   null|   null|   null|    null|   null|   null|   null|    null|    null|    null|     null|   null|       null|              null|      null|             null|           N|\n",
      "|735609827062|     01/01/2017|         null|   4.75|78217.08|      36|                324|             311|      01/2044|33100|          0|       N|         null|  null|   null|   null|   null|    null|   null|   null|   null|    null|    null|    null|     null|   null|       null|              null|      null|             null|           N|\n",
      "|735609827062|     02/01/2017|         null|   4.75|78053.45|      37|                323|             310|      01/2044|33100|          0|       N|         null|  null|   null|   null|   null|    null|   null|   null|   null|    null|    null|    null|     null|   null|       null|              null|      null|             null|           N|\n",
      "|735609827062|     03/01/2017|         null|   4.75|77889.17|      38|                322|             308|      01/2044|33100|          0|       N|         null|  null|   null|   null|   null|    null|   null|   null|   null|    null|    null|    null|     null|   null|       null|              null|      null|             null|           N|\n",
      "|735609827062|     04/01/2017|         null|   4.75|77724.24|      39|                321|             307|      01/2044|33100|          0|       N|         null|  null|   null|   null|   null|    null|   null|   null|   null|    null|    null|    null|     null|   null|       null|              null|      null|             null|           N|\n",
      "|735609827062|     05/01/2017|         null|   4.75|77558.66|      40|                320|             306|      01/2044|33100|          0|       N|         null|  null|   null|   null|   null|    null|   null|   null|   null|    null|    null|    null|     null|   null|       null|              null|      null|             null|           N|\n",
      "|735609827062|     06/01/2017|         null|   4.75|77392.42|      41|                319|             305|      01/2044|33100|          0|       N|         null|  null|   null|   null|   null|    null|   null|   null|   null|    null|    null|    null|     null|   null|       null|              null|      null|             null|           N|\n",
      "|735609827062|     07/01/2017|         null|   4.75|77225.52|      42|                318|             303|      01/2044|33100|          0|       N|         null|  null|   null|   null|   null|    null|   null|   null|   null|    null|    null|    null|     null|   null|       null|              null|      null|             null|           N|\n",
      "|735609827062|     08/01/2017|         null|   4.75|77057.96|      43|                317|             302|      01/2044|33100|          0|       N|         null|  null|   null|   null|   null|    null|   null|   null|   null|    null|    null|    null|     null|   null|       null|              null|      null|             null|           N|\n",
      "+------------+---------------+-------------+-------+--------+--------+-------------------+----------------+-------------+-----+-----------+--------+-------------+------+-------+-------+-------+--------+-------+-------+-------+--------+--------+--------+---------+-------+-----------+------------------+----------+-----------------+------------+\n",
      "only showing top 20 rows\n",
      "\n"
     ]
    }
   ],
   "source": [
    "performance.show()"
   ]
  },
  {
   "cell_type": "code",
   "execution_count": 16,
   "metadata": {},
   "outputs": [
    {
     "data": {
      "text/plain": [
       "298507297"
      ]
     },
     "execution_count": 16,
     "metadata": {},
     "output_type": "execute_result"
    }
   ],
   "source": [
    "performance.count()"
   ]
  },
  {
   "cell_type": "markdown",
   "metadata": {},
   "source": [
    "## 3.2.2. Manage Data"
   ]
  },
  {
   "cell_type": "markdown",
   "metadata": {},
   "source": [
    "***First, we order the data by Loan ID and Monthly Reporting Period***"
   ]
  },
  {
   "cell_type": "code",
   "execution_count": 17,
   "metadata": {},
   "outputs": [],
   "source": [
    "performance = performance.orderBy('LOAN_ID', F.substring(F.col('Monthly_Rpt_Prd'),7,4), F.substring(F.col('Monthly_Rpt_Prd'),1,2), F.substring(F.col('Monthly_Rpt_Prd'),4,2))"
   ]
  },
  {
   "cell_type": "markdown",
   "metadata": {},
   "source": [
    "***Calculation of the total of principle forgiveness UPB***"
   ]
  },
  {
   "cell_type": "code",
   "execution_count": 18,
   "metadata": {},
   "outputs": [],
   "source": [
    "performance = performance.withColumn('PRIN_FORG_UPB_OTH', F.col('PRIN_FORG_UPB_OTH').cast('double'))"
   ]
  },
  {
   "cell_type": "code",
   "execution_count": 19,
   "metadata": {},
   "outputs": [],
   "source": [
    "performance = performance.fillna(0.0, ['PRIN_FORG_UPB_FHFA', 'PRIN_FORG_UPB_OTH'])"
   ]
  },
  {
   "cell_type": "code",
   "execution_count": 20,
   "metadata": {},
   "outputs": [],
   "source": [
    "performance = performance.withColumn('PRIN_FORG_UPB', F.col('PRIN_FORG_UPB_FHFA') + F.col('PRIN_FORG_UPB_OTH')).drop('PRIN_FORG_UPB_FHFA', 'PRIN_FORG_UPB_OTH')"
   ]
  },
  {
   "cell_type": "markdown",
   "metadata": {},
   "source": [
    "***Calculation of the Standarize Delinquenzy Status Codes***"
   ]
  },
  {
   "cell_type": "code",
   "execution_count": 21,
   "metadata": {},
   "outputs": [],
   "source": [
    "performance = performance.withColumn('Delq_Status', F.when(F.col('Delq_Status') == 'X', '999').otherwise(F.col('Delq_Status')))"
   ]
  },
  {
   "cell_type": "markdown",
   "metadata": {},
   "source": [
    "***Now we add the original rate from the Acquisitions File***"
   ]
  },
  {
   "cell_type": "code",
   "execution_count": 22,
   "metadata": {},
   "outputs": [],
   "source": [
    "performance = performance.join(acquisitions.select('LOAN_ID', 'ORIG_RT'), 'LOAN_ID', 'left')"
   ]
  },
  {
   "cell_type": "markdown",
   "metadata": {},
   "source": [
    "***Now we need to apply a function to fill current UPBs and NON_INT_UPBs***"
   ]
  },
  {
   "cell_type": "code",
   "execution_count": 23,
   "metadata": {},
   "outputs": [],
   "source": [
    "performance = performance.withColumn(\"LAST_UPB\", F.first('LAST_UPB', True).over(Window.partitionBy('LOAN_ID')\\\n",
    ".orderBy(F.substring(F.col('Monthly_Rpt_Prd'),7,4), F.substring(F.col('Monthly_Rpt_Prd'),1,2), F.substring(F.col('Monthly_Rpt_Prd'),4,2)).rowsBetween(0,sys.maxsize)))\\\n",
    "            .fillna(0.0, 'LAST_UPB')"
   ]
  },
  {
   "cell_type": "code",
   "execution_count": 24,
   "metadata": {},
   "outputs": [],
   "source": [
    "performance = performance.withColumn(\"NON_INT_UPB\", F.first('NON_INT_UPB', True).over(Window.partitionBy('LOAN_ID')\\\n",
    ".orderBy(F.substring(F.col('Monthly_Rpt_Prd'),7,4), F.substring(F.col('Monthly_Rpt_Prd'),1,2), F.substring(F.col('Monthly_Rpt_Prd'),4,2)).rowsBetween(0,sys.maxsize)))\\\n",
    "            .fillna(0.0, 'NON_INT_UPB')"
   ]
  },
  {
   "cell_type": "markdown",
   "metadata": {},
   "source": [
    "***Persist in order to gain performance***"
   ]
  },
  {
   "cell_type": "code",
   "execution_count": 25,
   "metadata": {},
   "outputs": [],
   "source": [
    "performance.write.parquet(temp_performance + '/1/', mode = 'overwrite')"
   ]
  },
  {
   "cell_type": "code",
   "execution_count": 26,
   "metadata": {
    "scrolled": true
   },
   "outputs": [],
   "source": [
    "performance = spark.read.parquet(temp_performance + '/1/')"
   ]
  },
  {
   "cell_type": "code",
   "execution_count": 27,
   "metadata": {},
   "outputs": [],
   "source": [
    "performance_grouped = performance.withColumn('MAT_UNIQUE', F.dense_rank().over(Window.partitionBy('LOAN_ID').orderBy('Maturity_Date')))\\\n",
    "                .groupBy('LOAN_ID', 'Maturity_Date').agg(F.sum('MAT_UNIQUE').alias('MAT_UNIQUE'))\\\n",
    "                        .withColumn('MODTRM_CHNG', F.when(F.col('MAT_UNIQUE') == 1, 1).otherwise(0))"
   ]
  },
  {
   "cell_type": "code",
   "execution_count": 28,
   "metadata": {},
   "outputs": [],
   "source": [
    "performance = performance.join(performance_grouped.select('LOAN_ID', 'Maturity_Date', 'MODTRM_CHNG'), ['LOAN_ID', 'Maturity_Date'], 'left')"
   ]
  },
  {
   "cell_type": "code",
   "execution_count": 29,
   "metadata": {},
   "outputs": [],
   "source": [
    "performance = performance.withColumn('NON_INT_UPB', F.col('NON_INT_UPB')*(-1))\\\n",
    "            .withColumn('NON_INT_UPB', F.when(F.col('NON_INT_UPB') == -0.0, F.lit(0.0)).otherwise(F.col('NON_INT_UPB')))"
   ]
  },
  {
   "cell_type": "code",
   "execution_count": 30,
   "metadata": {},
   "outputs": [],
   "source": [
    "performance = performance.withColumn('PRIN_FORG_UPB', F.col('PRIN_FORG_UPB')*(-1))"
   ]
  },
  {
   "cell_type": "code",
   "execution_count": 31,
   "metadata": {},
   "outputs": [],
   "source": [
    "performance = performance.withColumn('PREVIOUS_UPB', F.lag('LAST_UPB').over(Window.partitionBy('LOAN_ID')\\\n",
    "                                        .orderBy(F.substring(F.col('Monthly_Rpt_Prd'),7,4), F.substring(F.col('Monthly_Rpt_Prd'),1,2), F.substring(F.col('Monthly_Rpt_Prd'),4,2))))\\\n",
    "                         .withColumn('MODUPB_CHNG', F.when((F.col('LAST_UPB') > F.col('PREVIOUS_UPB')) & (F.col('MOD_FLAG') == 'Y'), F.lit(1)).otherwise(0)).drop('PREVIOUS_UPB')"
   ]
  },
  {
   "cell_type": "code",
   "execution_count": 32,
   "metadata": {},
   "outputs": [],
   "source": [
    "performance = performance.withColumn('FIN_UPB', F.col('LAST_UPB') + F.col('NON_INT_UPB') + F.col('PRIN_FORG_UPB'))"
   ]
  },
  {
   "cell_type": "code",
   "execution_count": 33,
   "metadata": {},
   "outputs": [],
   "source": [
    "performance = performance.withColumn('modir_cost', F.when(F.col('MOD_FLAG') == 'Y', F.lit(F.round(((F.col('ORIG_RT')-F.col('LAST_RT'))/1200)*F.col('LAST_UPB'), 2))).otherwise(F.lit(0)))"
   ]
  },
  {
   "cell_type": "code",
   "execution_count": 34,
   "metadata": {},
   "outputs": [],
   "source": [
    "performance = performance.withColumn('modfb_cost', F.when(F.col('MOD_FLAG') == 'Y', F.lit(F.round(((F.col('LAST_RT')*(-1))/1200)*F.col('NON_INT_UPB'), 2))).otherwise(F.lit(0)))"
   ]
  },
  {
   "cell_type": "code",
   "execution_count": 35,
   "metadata": {},
   "outputs": [],
   "source": [
    "performance = performance.withColumn('modfg_cost', F.when((F.col('PRIN_FORG_UPB') > 0), F.col('PRIN_FORG_UPB')*(-1)).otherwise(F.lit(0*(-1))))"
   ]
  },
  {
   "cell_type": "code",
   "execution_count": 36,
   "metadata": {},
   "outputs": [],
   "source": [
    "performance = performance.withColumn('c_modir_cost', F.round(F.sum('modir_cost').over(Window.partitionBy('LOAN_ID')\\\n",
    "                            .orderBy(F.substring(F.col('Monthly_Rpt_Prd'),7,4), F.substring(F.col('Monthly_Rpt_Prd'),1,2), F.substring(F.col('Monthly_Rpt_Prd'),4,2))\\\n",
    "                              .rangeBetween(Window.unboundedPreceding, 0)), 2))"
   ]
  },
  {
   "cell_type": "code",
   "execution_count": 37,
   "metadata": {},
   "outputs": [],
   "source": [
    "performance = performance.withColumn('c_modfb_cost', F.round(F.sum('modfb_cost').over(Window.partitionBy('LOAN_ID')\\\n",
    "                            .orderBy(F.substring(F.col('Monthly_Rpt_Prd'),7,4), F.substring(F.col('Monthly_Rpt_Prd'),1,2), F.substring(F.col('Monthly_Rpt_Prd'),4,2))\\\n",
    "                              .rangeBetween(Window.unboundedPreceding, 0)), 2))"
   ]
  },
  {
   "cell_type": "markdown",
   "metadata": {},
   "source": [
    "***Persist in order to gain performance***"
   ]
  },
  {
   "cell_type": "code",
   "execution_count": 38,
   "metadata": {},
   "outputs": [],
   "source": [
    "performance.write.parquet(temp_performance + '/2/', mode = 'overwrite')"
   ]
  },
  {
   "cell_type": "code",
   "execution_count": 39,
   "metadata": {
    "scrolled": true
   },
   "outputs": [],
   "source": [
    "performance = spark.read.parquet(temp_performance + '/2/')"
   ]
  },
  {
   "cell_type": "markdown",
   "metadata": {},
   "source": [
    "***Now we are going to count the number of months a LOAN is active***"
   ]
  },
  {
   "cell_type": "code",
   "execution_count": 40,
   "metadata": {},
   "outputs": [],
   "source": [
    "performance_grouped = performance.groupBy('LOAN_ID').agg(F.count(F.substring(F.col('Monthly_Rpt_Prd'),1,2)).alias('Count'))"
   ]
  },
  {
   "cell_type": "code",
   "execution_count": 41,
   "metadata": {},
   "outputs": [],
   "source": [
    "performance = performance.join(performance_grouped.select('LOAN_ID', 'Count'), ['LOAN_ID'], 'left')"
   ]
  },
  {
   "cell_type": "markdown",
   "metadata": {},
   "source": [
    "***Obtain the date of the first time each loan was modified***"
   ]
  },
  {
   "cell_type": "code",
   "execution_count": 42,
   "metadata": {},
   "outputs": [],
   "source": [
    "performance = performance.withColumn('FMOD_DTE', F.lit(F.first('Monthly_Rpt_Prd').over(Window.partitionBy('LOAN_ID')\\\n",
    "        .orderBy(F.desc('MOD_FLAG')))))\\\n",
    "                         .withColumn('FMOD_UPB', F.lit(F.first('LAST_UPB').over(Window.partitionBy('LOAN_ID')\\\n",
    "        .orderBy(F.desc('MOD_FLAG')))))"
   ]
  },
  {
   "cell_type": "markdown",
   "metadata": {},
   "source": [
    "***Obtain the date and UPB of each loan's first credit event***"
   ]
  },
  {
   "cell_type": "code",
   "execution_count": 43,
   "metadata": {},
   "outputs": [],
   "source": [
    "performance = performance.withColumn('x', F.when((F.col('Zero_Bal_Code') == '03') | \n",
    "                                                  (F.col('Zero_Bal_Code') == '09') |\n",
    "                                                  ((F.col('Delq_Status') < 999) &\n",
    "                                                   (F.col('Delq_Status') >= 6)), F.lit(1)).otherwise(0))\\\n",
    "                    .withColumn('FCE_DTE',F.lit(F.first('Monthly_Rpt_Prd').over(Window.partitionBy('LOAN_ID').orderBy(F.desc('x')))))\\\n",
    "                    .withColumn('FCE_UPB',F.lit(F.first('LAST_UPB').over(Window.partitionBy('LOAN_ID').orderBy(F.desc('x')))))\\\n",
    "                    .withColumn('SPDelq1',F.lit(F.first('Delq_Status').over(Window.partitionBy('LOAN_ID').orderBy(F.desc('x')))))\\\n",
    "                    .withColumn('CountFC',F.lit(F.first('Count').over(Window.partitionBy('LOAN_ID').orderBy(F.desc('x'))))).drop('x')\n",
    "    "
   ]
  },
  {
   "cell_type": "markdown",
   "metadata": {},
   "source": [
    "***Obtain the date and UPB of each loan's becoming 180 days delinquent***"
   ]
  },
  {
   "cell_type": "code",
   "execution_count": 44,
   "metadata": {},
   "outputs": [],
   "source": [
    "performance = performance.withColumn('x', F.when(((F.col('Delq_Status') < 999) &\n",
    "                                                   (F.col('Delq_Status') >= 6)), F.lit(1)).otherwise(0))\\\n",
    "                    .withColumn('F180_DTE',F.lit(F.first('Monthly_Rpt_Prd').over(Window.partitionBy('LOAN_ID').orderBy(F.desc('x')))))\\\n",
    "                    .withColumn('F180_UPB',F.lit(F.first('LAST_UPB').over(Window.partitionBy('LOAN_ID').orderBy(F.desc('x')))))\\\n",
    "                    .withColumn('SPDelq2',F.lit(F.first('Delq_Status').over(Window.partitionBy('LOAN_ID').orderBy(F.desc('x')))))\\\n",
    "                    .withColumn('CountF1',F.lit(F.first('Count').over(Window.partitionBy('LOAN_ID').orderBy(F.desc('x'))))).drop('x')\n",
    "    "
   ]
  },
  {
   "cell_type": "markdown",
   "metadata": {},
   "source": [
    "***Define the last status of a loan***"
   ]
  },
  {
   "cell_type": "code",
   "execution_count": 45,
   "metadata": {},
   "outputs": [],
   "source": [
    "performance = performance.withColumn('LAST_STAT', F.when(F.col('Zero_Bal_Code') == '01', F.lit('P'))\\\n",
    "                              .otherwise(F.when(F.col('Zero_Bal_Code') == '02', F.lit('T'))\\\n",
    "                              .otherwise(F.when(F.col('Zero_Bal_Code') == '03', F.lit('S'))\\\n",
    "                              .otherwise(F.when(F.col('Zero_Bal_Code') == '06', F.lit('R'))\\\n",
    "                              .otherwise(F.when(F.col('Zero_Bal_Code') == '09', F.lit('F'))\\\n",
    "                              .otherwise(F.when(F.col('Zero_Bal_Code') == '15', F.lit('N'))\\\n",
    "                              .otherwise(F.when(F.col('Zero_Bal_Code') == '16', F.lit('L'))\\\n",
    "                              .otherwise(F.when(F.col('Delq_Status') == '999', F.lit('X'))\\\n",
    "                              .otherwise(F.when(F.col('Delq_Status') > 9, F.lit('9'))\\\n",
    "                              .otherwise(F.when(F.col('Delq_Status') == 0, F.lit('C')).otherwise(F.col('Delq_Status'))))))))))))"
   ]
  },
  {
   "cell_type": "code",
   "execution_count": 46,
   "metadata": {},
   "outputs": [],
   "source": [
    "performance.write.parquet(temp_performance + '/3/', mode = 'overwrite')"
   ]
  },
  {
   "cell_type": "code",
   "execution_count": 47,
   "metadata": {
    "scrolled": true
   },
   "outputs": [],
   "source": [
    "performance = spark.read.parquet(temp_performance + '/3/')"
   ]
  },
  {
   "cell_type": "markdown",
   "metadata": {},
   "source": [
    "***Now we summarize the performance dataset by keeping the last row of a loan's activity***"
   ]
  },
  {
   "cell_type": "code",
   "execution_count": 48,
   "metadata": {},
   "outputs": [],
   "source": [
    "performance_last = performance.withColumn('last', F.lit(F.last('Monthly_Rpt_Prd').over(Window.partitionBy('LOAN_ID'))))\\\n",
    "                                .where(F.col('Monthly_Rpt_Prd') == F.col('last')).drop('last')"
   ]
  },
  {
   "cell_type": "markdown",
   "metadata": {},
   "source": [
    "***Persist in order to gain performance***"
   ]
  },
  {
   "cell_type": "code",
   "execution_count": 49,
   "metadata": {},
   "outputs": [
    {
     "data": {
      "text/plain": [
       "9366882"
      ]
     },
     "execution_count": 49,
     "metadata": {},
     "output_type": "execute_result"
    }
   ],
   "source": [
    "performance_last.count()"
   ]
  },
  {
   "cell_type": "code",
   "execution_count": 50,
   "metadata": {},
   "outputs": [],
   "source": [
    "udf_date = F.udf(lambda x: parse_closing_date(x), DateType())"
   ]
  },
  {
   "cell_type": "code",
   "execution_count": 51,
   "metadata": {},
   "outputs": [],
   "source": [
    "udf_date1 = F.udf(lambda x: parse_closing_date1(x), DateType())"
   ]
  },
  {
   "cell_type": "code",
   "execution_count": 52,
   "metadata": {},
   "outputs": [],
   "source": [
    "performance_last = performance_last.fillna('01/01/9999', ['LPI_DTE', 'FCC_DTE', 'DISP_DT']).fillna('01/9999', ['ZB_DTE'])\\\n",
    "                         .withColumn('DISP_DT', udf_date(F.col('DISP_DT')))\\\n",
    "                         .withColumn('LPI_DTE', udf_date(F.col('LPI_DTE')))\\\n",
    "                         .withColumn('FCC_DTE', udf_date(F.col('FCC_DTE')))\\\n",
    "                         .withColumn('ZB_DTE', udf_date1(F.col('ZB_DTE')))\\\n",
    "                         .withColumn('Monthly_Rpt_Prd', udf_date(F.col('Monthly_Rpt_Prd')))"
   ]
  },
  {
   "cell_type": "markdown",
   "metadata": {},
   "source": [
    "***Calculate the months between Last Paid Installment and Disposition date (for Lost Interest Calculation)***"
   ]
  },
  {
   "cell_type": "code",
   "execution_count": 53,
   "metadata": {},
   "outputs": [],
   "source": [
    "performance_last = performance_last.withColumn('lpi2disp', F.months_between(F.col('DISP_DT'), F.col('LPI_DTE')).cast('integer'))\\\n",
    "                                   .withColumn('lpi2disp', F.when(F.col('lpi2disp') < 0, F.col('lpi2disp')*(-1))\\\n",
    "                                                .otherwise(F.when(F.col('lpi2disp') > 100, F.lit('Nulo'))))\\\n",
    "                                   .withColumn('zb2disp', F.months_between(F.col('DISP_DT'), F.col('ZB_DTE')).cast('integer'))\\\n",
    "                                   .withColumn('zb2disp', F.when(F.col('zb2disp') < 0, F.col('zb2disp')*(-1))\\\n",
    "                                                .otherwise(F.when((F.col('zb2disp') > 100) |\n",
    "                                                                  (F.col('zb2disp').isNull()), F.lit('Nulo')).otherwise(F.col('zb2disp'))))"
   ]
  },
  {
   "cell_type": "code",
   "execution_count": 54,
   "metadata": {},
   "outputs": [],
   "source": [
    "performance_last.write.parquet(temp_performance + '/4/', mode = 'overwrite')"
   ]
  },
  {
   "cell_type": "code",
   "execution_count": 55,
   "metadata": {
    "scrolled": true
   },
   "outputs": [],
   "source": [
    "performance_last = spark.read.parquet(temp_performance + '/4/')"
   ]
  },
  {
   "cell_type": "markdown",
   "metadata": {},
   "source": [
    "***Calculate Interest Cost, total expenses and total proceeds***"
   ]
  },
  {
   "cell_type": "code",
   "execution_count": 56,
   "metadata": {},
   "outputs": [],
   "source": [
    "performance_last = performance_last.withColumn('INT_COST', F.lit(F.col('FIN_UPB')*(((F.col('LAST_RT')/100) - 0.0035)/12)*F.col('lpi2disp')))\\\n",
    "                                   .withColumn('INT_COST', F.when(F.col('INT_COST') < 0, F.lit(0)).otherwise(F.col('INT_COST')))"
   ]
  },
  {
   "cell_type": "code",
   "execution_count": 57,
   "metadata": {},
   "outputs": [],
   "source": [
    "performance_last = performance_last.fillna(0.0, ['PP_COST', \n",
    "                                            'AR_COST', \n",
    "                                            'TAX_COST',\n",
    "                                            'FCC_COST',\n",
    "                                            'IE_COST']).withColumn('total_expense', F.col('FCC_COST') + \n",
    "                                                                                   F.col('PP_COST') + \n",
    "                                                                                   F.col('AR_COST') + \n",
    "                                                                                   F.col('TAX_COST') + \n",
    "                                                                                   F.col('IE_COST'))"
   ]
  },
  {
   "cell_type": "code",
   "execution_count": 58,
   "metadata": {},
   "outputs": [],
   "source": [
    "performance_last = performance_last.fillna(0.0, ['NS_PROCS', \n",
    "                                                 'CE_PROCS', \n",
    "                                                 'RMW_PROCS',\n",
    "                                                 'O_PROCS']).withColumn('total_proceeds', ((F.col('NS_PROCS') + \n",
    "                                                                                             F.col('CE_PROCS') + \n",
    "                                                                                             F.col('RMW_PROCS') + \n",
    "                                                                                             F.col('O_PROCS'))*(-1)))"
   ]
  },
  {
   "cell_type": "markdown",
   "metadata": {},
   "source": [
    "***Calculate the Net Loss, Net Severity, Total Costs, Total Proceeds and Liquidation Expenses. Define Last Date variable***"
   ]
  },
  {
   "cell_type": "code",
   "execution_count": 59,
   "metadata": {},
   "outputs": [],
   "source": [
    "performance_last = performance_last.fillna(0.0, ['LAST_UPB', \n",
    "                                                 'INT_COST', \n",
    "                                                 'total_expense',\n",
    "                                                 'total_proceeds']).withColumn('NET_LOSS', F.lit(F.col('LAST_UPB') + \n",
    "                                                                                                 F.col('INT_COST') + \n",
    "                                                                                                 F.col('total_expense') + \n",
    "                                                                                                 F.col('total_proceeds')))"
   ]
  },
  {
   "cell_type": "code",
   "execution_count": 60,
   "metadata": {},
   "outputs": [],
   "source": [
    "performance_last = performance_last.fillna(0.0, ['LAST_UPB', \n",
    "                                                 'INT_COST', \n",
    "                                                 'total_expense',\n",
    "                                                 'total_proceeds']).withColumn('NET_SEV',F.lit((F.col('LAST_UPB') + \n",
    "                                                                                             F.col('INT_COST') + \n",
    "                                                                                             F.col('total_expense') + \n",
    "                                                                                             F.col('total_proceeds'))/F.col('LAST_UPB')))"
   ]
  },
  {
   "cell_type": "code",
   "execution_count": 61,
   "metadata": {},
   "outputs": [],
   "source": [
    "performance_last = performance_last.fillna(0.0, ['LAST_UPB', \n",
    "                                                 'INT_COST', \n",
    "                                                 'FCC_COST',\n",
    "                                                 'PP_COST',\n",
    "                                                 'AR_COST',\n",
    "                                                 'IE_COST',\n",
    "                                                 'TAX_COST']).withColumn('Total_Cost', F.lit(F.col('LAST_UPB') + \n",
    "                                                                                             F.col('INT_COST') + \n",
    "                                                                                             F.col('FCC_COST') + \n",
    "                                                                                             F.col('PP_COST') + \n",
    "                                                                                             F.col('AR_COST') + \n",
    "                                                                                             F.col('IE_COST') + \n",
    "                                                                                             F.col('TAX_COST')))"
   ]
  },
  {
   "cell_type": "code",
   "execution_count": 62,
   "metadata": {},
   "outputs": [],
   "source": [
    "performance_last = performance_last.fillna(0.0, ['NS_PROCS', \n",
    "                                                 'CE_PROCS', \n",
    "                                                 'RMW_PROCS',\n",
    "                                                 'O_PROCS']).withColumn('Tot_Procs', F.lit(F.col('NS_PROCS') + \n",
    "                                                                                         F.col('CE_PROCS') + \n",
    "                                                                                         F.col('RMW_PROCS') + \n",
    "                                                                                         F.col('O_PROCS')))"
   ]
  },
  {
   "cell_type": "code",
   "execution_count": 63,
   "metadata": {},
   "outputs": [],
   "source": [
    "performance_last = performance_last.fillna(0.0, ['FCC_COST', \n",
    "                                                 'PP_COST', \n",
    "                                                 'AR_COST',\n",
    "                                                 'IE_COST',\n",
    "                                                 'TAX_COST']).withColumn('Tot_Liq_Ex', F.lit(F.col('FCC_COST') + \n",
    "                                                                                     F.col('PP_COST') + \n",
    "                                                                                     F.col('AR_COST') + \n",
    "                                                                                     F.col('IE_COST') + \n",
    "                                                                                     F.col('TAX_COST')))"
   ]
  },
  {
   "cell_type": "code",
   "execution_count": 64,
   "metadata": {},
   "outputs": [],
   "source": [
    "performance_last = performance_last.withColumn('LAST_DTE', F.col('DISP_DT'))"
   ]
  },
  {
   "cell_type": "code",
   "execution_count": 65,
   "metadata": {},
   "outputs": [],
   "source": [
    "performance = performance_last.drop('Count', \n",
    "                               'Monthly_Rpt_Prd', \n",
    "                               'ZB_DTE', \n",
    "                               'ORIG_RT', \n",
    "                               'Servicer_Name', \n",
    "                               'Loan_Age', \n",
    "                               'Months_To_Legal_Mat', \n",
    "                               'Adj_Month_To_Mat', \n",
    "                               'Maturity_Date', \n",
    "                               'Delq_Status', \n",
    "                               'total_expense', \n",
    "                               'total_proceeds', \n",
    "                               'lpi2disp')"
   ]
  },
  {
   "cell_type": "markdown",
   "metadata": {},
   "source": [
    "***Merge together full Acquisitions and Performance Data***"
   ]
  },
  {
   "cell_type": "code",
   "execution_count": 66,
   "metadata": {},
   "outputs": [],
   "source": [
    "combined_data = acquisitions.join(performance, 'LOAN_ID', 'full')"
   ]
  },
  {
   "cell_type": "code",
   "execution_count": 67,
   "metadata": {},
   "outputs": [],
   "source": [
    "combined_data.write.parquet(temp_combined, mode = 'overwrite')"
   ]
  },
  {
   "cell_type": "code",
   "execution_count": 68,
   "metadata": {
    "scrolled": true
   },
   "outputs": [],
   "source": [
    "combined_data = spark.read.parquet(temp_combined)"
   ]
  },
  {
   "cell_type": "code",
   "execution_count": 69,
   "metadata": {},
   "outputs": [
    {
     "data": {
      "text/plain": [
       "9366884"
      ]
     },
     "execution_count": 69,
     "metadata": {},
     "output_type": "execute_result"
    }
   ],
   "source": [
    "combined_data.count()"
   ]
  },
  {
   "cell_type": "markdown",
   "metadata": {},
   "source": [
    "***Create Vintage Year and Activity Year Attributes, set missing F180_UPB and FCE_UPB equal to ORIG_AMT if the loan goes to delinquency during first six month of loan activity***"
   ]
  },
  {
   "cell_type": "code",
   "execution_count": 70,
   "metadata": {},
   "outputs": [],
   "source": [
    "combined_data = combined_data.withColumn('VinYr', F.substring(F.col('ORIG_DTE'), 4, 4))\\\n",
    "                             .withColumn('ActYr', F.year(F.col('LAST_DTE'))) \\\n",
    "                             .withColumn('DispYr', F.when(F.col('DISP_DT').isNotNull(), F.substring(F.col('DISP_DT'), 1, 4)).otherwise(F.lit('NO_DISP_DT')))"
   ]
  },
  {
   "cell_type": "code",
   "execution_count": 71,
   "metadata": {},
   "outputs": [],
   "source": [
    "combined_data = combined_data.withColumn('F180_UPB', F.when((F.col('SPDelq2') == 6) &\n",
    "                                                            (F.col('CountF1') <= 6) &\n",
    "                                                            ((F.col('F180_UPB') == 0) |\n",
    "                                                             (F.col('F180_UPB').isNull())), F.col('ORIG_AMT'))\\\n",
    "                                          .otherwise(F.when((F.col('F180_UPB').isNotNull()), F.col('F180_UPB')).otherwise(F.lit(0))))"
   ]
  },
  {
   "cell_type": "code",
   "execution_count": 72,
   "metadata": {},
   "outputs": [],
   "source": [
    "combined_data = combined_data.withColumn('FCE_UPB', F.when((F.col('SPDelq1') == 6) &\n",
    "                                                           (F.col('CountFC') <= 6) &\n",
    "                                                           ((F.col('FCE_UPB') == 0) |\n",
    "                                                            (F.col('FCE_UPB').isNull())), F.col('ORIG_AMT'))\\\n",
    "                                         .otherwise(F.when((F.col('FCE_UPB').isNotNull()), F.col('FCE_UPB')).otherwise(F.lit(0))))"
   ]
  },
  {
   "cell_type": "markdown",
   "metadata": {},
   "source": [
    "***Calculate Modification Costs when loans default***"
   ]
  },
  {
   "cell_type": "code",
   "execution_count": 73,
   "metadata": {},
   "outputs": [],
   "source": [
    "combined_data = combined_data.withColumn('MODIR_COST', F.when((F.col('MOD_FLAG') == 'Y') &\n",
    "                                              (F.col('DISP_DT').isNotNull()), \n",
    "                                               F.lit((F.col('zb2disp')*((F.col('ORIG_RT') - F.col('LAST_RT'))/1200)*F.col('LAST_UPB')) + F.col('c_modir_cost'))).otherwise(F.lit(0)))\\\n",
    "                             .withColumn('MODFB_COST', F.when((F.col('MOD_FLAG') == 'Y') &\n",
    "                                              ((F.col('NON_INT_UPB').isNotNull()) |\n",
    "                                               (F.col('NON_INT_UPB') == 0)), \n",
    "                                               F.lit((F.col('zb2disp')*(F.col('LAST_RT')/1200)*((-1)*(F.col('NON_INT_UPB')))) + F.col('c_modfb_cost'))).otherwise(F.lit(0)))"
   ]
  },
  {
   "cell_type": "code",
   "execution_count": 74,
   "metadata": {},
   "outputs": [],
   "source": [
    "combined_data = combined_data.withColumn('MODTOT_COST', F.col('modfg_cost') +\n",
    "                                                        F.col('MODIR_COST') +\n",
    "                                                        F.col('MODFB_COST'))"
   ]
  },
  {
   "cell_type": "code",
   "execution_count": 75,
   "metadata": {},
   "outputs": [],
   "source": [
    "combined_data = combined_data.drop('SPDelq1',\n",
    "                                   'SPDelq2',\n",
    "                                   'CountF1',\n",
    "                                   'CountFC',\n",
    "                                   'modfg_cost',\n",
    "                                   'modir_cost')"
   ]
  },
  {
   "cell_type": "markdown",
   "metadata": {},
   "source": [
    "***Drop Loans whose Origination Process is not defined***"
   ]
  },
  {
   "cell_type": "code",
   "execution_count": 76,
   "metadata": {},
   "outputs": [],
   "source": [
    "combined_data = combined_data.where(F.col('ORIG_CHN').isNotNull())"
   ]
  },
  {
   "cell_type": "code",
   "execution_count": 77,
   "metadata": {},
   "outputs": [],
   "source": [
    "combined_data.write.parquet(temp_combined + '/1/', mode = 'overwrite')"
   ]
  },
  {
   "cell_type": "code",
   "execution_count": 78,
   "metadata": {
    "scrolled": true
   },
   "outputs": [],
   "source": [
    "combined_data = spark.read.parquet(temp_combined + '/1/')"
   ]
  },
  {
   "cell_type": "markdown",
   "metadata": {},
   "source": [
    "# 4. Summary Statistics Step"
   ]
  },
  {
   "cell_type": "markdown",
   "metadata": {},
   "source": [
    "***Create buckets for FICO scores***"
   ]
  },
  {
   "cell_type": "code",
   "execution_count": 79,
   "metadata": {},
   "outputs": [],
   "source": [
    "statistics_data = combined_data.withColumn('FicoBkt', F.when(F.col('CSCORE_MN').isNull(), F.lit('MissingFICO'))\\\n",
    "                         .otherwise(F.when((F.col('CSCORE_MN') > 0) & \n",
    "                                           (F.col('CSCORE_MN') <= 620), F.lit('0-620'))\\\n",
    "                         .otherwise(F.when((F.col('CSCORE_MN') > 620) & \n",
    "                                           (F.col('CSCORE_MN') <= 660), F.lit('620-660'))\\\n",
    "                         .otherwise(F.when((F.col('CSCORE_MN') > 660) & \n",
    "                                           (F.col('CSCORE_MN') <= 700), F.lit('660-700'))\\\n",
    "                         .otherwise(F.when((F.col('CSCORE_MN') > 700) & \n",
    "                                           (F.col('CSCORE_MN') <= 740), F.lit('700-740'))\\\n",
    "                         .otherwise(F.when((F.col('CSCORE_MN') > 740) & \n",
    "                                           (F.col('CSCORE_MN') <= 780), F.lit('740-780'))\\\n",
    "                         .otherwise(F.when((F.col('CSCORE_MN') > 780), F.lit('780>')))))))))"
   ]
  },
  {
   "cell_type": "markdown",
   "metadata": {},
   "source": [
    "***Loan counts cut by origination vintage and purpose***"
   ]
  },
  {
   "cell_type": "code",
   "execution_count": 80,
   "metadata": {},
   "outputs": [],
   "source": [
    "vint_purpose_count = statistics_data.fillna('9999', 'VinYr')"
   ]
  },
  {
   "cell_type": "code",
   "execution_count": 81,
   "metadata": {},
   "outputs": [],
   "source": [
    "vintage_years = [row.VinYr for row in vint_purpose_count.select('VinYr').orderBy('VinYr').distinct().collect() if row.VinYr != '9999']"
   ]
  },
  {
   "cell_type": "code",
   "execution_count": 82,
   "metadata": {},
   "outputs": [],
   "source": [
    "for vinyr in vintage_years:\n",
    "    vint_purpose_count = vint_purpose_count.withColumn(vinyr, F.when(F.col('VinYr') == vinyr, F.lit(1)).otherwise(F.lit(0)))"
   ]
  },
  {
   "cell_type": "code",
   "execution_count": 83,
   "metadata": {},
   "outputs": [],
   "source": [
    "expr = [F.sum(x).alias(x) for x in vintage_years]"
   ]
  },
  {
   "cell_type": "markdown",
   "metadata": {},
   "source": [
    ". P -> Purchase\n",
    ". C -> Cash-out Refinance\n",
    ". R -> No Cash-out Refinance\n",
    ". U -> Refinance - Not Specified"
   ]
  },
  {
   "cell_type": "code",
   "execution_count": 84,
   "metadata": {},
   "outputs": [
    {
     "data": {
      "text/html": [
       "<div>\n",
       "<style scoped>\n",
       "    .dataframe tbody tr th:only-of-type {\n",
       "        vertical-align: middle;\n",
       "    }\n",
       "\n",
       "    .dataframe tbody tr th {\n",
       "        vertical-align: top;\n",
       "    }\n",
       "\n",
       "    .dataframe thead th {\n",
       "        text-align: right;\n",
       "    }\n",
       "</style>\n",
       "<table border=\"1\" class=\"dataframe\">\n",
       "  <thead>\n",
       "    <tr style=\"text-align: right;\">\n",
       "      <th></th>\n",
       "      <th>PURPOSE</th>\n",
       "      <th>2011</th>\n",
       "      <th>2012</th>\n",
       "      <th>2013</th>\n",
       "      <th>2014</th>\n",
       "      <th>2015</th>\n",
       "      <th>2016</th>\n",
       "      <th>2017</th>\n",
       "      <th>2018</th>\n",
       "      <th>2019</th>\n",
       "    </tr>\n",
       "  </thead>\n",
       "  <tbody>\n",
       "    <tr>\n",
       "      <th>0</th>\n",
       "      <td>U</td>\n",
       "      <td>0</td>\n",
       "      <td>0</td>\n",
       "      <td>0</td>\n",
       "      <td>2</td>\n",
       "      <td>0</td>\n",
       "      <td>0</td>\n",
       "      <td>0</td>\n",
       "      <td>0</td>\n",
       "      <td>0</td>\n",
       "    </tr>\n",
       "    <tr>\n",
       "      <th>1</th>\n",
       "      <td>C</td>\n",
       "      <td>0</td>\n",
       "      <td>296</td>\n",
       "      <td>26925</td>\n",
       "      <td>304665</td>\n",
       "      <td>404207</td>\n",
       "      <td>505560</td>\n",
       "      <td>468013</td>\n",
       "      <td>387631</td>\n",
       "      <td>40204</td>\n",
       "    </tr>\n",
       "    <tr>\n",
       "      <th>2</th>\n",
       "      <td>R</td>\n",
       "      <td>0</td>\n",
       "      <td>400</td>\n",
       "      <td>28271</td>\n",
       "      <td>310344</td>\n",
       "      <td>533408</td>\n",
       "      <td>734109</td>\n",
       "      <td>353093</td>\n",
       "      <td>184145</td>\n",
       "      <td>23120</td>\n",
       "    </tr>\n",
       "    <tr>\n",
       "      <th>3</th>\n",
       "      <td>P</td>\n",
       "      <td>1</td>\n",
       "      <td>49</td>\n",
       "      <td>67696</td>\n",
       "      <td>829347</td>\n",
       "      <td>921872</td>\n",
       "      <td>1058141</td>\n",
       "      <td>1083067</td>\n",
       "      <td>996572</td>\n",
       "      <td>101380</td>\n",
       "    </tr>\n",
       "  </tbody>\n",
       "</table>\n",
       "</div>"
      ],
      "text/plain": [
       "  PURPOSE  2011  2012   2013    2014    2015     2016     2017    2018    2019\n",
       "0       U     0     0      0       2       0        0        0       0       0\n",
       "1       C     0   296  26925  304665  404207   505560   468013  387631   40204\n",
       "2       R     0   400  28271  310344  533408   734109   353093  184145   23120\n",
       "3       P     1    49  67696  829347  921872  1058141  1083067  996572  101380"
      ]
     },
     "execution_count": 84,
     "metadata": {},
     "output_type": "execute_result"
    }
   ],
   "source": [
    "vint_purpose_count.where(F.col('PURPOSE').isNotNull()).groupBy('PURPOSE').agg(*expr).toPandas()"
   ]
  },
  {
   "cell_type": "markdown",
   "metadata": {},
   "source": [
    "***Loan counts cut by origination vintage and occupancy***"
   ]
  },
  {
   "cell_type": "code",
   "execution_count": 85,
   "metadata": {},
   "outputs": [],
   "source": [
    "vint_occupancy_count = statistics_data.fillna('9999', 'VinYr')"
   ]
  },
  {
   "cell_type": "code",
   "execution_count": 86,
   "metadata": {},
   "outputs": [],
   "source": [
    "vintage_years = [row.VinYr for row in vint_occupancy_count.select('VinYr').orderBy('VinYr').distinct().collect() if row.VinYr != '9999']"
   ]
  },
  {
   "cell_type": "code",
   "execution_count": 87,
   "metadata": {},
   "outputs": [],
   "source": [
    "for vinyr in vintage_years:\n",
    "    vint_occupancy_count = vint_occupancy_count.withColumn(vinyr, F.when(F.col('VinYr') == vinyr, F.lit(1)).otherwise(F.lit(0)))"
   ]
  },
  {
   "cell_type": "code",
   "execution_count": 88,
   "metadata": {},
   "outputs": [],
   "source": [
    "expr = [F.sum(x).alias(x) for x in vintage_years]"
   ]
  },
  {
   "cell_type": "markdown",
   "metadata": {},
   "source": [
    ". P -> Principal\n",
    ". S -> Second\n",
    ". R -> Investor\n",
    ". U -> Unknown"
   ]
  },
  {
   "cell_type": "code",
   "execution_count": 89,
   "metadata": {},
   "outputs": [
    {
     "data": {
      "text/html": [
       "<div>\n",
       "<style scoped>\n",
       "    .dataframe tbody tr th:only-of-type {\n",
       "        vertical-align: middle;\n",
       "    }\n",
       "\n",
       "    .dataframe tbody tr th {\n",
       "        vertical-align: top;\n",
       "    }\n",
       "\n",
       "    .dataframe thead th {\n",
       "        text-align: right;\n",
       "    }\n",
       "</style>\n",
       "<table border=\"1\" class=\"dataframe\">\n",
       "  <thead>\n",
       "    <tr style=\"text-align: right;\">\n",
       "      <th></th>\n",
       "      <th>OCC_STAT</th>\n",
       "      <th>2011</th>\n",
       "      <th>2012</th>\n",
       "      <th>2013</th>\n",
       "      <th>2014</th>\n",
       "      <th>2015</th>\n",
       "      <th>2016</th>\n",
       "      <th>2017</th>\n",
       "      <th>2018</th>\n",
       "      <th>2019</th>\n",
       "    </tr>\n",
       "  </thead>\n",
       "  <tbody>\n",
       "    <tr>\n",
       "      <th>0</th>\n",
       "      <td>S</td>\n",
       "      <td>0</td>\n",
       "      <td>25</td>\n",
       "      <td>5886</td>\n",
       "      <td>68267</td>\n",
       "      <td>81772</td>\n",
       "      <td>92727</td>\n",
       "      <td>86710</td>\n",
       "      <td>73175</td>\n",
       "      <td>7229</td>\n",
       "    </tr>\n",
       "    <tr>\n",
       "      <th>1</th>\n",
       "      <td>I</td>\n",
       "      <td>1</td>\n",
       "      <td>10</td>\n",
       "      <td>13414</td>\n",
       "      <td>140101</td>\n",
       "      <td>162164</td>\n",
       "      <td>162365</td>\n",
       "      <td>153260</td>\n",
       "      <td>125304</td>\n",
       "      <td>12904</td>\n",
       "    </tr>\n",
       "    <tr>\n",
       "      <th>2</th>\n",
       "      <td>P</td>\n",
       "      <td>0</td>\n",
       "      <td>710</td>\n",
       "      <td>103592</td>\n",
       "      <td>1235990</td>\n",
       "      <td>1615551</td>\n",
       "      <td>2042718</td>\n",
       "      <td>1664203</td>\n",
       "      <td>1369869</td>\n",
       "      <td>144571</td>\n",
       "    </tr>\n",
       "  </tbody>\n",
       "</table>\n",
       "</div>"
      ],
      "text/plain": [
       "  OCC_STAT  2011  2012    2013     2014     2015     2016     2017     2018  \\\n",
       "0        S     0    25    5886    68267    81772    92727    86710    73175   \n",
       "1        I     1    10   13414   140101   162164   162365   153260   125304   \n",
       "2        P     0   710  103592  1235990  1615551  2042718  1664203  1369869   \n",
       "\n",
       "     2019  \n",
       "0    7229  \n",
       "1   12904  \n",
       "2  144571  "
      ]
     },
     "execution_count": 89,
     "metadata": {},
     "output_type": "execute_result"
    }
   ],
   "source": [
    "vint_occupancy_count.where(F.col('OCC_STAT').isNotNull()).groupBy('OCC_STAT').agg(*expr).toPandas()"
   ]
  },
  {
   "cell_type": "markdown",
   "metadata": {},
   "source": [
    "***Loan counts cut by last status***"
   ]
  },
  {
   "cell_type": "code",
   "execution_count": 90,
   "metadata": {},
   "outputs": [
    {
     "data": {
      "text/plain": [
       "1444358"
      ]
     },
     "execution_count": 90,
     "metadata": {},
     "output_type": "execute_result"
    }
   ],
   "source": [
    "statistics_data.where(F.col('VinYr') == '2014').select('LOAN_ID').distinct().count()"
   ]
  },
  {
   "cell_type": "code",
   "execution_count": 91,
   "metadata": {},
   "outputs": [],
   "source": [
    "vint_laststat_count = statistics_data"
   ]
  },
  {
   "cell_type": "markdown",
   "metadata": {},
   "source": [
    ". C -> Current\n",
    ". 1 -> 30 day delinquency\n",
    ". 2 -> 60 day delinquency\n",
    ". 3 -> 90 day delinquency\n",
    ". 4 -> 120 day delinquency\n",
    ". 5 -> 150 day delinquency\n",
    ". L -> Reperforming Loan Sale\n",
    ". N -> Note Sale\n",
    ". P -> Prepaid\n",
    ". R -> Repurchase\n",
    ". T -> Third Party Sale\n",
    ". X -> Unknown"
   ]
  },
  {
   "cell_type": "code",
   "execution_count": 92,
   "metadata": {},
   "outputs": [
    {
     "data": {
      "text/html": [
       "<div>\n",
       "<style scoped>\n",
       "    .dataframe tbody tr th:only-of-type {\n",
       "        vertical-align: middle;\n",
       "    }\n",
       "\n",
       "    .dataframe tbody tr th {\n",
       "        vertical-align: top;\n",
       "    }\n",
       "\n",
       "    .dataframe thead th {\n",
       "        text-align: right;\n",
       "    }\n",
       "</style>\n",
       "<table border=\"1\" class=\"dataframe\">\n",
       "  <thead>\n",
       "    <tr style=\"text-align: right;\">\n",
       "      <th></th>\n",
       "      <th>LAST_STAT</th>\n",
       "      <th>count</th>\n",
       "    </tr>\n",
       "  </thead>\n",
       "  <tbody>\n",
       "    <tr>\n",
       "      <th>0</th>\n",
       "      <td>1</td>\n",
       "      <td>53806</td>\n",
       "    </tr>\n",
       "    <tr>\n",
       "      <th>1</th>\n",
       "      <td>2</td>\n",
       "      <td>13075</td>\n",
       "    </tr>\n",
       "    <tr>\n",
       "      <th>2</th>\n",
       "      <td>3</td>\n",
       "      <td>8474</td>\n",
       "    </tr>\n",
       "    <tr>\n",
       "      <th>3</th>\n",
       "      <td>4</td>\n",
       "      <td>8924</td>\n",
       "    </tr>\n",
       "    <tr>\n",
       "      <th>4</th>\n",
       "      <td>5</td>\n",
       "      <td>36085</td>\n",
       "    </tr>\n",
       "    <tr>\n",
       "      <th>5</th>\n",
       "      <td>C</td>\n",
       "      <td>6734489</td>\n",
       "    </tr>\n",
       "    <tr>\n",
       "      <th>6</th>\n",
       "      <td>L</td>\n",
       "      <td>44</td>\n",
       "    </tr>\n",
       "    <tr>\n",
       "      <th>7</th>\n",
       "      <td>N</td>\n",
       "      <td>137</td>\n",
       "    </tr>\n",
       "    <tr>\n",
       "      <th>8</th>\n",
       "      <td>P</td>\n",
       "      <td>2497933</td>\n",
       "    </tr>\n",
       "    <tr>\n",
       "      <th>9</th>\n",
       "      <td>R</td>\n",
       "      <td>7953</td>\n",
       "    </tr>\n",
       "    <tr>\n",
       "      <th>10</th>\n",
       "      <td>T</td>\n",
       "      <td>1565</td>\n",
       "    </tr>\n",
       "    <tr>\n",
       "      <th>11</th>\n",
       "      <td>X</td>\n",
       "      <td>31</td>\n",
       "    </tr>\n",
       "  </tbody>\n",
       "</table>\n",
       "</div>"
      ],
      "text/plain": [
       "   LAST_STAT    count\n",
       "0          1    53806\n",
       "1          2    13075\n",
       "2          3     8474\n",
       "3          4     8924\n",
       "4          5    36085\n",
       "5          C  6734489\n",
       "6          L       44\n",
       "7          N      137\n",
       "8          P  2497933\n",
       "9          R     7953\n",
       "10         T     1565\n",
       "11         X       31"
      ]
     },
     "execution_count": 92,
     "metadata": {},
     "output_type": "execute_result"
    }
   ],
   "source": [
    "vint_laststat_count.orderBy('LAST_STAT').where(F.col('LAST_STAT').isNotNull()).groupBy('LAST_STAT').count().toPandas()"
   ]
  },
  {
   "cell_type": "markdown",
   "metadata": {},
   "source": [
    "***Summary Stats for Fico, Original Amount and OLTV***"
   ]
  },
  {
   "cell_type": "code",
   "execution_count": 93,
   "metadata": {},
   "outputs": [],
   "source": [
    "summary_stats = statistics_data"
   ]
  },
  {
   "cell_type": "code",
   "execution_count": 94,
   "metadata": {},
   "outputs": [
    {
     "data": {
      "text/html": [
       "<div>\n",
       "<style scoped>\n",
       "    .dataframe tbody tr th:only-of-type {\n",
       "        vertical-align: middle;\n",
       "    }\n",
       "\n",
       "    .dataframe tbody tr th {\n",
       "        vertical-align: top;\n",
       "    }\n",
       "\n",
       "    .dataframe thead th {\n",
       "        text-align: right;\n",
       "    }\n",
       "</style>\n",
       "<table border=\"1\" class=\"dataframe\">\n",
       "  <thead>\n",
       "    <tr style=\"text-align: right;\">\n",
       "      <th></th>\n",
       "      <th>summary</th>\n",
       "      <th>Borrower Credit Score</th>\n",
       "      <th>Original Loan Amount</th>\n",
       "      <th>Original Loan To Value</th>\n",
       "    </tr>\n",
       "  </thead>\n",
       "  <tbody>\n",
       "    <tr>\n",
       "      <th>0</th>\n",
       "      <td>count</td>\n",
       "      <td>9362518</td>\n",
       "      <td>9362518</td>\n",
       "      <td>9362518</td>\n",
       "    </tr>\n",
       "    <tr>\n",
       "      <th>1</th>\n",
       "      <td>mean</td>\n",
       "      <td>746.2843560888214</td>\n",
       "      <td>228490.68915007694</td>\n",
       "      <td>74.41458900265933</td>\n",
       "    </tr>\n",
       "    <tr>\n",
       "      <th>2</th>\n",
       "      <td>stddev</td>\n",
       "      <td>47.61092597148242</td>\n",
       "      <td>119526.62895282666</td>\n",
       "      <td>17.10783188115497</td>\n",
       "    </tr>\n",
       "    <tr>\n",
       "      <th>3</th>\n",
       "      <td>min</td>\n",
       "      <td>445</td>\n",
       "      <td>4000</td>\n",
       "      <td>2</td>\n",
       "    </tr>\n",
       "    <tr>\n",
       "      <th>4</th>\n",
       "      <td>max</td>\n",
       "      <td>850</td>\n",
       "      <td>1387000</td>\n",
       "      <td>97</td>\n",
       "    </tr>\n",
       "  </tbody>\n",
       "</table>\n",
       "</div>"
      ],
      "text/plain": [
       "  summary Borrower Credit Score Original Loan Amount Original Loan To Value\n",
       "0   count               9362518              9362518                9362518\n",
       "1    mean     746.2843560888214   228490.68915007694      74.41458900265933\n",
       "2  stddev     47.61092597148242   119526.62895282666      17.10783188115497\n",
       "3     min                   445                 4000                      2\n",
       "4     max                   850              1387000                     97"
      ]
     },
     "execution_count": 94,
     "metadata": {},
     "output_type": "execute_result"
    }
   ],
   "source": [
    "summary_stats.select(F.round(F.col('CSCORE_MN'),2).alias('Borrower Credit Score'), \n",
    "                     F.round(F.col('ORIG_AMT'),2).alias('Original Loan Amount'), \n",
    "                     F.round(F.col('OLTV'),2).alias('Original Loan To Value')).describe().toPandas()"
   ]
  },
  {
   "cell_type": "markdown",
   "metadata": {},
   "source": [
    "***Loan counts cut by origination vintage and FICO bucket***"
   ]
  },
  {
   "cell_type": "code",
   "execution_count": 95,
   "metadata": {},
   "outputs": [],
   "source": [
    "vint_FICObuckets_count = statistics_data.fillna('9999', 'VinYr')"
   ]
  },
  {
   "cell_type": "code",
   "execution_count": 96,
   "metadata": {},
   "outputs": [],
   "source": [
    "vintage_years = [row.VinYr for row in vint_FICObuckets_count.select('VinYr').orderBy('VinYr').distinct().collect() if row.VinYr != '9999']"
   ]
  },
  {
   "cell_type": "code",
   "execution_count": 97,
   "metadata": {},
   "outputs": [],
   "source": [
    "for vinyr in vintage_years:\n",
    "    vint_FICObuckets_count = vint_FICObuckets_count.withColumn(vinyr, F.when(F.col('VinYr') == vinyr, F.lit(1)).otherwise(F.lit(0)))"
   ]
  },
  {
   "cell_type": "code",
   "execution_count": 98,
   "metadata": {},
   "outputs": [],
   "source": [
    "expr = [F.sum(x).alias(x) for x in vintage_years]"
   ]
  },
  {
   "cell_type": "code",
   "execution_count": 99,
   "metadata": {},
   "outputs": [
    {
     "data": {
      "text/html": [
       "<div>\n",
       "<style scoped>\n",
       "    .dataframe tbody tr th:only-of-type {\n",
       "        vertical-align: middle;\n",
       "    }\n",
       "\n",
       "    .dataframe tbody tr th {\n",
       "        vertical-align: top;\n",
       "    }\n",
       "\n",
       "    .dataframe thead th {\n",
       "        text-align: right;\n",
       "    }\n",
       "</style>\n",
       "<table border=\"1\" class=\"dataframe\">\n",
       "  <thead>\n",
       "    <tr style=\"text-align: right;\">\n",
       "      <th></th>\n",
       "      <th>FicoBkt</th>\n",
       "      <th>2011</th>\n",
       "      <th>2012</th>\n",
       "      <th>2013</th>\n",
       "      <th>2014</th>\n",
       "      <th>2015</th>\n",
       "      <th>2016</th>\n",
       "      <th>2017</th>\n",
       "      <th>2018</th>\n",
       "      <th>2019</th>\n",
       "    </tr>\n",
       "  </thead>\n",
       "  <tbody>\n",
       "    <tr>\n",
       "      <th>0</th>\n",
       "      <td>0-620</td>\n",
       "      <td>0</td>\n",
       "      <td>6</td>\n",
       "      <td>157</td>\n",
       "      <td>1338</td>\n",
       "      <td>1587</td>\n",
       "      <td>1560</td>\n",
       "      <td>1908</td>\n",
       "      <td>1807</td>\n",
       "      <td>182</td>\n",
       "    </tr>\n",
       "    <tr>\n",
       "      <th>1</th>\n",
       "      <td>620-660</td>\n",
       "      <td>0</td>\n",
       "      <td>7</td>\n",
       "      <td>5963</td>\n",
       "      <td>81320</td>\n",
       "      <td>97014</td>\n",
       "      <td>105528</td>\n",
       "      <td>120538</td>\n",
       "      <td>110202</td>\n",
       "      <td>10296</td>\n",
       "    </tr>\n",
       "    <tr>\n",
       "      <th>2</th>\n",
       "      <td>660-700</td>\n",
       "      <td>0</td>\n",
       "      <td>41</td>\n",
       "      <td>16470</td>\n",
       "      <td>199192</td>\n",
       "      <td>238005</td>\n",
       "      <td>276186</td>\n",
       "      <td>272775</td>\n",
       "      <td>235419</td>\n",
       "      <td>24769</td>\n",
       "    </tr>\n",
       "    <tr>\n",
       "      <th>3</th>\n",
       "      <td>700-740</td>\n",
       "      <td>0</td>\n",
       "      <td>78</td>\n",
       "      <td>25725</td>\n",
       "      <td>301723</td>\n",
       "      <td>380587</td>\n",
       "      <td>469502</td>\n",
       "      <td>425397</td>\n",
       "      <td>359578</td>\n",
       "      <td>39952</td>\n",
       "    </tr>\n",
       "    <tr>\n",
       "      <th>4</th>\n",
       "      <td>740-780</td>\n",
       "      <td>0</td>\n",
       "      <td>177</td>\n",
       "      <td>36835</td>\n",
       "      <td>421840</td>\n",
       "      <td>549471</td>\n",
       "      <td>680170</td>\n",
       "      <td>546840</td>\n",
       "      <td>449498</td>\n",
       "      <td>48466</td>\n",
       "    </tr>\n",
       "    <tr>\n",
       "      <th>5</th>\n",
       "      <td>780&gt;</td>\n",
       "      <td>1</td>\n",
       "      <td>436</td>\n",
       "      <td>37742</td>\n",
       "      <td>438945</td>\n",
       "      <td>592823</td>\n",
       "      <td>764864</td>\n",
       "      <td>536715</td>\n",
       "      <td>411844</td>\n",
       "      <td>41039</td>\n",
       "    </tr>\n",
       "  </tbody>\n",
       "</table>\n",
       "</div>"
      ],
      "text/plain": [
       "   FicoBkt  2011  2012   2013    2014    2015    2016    2017    2018   2019\n",
       "0    0-620     0     6    157    1338    1587    1560    1908    1807    182\n",
       "1  620-660     0     7   5963   81320   97014  105528  120538  110202  10296\n",
       "2  660-700     0    41  16470  199192  238005  276186  272775  235419  24769\n",
       "3  700-740     0    78  25725  301723  380587  469502  425397  359578  39952\n",
       "4  740-780     0   177  36835  421840  549471  680170  546840  449498  48466\n",
       "5     780>     1   436  37742  438945  592823  764864  536715  411844  41039"
      ]
     },
     "execution_count": 99,
     "metadata": {},
     "output_type": "execute_result"
    }
   ],
   "source": [
    "vint_FICObuckets_count.where(F.col('FicoBkt').isNotNull()).orderBy('FicoBkt').groupBy('FicoBkt').agg(*expr).toPandas()"
   ]
  },
  {
   "cell_type": "markdown",
   "metadata": {},
   "source": [
    "***Summary Statistics by Vintage***"
   ]
  },
  {
   "cell_type": "code",
   "execution_count": 100,
   "metadata": {},
   "outputs": [],
   "source": [
    "summary_statistics = statistics_data.fillna('9999', 'VinYr')"
   ]
  },
  {
   "cell_type": "code",
   "execution_count": 101,
   "metadata": {},
   "outputs": [],
   "source": [
    "summary_statistics = summary_statistics.where(F.col('VinYr') != '9999')\\\n",
    "                  .fillna(0.0, ['ORIG_AMT',\n",
    "                                'CSCORE_B',\n",
    "                                'CSCORE_C',\n",
    "                                'OLTV',\n",
    "                                'OCLTV',\n",
    "                                'DTI',\n",
    "                                'ORIG_RT',\n",
    "                                'LAST_UPB']).groupBy('VinYr').agg(F.count('LOAN_ID').alias('Loan Count'), \n",
    "                                        F.round(F.sum('ORIG_AMT'),2).alias('Total Orig. UPB'), \n",
    "                                        F.round(F.mean('ORIG_AMT'),2).alias('Avg. Orig. UPB'),\n",
    "                                        F.round((F.sum(F.col('ORIG_AMT')*F.col('CSCORE_B')))/F.sum('ORIG_AMT'), 2).alias('Borrower Credit Score'),\n",
    "                                        F.round((F.sum(F.col('ORIG_AMT')*F.col('CSCORE_C')))/F.sum('ORIG_AMT'), 2).alias('Co-Borrower Credit Score'),\n",
    "                                        F.round((F.sum(F.col('ORIG_AMT')*F.col('OLTV')))/F.sum('ORIG_AMT'), 2).alias('LTV Ratio'),\n",
    "                                        F.round((F.sum(F.col('ORIG_AMT')*F.col('OCLTV')))/F.sum('ORIG_AMT'), 2).alias('CLTV Ratio'),\n",
    "                                        F.round((F.sum(F.col('ORIG_AMT')*F.col('DTI')))/F.sum('ORIG_AMT'), 2).alias('DTI'),\n",
    "                                        F.round((F.sum(F.col('ORIG_AMT')*F.col('ORIG_RT')))/F.sum('ORIG_AMT'), 2).alias('Note Rate')).orderBy('VinYr').fillna(0.0)"
   ]
  },
  {
   "cell_type": "code",
   "execution_count": 102,
   "metadata": {},
   "outputs": [
    {
     "data": {
      "text/html": [
       "<div>\n",
       "<style scoped>\n",
       "    .dataframe tbody tr th:only-of-type {\n",
       "        vertical-align: middle;\n",
       "    }\n",
       "\n",
       "    .dataframe tbody tr th {\n",
       "        vertical-align: top;\n",
       "    }\n",
       "\n",
       "    .dataframe thead th {\n",
       "        text-align: right;\n",
       "    }\n",
       "</style>\n",
       "<table border=\"1\" class=\"dataframe\">\n",
       "  <thead>\n",
       "    <tr style=\"text-align: right;\">\n",
       "      <th></th>\n",
       "      <th>VinYr</th>\n",
       "      <th>Loan Count</th>\n",
       "      <th>Total Orig. UPB</th>\n",
       "      <th>Avg. Orig. UPB</th>\n",
       "      <th>Borrower Credit Score</th>\n",
       "      <th>Co-Borrower Credit Score</th>\n",
       "      <th>LTV Ratio</th>\n",
       "      <th>CLTV Ratio</th>\n",
       "      <th>DTI</th>\n",
       "      <th>Note Rate</th>\n",
       "    </tr>\n",
       "  </thead>\n",
       "  <tbody>\n",
       "    <tr>\n",
       "      <th>0</th>\n",
       "      <td>2011</td>\n",
       "      <td>1</td>\n",
       "      <td>85000</td>\n",
       "      <td>85000.00</td>\n",
       "      <td>800.00</td>\n",
       "      <td>803.00</td>\n",
       "      <td>80.00</td>\n",
       "      <td>80.00</td>\n",
       "      <td>41.00</td>\n",
       "      <td>4.63</td>\n",
       "    </tr>\n",
       "    <tr>\n",
       "      <th>1</th>\n",
       "      <td>2012</td>\n",
       "      <td>745</td>\n",
       "      <td>119213000</td>\n",
       "      <td>160017.45</td>\n",
       "      <td>779.35</td>\n",
       "      <td>778.10</td>\n",
       "      <td>54.14</td>\n",
       "      <td>58.67</td>\n",
       "      <td>28.93</td>\n",
       "      <td>3.15</td>\n",
       "    </tr>\n",
       "    <tr>\n",
       "      <th>2</th>\n",
       "      <td>2013</td>\n",
       "      <td>122892</td>\n",
       "      <td>25768640000</td>\n",
       "      <td>209685.25</td>\n",
       "      <td>754.44</td>\n",
       "      <td>755.46</td>\n",
       "      <td>75.53</td>\n",
       "      <td>76.48</td>\n",
       "      <td>34.24</td>\n",
       "      <td>4.36</td>\n",
       "    </tr>\n",
       "    <tr>\n",
       "      <th>3</th>\n",
       "      <td>2014</td>\n",
       "      <td>1444358</td>\n",
       "      <td>310246494000</td>\n",
       "      <td>214798.89</td>\n",
       "      <td>753.46</td>\n",
       "      <td>754.30</td>\n",
       "      <td>76.37</td>\n",
       "      <td>77.22</td>\n",
       "      <td>34.18</td>\n",
       "      <td>4.30</td>\n",
       "    </tr>\n",
       "    <tr>\n",
       "      <th>4</th>\n",
       "      <td>2015</td>\n",
       "      <td>1859487</td>\n",
       "      <td>420932676000</td>\n",
       "      <td>226370.32</td>\n",
       "      <td>755.48</td>\n",
       "      <td>756.28</td>\n",
       "      <td>75.01</td>\n",
       "      <td>75.84</td>\n",
       "      <td>33.73</td>\n",
       "      <td>3.98</td>\n",
       "    </tr>\n",
       "    <tr>\n",
       "      <th>5</th>\n",
       "      <td>2016</td>\n",
       "      <td>2297810</td>\n",
       "      <td>540506873000</td>\n",
       "      <td>235226.97</td>\n",
       "      <td>757.68</td>\n",
       "      <td>758.37</td>\n",
       "      <td>73.36</td>\n",
       "      <td>74.04</td>\n",
       "      <td>33.47</td>\n",
       "      <td>3.72</td>\n",
       "    </tr>\n",
       "    <tr>\n",
       "      <th>6</th>\n",
       "      <td>2017</td>\n",
       "      <td>1904173</td>\n",
       "      <td>434127212000</td>\n",
       "      <td>227987.27</td>\n",
       "      <td>750.89</td>\n",
       "      <td>751.63</td>\n",
       "      <td>75.55</td>\n",
       "      <td>76.16</td>\n",
       "      <td>35.36</td>\n",
       "      <td>4.17</td>\n",
       "    </tr>\n",
       "    <tr>\n",
       "      <th>7</th>\n",
       "      <td>2018</td>\n",
       "      <td>1568348</td>\n",
       "      <td>367731425000</td>\n",
       "      <td>234470.55</td>\n",
       "      <td>748.78</td>\n",
       "      <td>749.57</td>\n",
       "      <td>76.69</td>\n",
       "      <td>77.20</td>\n",
       "      <td>37.49</td>\n",
       "      <td>4.75</td>\n",
       "    </tr>\n",
       "    <tr>\n",
       "      <th>8</th>\n",
       "      <td>2019</td>\n",
       "      <td>164704</td>\n",
       "      <td>39815572000</td>\n",
       "      <td>241740.16</td>\n",
       "      <td>748.39</td>\n",
       "      <td>749.06</td>\n",
       "      <td>77.18</td>\n",
       "      <td>77.58</td>\n",
       "      <td>37.42</td>\n",
       "      <td>4.81</td>\n",
       "    </tr>\n",
       "  </tbody>\n",
       "</table>\n",
       "</div>"
      ],
      "text/plain": [
       "  VinYr  Loan Count  Total Orig. UPB  Avg. Orig. UPB  Borrower Credit Score  \\\n",
       "0  2011           1            85000        85000.00                 800.00   \n",
       "1  2012         745        119213000       160017.45                 779.35   \n",
       "2  2013      122892      25768640000       209685.25                 754.44   \n",
       "3  2014     1444358     310246494000       214798.89                 753.46   \n",
       "4  2015     1859487     420932676000       226370.32                 755.48   \n",
       "5  2016     2297810     540506873000       235226.97                 757.68   \n",
       "6  2017     1904173     434127212000       227987.27                 750.89   \n",
       "7  2018     1568348     367731425000       234470.55                 748.78   \n",
       "8  2019      164704      39815572000       241740.16                 748.39   \n",
       "\n",
       "   Co-Borrower Credit Score  LTV Ratio  CLTV Ratio    DTI  Note Rate  \n",
       "0                    803.00      80.00       80.00  41.00       4.63  \n",
       "1                    778.10      54.14       58.67  28.93       3.15  \n",
       "2                    755.46      75.53       76.48  34.24       4.36  \n",
       "3                    754.30      76.37       77.22  34.18       4.30  \n",
       "4                    756.28      75.01       75.84  33.73       3.98  \n",
       "5                    758.37      73.36       74.04  33.47       3.72  \n",
       "6                    751.63      75.55       76.16  35.36       4.17  \n",
       "7                    749.57      76.69       77.20  37.49       4.75  \n",
       "8                    749.06      77.18       77.58  37.42       4.81  "
      ]
     },
     "execution_count": 102,
     "metadata": {},
     "output_type": "execute_result"
    }
   ],
   "source": [
    "summary_statistics.toPandas()"
   ]
  },
  {
   "cell_type": "markdown",
   "metadata": {},
   "source": [
    "***Acquisition Statistics Totals***"
   ]
  },
  {
   "cell_type": "code",
   "execution_count": 103,
   "metadata": {},
   "outputs": [],
   "source": [
    "total_statistics = statistics_data.fillna('9999', 'VinYr')"
   ]
  },
  {
   "cell_type": "code",
   "execution_count": 104,
   "metadata": {},
   "outputs": [],
   "source": [
    "total_statistics = total_statistics.where(F.col('VinYr') != '9999')\\\n",
    "                  .fillna(0.0, ['ORIG_AMT',\n",
    "                                'CSCORE_B',\n",
    "                                'CSCORE_C',\n",
    "                                'OLTV',\n",
    "                                'OCLTV',\n",
    "                                'DTI',\n",
    "                                'ORIG_RT',\n",
    "                                'LAST_UPB']).withColumn('Total', F.lit('Total')).groupBy('Total')\\\n",
    "                                   .agg(F.count('LOAN_ID').alias('Loan Count'), \n",
    "                                        F.round(F.sum('ORIG_AMT'),2).alias('Total Orig. UPB'), \n",
    "                                        F.round(F.mean('ORIG_AMT'),2).alias('Avg. Orig. UPB'),\n",
    "                                        F.round((F.sum(F.col('ORIG_AMT')*F.col('CSCORE_B')))/F.sum('ORIG_AMT'), 2).alias('Borrower Credit Score'),\n",
    "                                        F.round((F.sum(F.col('ORIG_AMT')*F.col('CSCORE_C')))/F.sum('ORIG_AMT'), 2).alias('Co-Borrower Credit Score'),\n",
    "                                        F.round((F.sum(F.col('ORIG_AMT')*F.col('OLTV')))/F.sum('ORIG_AMT'), 2).alias('LTV Ratio'),\n",
    "                                        F.round((F.sum(F.col('ORIG_AMT')*F.col('OCLTV')))/F.sum('ORIG_AMT'), 2).alias('CLTV Ratio'),\n",
    "                                        F.round((F.sum(F.col('ORIG_AMT')*F.col('DTI')))/F.sum('ORIG_AMT'), 2).alias('DTI'),\n",
    "                                        F.round((F.sum(F.col('ORIG_AMT')*F.col('ORIG_RT')))/F.sum('ORIG_AMT'), 2).alias('Note Rate')).fillna(0.0)"
   ]
  },
  {
   "cell_type": "code",
   "execution_count": 105,
   "metadata": {},
   "outputs": [
    {
     "data": {
      "text/html": [
       "<div>\n",
       "<style scoped>\n",
       "    .dataframe tbody tr th:only-of-type {\n",
       "        vertical-align: middle;\n",
       "    }\n",
       "\n",
       "    .dataframe tbody tr th {\n",
       "        vertical-align: top;\n",
       "    }\n",
       "\n",
       "    .dataframe thead th {\n",
       "        text-align: right;\n",
       "    }\n",
       "</style>\n",
       "<table border=\"1\" class=\"dataframe\">\n",
       "  <thead>\n",
       "    <tr style=\"text-align: right;\">\n",
       "      <th></th>\n",
       "      <th>Total</th>\n",
       "      <th>Loan Count</th>\n",
       "      <th>Total Orig. UPB</th>\n",
       "      <th>Avg. Orig. UPB</th>\n",
       "      <th>Borrower Credit Score</th>\n",
       "      <th>Co-Borrower Credit Score</th>\n",
       "      <th>LTV Ratio</th>\n",
       "      <th>CLTV Ratio</th>\n",
       "      <th>DTI</th>\n",
       "      <th>Note Rate</th>\n",
       "    </tr>\n",
       "  </thead>\n",
       "  <tbody>\n",
       "    <tr>\n",
       "      <th>0</th>\n",
       "      <td>Total</td>\n",
       "      <td>9362518</td>\n",
       "      <td>2139248190000</td>\n",
       "      <td>228490.69</td>\n",
       "      <td>753.52</td>\n",
       "      <td>754.28</td>\n",
       "      <td>75.23</td>\n",
       "      <td>75.92</td>\n",
       "      <td>34.78</td>\n",
       "      <td>4.15</td>\n",
       "    </tr>\n",
       "  </tbody>\n",
       "</table>\n",
       "</div>"
      ],
      "text/plain": [
       "   Total  Loan Count  Total Orig. UPB  Avg. Orig. UPB  Borrower Credit Score  \\\n",
       "0  Total     9362518    2139248190000       228490.69                 753.52   \n",
       "\n",
       "   Co-Borrower Credit Score  LTV Ratio  CLTV Ratio    DTI  Note Rate  \n",
       "0                    754.28      75.23       75.92  34.78       4.15  "
      ]
     },
     "execution_count": 105,
     "metadata": {},
     "output_type": "execute_result"
    }
   ],
   "source": [
    "total_statistics.toPandas()"
   ]
  },
  {
   "cell_type": "markdown",
   "metadata": {},
   "source": [
    "***Merge Totals with Summary Statistics with breakout by Vintage for Full Acquisition Statistics Table***"
   ]
  },
  {
   "cell_type": "code",
   "execution_count": 106,
   "metadata": {},
   "outputs": [],
   "source": [
    "total_stats = summary_statistics.union(total_statistics)"
   ]
  },
  {
   "cell_type": "code",
   "execution_count": 107,
   "metadata": {},
   "outputs": [
    {
     "data": {
      "text/html": [
       "<div>\n",
       "<style scoped>\n",
       "    .dataframe tbody tr th:only-of-type {\n",
       "        vertical-align: middle;\n",
       "    }\n",
       "\n",
       "    .dataframe tbody tr th {\n",
       "        vertical-align: top;\n",
       "    }\n",
       "\n",
       "    .dataframe thead th {\n",
       "        text-align: right;\n",
       "    }\n",
       "</style>\n",
       "<table border=\"1\" class=\"dataframe\">\n",
       "  <thead>\n",
       "    <tr style=\"text-align: right;\">\n",
       "      <th></th>\n",
       "      <th>VinYr</th>\n",
       "      <th>Loan Count</th>\n",
       "      <th>Total Orig. UPB</th>\n",
       "      <th>Avg. Orig. UPB</th>\n",
       "      <th>Borrower Credit Score</th>\n",
       "      <th>Co-Borrower Credit Score</th>\n",
       "      <th>LTV Ratio</th>\n",
       "      <th>CLTV Ratio</th>\n",
       "      <th>DTI</th>\n",
       "      <th>Note Rate</th>\n",
       "    </tr>\n",
       "  </thead>\n",
       "  <tbody>\n",
       "    <tr>\n",
       "      <th>0</th>\n",
       "      <td>2011</td>\n",
       "      <td>1</td>\n",
       "      <td>85000</td>\n",
       "      <td>85000.00</td>\n",
       "      <td>800.00</td>\n",
       "      <td>803.00</td>\n",
       "      <td>80.00</td>\n",
       "      <td>80.00</td>\n",
       "      <td>41.00</td>\n",
       "      <td>4.63</td>\n",
       "    </tr>\n",
       "    <tr>\n",
       "      <th>1</th>\n",
       "      <td>2012</td>\n",
       "      <td>745</td>\n",
       "      <td>119213000</td>\n",
       "      <td>160017.45</td>\n",
       "      <td>779.35</td>\n",
       "      <td>778.10</td>\n",
       "      <td>54.14</td>\n",
       "      <td>58.67</td>\n",
       "      <td>28.93</td>\n",
       "      <td>3.15</td>\n",
       "    </tr>\n",
       "    <tr>\n",
       "      <th>2</th>\n",
       "      <td>2013</td>\n",
       "      <td>122892</td>\n",
       "      <td>25768640000</td>\n",
       "      <td>209685.25</td>\n",
       "      <td>754.44</td>\n",
       "      <td>755.46</td>\n",
       "      <td>75.53</td>\n",
       "      <td>76.48</td>\n",
       "      <td>34.24</td>\n",
       "      <td>4.36</td>\n",
       "    </tr>\n",
       "    <tr>\n",
       "      <th>3</th>\n",
       "      <td>2014</td>\n",
       "      <td>1444358</td>\n",
       "      <td>310246494000</td>\n",
       "      <td>214798.89</td>\n",
       "      <td>753.46</td>\n",
       "      <td>754.30</td>\n",
       "      <td>76.37</td>\n",
       "      <td>77.22</td>\n",
       "      <td>34.18</td>\n",
       "      <td>4.30</td>\n",
       "    </tr>\n",
       "    <tr>\n",
       "      <th>4</th>\n",
       "      <td>2015</td>\n",
       "      <td>1859487</td>\n",
       "      <td>420932676000</td>\n",
       "      <td>226370.32</td>\n",
       "      <td>755.48</td>\n",
       "      <td>756.28</td>\n",
       "      <td>75.01</td>\n",
       "      <td>75.84</td>\n",
       "      <td>33.73</td>\n",
       "      <td>3.98</td>\n",
       "    </tr>\n",
       "    <tr>\n",
       "      <th>5</th>\n",
       "      <td>2016</td>\n",
       "      <td>2297810</td>\n",
       "      <td>540506873000</td>\n",
       "      <td>235226.97</td>\n",
       "      <td>757.68</td>\n",
       "      <td>758.37</td>\n",
       "      <td>73.36</td>\n",
       "      <td>74.04</td>\n",
       "      <td>33.47</td>\n",
       "      <td>3.72</td>\n",
       "    </tr>\n",
       "    <tr>\n",
       "      <th>6</th>\n",
       "      <td>2017</td>\n",
       "      <td>1904173</td>\n",
       "      <td>434127212000</td>\n",
       "      <td>227987.27</td>\n",
       "      <td>750.89</td>\n",
       "      <td>751.63</td>\n",
       "      <td>75.55</td>\n",
       "      <td>76.16</td>\n",
       "      <td>35.36</td>\n",
       "      <td>4.17</td>\n",
       "    </tr>\n",
       "    <tr>\n",
       "      <th>7</th>\n",
       "      <td>2018</td>\n",
       "      <td>1568348</td>\n",
       "      <td>367731425000</td>\n",
       "      <td>234470.55</td>\n",
       "      <td>748.78</td>\n",
       "      <td>749.57</td>\n",
       "      <td>76.69</td>\n",
       "      <td>77.20</td>\n",
       "      <td>37.49</td>\n",
       "      <td>4.75</td>\n",
       "    </tr>\n",
       "    <tr>\n",
       "      <th>8</th>\n",
       "      <td>2019</td>\n",
       "      <td>164704</td>\n",
       "      <td>39815572000</td>\n",
       "      <td>241740.16</td>\n",
       "      <td>748.39</td>\n",
       "      <td>749.06</td>\n",
       "      <td>77.18</td>\n",
       "      <td>77.58</td>\n",
       "      <td>37.42</td>\n",
       "      <td>4.81</td>\n",
       "    </tr>\n",
       "    <tr>\n",
       "      <th>9</th>\n",
       "      <td>Total</td>\n",
       "      <td>9362518</td>\n",
       "      <td>2139248190000</td>\n",
       "      <td>228490.69</td>\n",
       "      <td>753.52</td>\n",
       "      <td>754.28</td>\n",
       "      <td>75.23</td>\n",
       "      <td>75.92</td>\n",
       "      <td>34.78</td>\n",
       "      <td>4.15</td>\n",
       "    </tr>\n",
       "  </tbody>\n",
       "</table>\n",
       "</div>"
      ],
      "text/plain": [
       "   VinYr  Loan Count  Total Orig. UPB  Avg. Orig. UPB  Borrower Credit Score  \\\n",
       "0   2011           1            85000        85000.00                 800.00   \n",
       "1   2012         745        119213000       160017.45                 779.35   \n",
       "2   2013      122892      25768640000       209685.25                 754.44   \n",
       "3   2014     1444358     310246494000       214798.89                 753.46   \n",
       "4   2015     1859487     420932676000       226370.32                 755.48   \n",
       "5   2016     2297810     540506873000       235226.97                 757.68   \n",
       "6   2017     1904173     434127212000       227987.27                 750.89   \n",
       "7   2018     1568348     367731425000       234470.55                 748.78   \n",
       "8   2019      164704      39815572000       241740.16                 748.39   \n",
       "9  Total     9362518    2139248190000       228490.69                 753.52   \n",
       "\n",
       "   Co-Borrower Credit Score  LTV Ratio  CLTV Ratio    DTI  Note Rate  \n",
       "0                    803.00      80.00       80.00  41.00       4.63  \n",
       "1                    778.10      54.14       58.67  28.93       3.15  \n",
       "2                    755.46      75.53       76.48  34.24       4.36  \n",
       "3                    754.30      76.37       77.22  34.18       4.30  \n",
       "4                    756.28      75.01       75.84  33.73       3.98  \n",
       "5                    758.37      73.36       74.04  33.47       3.72  \n",
       "6                    751.63      75.55       76.16  35.36       4.17  \n",
       "7                    749.57      76.69       77.20  37.49       4.75  \n",
       "8                    749.06      77.18       77.58  37.42       4.81  \n",
       "9                    754.28      75.23       75.92  34.78       4.15  "
      ]
     },
     "execution_count": 107,
     "metadata": {},
     "output_type": "execute_result"
    }
   ],
   "source": [
    "total_stats.toPandas()"
   ]
  },
  {
   "cell_type": "markdown",
   "metadata": {},
   "source": [
    "***Performance Loan Counts by Vintage***"
   ]
  },
  {
   "cell_type": "code",
   "execution_count": 108,
   "metadata": {},
   "outputs": [],
   "source": [
    "performance_vintcount = statistics_data.fillna('9999', 'VinYr')"
   ]
  },
  {
   "cell_type": "code",
   "execution_count": 109,
   "metadata": {},
   "outputs": [],
   "source": [
    "performance_vintcount = performance_vintcount.where(F.col('VinYr') != '9999')\\\n",
    "                  .fillna(0.0, ['ORIG_AMT',\n",
    "                                'CSCORE_B',\n",
    "                                'CSCORE_C',\n",
    "                                'OLTV',\n",
    "                                'OCLTV',\n",
    "                                'DTI',\n",
    "                                'ORIG_RT',\n",
    "                                'LAST_UPB']).withColumn('Active', F.when(F.col('LAST_STAT').isin('C','1','2','3','4','5','6','7','8','9'), F.lit(1)).otherwise(0))\\\n",
    "                                           .withColumn('Prepaid', F.when(F.col('LAST_STAT').isin('P'), F.lit(1)).otherwise(0))\\\n",
    "                                           .withColumn('Repurchased', F.when(F.col('LAST_STAT').isin('R'), F.lit(1)).otherwise(0))\\\n",
    "                                           .withColumn('Modified', F.when(F.col('MOD_FLAG').isin('Y'), F.lit(1)).otherwise(0))\\\n",
    "                                           .withColumn('Alternative_Disposition', F.when(F.col('LAST_STAT').isin('S', 'T', 'X'), F.lit(1)).otherwise(0))\\\n",
    "                                           .withColumn('Default_UPB', F.when((F.col('LAST_STAT').isin('F', 'S', 'T', 'N')) &\n",
    "                                                                             (F.col('DISP_DT').isNotNull()), F.col('LAST_UPB')).otherwise(0))\\\n",
    "                                           .withColumn('Net_Loss_Rate', F.when((F.col('LAST_STAT').isin('F', 'S', 'T', 'N')) &\n",
    "                                                                             (F.col('DISP_DT').isNotNull()), F.col('NET_LOSS')/F.col('ORIG_AMT')).otherwise(0))\\\n",
    "                                           .withColumn('REO_Disposition', F.when(F.col('LAST_STAT').isin('F'), F.lit(1)).otherwise(0))\\\n",
    "                                           .withColumn('ActiveUPB', F.when(F.col('LAST_STAT').isin('C','1','2','3','4','5','6','7','8','9'), F.col('LAST_UPB')).otherwise(F.lit(0)))\\\n",
    "                                          .groupBy('VinYr').agg(F.count('LOAN_ID').alias('Loan Count'), \n",
    "                                                                F.round(F.sum('ORIG_AMT'),2).alias('Total Orig. UPB'), \n",
    "                                                                F.round(F.sum('Active'),2).alias('Loan Count (Active)'), \n",
    "                                                                F.round(F.sum('ActiveUPB'),2).alias('Active UPB'), \n",
    "                                                                F.round(F.sum('Prepaid'),2).alias('Prepaid'), \n",
    "                                                                F.round(F.sum('Repurchased'),2).alias('Repurchased'), \n",
    "                                                                F.round(F.sum('Alternative_Disposition'),2).alias('Alternative Disposition'), \n",
    "                                                                F.round(F.sum('REO_Disposition'),2).alias('REO Disposition'), \n",
    "                                                                F.round(F.sum('Modified'),2).alias('Modified'), \n",
    "                                                                F.round(F.sum('Default_UPB'),2).alias('Default UPB'), \n",
    "                                                                F.round(F.sum('Net_Loss_Rate'),2).alias('Net_Loss_Rate UPB')).orderBy('VinYr').fillna(0.0)"
   ]
  },
  {
   "cell_type": "code",
   "execution_count": 110,
   "metadata": {},
   "outputs": [
    {
     "data": {
      "text/html": [
       "<div>\n",
       "<style scoped>\n",
       "    .dataframe tbody tr th:only-of-type {\n",
       "        vertical-align: middle;\n",
       "    }\n",
       "\n",
       "    .dataframe tbody tr th {\n",
       "        vertical-align: top;\n",
       "    }\n",
       "\n",
       "    .dataframe thead th {\n",
       "        text-align: right;\n",
       "    }\n",
       "</style>\n",
       "<table border=\"1\" class=\"dataframe\">\n",
       "  <thead>\n",
       "    <tr style=\"text-align: right;\">\n",
       "      <th></th>\n",
       "      <th>VinYr</th>\n",
       "      <th>Loan Count</th>\n",
       "      <th>Total Orig. UPB</th>\n",
       "      <th>Loan Count (Active)</th>\n",
       "      <th>Active UPB</th>\n",
       "      <th>Prepaid</th>\n",
       "      <th>Repurchased</th>\n",
       "      <th>Alternative Disposition</th>\n",
       "      <th>REO Disposition</th>\n",
       "      <th>Modified</th>\n",
       "      <th>Default UPB</th>\n",
       "      <th>Net_Loss_Rate UPB</th>\n",
       "    </tr>\n",
       "  </thead>\n",
       "  <tbody>\n",
       "    <tr>\n",
       "      <th>0</th>\n",
       "      <td>2011</td>\n",
       "      <td>1</td>\n",
       "      <td>85000</td>\n",
       "      <td>1</td>\n",
       "      <td>4.628879e+04</td>\n",
       "      <td>0</td>\n",
       "      <td>0</td>\n",
       "      <td>0</td>\n",
       "      <td>0</td>\n",
       "      <td>0</td>\n",
       "      <td>0.00</td>\n",
       "      <td>0.00</td>\n",
       "    </tr>\n",
       "    <tr>\n",
       "      <th>1</th>\n",
       "      <td>2012</td>\n",
       "      <td>745</td>\n",
       "      <td>119213000</td>\n",
       "      <td>432</td>\n",
       "      <td>2.738829e+07</td>\n",
       "      <td>312</td>\n",
       "      <td>1</td>\n",
       "      <td>0</td>\n",
       "      <td>0</td>\n",
       "      <td>0</td>\n",
       "      <td>0.00</td>\n",
       "      <td>0.00</td>\n",
       "    </tr>\n",
       "    <tr>\n",
       "      <th>2</th>\n",
       "      <td>2013</td>\n",
       "      <td>122892</td>\n",
       "      <td>25768640000</td>\n",
       "      <td>56403</td>\n",
       "      <td>8.478481e+09</td>\n",
       "      <td>66196</td>\n",
       "      <td>238</td>\n",
       "      <td>47</td>\n",
       "      <td>0</td>\n",
       "      <td>0</td>\n",
       "      <td>7324294.02</td>\n",
       "      <td>7.29</td>\n",
       "    </tr>\n",
       "    <tr>\n",
       "      <th>3</th>\n",
       "      <td>2014</td>\n",
       "      <td>1444358</td>\n",
       "      <td>310246494000</td>\n",
       "      <td>711789</td>\n",
       "      <td>1.160817e+11</td>\n",
       "      <td>729528</td>\n",
       "      <td>2437</td>\n",
       "      <td>539</td>\n",
       "      <td>0</td>\n",
       "      <td>0</td>\n",
       "      <td>81580852.94</td>\n",
       "      <td>79.27</td>\n",
       "    </tr>\n",
       "    <tr>\n",
       "      <th>4</th>\n",
       "      <td>2015</td>\n",
       "      <td>1859487</td>\n",
       "      <td>420932676000</td>\n",
       "      <td>1202714</td>\n",
       "      <td>2.286561e+11</td>\n",
       "      <td>654470</td>\n",
       "      <td>1773</td>\n",
       "      <td>477</td>\n",
       "      <td>0</td>\n",
       "      <td>0</td>\n",
       "      <td>73654174.47</td>\n",
       "      <td>79.52</td>\n",
       "    </tr>\n",
       "    <tr>\n",
       "      <th>5</th>\n",
       "      <td>2016</td>\n",
       "      <td>2297810</td>\n",
       "      <td>540506873000</td>\n",
       "      <td>1807960</td>\n",
       "      <td>3.807973e+11</td>\n",
       "      <td>488278</td>\n",
       "      <td>1187</td>\n",
       "      <td>357</td>\n",
       "      <td>0</td>\n",
       "      <td>0</td>\n",
       "      <td>53465354.98</td>\n",
       "      <td>72.23</td>\n",
       "    </tr>\n",
       "    <tr>\n",
       "      <th>6</th>\n",
       "      <td>2017</td>\n",
       "      <td>1904173</td>\n",
       "      <td>434127212000</td>\n",
       "      <td>1604047</td>\n",
       "      <td>3.375382e+11</td>\n",
       "      <td>298815</td>\n",
       "      <td>1143</td>\n",
       "      <td>147</td>\n",
       "      <td>0</td>\n",
       "      <td>0</td>\n",
       "      <td>23370902.46</td>\n",
       "      <td>52.25</td>\n",
       "    </tr>\n",
       "    <tr>\n",
       "      <th>7</th>\n",
       "      <td>2018</td>\n",
       "      <td>1568348</td>\n",
       "      <td>367731425000</td>\n",
       "      <td>1335928</td>\n",
       "      <td>2.901599e+11</td>\n",
       "      <td>231286</td>\n",
       "      <td>1098</td>\n",
       "      <td>29</td>\n",
       "      <td>0</td>\n",
       "      <td>0</td>\n",
       "      <td>5389707.89</td>\n",
       "      <td>20.93</td>\n",
       "    </tr>\n",
       "    <tr>\n",
       "      <th>8</th>\n",
       "      <td>2019</td>\n",
       "      <td>164704</td>\n",
       "      <td>39815572000</td>\n",
       "      <td>135579</td>\n",
       "      <td>3.007989e+10</td>\n",
       "      <td>29048</td>\n",
       "      <td>76</td>\n",
       "      <td>0</td>\n",
       "      <td>0</td>\n",
       "      <td>0</td>\n",
       "      <td>0.00</td>\n",
       "      <td>0.00</td>\n",
       "    </tr>\n",
       "  </tbody>\n",
       "</table>\n",
       "</div>"
      ],
      "text/plain": [
       "  VinYr  Loan Count  Total Orig. UPB  Loan Count (Active)    Active UPB  \\\n",
       "0  2011           1            85000                    1  4.628879e+04   \n",
       "1  2012         745        119213000                  432  2.738829e+07   \n",
       "2  2013      122892      25768640000                56403  8.478481e+09   \n",
       "3  2014     1444358     310246494000               711789  1.160817e+11   \n",
       "4  2015     1859487     420932676000              1202714  2.286561e+11   \n",
       "5  2016     2297810     540506873000              1807960  3.807973e+11   \n",
       "6  2017     1904173     434127212000              1604047  3.375382e+11   \n",
       "7  2018     1568348     367731425000              1335928  2.901599e+11   \n",
       "8  2019      164704      39815572000               135579  3.007989e+10   \n",
       "\n",
       "   Prepaid  Repurchased  Alternative Disposition  REO Disposition  Modified  \\\n",
       "0        0            0                        0                0         0   \n",
       "1      312            1                        0                0         0   \n",
       "2    66196          238                       47                0         0   \n",
       "3   729528         2437                      539                0         0   \n",
       "4   654470         1773                      477                0         0   \n",
       "5   488278         1187                      357                0         0   \n",
       "6   298815         1143                      147                0         0   \n",
       "7   231286         1098                       29                0         0   \n",
       "8    29048           76                        0                0         0   \n",
       "\n",
       "   Default UPB  Net_Loss_Rate UPB  \n",
       "0         0.00               0.00  \n",
       "1         0.00               0.00  \n",
       "2   7324294.02               7.29  \n",
       "3  81580852.94              79.27  \n",
       "4  73654174.47              79.52  \n",
       "5  53465354.98              72.23  \n",
       "6  23370902.46              52.25  \n",
       "7   5389707.89              20.93  \n",
       "8         0.00               0.00  "
      ]
     },
     "execution_count": 110,
     "metadata": {},
     "output_type": "execute_result"
    }
   ],
   "source": [
    "performance_vintcount.toPandas()"
   ]
  },
  {
   "cell_type": "markdown",
   "metadata": {},
   "source": [
    "***Performance Loan Counts Totals***"
   ]
  },
  {
   "cell_type": "code",
   "execution_count": 111,
   "metadata": {},
   "outputs": [],
   "source": [
    "performance_totalcount = statistics_data.fillna('9999', 'VinYr')"
   ]
  },
  {
   "cell_type": "code",
   "execution_count": 112,
   "metadata": {},
   "outputs": [],
   "source": [
    "performance_totalcount = performance_totalcount.where(F.col('VinYr') != '9999')\\\n",
    "                  .fillna(0.0, ['ORIG_AMT',\n",
    "                                'CSCORE_B',\n",
    "                                'CSCORE_C',\n",
    "                                'OLTV',\n",
    "                                'OCLTV',\n",
    "                                'DTI',\n",
    "                                'ORIG_RT',\n",
    "                                'LAST_UPB']).withColumn('Active', F.when(F.col('LAST_STAT').isin('C','1','2','3','4','5','6','7','8','9'), F.lit(1)).otherwise(0))\\\n",
    "                                           .withColumn('Prepaid', F.when(F.col('LAST_STAT').isin('P'), F.lit(1)).otherwise(0))\\\n",
    "                                           .withColumn('Repurchased', F.when(F.col('LAST_STAT').isin('R'), F.lit(1)).otherwise(0))\\\n",
    "                                           .withColumn('Modified', F.when(F.col('MOD_FLAG').isin('Y'), F.lit(1)).otherwise(0))\\\n",
    "                                           .withColumn('Alternative_Disposition', F.when(F.col('LAST_STAT').isin('S', 'T', 'X'), F.lit(1)).otherwise(0))\\\n",
    "                                           .withColumn('Default_UPB', F.when((F.col('LAST_STAT').isin('F', 'S', 'T', 'N')) &\n",
    "                                                                             (F.col('DISP_DT').isNotNull()), F.col('LAST_UPB')).otherwise(0))\\\n",
    "                                           .withColumn('Net_Loss_Rate', F.when((F.col('LAST_STAT').isin('F', 'S', 'T', 'N')) &\n",
    "                                                                             (F.col('DISP_DT').isNotNull()), F.col('NET_LOSS')/F.col('ORIG_AMT')).otherwise(0))\\\n",
    "                                           .withColumn('REO_Disposition', F.when(F.col('LAST_STAT').isin('F'), F.lit(1)).otherwise(0))\\\n",
    "                                           .withColumn('ActiveUPB', F.when(F.col('LAST_STAT').isin('C','1','2','3','4','5','6','7','8','9'), F.col('LAST_UPB')).otherwise(F.lit(0)))\\\n",
    "                                           .withColumn('Total', F.lit('Total'))\\\n",
    "                                          .groupBy('Total').agg(F.count('LOAN_ID').alias('Loan Count'), \n",
    "                                                                F.round(F.sum('ORIG_AMT'),2).alias('Total Orig. UPB'), \n",
    "                                                                F.round(F.sum('Active'),2).alias('Loan Count (Active)'), \n",
    "                                                                F.round(F.sum('ActiveUPB'),2).alias('Active UPB'), \n",
    "                                                                F.round(F.sum('Prepaid'),2).alias('Prepaid'), \n",
    "                                                                F.round(F.sum('Repurchased'),2).alias('Repurchased'), \n",
    "                                                                F.round(F.sum('Alternative_Disposition'),2).alias('Alternative Disposition'), \n",
    "                                                                F.round(F.sum('REO_Disposition'),2).alias('REO Disposition'), \n",
    "                                                                F.round(F.sum('Modified'),2).alias('Modified'), \n",
    "                                                                F.round(F.sum('Default_UPB'),2).alias('Default UPB'), \n",
    "                                                                F.round(F.sum('Net_Loss_Rate'),2).alias('Net_Loss_Rate UPB')).fillna(0.0)"
   ]
  },
  {
   "cell_type": "code",
   "execution_count": 113,
   "metadata": {},
   "outputs": [
    {
     "data": {
      "text/html": [
       "<div>\n",
       "<style scoped>\n",
       "    .dataframe tbody tr th:only-of-type {\n",
       "        vertical-align: middle;\n",
       "    }\n",
       "\n",
       "    .dataframe tbody tr th {\n",
       "        vertical-align: top;\n",
       "    }\n",
       "\n",
       "    .dataframe thead th {\n",
       "        text-align: right;\n",
       "    }\n",
       "</style>\n",
       "<table border=\"1\" class=\"dataframe\">\n",
       "  <thead>\n",
       "    <tr style=\"text-align: right;\">\n",
       "      <th></th>\n",
       "      <th>Total</th>\n",
       "      <th>Loan Count</th>\n",
       "      <th>Total Orig. UPB</th>\n",
       "      <th>Loan Count (Active)</th>\n",
       "      <th>Active UPB</th>\n",
       "      <th>Prepaid</th>\n",
       "      <th>Repurchased</th>\n",
       "      <th>Alternative Disposition</th>\n",
       "      <th>REO Disposition</th>\n",
       "      <th>Modified</th>\n",
       "      <th>Default UPB</th>\n",
       "      <th>Net_Loss_Rate UPB</th>\n",
       "    </tr>\n",
       "  </thead>\n",
       "  <tbody>\n",
       "    <tr>\n",
       "      <th>0</th>\n",
       "      <td>Total</td>\n",
       "      <td>9362518</td>\n",
       "      <td>2139248190000</td>\n",
       "      <td>6854853</td>\n",
       "      <td>1.391819e+12</td>\n",
       "      <td>2497933</td>\n",
       "      <td>7953</td>\n",
       "      <td>1596</td>\n",
       "      <td>0</td>\n",
       "      <td>0</td>\n",
       "      <td>2.447853e+08</td>\n",
       "      <td>311.5</td>\n",
       "    </tr>\n",
       "  </tbody>\n",
       "</table>\n",
       "</div>"
      ],
      "text/plain": [
       "   Total  Loan Count  Total Orig. UPB  Loan Count (Active)    Active UPB  \\\n",
       "0  Total     9362518    2139248190000              6854853  1.391819e+12   \n",
       "\n",
       "   Prepaid  Repurchased  Alternative Disposition  REO Disposition  Modified  \\\n",
       "0  2497933         7953                     1596                0         0   \n",
       "\n",
       "    Default UPB  Net_Loss_Rate UPB  \n",
       "0  2.447853e+08              311.5  "
      ]
     },
     "execution_count": 113,
     "metadata": {},
     "output_type": "execute_result"
    }
   ],
   "source": [
    "performance_totalcount.toPandas()"
   ]
  },
  {
   "cell_type": "markdown",
   "metadata": {},
   "source": [
    "***Performance statistics Totals***"
   ]
  },
  {
   "cell_type": "code",
   "execution_count": 114,
   "metadata": {},
   "outputs": [],
   "source": [
    "total_perf = performance_vintcount.union(performance_totalcount)"
   ]
  },
  {
   "cell_type": "code",
   "execution_count": 115,
   "metadata": {},
   "outputs": [
    {
     "data": {
      "text/html": [
       "<div>\n",
       "<style scoped>\n",
       "    .dataframe tbody tr th:only-of-type {\n",
       "        vertical-align: middle;\n",
       "    }\n",
       "\n",
       "    .dataframe tbody tr th {\n",
       "        vertical-align: top;\n",
       "    }\n",
       "\n",
       "    .dataframe thead th {\n",
       "        text-align: right;\n",
       "    }\n",
       "</style>\n",
       "<table border=\"1\" class=\"dataframe\">\n",
       "  <thead>\n",
       "    <tr style=\"text-align: right;\">\n",
       "      <th></th>\n",
       "      <th>VinYr</th>\n",
       "      <th>Loan Count</th>\n",
       "      <th>Total Orig. UPB</th>\n",
       "      <th>Loan Count (Active)</th>\n",
       "      <th>Active UPB</th>\n",
       "      <th>Prepaid</th>\n",
       "      <th>Repurchased</th>\n",
       "      <th>Alternative Disposition</th>\n",
       "      <th>REO Disposition</th>\n",
       "      <th>Modified</th>\n",
       "      <th>Default UPB</th>\n",
       "      <th>Net_Loss_Rate UPB</th>\n",
       "    </tr>\n",
       "  </thead>\n",
       "  <tbody>\n",
       "    <tr>\n",
       "      <th>0</th>\n",
       "      <td>2011</td>\n",
       "      <td>1</td>\n",
       "      <td>85000</td>\n",
       "      <td>1</td>\n",
       "      <td>4.628879e+04</td>\n",
       "      <td>0</td>\n",
       "      <td>0</td>\n",
       "      <td>0</td>\n",
       "      <td>0</td>\n",
       "      <td>0</td>\n",
       "      <td>0.000000e+00</td>\n",
       "      <td>0.00</td>\n",
       "    </tr>\n",
       "    <tr>\n",
       "      <th>1</th>\n",
       "      <td>2012</td>\n",
       "      <td>745</td>\n",
       "      <td>119213000</td>\n",
       "      <td>432</td>\n",
       "      <td>2.738829e+07</td>\n",
       "      <td>312</td>\n",
       "      <td>1</td>\n",
       "      <td>0</td>\n",
       "      <td>0</td>\n",
       "      <td>0</td>\n",
       "      <td>0.000000e+00</td>\n",
       "      <td>0.00</td>\n",
       "    </tr>\n",
       "    <tr>\n",
       "      <th>2</th>\n",
       "      <td>2013</td>\n",
       "      <td>122892</td>\n",
       "      <td>25768640000</td>\n",
       "      <td>56403</td>\n",
       "      <td>8.478481e+09</td>\n",
       "      <td>66196</td>\n",
       "      <td>238</td>\n",
       "      <td>47</td>\n",
       "      <td>0</td>\n",
       "      <td>0</td>\n",
       "      <td>7.324294e+06</td>\n",
       "      <td>7.29</td>\n",
       "    </tr>\n",
       "    <tr>\n",
       "      <th>3</th>\n",
       "      <td>2014</td>\n",
       "      <td>1444358</td>\n",
       "      <td>310246494000</td>\n",
       "      <td>711789</td>\n",
       "      <td>1.160817e+11</td>\n",
       "      <td>729528</td>\n",
       "      <td>2437</td>\n",
       "      <td>539</td>\n",
       "      <td>0</td>\n",
       "      <td>0</td>\n",
       "      <td>8.158085e+07</td>\n",
       "      <td>79.27</td>\n",
       "    </tr>\n",
       "    <tr>\n",
       "      <th>4</th>\n",
       "      <td>2015</td>\n",
       "      <td>1859487</td>\n",
       "      <td>420932676000</td>\n",
       "      <td>1202714</td>\n",
       "      <td>2.286561e+11</td>\n",
       "      <td>654470</td>\n",
       "      <td>1773</td>\n",
       "      <td>477</td>\n",
       "      <td>0</td>\n",
       "      <td>0</td>\n",
       "      <td>7.365417e+07</td>\n",
       "      <td>79.52</td>\n",
       "    </tr>\n",
       "    <tr>\n",
       "      <th>5</th>\n",
       "      <td>2016</td>\n",
       "      <td>2297810</td>\n",
       "      <td>540506873000</td>\n",
       "      <td>1807960</td>\n",
       "      <td>3.807973e+11</td>\n",
       "      <td>488278</td>\n",
       "      <td>1187</td>\n",
       "      <td>357</td>\n",
       "      <td>0</td>\n",
       "      <td>0</td>\n",
       "      <td>5.346535e+07</td>\n",
       "      <td>72.23</td>\n",
       "    </tr>\n",
       "    <tr>\n",
       "      <th>6</th>\n",
       "      <td>2017</td>\n",
       "      <td>1904173</td>\n",
       "      <td>434127212000</td>\n",
       "      <td>1604047</td>\n",
       "      <td>3.375382e+11</td>\n",
       "      <td>298815</td>\n",
       "      <td>1143</td>\n",
       "      <td>147</td>\n",
       "      <td>0</td>\n",
       "      <td>0</td>\n",
       "      <td>2.337090e+07</td>\n",
       "      <td>52.25</td>\n",
       "    </tr>\n",
       "    <tr>\n",
       "      <th>7</th>\n",
       "      <td>2018</td>\n",
       "      <td>1568348</td>\n",
       "      <td>367731425000</td>\n",
       "      <td>1335928</td>\n",
       "      <td>2.901599e+11</td>\n",
       "      <td>231286</td>\n",
       "      <td>1098</td>\n",
       "      <td>29</td>\n",
       "      <td>0</td>\n",
       "      <td>0</td>\n",
       "      <td>5.389708e+06</td>\n",
       "      <td>20.93</td>\n",
       "    </tr>\n",
       "    <tr>\n",
       "      <th>8</th>\n",
       "      <td>2019</td>\n",
       "      <td>164704</td>\n",
       "      <td>39815572000</td>\n",
       "      <td>135579</td>\n",
       "      <td>3.007989e+10</td>\n",
       "      <td>29048</td>\n",
       "      <td>76</td>\n",
       "      <td>0</td>\n",
       "      <td>0</td>\n",
       "      <td>0</td>\n",
       "      <td>0.000000e+00</td>\n",
       "      <td>0.00</td>\n",
       "    </tr>\n",
       "    <tr>\n",
       "      <th>9</th>\n",
       "      <td>Total</td>\n",
       "      <td>9362518</td>\n",
       "      <td>2139248190000</td>\n",
       "      <td>6854853</td>\n",
       "      <td>1.391819e+12</td>\n",
       "      <td>2497933</td>\n",
       "      <td>7953</td>\n",
       "      <td>1596</td>\n",
       "      <td>0</td>\n",
       "      <td>0</td>\n",
       "      <td>2.447853e+08</td>\n",
       "      <td>311.50</td>\n",
       "    </tr>\n",
       "  </tbody>\n",
       "</table>\n",
       "</div>"
      ],
      "text/plain": [
       "   VinYr  Loan Count  Total Orig. UPB  Loan Count (Active)    Active UPB  \\\n",
       "0   2011           1            85000                    1  4.628879e+04   \n",
       "1   2012         745        119213000                  432  2.738829e+07   \n",
       "2   2013      122892      25768640000                56403  8.478481e+09   \n",
       "3   2014     1444358     310246494000               711789  1.160817e+11   \n",
       "4   2015     1859487     420932676000              1202714  2.286561e+11   \n",
       "5   2016     2297810     540506873000              1807960  3.807973e+11   \n",
       "6   2017     1904173     434127212000              1604047  3.375382e+11   \n",
       "7   2018     1568348     367731425000              1335928  2.901599e+11   \n",
       "8   2019      164704      39815572000               135579  3.007989e+10   \n",
       "9  Total     9362518    2139248190000              6854853  1.391819e+12   \n",
       "\n",
       "   Prepaid  Repurchased  Alternative Disposition  REO Disposition  Modified  \\\n",
       "0        0            0                        0                0         0   \n",
       "1      312            1                        0                0         0   \n",
       "2    66196          238                       47                0         0   \n",
       "3   729528         2437                      539                0         0   \n",
       "4   654470         1773                      477                0         0   \n",
       "5   488278         1187                      357                0         0   \n",
       "6   298815         1143                      147                0         0   \n",
       "7   231286         1098                       29                0         0   \n",
       "8    29048           76                        0                0         0   \n",
       "9  2497933         7953                     1596                0         0   \n",
       "\n",
       "    Default UPB  Net_Loss_Rate UPB  \n",
       "0  0.000000e+00               0.00  \n",
       "1  0.000000e+00               0.00  \n",
       "2  7.324294e+06               7.29  \n",
       "3  8.158085e+07              79.27  \n",
       "4  7.365417e+07              79.52  \n",
       "5  5.346535e+07              72.23  \n",
       "6  2.337090e+07              52.25  \n",
       "7  5.389708e+06              20.93  \n",
       "8  0.000000e+00               0.00  \n",
       "9  2.447853e+08             311.50  "
      ]
     },
     "execution_count": 115,
     "metadata": {},
     "output_type": "execute_result"
    }
   ],
   "source": [
    "total_perf.toPandas()"
   ]
  },
  {
   "cell_type": "markdown",
   "metadata": {},
   "source": [
    "***Performance UPB broken out by Vintage***"
   ]
  },
  {
   "cell_type": "code",
   "execution_count": 116,
   "metadata": {},
   "outputs": [],
   "source": [
    "performance_vintupb = statistics_data.fillna('9999', 'VinYr')"
   ]
  },
  {
   "cell_type": "code",
   "execution_count": 117,
   "metadata": {},
   "outputs": [],
   "source": [
    "performance_vintupb = performance_vintupb.where(F.col('VinYr') != '9999')\\\n",
    "                  .fillna(0.0, ['ORIG_AMT',\n",
    "                                'CSCORE_B',\n",
    "                                'CSCORE_C',\n",
    "                                'OLTV',\n",
    "                                'OCLTV',\n",
    "                                'DTI',\n",
    "                                'ORIG_RT',\n",
    "                                'LAST_UPB']).withColumn('Prepaid', F.when(F.col('LAST_STAT').isin('P'), F.col('LAST_UPB')).otherwise(0))\\\n",
    "                                           .withColumn('Repurchased', F.when(F.col('LAST_STAT').isin('R'), F.col('LAST_UPB')).otherwise(0))\\\n",
    "                                           .withColumn('Modified', F.when(F.col('MOD_FLAG').isin('Y'), F.col('LAST_UPB')).otherwise(0))\\\n",
    "                                           .withColumn('Alternative_Disposition', F.when(F.col('LAST_STAT').isin('S', 'T', 'X'), F.col('LAST_UPB')).otherwise(0))\\\n",
    "                                           .withColumn('Default_UPB', F.when((F.col('LAST_STAT').isin('F', 'S', 'T', 'N')) &\n",
    "                                                                             (F.col('DISP_DT').isNotNull()), F.col('LAST_UPB')).otherwise(0))\\\n",
    "                                           .withColumn('Net_Loss_Rate', F.when((F.col('LAST_STAT').isin('F', 'S', 'T', 'N')) &\n",
    "                                                                             (F.col('DISP_DT').isNotNull()), F.col('NET_LOSS')/F.col('ORIG_AMT')).otherwise(0))\\\n",
    "                                           .withColumn('REO_Disposition', F.when(F.col('LAST_STAT').isin('F'), F.col('LAST_UPB')).otherwise(0))\\\n",
    "                                           .withColumn('ActiveUPB', F.when(F.col('LAST_STAT').isin('C','1','2','3','4','5','6','7','8','9'), F.col('LAST_UPB')).otherwise(F.lit(0)))\\\n",
    "                                          .groupBy('VinYr').agg(F.count('LOAN_ID').alias('Loan Count'), \n",
    "                                                                F.round(F.sum('ORIG_AMT'),2).alias('Total Orig. UPB'), \n",
    "                                                                F.round(F.sum('ActiveUPB'),2).alias('Active UPB'), \n",
    "                                                                F.round(F.sum('Prepaid'),2).alias('Prepaid UPB'), \n",
    "                                                                F.round(F.sum('Repurchased'),2).alias('Repurchased'), \n",
    "                                                                F.round(F.sum('Alternative_Disposition'),2).alias('Alternative Disposition'), \n",
    "                                                                F.round(F.sum('REO_Disposition'),2).alias('REO Disposition UPB'), \n",
    "                                                                F.round(F.sum('Modified'),2).alias('Modified'), \n",
    "                                                                F.round(F.sum('Default_UPB'),2).alias('Default UPB'), \n",
    "                                                                F.round(F.sum('Net_Loss_Rate'),2).alias('Net_Loss_Rate UPB')).orderBy('VinYr').fillna(0.0)"
   ]
  },
  {
   "cell_type": "code",
   "execution_count": 118,
   "metadata": {},
   "outputs": [
    {
     "data": {
      "text/html": [
       "<div>\n",
       "<style scoped>\n",
       "    .dataframe tbody tr th:only-of-type {\n",
       "        vertical-align: middle;\n",
       "    }\n",
       "\n",
       "    .dataframe tbody tr th {\n",
       "        vertical-align: top;\n",
       "    }\n",
       "\n",
       "    .dataframe thead th {\n",
       "        text-align: right;\n",
       "    }\n",
       "</style>\n",
       "<table border=\"1\" class=\"dataframe\">\n",
       "  <thead>\n",
       "    <tr style=\"text-align: right;\">\n",
       "      <th></th>\n",
       "      <th>VinYr</th>\n",
       "      <th>Loan Count</th>\n",
       "      <th>Total Orig. UPB</th>\n",
       "      <th>Active UPB</th>\n",
       "      <th>Prepaid UPB</th>\n",
       "      <th>Repurchased</th>\n",
       "      <th>Alternative Disposition</th>\n",
       "      <th>REO Disposition UPB</th>\n",
       "      <th>Modified</th>\n",
       "      <th>Default UPB</th>\n",
       "      <th>Net_Loss_Rate UPB</th>\n",
       "    </tr>\n",
       "  </thead>\n",
       "  <tbody>\n",
       "    <tr>\n",
       "      <th>0</th>\n",
       "      <td>2011</td>\n",
       "      <td>1</td>\n",
       "      <td>85000</td>\n",
       "      <td>4.628879e+04</td>\n",
       "      <td>0.000000e+00</td>\n",
       "      <td>0.000000e+00</td>\n",
       "      <td>0.00</td>\n",
       "      <td>0.0</td>\n",
       "      <td>0.0</td>\n",
       "      <td>0.00</td>\n",
       "      <td>0.00</td>\n",
       "    </tr>\n",
       "    <tr>\n",
       "      <th>1</th>\n",
       "      <td>2012</td>\n",
       "      <td>745</td>\n",
       "      <td>119213000</td>\n",
       "      <td>2.738829e+07</td>\n",
       "      <td>2.471847e+07</td>\n",
       "      <td>6.476192e+04</td>\n",
       "      <td>0.00</td>\n",
       "      <td>0.0</td>\n",
       "      <td>0.0</td>\n",
       "      <td>0.00</td>\n",
       "      <td>0.00</td>\n",
       "    </tr>\n",
       "    <tr>\n",
       "      <th>2</th>\n",
       "      <td>2013</td>\n",
       "      <td>122892</td>\n",
       "      <td>25768640000</td>\n",
       "      <td>8.478481e+09</td>\n",
       "      <td>1.376181e+10</td>\n",
       "      <td>4.881672e+07</td>\n",
       "      <td>6257935.40</td>\n",
       "      <td>0.0</td>\n",
       "      <td>0.0</td>\n",
       "      <td>7324294.02</td>\n",
       "      <td>7.29</td>\n",
       "    </tr>\n",
       "    <tr>\n",
       "      <th>3</th>\n",
       "      <td>2014</td>\n",
       "      <td>1444358</td>\n",
       "      <td>310246494000</td>\n",
       "      <td>1.160817e+11</td>\n",
       "      <td>1.565497e+11</td>\n",
       "      <td>4.952677e+08</td>\n",
       "      <td>74714365.64</td>\n",
       "      <td>0.0</td>\n",
       "      <td>0.0</td>\n",
       "      <td>81580852.94</td>\n",
       "      <td>79.27</td>\n",
       "    </tr>\n",
       "    <tr>\n",
       "      <th>4</th>\n",
       "      <td>2015</td>\n",
       "      <td>1859487</td>\n",
       "      <td>420932676000</td>\n",
       "      <td>2.286561e+11</td>\n",
       "      <td>1.442131e+11</td>\n",
       "      <td>3.958166e+08</td>\n",
       "      <td>70349563.45</td>\n",
       "      <td>0.0</td>\n",
       "      <td>0.0</td>\n",
       "      <td>73654174.47</td>\n",
       "      <td>79.52</td>\n",
       "    </tr>\n",
       "    <tr>\n",
       "      <th>5</th>\n",
       "      <td>2016</td>\n",
       "      <td>2297810</td>\n",
       "      <td>540506873000</td>\n",
       "      <td>3.807973e+11</td>\n",
       "      <td>1.072077e+11</td>\n",
       "      <td>2.674192e+08</td>\n",
       "      <td>50631609.99</td>\n",
       "      <td>0.0</td>\n",
       "      <td>0.0</td>\n",
       "      <td>53465354.98</td>\n",
       "      <td>72.23</td>\n",
       "    </tr>\n",
       "    <tr>\n",
       "      <th>6</th>\n",
       "      <td>2017</td>\n",
       "      <td>1904173</td>\n",
       "      <td>434127212000</td>\n",
       "      <td>3.375382e+11</td>\n",
       "      <td>6.834340e+10</td>\n",
       "      <td>2.617181e+08</td>\n",
       "      <td>19883855.84</td>\n",
       "      <td>0.0</td>\n",
       "      <td>0.0</td>\n",
       "      <td>23370902.46</td>\n",
       "      <td>52.25</td>\n",
       "    </tr>\n",
       "    <tr>\n",
       "      <th>7</th>\n",
       "      <td>2018</td>\n",
       "      <td>1568348</td>\n",
       "      <td>367731425000</td>\n",
       "      <td>2.901599e+11</td>\n",
       "      <td>6.428793e+10</td>\n",
       "      <td>2.354778e+08</td>\n",
       "      <td>4053512.15</td>\n",
       "      <td>0.0</td>\n",
       "      <td>0.0</td>\n",
       "      <td>5389707.89</td>\n",
       "      <td>20.93</td>\n",
       "    </tr>\n",
       "    <tr>\n",
       "      <th>8</th>\n",
       "      <td>2019</td>\n",
       "      <td>164704</td>\n",
       "      <td>39815572000</td>\n",
       "      <td>3.007989e+10</td>\n",
       "      <td>8.825213e+09</td>\n",
       "      <td>1.831349e+07</td>\n",
       "      <td>0.00</td>\n",
       "      <td>0.0</td>\n",
       "      <td>0.0</td>\n",
       "      <td>0.00</td>\n",
       "      <td>0.00</td>\n",
       "    </tr>\n",
       "  </tbody>\n",
       "</table>\n",
       "</div>"
      ],
      "text/plain": [
       "  VinYr  Loan Count  Total Orig. UPB    Active UPB   Prepaid UPB  \\\n",
       "0  2011           1            85000  4.628879e+04  0.000000e+00   \n",
       "1  2012         745        119213000  2.738829e+07  2.471847e+07   \n",
       "2  2013      122892      25768640000  8.478481e+09  1.376181e+10   \n",
       "3  2014     1444358     310246494000  1.160817e+11  1.565497e+11   \n",
       "4  2015     1859487     420932676000  2.286561e+11  1.442131e+11   \n",
       "5  2016     2297810     540506873000  3.807973e+11  1.072077e+11   \n",
       "6  2017     1904173     434127212000  3.375382e+11  6.834340e+10   \n",
       "7  2018     1568348     367731425000  2.901599e+11  6.428793e+10   \n",
       "8  2019      164704      39815572000  3.007989e+10  8.825213e+09   \n",
       "\n",
       "    Repurchased  Alternative Disposition  REO Disposition UPB  Modified  \\\n",
       "0  0.000000e+00                     0.00                  0.0       0.0   \n",
       "1  6.476192e+04                     0.00                  0.0       0.0   \n",
       "2  4.881672e+07               6257935.40                  0.0       0.0   \n",
       "3  4.952677e+08              74714365.64                  0.0       0.0   \n",
       "4  3.958166e+08              70349563.45                  0.0       0.0   \n",
       "5  2.674192e+08              50631609.99                  0.0       0.0   \n",
       "6  2.617181e+08              19883855.84                  0.0       0.0   \n",
       "7  2.354778e+08               4053512.15                  0.0       0.0   \n",
       "8  1.831349e+07                     0.00                  0.0       0.0   \n",
       "\n",
       "   Default UPB  Net_Loss_Rate UPB  \n",
       "0         0.00               0.00  \n",
       "1         0.00               0.00  \n",
       "2   7324294.02               7.29  \n",
       "3  81580852.94              79.27  \n",
       "4  73654174.47              79.52  \n",
       "5  53465354.98              72.23  \n",
       "6  23370902.46              52.25  \n",
       "7   5389707.89              20.93  \n",
       "8         0.00               0.00  "
      ]
     },
     "execution_count": 118,
     "metadata": {},
     "output_type": "execute_result"
    }
   ],
   "source": [
    "performance_vintupb.toPandas()"
   ]
  },
  {
   "cell_type": "markdown",
   "metadata": {},
   "source": [
    "***Performance UPB totals***"
   ]
  },
  {
   "cell_type": "code",
   "execution_count": 119,
   "metadata": {},
   "outputs": [],
   "source": [
    "performance_totalupb = statistics_data.fillna('9999', 'VinYr')"
   ]
  },
  {
   "cell_type": "code",
   "execution_count": 120,
   "metadata": {},
   "outputs": [],
   "source": [
    "performance_totalupb = performance_totalupb.where(F.col('VinYr') != '9999')\\\n",
    "                  .fillna(0.0, ['ORIG_AMT',\n",
    "                                'CSCORE_B',\n",
    "                                'CSCORE_C',\n",
    "                                'OLTV',\n",
    "                                'OCLTV',\n",
    "                                'DTI',\n",
    "                                'ORIG_RT',\n",
    "                                'LAST_UPB']).withColumn('Prepaid', F.when(F.col('LAST_STAT').isin('P'), F.col('LAST_UPB')).otherwise(0))\\\n",
    "                                           .withColumn('Repurchased', F.when(F.col('LAST_STAT').isin('R'), F.col('LAST_UPB')).otherwise(0))\\\n",
    "                                           .withColumn('Modified', F.when(F.col('MOD_FLAG').isin('Y'), F.col('LAST_UPB')).otherwise(0))\\\n",
    "                                           .withColumn('Alternative_Disposition', F.when(F.col('LAST_STAT').isin('S', 'T', 'X'), F.col('LAST_UPB')).otherwise(0))\\\n",
    "                                           .withColumn('Default_UPB', F.when((F.col('LAST_STAT').isin('F', 'S', 'T', 'N')) &\n",
    "                                                                             (F.col('DISP_DT').isNotNull()), F.col('LAST_UPB')).otherwise(0))\\\n",
    "                                           .withColumn('Net_Loss_Rate', F.when((F.col('LAST_STAT').isin('F', 'S', 'T', 'N')) &\n",
    "                                                                             (F.col('DISP_DT').isNotNull()), F.col('NET_LOSS')/F.col('ORIG_AMT')).otherwise(0))\\\n",
    "                                           .withColumn('REO_Disposition', F.when(F.col('LAST_STAT').isin('F'), F.col('LAST_UPB')).otherwise(0))\\\n",
    "                                           .withColumn('ActiveUPB', F.when(F.col('LAST_STAT').isin('C','1','2','3','4','5','6','7','8','9'), F.col('LAST_UPB')).otherwise(F.lit(0)))\\\n",
    "                                           .withColumn('Total', F.lit('Total'))\\\n",
    "                                           .groupBy('Total').agg(F.count('LOAN_ID').alias('Loan Count'), \n",
    "                                                                F.round(F.sum('ORIG_AMT'),2).alias('Total Orig. UPB'), \n",
    "                                                                F.round(F.sum('ActiveUPB'),2).alias('Active UPB'), \n",
    "                                                                F.round(F.sum('Prepaid'),2).alias('Prepaid UPB'), \n",
    "                                                                F.round(F.sum('Repurchased'),2).alias('Repurchased'), \n",
    "                                                                F.round(F.sum('Alternative_Disposition'),2).alias('Alternative Disposition'), \n",
    "                                                                F.round(F.sum('REO_Disposition'),2).alias('REO Disposition UPB'), \n",
    "                                                                F.round(F.sum('Modified'),2).alias('Modified'), \n",
    "                                                                F.round(F.sum('Default_UPB'),2).alias('Default UPB'), \n",
    "                                                                F.round(F.sum('Net_Loss_Rate'),2).alias('Net_Loss_Rate UPB')).fillna(0.0)"
   ]
  },
  {
   "cell_type": "code",
   "execution_count": 121,
   "metadata": {},
   "outputs": [
    {
     "data": {
      "text/html": [
       "<div>\n",
       "<style scoped>\n",
       "    .dataframe tbody tr th:only-of-type {\n",
       "        vertical-align: middle;\n",
       "    }\n",
       "\n",
       "    .dataframe tbody tr th {\n",
       "        vertical-align: top;\n",
       "    }\n",
       "\n",
       "    .dataframe thead th {\n",
       "        text-align: right;\n",
       "    }\n",
       "</style>\n",
       "<table border=\"1\" class=\"dataframe\">\n",
       "  <thead>\n",
       "    <tr style=\"text-align: right;\">\n",
       "      <th></th>\n",
       "      <th>Total</th>\n",
       "      <th>Loan Count</th>\n",
       "      <th>Total Orig. UPB</th>\n",
       "      <th>Active UPB</th>\n",
       "      <th>Prepaid UPB</th>\n",
       "      <th>Repurchased</th>\n",
       "      <th>Alternative Disposition</th>\n",
       "      <th>REO Disposition UPB</th>\n",
       "      <th>Modified</th>\n",
       "      <th>Default UPB</th>\n",
       "      <th>Net_Loss_Rate UPB</th>\n",
       "    </tr>\n",
       "  </thead>\n",
       "  <tbody>\n",
       "    <tr>\n",
       "      <th>0</th>\n",
       "      <td>Total</td>\n",
       "      <td>9362518</td>\n",
       "      <td>2139248190000</td>\n",
       "      <td>1.391819e+12</td>\n",
       "      <td>5.632135e+11</td>\n",
       "      <td>1.722894e+09</td>\n",
       "      <td>2.258908e+08</td>\n",
       "      <td>0.0</td>\n",
       "      <td>0.0</td>\n",
       "      <td>2.447853e+08</td>\n",
       "      <td>311.5</td>\n",
       "    </tr>\n",
       "  </tbody>\n",
       "</table>\n",
       "</div>"
      ],
      "text/plain": [
       "   Total  Loan Count  Total Orig. UPB    Active UPB   Prepaid UPB  \\\n",
       "0  Total     9362518    2139248190000  1.391819e+12  5.632135e+11   \n",
       "\n",
       "    Repurchased  Alternative Disposition  REO Disposition UPB  Modified  \\\n",
       "0  1.722894e+09             2.258908e+08                  0.0       0.0   \n",
       "\n",
       "    Default UPB  Net_Loss_Rate UPB  \n",
       "0  2.447853e+08              311.5  "
      ]
     },
     "execution_count": 121,
     "metadata": {},
     "output_type": "execute_result"
    }
   ],
   "source": [
    "performance_totalupb.toPandas()"
   ]
  },
  {
   "cell_type": "markdown",
   "metadata": {},
   "source": [
    "***Performance UPB statistics Totals***"
   ]
  },
  {
   "cell_type": "code",
   "execution_count": 122,
   "metadata": {},
   "outputs": [],
   "source": [
    "total_perf_upb = performance_vintupb.union(performance_totalupb)"
   ]
  },
  {
   "cell_type": "code",
   "execution_count": 123,
   "metadata": {},
   "outputs": [
    {
     "data": {
      "text/html": [
       "<div>\n",
       "<style scoped>\n",
       "    .dataframe tbody tr th:only-of-type {\n",
       "        vertical-align: middle;\n",
       "    }\n",
       "\n",
       "    .dataframe tbody tr th {\n",
       "        vertical-align: top;\n",
       "    }\n",
       "\n",
       "    .dataframe thead th {\n",
       "        text-align: right;\n",
       "    }\n",
       "</style>\n",
       "<table border=\"1\" class=\"dataframe\">\n",
       "  <thead>\n",
       "    <tr style=\"text-align: right;\">\n",
       "      <th></th>\n",
       "      <th>VinYr</th>\n",
       "      <th>Loan Count</th>\n",
       "      <th>Total Orig. UPB</th>\n",
       "      <th>Active UPB</th>\n",
       "      <th>Prepaid UPB</th>\n",
       "      <th>Repurchased</th>\n",
       "      <th>Alternative Disposition</th>\n",
       "      <th>REO Disposition UPB</th>\n",
       "      <th>Modified</th>\n",
       "      <th>Default UPB</th>\n",
       "      <th>Net_Loss_Rate UPB</th>\n",
       "    </tr>\n",
       "  </thead>\n",
       "  <tbody>\n",
       "    <tr>\n",
       "      <th>0</th>\n",
       "      <td>2011</td>\n",
       "      <td>1</td>\n",
       "      <td>85000</td>\n",
       "      <td>4.628879e+04</td>\n",
       "      <td>0.000000e+00</td>\n",
       "      <td>0.000000e+00</td>\n",
       "      <td>0.000000e+00</td>\n",
       "      <td>0.0</td>\n",
       "      <td>0.0</td>\n",
       "      <td>0.000000e+00</td>\n",
       "      <td>0.00</td>\n",
       "    </tr>\n",
       "    <tr>\n",
       "      <th>1</th>\n",
       "      <td>2012</td>\n",
       "      <td>745</td>\n",
       "      <td>119213000</td>\n",
       "      <td>2.738829e+07</td>\n",
       "      <td>2.471847e+07</td>\n",
       "      <td>6.476192e+04</td>\n",
       "      <td>0.000000e+00</td>\n",
       "      <td>0.0</td>\n",
       "      <td>0.0</td>\n",
       "      <td>0.000000e+00</td>\n",
       "      <td>0.00</td>\n",
       "    </tr>\n",
       "    <tr>\n",
       "      <th>2</th>\n",
       "      <td>2013</td>\n",
       "      <td>122892</td>\n",
       "      <td>25768640000</td>\n",
       "      <td>8.478481e+09</td>\n",
       "      <td>1.376181e+10</td>\n",
       "      <td>4.881672e+07</td>\n",
       "      <td>6.257935e+06</td>\n",
       "      <td>0.0</td>\n",
       "      <td>0.0</td>\n",
       "      <td>7.324294e+06</td>\n",
       "      <td>7.29</td>\n",
       "    </tr>\n",
       "    <tr>\n",
       "      <th>3</th>\n",
       "      <td>2014</td>\n",
       "      <td>1444358</td>\n",
       "      <td>310246494000</td>\n",
       "      <td>1.160817e+11</td>\n",
       "      <td>1.565497e+11</td>\n",
       "      <td>4.952677e+08</td>\n",
       "      <td>7.471437e+07</td>\n",
       "      <td>0.0</td>\n",
       "      <td>0.0</td>\n",
       "      <td>8.158085e+07</td>\n",
       "      <td>79.27</td>\n",
       "    </tr>\n",
       "    <tr>\n",
       "      <th>4</th>\n",
       "      <td>2015</td>\n",
       "      <td>1859487</td>\n",
       "      <td>420932676000</td>\n",
       "      <td>2.286561e+11</td>\n",
       "      <td>1.442131e+11</td>\n",
       "      <td>3.958166e+08</td>\n",
       "      <td>7.034956e+07</td>\n",
       "      <td>0.0</td>\n",
       "      <td>0.0</td>\n",
       "      <td>7.365417e+07</td>\n",
       "      <td>79.52</td>\n",
       "    </tr>\n",
       "    <tr>\n",
       "      <th>5</th>\n",
       "      <td>2016</td>\n",
       "      <td>2297810</td>\n",
       "      <td>540506873000</td>\n",
       "      <td>3.807973e+11</td>\n",
       "      <td>1.072077e+11</td>\n",
       "      <td>2.674192e+08</td>\n",
       "      <td>5.063161e+07</td>\n",
       "      <td>0.0</td>\n",
       "      <td>0.0</td>\n",
       "      <td>5.346535e+07</td>\n",
       "      <td>72.23</td>\n",
       "    </tr>\n",
       "    <tr>\n",
       "      <th>6</th>\n",
       "      <td>2017</td>\n",
       "      <td>1904173</td>\n",
       "      <td>434127212000</td>\n",
       "      <td>3.375382e+11</td>\n",
       "      <td>6.834340e+10</td>\n",
       "      <td>2.617181e+08</td>\n",
       "      <td>1.988386e+07</td>\n",
       "      <td>0.0</td>\n",
       "      <td>0.0</td>\n",
       "      <td>2.337090e+07</td>\n",
       "      <td>52.25</td>\n",
       "    </tr>\n",
       "    <tr>\n",
       "      <th>7</th>\n",
       "      <td>2018</td>\n",
       "      <td>1568348</td>\n",
       "      <td>367731425000</td>\n",
       "      <td>2.901599e+11</td>\n",
       "      <td>6.428793e+10</td>\n",
       "      <td>2.354778e+08</td>\n",
       "      <td>4.053512e+06</td>\n",
       "      <td>0.0</td>\n",
       "      <td>0.0</td>\n",
       "      <td>5.389708e+06</td>\n",
       "      <td>20.93</td>\n",
       "    </tr>\n",
       "    <tr>\n",
       "      <th>8</th>\n",
       "      <td>2019</td>\n",
       "      <td>164704</td>\n",
       "      <td>39815572000</td>\n",
       "      <td>3.007989e+10</td>\n",
       "      <td>8.825213e+09</td>\n",
       "      <td>1.831349e+07</td>\n",
       "      <td>0.000000e+00</td>\n",
       "      <td>0.0</td>\n",
       "      <td>0.0</td>\n",
       "      <td>0.000000e+00</td>\n",
       "      <td>0.00</td>\n",
       "    </tr>\n",
       "    <tr>\n",
       "      <th>9</th>\n",
       "      <td>Total</td>\n",
       "      <td>9362518</td>\n",
       "      <td>2139248190000</td>\n",
       "      <td>1.391819e+12</td>\n",
       "      <td>5.632135e+11</td>\n",
       "      <td>1.722894e+09</td>\n",
       "      <td>2.258908e+08</td>\n",
       "      <td>0.0</td>\n",
       "      <td>0.0</td>\n",
       "      <td>2.447853e+08</td>\n",
       "      <td>311.50</td>\n",
       "    </tr>\n",
       "  </tbody>\n",
       "</table>\n",
       "</div>"
      ],
      "text/plain": [
       "   VinYr  Loan Count  Total Orig. UPB    Active UPB   Prepaid UPB  \\\n",
       "0   2011           1            85000  4.628879e+04  0.000000e+00   \n",
       "1   2012         745        119213000  2.738829e+07  2.471847e+07   \n",
       "2   2013      122892      25768640000  8.478481e+09  1.376181e+10   \n",
       "3   2014     1444358     310246494000  1.160817e+11  1.565497e+11   \n",
       "4   2015     1859487     420932676000  2.286561e+11  1.442131e+11   \n",
       "5   2016     2297810     540506873000  3.807973e+11  1.072077e+11   \n",
       "6   2017     1904173     434127212000  3.375382e+11  6.834340e+10   \n",
       "7   2018     1568348     367731425000  2.901599e+11  6.428793e+10   \n",
       "8   2019      164704      39815572000  3.007989e+10  8.825213e+09   \n",
       "9  Total     9362518    2139248190000  1.391819e+12  5.632135e+11   \n",
       "\n",
       "    Repurchased  Alternative Disposition  REO Disposition UPB  Modified  \\\n",
       "0  0.000000e+00             0.000000e+00                  0.0       0.0   \n",
       "1  6.476192e+04             0.000000e+00                  0.0       0.0   \n",
       "2  4.881672e+07             6.257935e+06                  0.0       0.0   \n",
       "3  4.952677e+08             7.471437e+07                  0.0       0.0   \n",
       "4  3.958166e+08             7.034956e+07                  0.0       0.0   \n",
       "5  2.674192e+08             5.063161e+07                  0.0       0.0   \n",
       "6  2.617181e+08             1.988386e+07                  0.0       0.0   \n",
       "7  2.354778e+08             4.053512e+06                  0.0       0.0   \n",
       "8  1.831349e+07             0.000000e+00                  0.0       0.0   \n",
       "9  1.722894e+09             2.258908e+08                  0.0       0.0   \n",
       "\n",
       "    Default UPB  Net_Loss_Rate UPB  \n",
       "0  0.000000e+00               0.00  \n",
       "1  0.000000e+00               0.00  \n",
       "2  7.324294e+06               7.29  \n",
       "3  8.158085e+07              79.27  \n",
       "4  7.365417e+07              79.52  \n",
       "5  5.346535e+07              72.23  \n",
       "6  2.337090e+07              52.25  \n",
       "7  5.389708e+06              20.93  \n",
       "8  0.000000e+00               0.00  \n",
       "9  2.447853e+08             311.50  "
      ]
     },
     "execution_count": 123,
     "metadata": {},
     "output_type": "execute_result"
    }
   ],
   "source": [
    "total_perf_upb.toPandas()"
   ]
  },
  {
   "cell_type": "markdown",
   "metadata": {},
   "source": [
    "***Historical Net Loss Statistics by Vintage***"
   ]
  },
  {
   "cell_type": "code",
   "execution_count": 124,
   "metadata": {},
   "outputs": [],
   "source": [
    "historical_vintnetloss = statistics_data.fillna('9999', 'VinYr')"
   ]
  },
  {
   "cell_type": "code",
   "execution_count": 125,
   "metadata": {},
   "outputs": [],
   "source": [
    "historical_vintnetloss = historical_vintnetloss.where(F.col('VinYr') != '9999')\\\n",
    "                  .fillna(0.0, ['ORIG_AMT',\n",
    "                                'ORIG_RT',\n",
    "                                'LAST_UPB',\n",
    "                                'INT_COS',\n",
    "                                'Tot_Liq_Ex',\n",
    "                                'FCC_COST',\n",
    "                                'PP_COST',\n",
    "                                'AR_COST',\n",
    "                                'IE_COST',\n",
    "                                'TAX_COST',\n",
    "                                'Total_Cost',\n",
    "                                'NS_PROCS',\n",
    "                                'CE_PROCS',\n",
    "                                'RMW_PROCS',\n",
    "                                'O_PROCS',\n",
    "                                'Tot_Procs',\n",
    "                                'NET_LOSS']).withColumn('Default_UPB', F.when((F.col('LAST_STAT').isin('F', 'S', 'T', 'N')) &\n",
    "                                                                             (F.col('DISP_DT').isNotNull()), F.col('LAST_UPB')).otherwise(0))\\\n",
    "                                           .withColumn('Interest', F.when((F.col('LAST_STAT').isin('F', 'S', 'T', 'N')) &\n",
    "                                                                             (F.col('DISP_DT').isNotNull()), F.col('INT_COST')).otherwise(0))\\\n",
    "                                           .withColumn('UPB_Liquidations', F.when((F.col('LAST_STAT').isin('F', 'S', 'T', 'N')) &\n",
    "                                                                             (F.col('DISP_DT').isNotNull()), F.col('LAST_UPB')).otherwise(0))\\\n",
    "                                           .withColumn('Tot_Liq', F.when((F.col('LAST_STAT').isin('F', 'S', 'T', 'N')) &\n",
    "                                                                             (F.col('DISP_DT').isNotNull()), F.col('Tot_Liq_Ex')).otherwise(0))\\\n",
    "                                           .withColumn('FCC', F.when((F.col('LAST_STAT').isin('F', 'S', 'T', 'N')) &\n",
    "                                                                             (F.col('DISP_DT').isNotNull()), F.col('FCC_COST')).otherwise(0))\\\n",
    "                                           .withColumn('PP', F.when((F.col('LAST_STAT').isin('F', 'S', 'T', 'N')) &\n",
    "                                                                             (F.col('DISP_DT').isNotNull()), F.col('PP_COST')).otherwise(0))\\\n",
    "                                           .withColumn('AR', F.when((F.col('LAST_STAT').isin('F', 'S', 'T', 'N')) &\n",
    "                                                                             (F.col('DISP_DT').isNotNull()), F.col('AR_COST')).otherwise(0))\\\n",
    "                                           .withColumn('IE', F.when((F.col('LAST_STAT').isin('F', 'S', 'T', 'N')) &\n",
    "                                                                             (F.col('DISP_DT').isNotNull()), F.col('IE_COST')).otherwise(0))\\\n",
    "                                           .withColumn('TAX', F.when((F.col('LAST_STAT').isin('F', 'S', 'T', 'N')) &\n",
    "                                                                             (F.col('DISP_DT').isNotNull()), F.col('TAX_COST')).otherwise(0))\\\n",
    "                                           .withColumn('TotalCost', F.when((F.col('LAST_STAT').isin('F', 'S', 'T', 'N')) &\n",
    "                                                                             (F.col('DISP_DT').isNotNull()), F.col('Total_Cost')).otherwise(0))\\\n",
    "                                           .withColumn('NS', F.when((F.col('LAST_STAT').isin('F', 'S', 'T', 'N')) &\n",
    "                                                                             (F.col('DISP_DT').isNotNull()), F.col('NS_PROCS')).otherwise(0))\\\n",
    "                                           .withColumn('CE', F.when((F.col('LAST_STAT').isin('F', 'S', 'T', 'N')) &\n",
    "                                                                             (F.col('DISP_DT').isNotNull()), F.col('CE_PROCS')).otherwise(0))\\\n",
    "                                           .withColumn('RMW', F.when((F.col('LAST_STAT').isin('F', 'S', 'T', 'N')) &\n",
    "                                                                             (F.col('DISP_DT').isNotNull()), F.col('RMW_PROCS')).otherwise(0))\\\n",
    "                                           .withColumn('O', F.when((F.col('LAST_STAT').isin('F', 'S', 'T', 'N')) &\n",
    "                                                                             (F.col('DISP_DT').isNotNull()), F.col('O_PROCS')).otherwise(0))\\\n",
    "                                           .withColumn('TotalProcs', F.when((F.col('LAST_STAT').isin('F', 'S', 'T', 'N')) &\n",
    "                                                                             (F.col('DISP_DT').isNotNull()), F.col('Tot_Procs')).otherwise(0))\\\n",
    "                                           .withColumn('NetL', F.when((F.col('LAST_STAT').isin('F', 'S', 'T', 'N')) &\n",
    "                                                                             (F.col('DISP_DT').isNotNull()), F.col('NET_LOSS')).otherwise(0))\\\n",
    "                                           .withColumn('Count', F.when((F.col('LAST_STAT').isin('F', 'S', 'T', 'N')), F.lit(1)).otherwise(0))\\\n",
    "                                          .groupBy('VinYr').agg(F.sum('Count').alias('Loan Count'), \n",
    "                                                                F.round(F.sum('UPB_Liquidations'),2).alias('UPB for Liquidations'), \n",
    "                                                                F.round((F.sum('Default_UPB')*100/F.sum('ORIG_AMT')),2).alias('Default UPB % of Orig. UPB'), \n",
    "                                                                F.round((F.sum('Interest')*100/F.sum('Default_UPB')),2).alias('Interest on Delinquent Loans'), \n",
    "                                                                F.round((F.sum('Tot_Liq')*100/F.sum('Default_UPB')),2).alias('Total Liquidition Exp.'), \n",
    "                                                                F.round((F.sum('FCC')*100/F.sum('Default_UPB')),2).alias('Foreclosure Costs'), \n",
    "                                                                F.round((F.sum('PP')*100/F.sum('Default_UPB')),2).alias('Prop.Pres. Costs'), \n",
    "                                                                F.round((F.sum('AR')*100/F.sum('Default_UPB')),2).alias('Asset Recovery Costs'), \n",
    "                                                                F.round((F.sum('IE')*100/F.sum('Default_UPB')),2).alias('Miscellaneaous Holding Expenses and Credits'), \n",
    "                                                                F.round((F.sum('TAX')*100/F.sum('Default_UPB')),2).alias('Associated Taxes'), \n",
    "                                                                F.round((F.sum('TotalCost')*100/F.sum('Default_UPB')),2).alias('Total Costs'), \n",
    "                                                                F.round((F.sum('NS')*100/F.sum('Default_UPB')),2).alias('Sales Proceeds'), \n",
    "                                                                F.round((F.sum('CE')*100/F.sum('Default_UPB')),2).alias('Credit Enhancement Proceeds'), \n",
    "                                                                F.round((F.sum('RMW')*100/F.sum('Default_UPB')),2).alias('Repurchase/Make Whole Proceeds'), \n",
    "                                                                F.round((F.sum('O')*100/F.sum('Default_UPB')),2).alias('Other Proceeds'), \n",
    "                                                                F.round((F.sum('TotalProcs')*100/F.sum('Default_UPB')),2).alias('Total Proceeds'), \n",
    "                                                                F.round((F.sum('NetL')*100/F.sum('Default_UPB')),2).alias('Severity'), \n",
    "                                                                F.round((F.sum('NetL')),2).alias('Total Net Loss')).orderBy('VinYr').fillna(0.0)"
   ]
  },
  {
   "cell_type": "code",
   "execution_count": 126,
   "metadata": {},
   "outputs": [
    {
     "data": {
      "text/html": [
       "<div>\n",
       "<style scoped>\n",
       "    .dataframe tbody tr th:only-of-type {\n",
       "        vertical-align: middle;\n",
       "    }\n",
       "\n",
       "    .dataframe tbody tr th {\n",
       "        vertical-align: top;\n",
       "    }\n",
       "\n",
       "    .dataframe thead th {\n",
       "        text-align: right;\n",
       "    }\n",
       "</style>\n",
       "<table border=\"1\" class=\"dataframe\">\n",
       "  <thead>\n",
       "    <tr style=\"text-align: right;\">\n",
       "      <th></th>\n",
       "      <th>VinYr</th>\n",
       "      <th>Loan Count</th>\n",
       "      <th>UPB for Liquidations</th>\n",
       "      <th>Default UPB % of Orig. UPB</th>\n",
       "      <th>Interest on Delinquent Loans</th>\n",
       "      <th>Total Liquidition Exp.</th>\n",
       "      <th>Foreclosure Costs</th>\n",
       "      <th>Prop.Pres. Costs</th>\n",
       "      <th>Asset Recovery Costs</th>\n",
       "      <th>Miscellaneaous Holding Expenses and Credits</th>\n",
       "      <th>Associated Taxes</th>\n",
       "      <th>Total Costs</th>\n",
       "      <th>Sales Proceeds</th>\n",
       "      <th>Credit Enhancement Proceeds</th>\n",
       "      <th>Repurchase/Make Whole Proceeds</th>\n",
       "      <th>Other Proceeds</th>\n",
       "      <th>Total Proceeds</th>\n",
       "      <th>Severity</th>\n",
       "      <th>Total Net Loss</th>\n",
       "    </tr>\n",
       "  </thead>\n",
       "  <tbody>\n",
       "    <tr>\n",
       "      <th>0</th>\n",
       "      <td>2011</td>\n",
       "      <td>0</td>\n",
       "      <td>0.00</td>\n",
       "      <td>0.00</td>\n",
       "      <td>0.0</td>\n",
       "      <td>0.00</td>\n",
       "      <td>0.00</td>\n",
       "      <td>0.00</td>\n",
       "      <td>0.00</td>\n",
       "      <td>0.00</td>\n",
       "      <td>0.00</td>\n",
       "      <td>0.00</td>\n",
       "      <td>0.00</td>\n",
       "      <td>0.00</td>\n",
       "      <td>0.00</td>\n",
       "      <td>0.00</td>\n",
       "      <td>0.00</td>\n",
       "      <td>0.00</td>\n",
       "      <td>0.00</td>\n",
       "    </tr>\n",
       "    <tr>\n",
       "      <th>1</th>\n",
       "      <td>2012</td>\n",
       "      <td>0</td>\n",
       "      <td>0.00</td>\n",
       "      <td>0.00</td>\n",
       "      <td>0.0</td>\n",
       "      <td>0.00</td>\n",
       "      <td>0.00</td>\n",
       "      <td>0.00</td>\n",
       "      <td>0.00</td>\n",
       "      <td>0.00</td>\n",
       "      <td>0.00</td>\n",
       "      <td>0.00</td>\n",
       "      <td>0.00</td>\n",
       "      <td>0.00</td>\n",
       "      <td>0.00</td>\n",
       "      <td>0.00</td>\n",
       "      <td>0.00</td>\n",
       "      <td>0.00</td>\n",
       "      <td>0.00</td>\n",
       "    </tr>\n",
       "    <tr>\n",
       "      <th>2</th>\n",
       "      <td>2013</td>\n",
       "      <td>52</td>\n",
       "      <td>7324294.02</td>\n",
       "      <td>0.03</td>\n",
       "      <td>0.0</td>\n",
       "      <td>7.68</td>\n",
       "      <td>4.04</td>\n",
       "      <td>0.44</td>\n",
       "      <td>0.00</td>\n",
       "      <td>0.73</td>\n",
       "      <td>2.47</td>\n",
       "      <td>107.68</td>\n",
       "      <td>79.43</td>\n",
       "      <td>7.75</td>\n",
       "      <td>0.00</td>\n",
       "      <td>1.92</td>\n",
       "      <td>89.10</td>\n",
       "      <td>18.58</td>\n",
       "      <td>1361014.90</td>\n",
       "    </tr>\n",
       "    <tr>\n",
       "      <th>3</th>\n",
       "      <td>2014</td>\n",
       "      <td>578</td>\n",
       "      <td>81580852.94</td>\n",
       "      <td>0.03</td>\n",
       "      <td>0.0</td>\n",
       "      <td>6.76</td>\n",
       "      <td>3.87</td>\n",
       "      <td>0.35</td>\n",
       "      <td>0.00</td>\n",
       "      <td>0.55</td>\n",
       "      <td>2.00</td>\n",
       "      <td>106.76</td>\n",
       "      <td>88.35</td>\n",
       "      <td>7.03</td>\n",
       "      <td>0.00</td>\n",
       "      <td>0.65</td>\n",
       "      <td>96.03</td>\n",
       "      <td>10.74</td>\n",
       "      <td>8758928.80</td>\n",
       "    </tr>\n",
       "    <tr>\n",
       "      <th>4</th>\n",
       "      <td>2015</td>\n",
       "      <td>503</td>\n",
       "      <td>73654174.47</td>\n",
       "      <td>0.02</td>\n",
       "      <td>0.0</td>\n",
       "      <td>6.17</td>\n",
       "      <td>3.74</td>\n",
       "      <td>0.32</td>\n",
       "      <td>0.01</td>\n",
       "      <td>0.44</td>\n",
       "      <td>1.66</td>\n",
       "      <td>106.17</td>\n",
       "      <td>86.25</td>\n",
       "      <td>5.68</td>\n",
       "      <td>0.28</td>\n",
       "      <td>0.31</td>\n",
       "      <td>92.52</td>\n",
       "      <td>13.65</td>\n",
       "      <td>10055647.74</td>\n",
       "    </tr>\n",
       "    <tr>\n",
       "      <th>5</th>\n",
       "      <td>2016</td>\n",
       "      <td>373</td>\n",
       "      <td>53465354.98</td>\n",
       "      <td>0.01</td>\n",
       "      <td>0.0</td>\n",
       "      <td>5.04</td>\n",
       "      <td>3.30</td>\n",
       "      <td>0.25</td>\n",
       "      <td>0.00</td>\n",
       "      <td>0.43</td>\n",
       "      <td>1.06</td>\n",
       "      <td>105.04</td>\n",
       "      <td>81.09</td>\n",
       "      <td>5.63</td>\n",
       "      <td>0.00</td>\n",
       "      <td>0.33</td>\n",
       "      <td>87.05</td>\n",
       "      <td>17.99</td>\n",
       "      <td>9617968.43</td>\n",
       "    </tr>\n",
       "    <tr>\n",
       "      <th>6</th>\n",
       "      <td>2017</td>\n",
       "      <td>161</td>\n",
       "      <td>23370902.46</td>\n",
       "      <td>0.01</td>\n",
       "      <td>0.0</td>\n",
       "      <td>3.61</td>\n",
       "      <td>2.53</td>\n",
       "      <td>0.25</td>\n",
       "      <td>0.00</td>\n",
       "      <td>0.26</td>\n",
       "      <td>0.57</td>\n",
       "      <td>103.61</td>\n",
       "      <td>61.77</td>\n",
       "      <td>5.02</td>\n",
       "      <td>0.00</td>\n",
       "      <td>0.05</td>\n",
       "      <td>66.84</td>\n",
       "      <td>36.77</td>\n",
       "      <td>8593086.27</td>\n",
       "    </tr>\n",
       "    <tr>\n",
       "      <th>7</th>\n",
       "      <td>2018</td>\n",
       "      <td>35</td>\n",
       "      <td>5389707.89</td>\n",
       "      <td>0.00</td>\n",
       "      <td>0.0</td>\n",
       "      <td>1.67</td>\n",
       "      <td>1.46</td>\n",
       "      <td>0.06</td>\n",
       "      <td>0.00</td>\n",
       "      <td>0.00</td>\n",
       "      <td>0.15</td>\n",
       "      <td>101.67</td>\n",
       "      <td>44.82</td>\n",
       "      <td>3.21</td>\n",
       "      <td>0.00</td>\n",
       "      <td>0.05</td>\n",
       "      <td>48.07</td>\n",
       "      <td>53.60</td>\n",
       "      <td>2888695.48</td>\n",
       "    </tr>\n",
       "    <tr>\n",
       "      <th>8</th>\n",
       "      <td>2019</td>\n",
       "      <td>0</td>\n",
       "      <td>0.00</td>\n",
       "      <td>0.00</td>\n",
       "      <td>0.0</td>\n",
       "      <td>0.00</td>\n",
       "      <td>0.00</td>\n",
       "      <td>0.00</td>\n",
       "      <td>0.00</td>\n",
       "      <td>0.00</td>\n",
       "      <td>0.00</td>\n",
       "      <td>0.00</td>\n",
       "      <td>0.00</td>\n",
       "      <td>0.00</td>\n",
       "      <td>0.00</td>\n",
       "      <td>0.00</td>\n",
       "      <td>0.00</td>\n",
       "      <td>0.00</td>\n",
       "      <td>0.00</td>\n",
       "    </tr>\n",
       "  </tbody>\n",
       "</table>\n",
       "</div>"
      ],
      "text/plain": [
       "  VinYr  Loan Count  UPB for Liquidations  Default UPB % of Orig. UPB  \\\n",
       "0  2011           0                  0.00                        0.00   \n",
       "1  2012           0                  0.00                        0.00   \n",
       "2  2013          52            7324294.02                        0.03   \n",
       "3  2014         578           81580852.94                        0.03   \n",
       "4  2015         503           73654174.47                        0.02   \n",
       "5  2016         373           53465354.98                        0.01   \n",
       "6  2017         161           23370902.46                        0.01   \n",
       "7  2018          35            5389707.89                        0.00   \n",
       "8  2019           0                  0.00                        0.00   \n",
       "\n",
       "   Interest on Delinquent Loans  Total Liquidition Exp.  Foreclosure Costs  \\\n",
       "0                           0.0                    0.00               0.00   \n",
       "1                           0.0                    0.00               0.00   \n",
       "2                           0.0                    7.68               4.04   \n",
       "3                           0.0                    6.76               3.87   \n",
       "4                           0.0                    6.17               3.74   \n",
       "5                           0.0                    5.04               3.30   \n",
       "6                           0.0                    3.61               2.53   \n",
       "7                           0.0                    1.67               1.46   \n",
       "8                           0.0                    0.00               0.00   \n",
       "\n",
       "   Prop.Pres. Costs  Asset Recovery Costs  \\\n",
       "0              0.00                  0.00   \n",
       "1              0.00                  0.00   \n",
       "2              0.44                  0.00   \n",
       "3              0.35                  0.00   \n",
       "4              0.32                  0.01   \n",
       "5              0.25                  0.00   \n",
       "6              0.25                  0.00   \n",
       "7              0.06                  0.00   \n",
       "8              0.00                  0.00   \n",
       "\n",
       "   Miscellaneaous Holding Expenses and Credits  Associated Taxes  Total Costs  \\\n",
       "0                                         0.00              0.00         0.00   \n",
       "1                                         0.00              0.00         0.00   \n",
       "2                                         0.73              2.47       107.68   \n",
       "3                                         0.55              2.00       106.76   \n",
       "4                                         0.44              1.66       106.17   \n",
       "5                                         0.43              1.06       105.04   \n",
       "6                                         0.26              0.57       103.61   \n",
       "7                                         0.00              0.15       101.67   \n",
       "8                                         0.00              0.00         0.00   \n",
       "\n",
       "   Sales Proceeds  Credit Enhancement Proceeds  \\\n",
       "0            0.00                         0.00   \n",
       "1            0.00                         0.00   \n",
       "2           79.43                         7.75   \n",
       "3           88.35                         7.03   \n",
       "4           86.25                         5.68   \n",
       "5           81.09                         5.63   \n",
       "6           61.77                         5.02   \n",
       "7           44.82                         3.21   \n",
       "8            0.00                         0.00   \n",
       "\n",
       "   Repurchase/Make Whole Proceeds  Other Proceeds  Total Proceeds  Severity  \\\n",
       "0                            0.00            0.00            0.00      0.00   \n",
       "1                            0.00            0.00            0.00      0.00   \n",
       "2                            0.00            1.92           89.10     18.58   \n",
       "3                            0.00            0.65           96.03     10.74   \n",
       "4                            0.28            0.31           92.52     13.65   \n",
       "5                            0.00            0.33           87.05     17.99   \n",
       "6                            0.00            0.05           66.84     36.77   \n",
       "7                            0.00            0.05           48.07     53.60   \n",
       "8                            0.00            0.00            0.00      0.00   \n",
       "\n",
       "   Total Net Loss  \n",
       "0            0.00  \n",
       "1            0.00  \n",
       "2      1361014.90  \n",
       "3      8758928.80  \n",
       "4     10055647.74  \n",
       "5      9617968.43  \n",
       "6      8593086.27  \n",
       "7      2888695.48  \n",
       "8            0.00  "
      ]
     },
     "execution_count": 126,
     "metadata": {},
     "output_type": "execute_result"
    }
   ],
   "source": [
    "historical_vintnetloss.toPandas()"
   ]
  },
  {
   "cell_type": "markdown",
   "metadata": {},
   "source": [
    "***Historical Net Loss Totals***"
   ]
  },
  {
   "cell_type": "code",
   "execution_count": 127,
   "metadata": {},
   "outputs": [],
   "source": [
    "historical_totalnetloss = statistics_data.fillna('9999', 'VinYr')"
   ]
  },
  {
   "cell_type": "code",
   "execution_count": 128,
   "metadata": {},
   "outputs": [],
   "source": [
    "historical_totalnetloss = historical_totalnetloss.where(F.col('VinYr') != '9999')\\\n",
    "                  .fillna(0.0, ['ORIG_AMT',\n",
    "                                'ORIG_RT',\n",
    "                                'LAST_UPB',\n",
    "                                'INT_COS',\n",
    "                                'Tot_Liq_Ex',\n",
    "                                'FCC_COST',\n",
    "                                'PP_COST',\n",
    "                                'AR_COST',\n",
    "                                'IE_COST',\n",
    "                                'TAX_COST',\n",
    "                                'Total_Cost',\n",
    "                                'NS_PROCS',\n",
    "                                'CE_PROCS',\n",
    "                                'RMW_PROCS',\n",
    "                                'O_PROCS',\n",
    "                                'Tot_Procs',\n",
    "                                'NET_LOSS']).withColumn('Default_UPB', F.when((F.col('LAST_STAT').isin('F', 'S', 'T', 'N')) &\n",
    "                                                                             (F.col('DISP_DT').isNotNull()), F.col('LAST_UPB')).otherwise(0))\\\n",
    "                                           .withColumn('Interest', F.when((F.col('LAST_STAT').isin('F', 'S', 'T', 'N')) &\n",
    "                                                                             (F.col('DISP_DT').isNotNull()), F.col('INT_COST')).otherwise(0))\\\n",
    "                                           .withColumn('UPB_Liquidations', F.when((F.col('LAST_STAT').isin('F', 'S', 'T', 'N')) &\n",
    "                                                                             (F.col('DISP_DT').isNotNull()), F.col('LAST_UPB')).otherwise(0))\\\n",
    "                                           .withColumn('Tot_Liq', F.when((F.col('LAST_STAT').isin('F', 'S', 'T', 'N')) &\n",
    "                                                                             (F.col('DISP_DT').isNotNull()), F.col('Tot_Liq_Ex')).otherwise(0))\\\n",
    "                                           .withColumn('FCC', F.when((F.col('LAST_STAT').isin('F', 'S', 'T', 'N')) &\n",
    "                                                                             (F.col('DISP_DT').isNotNull()), F.col('FCC_COST')).otherwise(0))\\\n",
    "                                           .withColumn('PP', F.when((F.col('LAST_STAT').isin('F', 'S', 'T', 'N')) &\n",
    "                                                                             (F.col('DISP_DT').isNotNull()), F.col('PP_COST')).otherwise(0))\\\n",
    "                                           .withColumn('AR', F.when((F.col('LAST_STAT').isin('F', 'S', 'T', 'N')) &\n",
    "                                                                             (F.col('DISP_DT').isNotNull()), F.col('AR_COST')).otherwise(0))\\\n",
    "                                           .withColumn('IE', F.when((F.col('LAST_STAT').isin('F', 'S', 'T', 'N')) &\n",
    "                                                                             (F.col('DISP_DT').isNotNull()), F.col('IE_COST')).otherwise(0))\\\n",
    "                                           .withColumn('TAX', F.when((F.col('LAST_STAT').isin('F', 'S', 'T', 'N')) &\n",
    "                                                                             (F.col('DISP_DT').isNotNull()), F.col('TAX_COST')).otherwise(0))\\\n",
    "                                           .withColumn('TotalCost', F.when((F.col('LAST_STAT').isin('F', 'S', 'T', 'N')) &\n",
    "                                                                             (F.col('DISP_DT').isNotNull()), F.col('Total_Cost')).otherwise(0))\\\n",
    "                                           .withColumn('NS', F.when((F.col('LAST_STAT').isin('F', 'S', 'T', 'N')) &\n",
    "                                                                             (F.col('DISP_DT').isNotNull()), F.col('NS_PROCS')).otherwise(0))\\\n",
    "                                           .withColumn('CE', F.when((F.col('LAST_STAT').isin('F', 'S', 'T', 'N')) &\n",
    "                                                                             (F.col('DISP_DT').isNotNull()), F.col('CE_PROCS')).otherwise(0))\\\n",
    "                                           .withColumn('RMW', F.when((F.col('LAST_STAT').isin('F', 'S', 'T', 'N')) &\n",
    "                                                                             (F.col('DISP_DT').isNotNull()), F.col('RMW_PROCS')).otherwise(0))\\\n",
    "                                           .withColumn('O', F.when((F.col('LAST_STAT').isin('F', 'S', 'T', 'N')) &\n",
    "                                                                             (F.col('DISP_DT').isNotNull()), F.col('O_PROCS')).otherwise(0))\\\n",
    "                                           .withColumn('TotalProcs', F.when((F.col('LAST_STAT').isin('F', 'S', 'T', 'N')) &\n",
    "                                                                             (F.col('DISP_DT').isNotNull()), F.col('Tot_Procs')).otherwise(0))\\\n",
    "                                           .withColumn('NetL', F.when((F.col('LAST_STAT').isin('F', 'S', 'T', 'N')) &\n",
    "                                                                             (F.col('DISP_DT').isNotNull()), F.col('NET_LOSS')).otherwise(0))\\\n",
    "                                           .withColumn('Count', F.when((F.col('LAST_STAT').isin('F', 'S', 'T', 'N')), F.lit(1)).otherwise(0))\\\n",
    "                                           .withColumn('Total', F.lit('Total'))\\\n",
    "                                          .groupBy('Total').agg(F.sum('Count').alias('Loan Count'), \n",
    "                                                                F.round(F.sum('UPB_Liquidations'),2).alias('UPB for Liquidations'), \n",
    "                                                                F.round((F.sum('Default_UPB')*100/F.sum('ORIG_AMT')),2).alias('Default UPB % of Orig. UPB'), \n",
    "                                                                F.round((F.sum('Interest')*100/F.sum('Default_UPB')),2).alias('Interest on Delinquent Loans'), \n",
    "                                                                F.round((F.sum('Tot_Liq')*100/F.sum('Default_UPB')),2).alias('Total Liquidition Exp.'), \n",
    "                                                                F.round((F.sum('FCC')*100/F.sum('Default_UPB')),2).alias('Foreclosure Costs'), \n",
    "                                                                F.round((F.sum('PP')*100/F.sum('Default_UPB')),2).alias('Prop.Pres. Costs'), \n",
    "                                                                F.round((F.sum('AR')*100/F.sum('Default_UPB')),2).alias('Asset Recovery Costs'), \n",
    "                                                                F.round((F.sum('IE')*100/F.sum('Default_UPB')),2).alias('Miscellaneaous Holding Expenses and Credits'), \n",
    "                                                                F.round((F.sum('TAX')*100/F.sum('Default_UPB')),2).alias('Associated Taxes'), \n",
    "                                                                F.round((F.sum('TotalCost')*100/F.sum('Default_UPB')),2).alias('Total Costs'), \n",
    "                                                                F.round((F.sum('NS')*100/F.sum('Default_UPB')),2).alias('Sales Proceeds'), \n",
    "                                                                F.round((F.sum('CE')*100/F.sum('Default_UPB')),2).alias('Credit Enhancement Proceeds'), \n",
    "                                                                F.round((F.sum('RMW')*100/F.sum('Default_UPB')),2).alias('Repurchase/Make Whole Proceeds'), \n",
    "                                                                F.round((F.sum('O')*100/F.sum('Default_UPB')),2).alias('Other Proceeds'), \n",
    "                                                                F.round((F.sum('TotalProcs')*100/F.sum('Default_UPB')),2).alias('Total Proceeds'), \n",
    "                                                                F.round((F.sum('NetL')*100/F.sum('Default_UPB')),2).alias('Severity'), \n",
    "                                                                F.round((F.sum('NetL')),2).alias('Total Net Loss')).fillna(0.0)"
   ]
  },
  {
   "cell_type": "code",
   "execution_count": 129,
   "metadata": {},
   "outputs": [
    {
     "data": {
      "text/html": [
       "<div>\n",
       "<style scoped>\n",
       "    .dataframe tbody tr th:only-of-type {\n",
       "        vertical-align: middle;\n",
       "    }\n",
       "\n",
       "    .dataframe tbody tr th {\n",
       "        vertical-align: top;\n",
       "    }\n",
       "\n",
       "    .dataframe thead th {\n",
       "        text-align: right;\n",
       "    }\n",
       "</style>\n",
       "<table border=\"1\" class=\"dataframe\">\n",
       "  <thead>\n",
       "    <tr style=\"text-align: right;\">\n",
       "      <th></th>\n",
       "      <th>Total</th>\n",
       "      <th>Loan Count</th>\n",
       "      <th>UPB for Liquidations</th>\n",
       "      <th>Default UPB % of Orig. UPB</th>\n",
       "      <th>Interest on Delinquent Loans</th>\n",
       "      <th>Total Liquidition Exp.</th>\n",
       "      <th>Foreclosure Costs</th>\n",
       "      <th>Prop.Pres. Costs</th>\n",
       "      <th>Asset Recovery Costs</th>\n",
       "      <th>Miscellaneaous Holding Expenses and Credits</th>\n",
       "      <th>Associated Taxes</th>\n",
       "      <th>Total Costs</th>\n",
       "      <th>Sales Proceeds</th>\n",
       "      <th>Credit Enhancement Proceeds</th>\n",
       "      <th>Repurchase/Make Whole Proceeds</th>\n",
       "      <th>Other Proceeds</th>\n",
       "      <th>Total Proceeds</th>\n",
       "      <th>Severity</th>\n",
       "      <th>Total Net Loss</th>\n",
       "    </tr>\n",
       "  </thead>\n",
       "  <tbody>\n",
       "    <tr>\n",
       "      <th>0</th>\n",
       "      <td>Total</td>\n",
       "      <td>1702</td>\n",
       "      <td>2.447853e+08</td>\n",
       "      <td>0.01</td>\n",
       "      <td>0.0</td>\n",
       "      <td>5.82</td>\n",
       "      <td>3.53</td>\n",
       "      <td>0.31</td>\n",
       "      <td>0.0</td>\n",
       "      <td>0.45</td>\n",
       "      <td>1.53</td>\n",
       "      <td>105.82</td>\n",
       "      <td>82.37</td>\n",
       "      <td>6.06</td>\n",
       "      <td>0.08</td>\n",
       "      <td>0.44</td>\n",
       "      <td>88.96</td>\n",
       "      <td>16.86</td>\n",
       "      <td>41275341.62</td>\n",
       "    </tr>\n",
       "  </tbody>\n",
       "</table>\n",
       "</div>"
      ],
      "text/plain": [
       "   Total  Loan Count  UPB for Liquidations  Default UPB % of Orig. UPB  \\\n",
       "0  Total        1702          2.447853e+08                        0.01   \n",
       "\n",
       "   Interest on Delinquent Loans  Total Liquidition Exp.  Foreclosure Costs  \\\n",
       "0                           0.0                    5.82               3.53   \n",
       "\n",
       "   Prop.Pres. Costs  Asset Recovery Costs  \\\n",
       "0              0.31                   0.0   \n",
       "\n",
       "   Miscellaneaous Holding Expenses and Credits  Associated Taxes  Total Costs  \\\n",
       "0                                         0.45              1.53       105.82   \n",
       "\n",
       "   Sales Proceeds  Credit Enhancement Proceeds  \\\n",
       "0           82.37                         6.06   \n",
       "\n",
       "   Repurchase/Make Whole Proceeds  Other Proceeds  Total Proceeds  Severity  \\\n",
       "0                            0.08            0.44           88.96     16.86   \n",
       "\n",
       "   Total Net Loss  \n",
       "0     41275341.62  "
      ]
     },
     "execution_count": 129,
     "metadata": {},
     "output_type": "execute_result"
    }
   ],
   "source": [
    "historical_totalnetloss.toPandas()"
   ]
  },
  {
   "cell_type": "markdown",
   "metadata": {},
   "source": [
    "***Historical Net Loss Union***"
   ]
  },
  {
   "cell_type": "code",
   "execution_count": 130,
   "metadata": {},
   "outputs": [],
   "source": [
    "historical_total = historical_vintnetloss.union(historical_totalnetloss)"
   ]
  },
  {
   "cell_type": "code",
   "execution_count": 131,
   "metadata": {},
   "outputs": [
    {
     "data": {
      "text/html": [
       "<div>\n",
       "<style scoped>\n",
       "    .dataframe tbody tr th:only-of-type {\n",
       "        vertical-align: middle;\n",
       "    }\n",
       "\n",
       "    .dataframe tbody tr th {\n",
       "        vertical-align: top;\n",
       "    }\n",
       "\n",
       "    .dataframe thead th {\n",
       "        text-align: right;\n",
       "    }\n",
       "</style>\n",
       "<table border=\"1\" class=\"dataframe\">\n",
       "  <thead>\n",
       "    <tr style=\"text-align: right;\">\n",
       "      <th></th>\n",
       "      <th>VinYr</th>\n",
       "      <th>Loan Count</th>\n",
       "      <th>UPB for Liquidations</th>\n",
       "      <th>Default UPB % of Orig. UPB</th>\n",
       "      <th>Interest on Delinquent Loans</th>\n",
       "      <th>Total Liquidition Exp.</th>\n",
       "      <th>Foreclosure Costs</th>\n",
       "      <th>Prop.Pres. Costs</th>\n",
       "      <th>Asset Recovery Costs</th>\n",
       "      <th>Miscellaneaous Holding Expenses and Credits</th>\n",
       "      <th>Associated Taxes</th>\n",
       "      <th>Total Costs</th>\n",
       "      <th>Sales Proceeds</th>\n",
       "      <th>Credit Enhancement Proceeds</th>\n",
       "      <th>Repurchase/Make Whole Proceeds</th>\n",
       "      <th>Other Proceeds</th>\n",
       "      <th>Total Proceeds</th>\n",
       "      <th>Severity</th>\n",
       "      <th>Total Net Loss</th>\n",
       "    </tr>\n",
       "  </thead>\n",
       "  <tbody>\n",
       "    <tr>\n",
       "      <th>0</th>\n",
       "      <td>2011</td>\n",
       "      <td>0</td>\n",
       "      <td>0.000000e+00</td>\n",
       "      <td>0.00</td>\n",
       "      <td>0.0</td>\n",
       "      <td>0.00</td>\n",
       "      <td>0.00</td>\n",
       "      <td>0.00</td>\n",
       "      <td>0.00</td>\n",
       "      <td>0.00</td>\n",
       "      <td>0.00</td>\n",
       "      <td>0.00</td>\n",
       "      <td>0.00</td>\n",
       "      <td>0.00</td>\n",
       "      <td>0.00</td>\n",
       "      <td>0.00</td>\n",
       "      <td>0.00</td>\n",
       "      <td>0.00</td>\n",
       "      <td>0.00</td>\n",
       "    </tr>\n",
       "    <tr>\n",
       "      <th>1</th>\n",
       "      <td>2012</td>\n",
       "      <td>0</td>\n",
       "      <td>0.000000e+00</td>\n",
       "      <td>0.00</td>\n",
       "      <td>0.0</td>\n",
       "      <td>0.00</td>\n",
       "      <td>0.00</td>\n",
       "      <td>0.00</td>\n",
       "      <td>0.00</td>\n",
       "      <td>0.00</td>\n",
       "      <td>0.00</td>\n",
       "      <td>0.00</td>\n",
       "      <td>0.00</td>\n",
       "      <td>0.00</td>\n",
       "      <td>0.00</td>\n",
       "      <td>0.00</td>\n",
       "      <td>0.00</td>\n",
       "      <td>0.00</td>\n",
       "      <td>0.00</td>\n",
       "    </tr>\n",
       "    <tr>\n",
       "      <th>2</th>\n",
       "      <td>2013</td>\n",
       "      <td>52</td>\n",
       "      <td>7.324294e+06</td>\n",
       "      <td>0.03</td>\n",
       "      <td>0.0</td>\n",
       "      <td>7.68</td>\n",
       "      <td>4.04</td>\n",
       "      <td>0.44</td>\n",
       "      <td>0.00</td>\n",
       "      <td>0.73</td>\n",
       "      <td>2.47</td>\n",
       "      <td>107.68</td>\n",
       "      <td>79.43</td>\n",
       "      <td>7.75</td>\n",
       "      <td>0.00</td>\n",
       "      <td>1.92</td>\n",
       "      <td>89.10</td>\n",
       "      <td>18.58</td>\n",
       "      <td>1361014.90</td>\n",
       "    </tr>\n",
       "    <tr>\n",
       "      <th>3</th>\n",
       "      <td>2014</td>\n",
       "      <td>578</td>\n",
       "      <td>8.158085e+07</td>\n",
       "      <td>0.03</td>\n",
       "      <td>0.0</td>\n",
       "      <td>6.76</td>\n",
       "      <td>3.87</td>\n",
       "      <td>0.35</td>\n",
       "      <td>0.00</td>\n",
       "      <td>0.55</td>\n",
       "      <td>2.00</td>\n",
       "      <td>106.76</td>\n",
       "      <td>88.35</td>\n",
       "      <td>7.03</td>\n",
       "      <td>0.00</td>\n",
       "      <td>0.65</td>\n",
       "      <td>96.03</td>\n",
       "      <td>10.74</td>\n",
       "      <td>8758928.80</td>\n",
       "    </tr>\n",
       "    <tr>\n",
       "      <th>4</th>\n",
       "      <td>2015</td>\n",
       "      <td>503</td>\n",
       "      <td>7.365417e+07</td>\n",
       "      <td>0.02</td>\n",
       "      <td>0.0</td>\n",
       "      <td>6.17</td>\n",
       "      <td>3.74</td>\n",
       "      <td>0.32</td>\n",
       "      <td>0.01</td>\n",
       "      <td>0.44</td>\n",
       "      <td>1.66</td>\n",
       "      <td>106.17</td>\n",
       "      <td>86.25</td>\n",
       "      <td>5.68</td>\n",
       "      <td>0.28</td>\n",
       "      <td>0.31</td>\n",
       "      <td>92.52</td>\n",
       "      <td>13.65</td>\n",
       "      <td>10055647.74</td>\n",
       "    </tr>\n",
       "    <tr>\n",
       "      <th>5</th>\n",
       "      <td>2016</td>\n",
       "      <td>373</td>\n",
       "      <td>5.346535e+07</td>\n",
       "      <td>0.01</td>\n",
       "      <td>0.0</td>\n",
       "      <td>5.04</td>\n",
       "      <td>3.30</td>\n",
       "      <td>0.25</td>\n",
       "      <td>0.00</td>\n",
       "      <td>0.43</td>\n",
       "      <td>1.06</td>\n",
       "      <td>105.04</td>\n",
       "      <td>81.09</td>\n",
       "      <td>5.63</td>\n",
       "      <td>0.00</td>\n",
       "      <td>0.33</td>\n",
       "      <td>87.05</td>\n",
       "      <td>17.99</td>\n",
       "      <td>9617968.43</td>\n",
       "    </tr>\n",
       "    <tr>\n",
       "      <th>6</th>\n",
       "      <td>2017</td>\n",
       "      <td>161</td>\n",
       "      <td>2.337090e+07</td>\n",
       "      <td>0.01</td>\n",
       "      <td>0.0</td>\n",
       "      <td>3.61</td>\n",
       "      <td>2.53</td>\n",
       "      <td>0.25</td>\n",
       "      <td>0.00</td>\n",
       "      <td>0.26</td>\n",
       "      <td>0.57</td>\n",
       "      <td>103.61</td>\n",
       "      <td>61.77</td>\n",
       "      <td>5.02</td>\n",
       "      <td>0.00</td>\n",
       "      <td>0.05</td>\n",
       "      <td>66.84</td>\n",
       "      <td>36.77</td>\n",
       "      <td>8593086.27</td>\n",
       "    </tr>\n",
       "    <tr>\n",
       "      <th>7</th>\n",
       "      <td>2018</td>\n",
       "      <td>35</td>\n",
       "      <td>5.389708e+06</td>\n",
       "      <td>0.00</td>\n",
       "      <td>0.0</td>\n",
       "      <td>1.67</td>\n",
       "      <td>1.46</td>\n",
       "      <td>0.06</td>\n",
       "      <td>0.00</td>\n",
       "      <td>0.00</td>\n",
       "      <td>0.15</td>\n",
       "      <td>101.67</td>\n",
       "      <td>44.82</td>\n",
       "      <td>3.21</td>\n",
       "      <td>0.00</td>\n",
       "      <td>0.05</td>\n",
       "      <td>48.07</td>\n",
       "      <td>53.60</td>\n",
       "      <td>2888695.48</td>\n",
       "    </tr>\n",
       "    <tr>\n",
       "      <th>8</th>\n",
       "      <td>2019</td>\n",
       "      <td>0</td>\n",
       "      <td>0.000000e+00</td>\n",
       "      <td>0.00</td>\n",
       "      <td>0.0</td>\n",
       "      <td>0.00</td>\n",
       "      <td>0.00</td>\n",
       "      <td>0.00</td>\n",
       "      <td>0.00</td>\n",
       "      <td>0.00</td>\n",
       "      <td>0.00</td>\n",
       "      <td>0.00</td>\n",
       "      <td>0.00</td>\n",
       "      <td>0.00</td>\n",
       "      <td>0.00</td>\n",
       "      <td>0.00</td>\n",
       "      <td>0.00</td>\n",
       "      <td>0.00</td>\n",
       "      <td>0.00</td>\n",
       "    </tr>\n",
       "    <tr>\n",
       "      <th>9</th>\n",
       "      <td>Total</td>\n",
       "      <td>1702</td>\n",
       "      <td>2.447853e+08</td>\n",
       "      <td>0.01</td>\n",
       "      <td>0.0</td>\n",
       "      <td>5.82</td>\n",
       "      <td>3.53</td>\n",
       "      <td>0.31</td>\n",
       "      <td>0.00</td>\n",
       "      <td>0.45</td>\n",
       "      <td>1.53</td>\n",
       "      <td>105.82</td>\n",
       "      <td>82.37</td>\n",
       "      <td>6.06</td>\n",
       "      <td>0.08</td>\n",
       "      <td>0.44</td>\n",
       "      <td>88.96</td>\n",
       "      <td>16.86</td>\n",
       "      <td>41275341.62</td>\n",
       "    </tr>\n",
       "  </tbody>\n",
       "</table>\n",
       "</div>"
      ],
      "text/plain": [
       "   VinYr  Loan Count  UPB for Liquidations  Default UPB % of Orig. UPB  \\\n",
       "0   2011           0          0.000000e+00                        0.00   \n",
       "1   2012           0          0.000000e+00                        0.00   \n",
       "2   2013          52          7.324294e+06                        0.03   \n",
       "3   2014         578          8.158085e+07                        0.03   \n",
       "4   2015         503          7.365417e+07                        0.02   \n",
       "5   2016         373          5.346535e+07                        0.01   \n",
       "6   2017         161          2.337090e+07                        0.01   \n",
       "7   2018          35          5.389708e+06                        0.00   \n",
       "8   2019           0          0.000000e+00                        0.00   \n",
       "9  Total        1702          2.447853e+08                        0.01   \n",
       "\n",
       "   Interest on Delinquent Loans  Total Liquidition Exp.  Foreclosure Costs  \\\n",
       "0                           0.0                    0.00               0.00   \n",
       "1                           0.0                    0.00               0.00   \n",
       "2                           0.0                    7.68               4.04   \n",
       "3                           0.0                    6.76               3.87   \n",
       "4                           0.0                    6.17               3.74   \n",
       "5                           0.0                    5.04               3.30   \n",
       "6                           0.0                    3.61               2.53   \n",
       "7                           0.0                    1.67               1.46   \n",
       "8                           0.0                    0.00               0.00   \n",
       "9                           0.0                    5.82               3.53   \n",
       "\n",
       "   Prop.Pres. Costs  Asset Recovery Costs  \\\n",
       "0              0.00                  0.00   \n",
       "1              0.00                  0.00   \n",
       "2              0.44                  0.00   \n",
       "3              0.35                  0.00   \n",
       "4              0.32                  0.01   \n",
       "5              0.25                  0.00   \n",
       "6              0.25                  0.00   \n",
       "7              0.06                  0.00   \n",
       "8              0.00                  0.00   \n",
       "9              0.31                  0.00   \n",
       "\n",
       "   Miscellaneaous Holding Expenses and Credits  Associated Taxes  Total Costs  \\\n",
       "0                                         0.00              0.00         0.00   \n",
       "1                                         0.00              0.00         0.00   \n",
       "2                                         0.73              2.47       107.68   \n",
       "3                                         0.55              2.00       106.76   \n",
       "4                                         0.44              1.66       106.17   \n",
       "5                                         0.43              1.06       105.04   \n",
       "6                                         0.26              0.57       103.61   \n",
       "7                                         0.00              0.15       101.67   \n",
       "8                                         0.00              0.00         0.00   \n",
       "9                                         0.45              1.53       105.82   \n",
       "\n",
       "   Sales Proceeds  Credit Enhancement Proceeds  \\\n",
       "0            0.00                         0.00   \n",
       "1            0.00                         0.00   \n",
       "2           79.43                         7.75   \n",
       "3           88.35                         7.03   \n",
       "4           86.25                         5.68   \n",
       "5           81.09                         5.63   \n",
       "6           61.77                         5.02   \n",
       "7           44.82                         3.21   \n",
       "8            0.00                         0.00   \n",
       "9           82.37                         6.06   \n",
       "\n",
       "   Repurchase/Make Whole Proceeds  Other Proceeds  Total Proceeds  Severity  \\\n",
       "0                            0.00            0.00            0.00      0.00   \n",
       "1                            0.00            0.00            0.00      0.00   \n",
       "2                            0.00            1.92           89.10     18.58   \n",
       "3                            0.00            0.65           96.03     10.74   \n",
       "4                            0.28            0.31           92.52     13.65   \n",
       "5                            0.00            0.33           87.05     17.99   \n",
       "6                            0.00            0.05           66.84     36.77   \n",
       "7                            0.00            0.05           48.07     53.60   \n",
       "8                            0.00            0.00            0.00      0.00   \n",
       "9                            0.08            0.44           88.96     16.86   \n",
       "\n",
       "   Total Net Loss  \n",
       "0            0.00  \n",
       "1            0.00  \n",
       "2      1361014.90  \n",
       "3      8758928.80  \n",
       "4     10055647.74  \n",
       "5      9617968.43  \n",
       "6      8593086.27  \n",
       "7      2888695.48  \n",
       "8            0.00  \n",
       "9     41275341.62  "
      ]
     },
     "execution_count": 131,
     "metadata": {},
     "output_type": "execute_result"
    }
   ],
   "source": [
    "historical_total.toPandas()"
   ]
  },
  {
   "cell_type": "markdown",
   "metadata": {},
   "source": [
    "***Historical Net Loss Statistics by Disposition Year***"
   ]
  },
  {
   "cell_type": "code",
   "execution_count": 132,
   "metadata": {},
   "outputs": [],
   "source": [
    "historical_dispnetloss = statistics_data.where(F.col('DispYr') != '9999').where(F.col('DispYr') != 'NO_DISP_DT')"
   ]
  },
  {
   "cell_type": "code",
   "execution_count": 133,
   "metadata": {},
   "outputs": [],
   "source": [
    "historical_dispnetloss = historical_dispnetloss\\\n",
    "                  .fillna(0.0, ['ORIG_AMT',\n",
    "                                'ORIG_RT',\n",
    "                                'LAST_UPB',\n",
    "                                'INT_COS',\n",
    "                                'Tot_Liq_Ex',\n",
    "                                'FCC_COST',\n",
    "                                'PP_COST',\n",
    "                                'AR_COST',\n",
    "                                'IE_COST',\n",
    "                                'TAX_COST',\n",
    "                                'Total_Cost',\n",
    "                                'NS_PROCS',\n",
    "                                'CE_PROCS',\n",
    "                                'RMW_PROCS',\n",
    "                                'O_PROCS',\n",
    "                                'Tot_Procs',\n",
    "                                'NET_LOSS']).withColumn('Default_UPB', F.when((F.col('LAST_STAT').isin('F', 'S', 'T', 'N')) &\n",
    "                                                                             (F.col('DISP_DT').isNotNull()), F.col('LAST_UPB')).otherwise(0))\\\n",
    "                                           .withColumn('Interest', F.when((F.col('LAST_STAT').isin('F', 'S', 'T', 'N')) &\n",
    "                                                                             (F.col('DISP_DT').isNotNull()), F.col('INT_COST')).otherwise(0))\\\n",
    "                                           .withColumn('UPB_Liquidations', F.when((F.col('LAST_STAT').isin('F', 'S', 'T', 'N')) &\n",
    "                                                                             (F.col('DISP_DT').isNotNull()), F.col('LAST_UPB')).otherwise(0))\\\n",
    "                                           .withColumn('Tot_Liq', F.when((F.col('LAST_STAT').isin('F', 'S', 'T', 'N')) &\n",
    "                                                                             (F.col('DISP_DT').isNotNull()), F.col('Tot_Liq_Ex')).otherwise(0))\\\n",
    "                                           .withColumn('FCC', F.when((F.col('LAST_STAT').isin('F', 'S', 'T', 'N')) &\n",
    "                                                                             (F.col('DISP_DT').isNotNull()), F.col('FCC_COST')).otherwise(0))\\\n",
    "                                           .withColumn('PP', F.when((F.col('LAST_STAT').isin('F', 'S', 'T', 'N')) &\n",
    "                                                                             (F.col('DISP_DT').isNotNull()), F.col('PP_COST')).otherwise(0))\\\n",
    "                                           .withColumn('AR', F.when((F.col('LAST_STAT').isin('F', 'S', 'T', 'N')) &\n",
    "                                                                             (F.col('DISP_DT').isNotNull()), F.col('AR_COST')).otherwise(0))\\\n",
    "                                           .withColumn('IE', F.when((F.col('LAST_STAT').isin('F', 'S', 'T', 'N')) &\n",
    "                                                                             (F.col('DISP_DT').isNotNull()), F.col('IE_COST')).otherwise(0))\\\n",
    "                                           .withColumn('TAX', F.when((F.col('LAST_STAT').isin('F', 'S', 'T', 'N')) &\n",
    "                                                                             (F.col('DISP_DT').isNotNull()), F.col('TAX_COST')).otherwise(0))\\\n",
    "                                           .withColumn('TotalCost', F.when((F.col('LAST_STAT').isin('F', 'S', 'T', 'N')) &\n",
    "                                                                             (F.col('DISP_DT').isNotNull()), F.col('Total_Cost')).otherwise(0))\\\n",
    "                                           .withColumn('NS', F.when((F.col('LAST_STAT').isin('F', 'S', 'T', 'N')) &\n",
    "                                                                             (F.col('DISP_DT').isNotNull()), F.col('NS_PROCS')).otherwise(0))\\\n",
    "                                           .withColumn('CE', F.when((F.col('LAST_STAT').isin('F', 'S', 'T', 'N')) &\n",
    "                                                                             (F.col('DISP_DT').isNotNull()), F.col('CE_PROCS')).otherwise(0))\\\n",
    "                                           .withColumn('RMW', F.when((F.col('LAST_STAT').isin('F', 'S', 'T', 'N')) &\n",
    "                                                                             (F.col('DISP_DT').isNotNull()), F.col('RMW_PROCS')).otherwise(0))\\\n",
    "                                           .withColumn('O', F.when((F.col('LAST_STAT').isin('F', 'S', 'T', 'N')) &\n",
    "                                                                             (F.col('DISP_DT').isNotNull()), F.col('O_PROCS')).otherwise(0))\\\n",
    "                                           .withColumn('TotalProcs', F.when((F.col('LAST_STAT').isin('F', 'S', 'T', 'N')) &\n",
    "                                                                             (F.col('DISP_DT').isNotNull()), F.col('Tot_Procs')).otherwise(0))\\\n",
    "                                           .withColumn('NetL', F.when((F.col('LAST_STAT').isin('F', 'S', 'T', 'N')) &\n",
    "                                                                             (F.col('DISP_DT').isNotNull()), F.col('NET_LOSS')).otherwise(0))\\\n",
    "                                           .withColumn('Count', F.when((F.col('LAST_STAT').isin('F', 'S', 'T', 'N')), F.lit(1)).otherwise(0))\\\n",
    "                                          .groupBy('DispYr').agg(F.sum('Count').alias('Loan Count'), \n",
    "                                                                F.round(F.sum('UPB_Liquidations'),2).alias('UPB for Liquidations'), \n",
    "                                                                F.round((F.sum('Default_UPB')*100/F.sum('ORIG_AMT')),2).alias('Default UPB % of Orig. UPB'), \n",
    "                                                                F.round((F.sum('Interest')*100/F.sum('Default_UPB')),2).alias('Interest on Delinquent Loans'), \n",
    "                                                                F.round((F.sum('Tot_Liq')*100/F.sum('Default_UPB')),2).alias('Total Liquidition Exp.'), \n",
    "                                                                F.round((F.sum('FCC')*100/F.sum('Default_UPB')),2).alias('Foreclosure Costs'), \n",
    "                                                                F.round((F.sum('PP')*100/F.sum('Default_UPB')),2).alias('Prop.Pres. Costs'), \n",
    "                                                                F.round((F.sum('AR')*100/F.sum('Default_UPB')),2).alias('Asset Recovery Costs'), \n",
    "                                                                F.round((F.sum('IE')*100/F.sum('Default_UPB')),2).alias('Miscellaneaous Holding Expenses and Credits'), \n",
    "                                                                F.round((F.sum('TAX')*100/F.sum('Default_UPB')),2).alias('Associated Taxes'), \n",
    "                                                                F.round((F.sum('TotalCost')*100/F.sum('Default_UPB')),2).alias('Total Costs'), \n",
    "                                                                F.round((F.sum('NS')*100/F.sum('Default_UPB')),2).alias('Sales Proceeds'), \n",
    "                                                                F.round((F.sum('CE')*100/F.sum('Default_UPB')),2).alias('Credit Enhancement Proceeds'), \n",
    "                                                                F.round((F.sum('RMW')*100/F.sum('Default_UPB')),2).alias('Repurchase/Make Whole Proceeds'), \n",
    "                                                                F.round((F.sum('O')*100/F.sum('Default_UPB')),2).alias('Other Proceeds'), \n",
    "                                                                F.round((F.sum('TotalProcs')*100/F.sum('Default_UPB')),2).alias('Total Proceeds'), \n",
    "                                                                F.round((F.sum('NetL')*100/F.sum('Default_UPB')),2).alias('Severity'), \n",
    "                                                                F.round((F.sum('NetL')),2).alias('Total Net Loss')).orderBy('DispYr').fillna(0.0)"
   ]
  },
  {
   "cell_type": "code",
   "execution_count": 134,
   "metadata": {},
   "outputs": [
    {
     "data": {
      "text/html": [
       "<div>\n",
       "<style scoped>\n",
       "    .dataframe tbody tr th:only-of-type {\n",
       "        vertical-align: middle;\n",
       "    }\n",
       "\n",
       "    .dataframe tbody tr th {\n",
       "        vertical-align: top;\n",
       "    }\n",
       "\n",
       "    .dataframe thead th {\n",
       "        text-align: right;\n",
       "    }\n",
       "</style>\n",
       "<table border=\"1\" class=\"dataframe\">\n",
       "  <thead>\n",
       "    <tr style=\"text-align: right;\">\n",
       "      <th></th>\n",
       "      <th>DispYr</th>\n",
       "      <th>Loan Count</th>\n",
       "      <th>UPB for Liquidations</th>\n",
       "      <th>Default UPB % of Orig. UPB</th>\n",
       "      <th>Interest on Delinquent Loans</th>\n",
       "      <th>Total Liquidition Exp.</th>\n",
       "      <th>Foreclosure Costs</th>\n",
       "      <th>Prop.Pres. Costs</th>\n",
       "      <th>Asset Recovery Costs</th>\n",
       "      <th>Miscellaneaous Holding Expenses and Credits</th>\n",
       "      <th>Associated Taxes</th>\n",
       "      <th>Total Costs</th>\n",
       "      <th>Sales Proceeds</th>\n",
       "      <th>Credit Enhancement Proceeds</th>\n",
       "      <th>Repurchase/Make Whole Proceeds</th>\n",
       "      <th>Other Proceeds</th>\n",
       "      <th>Total Proceeds</th>\n",
       "      <th>Severity</th>\n",
       "      <th>Total Net Loss</th>\n",
       "    </tr>\n",
       "  </thead>\n",
       "  <tbody>\n",
       "    <tr>\n",
       "      <th>0</th>\n",
       "      <td>2014</td>\n",
       "      <td>1</td>\n",
       "      <td>150781.94</td>\n",
       "      <td>99.20</td>\n",
       "      <td>0.0</td>\n",
       "      <td>1.61</td>\n",
       "      <td>1.06</td>\n",
       "      <td>0.00</td>\n",
       "      <td>0.00</td>\n",
       "      <td>-1.04</td>\n",
       "      <td>1.59</td>\n",
       "      <td>101.61</td>\n",
       "      <td>101.91</td>\n",
       "      <td>0.86</td>\n",
       "      <td>0.00</td>\n",
       "      <td>1.55</td>\n",
       "      <td>104.32</td>\n",
       "      <td>-2.71</td>\n",
       "      <td>-4084.65</td>\n",
       "    </tr>\n",
       "    <tr>\n",
       "      <th>1</th>\n",
       "      <td>2015</td>\n",
       "      <td>17</td>\n",
       "      <td>2488384.48</td>\n",
       "      <td>98.94</td>\n",
       "      <td>0.0</td>\n",
       "      <td>3.44</td>\n",
       "      <td>2.35</td>\n",
       "      <td>0.23</td>\n",
       "      <td>0.00</td>\n",
       "      <td>0.03</td>\n",
       "      <td>0.83</td>\n",
       "      <td>103.44</td>\n",
       "      <td>100.01</td>\n",
       "      <td>4.08</td>\n",
       "      <td>0.00</td>\n",
       "      <td>0.14</td>\n",
       "      <td>104.23</td>\n",
       "      <td>-0.78</td>\n",
       "      <td>-19518.42</td>\n",
       "    </tr>\n",
       "    <tr>\n",
       "      <th>2</th>\n",
       "      <td>2016</td>\n",
       "      <td>149</td>\n",
       "      <td>21770208.11</td>\n",
       "      <td>98.09</td>\n",
       "      <td>0.0</td>\n",
       "      <td>5.68</td>\n",
       "      <td>3.27</td>\n",
       "      <td>0.34</td>\n",
       "      <td>0.00</td>\n",
       "      <td>0.52</td>\n",
       "      <td>1.55</td>\n",
       "      <td>105.68</td>\n",
       "      <td>92.77</td>\n",
       "      <td>7.64</td>\n",
       "      <td>0.10</td>\n",
       "      <td>0.37</td>\n",
       "      <td>100.89</td>\n",
       "      <td>4.79</td>\n",
       "      <td>1043802.76</td>\n",
       "    </tr>\n",
       "    <tr>\n",
       "      <th>3</th>\n",
       "      <td>2017</td>\n",
       "      <td>353</td>\n",
       "      <td>52852670.35</td>\n",
       "      <td>97.09</td>\n",
       "      <td>0.0</td>\n",
       "      <td>6.57</td>\n",
       "      <td>4.04</td>\n",
       "      <td>0.43</td>\n",
       "      <td>0.00</td>\n",
       "      <td>0.38</td>\n",
       "      <td>1.73</td>\n",
       "      <td>106.57</td>\n",
       "      <td>92.97</td>\n",
       "      <td>7.65</td>\n",
       "      <td>0.00</td>\n",
       "      <td>0.87</td>\n",
       "      <td>101.49</td>\n",
       "      <td>5.09</td>\n",
       "      <td>2688692.88</td>\n",
       "    </tr>\n",
       "    <tr>\n",
       "      <th>4</th>\n",
       "      <td>2018</td>\n",
       "      <td>612</td>\n",
       "      <td>87747718.91</td>\n",
       "      <td>96.25</td>\n",
       "      <td>0.0</td>\n",
       "      <td>6.92</td>\n",
       "      <td>4.26</td>\n",
       "      <td>0.34</td>\n",
       "      <td>0.01</td>\n",
       "      <td>0.54</td>\n",
       "      <td>1.76</td>\n",
       "      <td>106.92</td>\n",
       "      <td>96.31</td>\n",
       "      <td>6.93</td>\n",
       "      <td>0.21</td>\n",
       "      <td>0.45</td>\n",
       "      <td>103.90</td>\n",
       "      <td>3.01</td>\n",
       "      <td>2643150.28</td>\n",
       "    </tr>\n",
       "    <tr>\n",
       "      <th>5</th>\n",
       "      <td>2019</td>\n",
       "      <td>359</td>\n",
       "      <td>47334777.31</td>\n",
       "      <td>95.98</td>\n",
       "      <td>0.0</td>\n",
       "      <td>7.15</td>\n",
       "      <td>4.20</td>\n",
       "      <td>0.30</td>\n",
       "      <td>0.00</td>\n",
       "      <td>0.69</td>\n",
       "      <td>1.95</td>\n",
       "      <td>107.15</td>\n",
       "      <td>95.38</td>\n",
       "      <td>6.22</td>\n",
       "      <td>0.00</td>\n",
       "      <td>0.30</td>\n",
       "      <td>101.90</td>\n",
       "      <td>5.24</td>\n",
       "      <td>2482553.11</td>\n",
       "    </tr>\n",
       "  </tbody>\n",
       "</table>\n",
       "</div>"
      ],
      "text/plain": [
       "  DispYr  Loan Count  UPB for Liquidations  Default UPB % of Orig. UPB  \\\n",
       "0   2014           1             150781.94                       99.20   \n",
       "1   2015          17            2488384.48                       98.94   \n",
       "2   2016         149           21770208.11                       98.09   \n",
       "3   2017         353           52852670.35                       97.09   \n",
       "4   2018         612           87747718.91                       96.25   \n",
       "5   2019         359           47334777.31                       95.98   \n",
       "\n",
       "   Interest on Delinquent Loans  Total Liquidition Exp.  Foreclosure Costs  \\\n",
       "0                           0.0                    1.61               1.06   \n",
       "1                           0.0                    3.44               2.35   \n",
       "2                           0.0                    5.68               3.27   \n",
       "3                           0.0                    6.57               4.04   \n",
       "4                           0.0                    6.92               4.26   \n",
       "5                           0.0                    7.15               4.20   \n",
       "\n",
       "   Prop.Pres. Costs  Asset Recovery Costs  \\\n",
       "0              0.00                  0.00   \n",
       "1              0.23                  0.00   \n",
       "2              0.34                  0.00   \n",
       "3              0.43                  0.00   \n",
       "4              0.34                  0.01   \n",
       "5              0.30                  0.00   \n",
       "\n",
       "   Miscellaneaous Holding Expenses and Credits  Associated Taxes  Total Costs  \\\n",
       "0                                        -1.04              1.59       101.61   \n",
       "1                                         0.03              0.83       103.44   \n",
       "2                                         0.52              1.55       105.68   \n",
       "3                                         0.38              1.73       106.57   \n",
       "4                                         0.54              1.76       106.92   \n",
       "5                                         0.69              1.95       107.15   \n",
       "\n",
       "   Sales Proceeds  Credit Enhancement Proceeds  \\\n",
       "0          101.91                         0.86   \n",
       "1          100.01                         4.08   \n",
       "2           92.77                         7.64   \n",
       "3           92.97                         7.65   \n",
       "4           96.31                         6.93   \n",
       "5           95.38                         6.22   \n",
       "\n",
       "   Repurchase/Make Whole Proceeds  Other Proceeds  Total Proceeds  Severity  \\\n",
       "0                            0.00            1.55          104.32     -2.71   \n",
       "1                            0.00            0.14          104.23     -0.78   \n",
       "2                            0.10            0.37          100.89      4.79   \n",
       "3                            0.00            0.87          101.49      5.09   \n",
       "4                            0.21            0.45          103.90      3.01   \n",
       "5                            0.00            0.30          101.90      5.24   \n",
       "\n",
       "   Total Net Loss  \n",
       "0        -4084.65  \n",
       "1       -19518.42  \n",
       "2      1043802.76  \n",
       "3      2688692.88  \n",
       "4      2643150.28  \n",
       "5      2482553.11  "
      ]
     },
     "execution_count": 134,
     "metadata": {},
     "output_type": "execute_result"
    }
   ],
   "source": [
    "historical_dispnetloss.toPandas()"
   ]
  },
  {
   "cell_type": "markdown",
   "metadata": {},
   "source": [
    "***Historical Net Loss Totals 1***"
   ]
  },
  {
   "cell_type": "code",
   "execution_count": 135,
   "metadata": {},
   "outputs": [],
   "source": [
    "historical_totalnetloss1 = statistics_data.where(F.col('DispYr') != '9999').where(F.col('DispYr') != 'NO_DISP_DT')"
   ]
  },
  {
   "cell_type": "code",
   "execution_count": 136,
   "metadata": {},
   "outputs": [],
   "source": [
    "historical_totalnetloss1 = historical_totalnetloss1\\\n",
    "                  .fillna(0.0, ['ORIG_AMT',\n",
    "                                'ORIG_RT',\n",
    "                                'LAST_UPB',\n",
    "                                'INT_COS',\n",
    "                                'Tot_Liq_Ex',\n",
    "                                'FCC_COST',\n",
    "                                'PP_COST',\n",
    "                                'AR_COST',\n",
    "                                'IE_COST',\n",
    "                                'TAX_COST',\n",
    "                                'Total_Cost',\n",
    "                                'NS_PROCS',\n",
    "                                'CE_PROCS',\n",
    "                                'RMW_PROCS',\n",
    "                                'O_PROCS',\n",
    "                                'Tot_Procs',\n",
    "                                'NET_LOSS']).withColumn('Default_UPB', F.when((F.col('LAST_STAT').isin('F', 'S', 'T', 'N')) &\n",
    "                                                                             (F.col('DISP_DT').isNotNull()), F.col('LAST_UPB')).otherwise(0))\\\n",
    "                                           .withColumn('Interest', F.when((F.col('LAST_STAT').isin('F', 'S', 'T', 'N')) &\n",
    "                                                                             (F.col('DISP_DT').isNotNull()), F.col('INT_COST')).otherwise(0))\\\n",
    "                                           .withColumn('UPB_Liquidations', F.when((F.col('LAST_STAT').isin('F', 'S', 'T', 'N')) &\n",
    "                                                                             (F.col('DISP_DT').isNotNull()), F.col('LAST_UPB')).otherwise(0))\\\n",
    "                                           .withColumn('Tot_Liq', F.when((F.col('LAST_STAT').isin('F', 'S', 'T', 'N')) &\n",
    "                                                                             (F.col('DISP_DT').isNotNull()), F.col('Tot_Liq_Ex')).otherwise(0))\\\n",
    "                                           .withColumn('FCC', F.when((F.col('LAST_STAT').isin('F', 'S', 'T', 'N')) &\n",
    "                                                                             (F.col('DISP_DT').isNotNull()), F.col('FCC_COST')).otherwise(0))\\\n",
    "                                           .withColumn('PP', F.when((F.col('LAST_STAT').isin('F', 'S', 'T', 'N')) &\n",
    "                                                                             (F.col('DISP_DT').isNotNull()), F.col('PP_COST')).otherwise(0))\\\n",
    "                                           .withColumn('AR', F.when((F.col('LAST_STAT').isin('F', 'S', 'T', 'N')) &\n",
    "                                                                             (F.col('DISP_DT').isNotNull()), F.col('AR_COST')).otherwise(0))\\\n",
    "                                           .withColumn('IE', F.when((F.col('LAST_STAT').isin('F', 'S', 'T', 'N')) &\n",
    "                                                                             (F.col('DISP_DT').isNotNull()), F.col('IE_COST')).otherwise(0))\\\n",
    "                                           .withColumn('TAX', F.when((F.col('LAST_STAT').isin('F', 'S', 'T', 'N')) &\n",
    "                                                                             (F.col('DISP_DT').isNotNull()), F.col('TAX_COST')).otherwise(0))\\\n",
    "                                           .withColumn('TotalCost', F.when((F.col('LAST_STAT').isin('F', 'S', 'T', 'N')) &\n",
    "                                                                             (F.col('DISP_DT').isNotNull()), F.col('Total_Cost')).otherwise(0))\\\n",
    "                                           .withColumn('NS', F.when((F.col('LAST_STAT').isin('F', 'S', 'T', 'N')) &\n",
    "                                                                             (F.col('DISP_DT').isNotNull()), F.col('NS_PROCS')).otherwise(0))\\\n",
    "                                           .withColumn('CE', F.when((F.col('LAST_STAT').isin('F', 'S', 'T', 'N')) &\n",
    "                                                                             (F.col('DISP_DT').isNotNull()), F.col('CE_PROCS')).otherwise(0))\\\n",
    "                                           .withColumn('RMW', F.when((F.col('LAST_STAT').isin('F', 'S', 'T', 'N')) &\n",
    "                                                                             (F.col('DISP_DT').isNotNull()), F.col('RMW_PROCS')).otherwise(0))\\\n",
    "                                           .withColumn('O', F.when((F.col('LAST_STAT').isin('F', 'S', 'T', 'N')) &\n",
    "                                                                             (F.col('DISP_DT').isNotNull()), F.col('O_PROCS')).otherwise(0))\\\n",
    "                                           .withColumn('TotalProcs', F.when((F.col('LAST_STAT').isin('F', 'S', 'T', 'N')) &\n",
    "                                                                             (F.col('DISP_DT').isNotNull()), F.col('Tot_Procs')).otherwise(0))\\\n",
    "                                           .withColumn('NetL', F.when((F.col('LAST_STAT').isin('F', 'S', 'T', 'N')) &\n",
    "                                                                             (F.col('DISP_DT').isNotNull()), F.col('NET_LOSS')).otherwise(0))\\\n",
    "                                           .withColumn('Count', F.when((F.col('LAST_STAT').isin('F', 'S', 'T', 'N')), F.lit(1)).otherwise(0))\\\n",
    "                                           .withColumn('Total', F.lit('Total'))\\\n",
    "                                          .groupBy('Total').agg(F.sum('Count').alias('Loan Count'), \n",
    "                                                                F.round(F.sum('UPB_Liquidations'),2).alias('UPB for Liquidations'), \n",
    "                                                                F.round((F.sum('Default_UPB')*100/F.sum('ORIG_AMT')),2).alias('Default UPB % of Orig. UPB'), \n",
    "                                                                F.round((F.sum('Interest')*100/F.sum('Default_UPB')),2).alias('Interest on Delinquent Loans'), \n",
    "                                                                F.round((F.sum('Tot_Liq')*100/F.sum('Default_UPB')),2).alias('Total Liquidition Exp.'), \n",
    "                                                                F.round((F.sum('FCC')*100/F.sum('Default_UPB')),2).alias('Foreclosure Costs'), \n",
    "                                                                F.round((F.sum('PP')*100/F.sum('Default_UPB')),2).alias('Prop.Pres. Costs'), \n",
    "                                                                F.round((F.sum('AR')*100/F.sum('Default_UPB')),2).alias('Asset Recovery Costs'), \n",
    "                                                                F.round((F.sum('IE')*100/F.sum('Default_UPB')),2).alias('Miscellaneaous Holding Expenses and Credits'), \n",
    "                                                                F.round((F.sum('TAX')*100/F.sum('Default_UPB')),2).alias('Associated Taxes'), \n",
    "                                                                F.round((F.sum('TotalCost')*100/F.sum('Default_UPB')),2).alias('Total Costs'), \n",
    "                                                                F.round((F.sum('NS')*100/F.sum('Default_UPB')),2).alias('Sales Proceeds'), \n",
    "                                                                F.round((F.sum('CE')*100/F.sum('Default_UPB')),2).alias('Credit Enhancement Proceeds'), \n",
    "                                                                F.round((F.sum('RMW')*100/F.sum('Default_UPB')),2).alias('Repurchase/Make Whole Proceeds'), \n",
    "                                                                F.round((F.sum('O')*100/F.sum('Default_UPB')),2).alias('Other Proceeds'), \n",
    "                                                                F.round((F.sum('TotalProcs')*100/F.sum('Default_UPB')),2).alias('Total Proceeds'), \n",
    "                                                                F.round((F.sum('NetL')*100/F.sum('Default_UPB')),2).alias('Severity'), \n",
    "                                                                F.round((F.sum('NetL')),2).alias('Total Net Loss')).fillna(0.0)"
   ]
  },
  {
   "cell_type": "code",
   "execution_count": 137,
   "metadata": {},
   "outputs": [
    {
     "data": {
      "text/html": [
       "<div>\n",
       "<style scoped>\n",
       "    .dataframe tbody tr th:only-of-type {\n",
       "        vertical-align: middle;\n",
       "    }\n",
       "\n",
       "    .dataframe tbody tr th {\n",
       "        vertical-align: top;\n",
       "    }\n",
       "\n",
       "    .dataframe thead th {\n",
       "        text-align: right;\n",
       "    }\n",
       "</style>\n",
       "<table border=\"1\" class=\"dataframe\">\n",
       "  <thead>\n",
       "    <tr style=\"text-align: right;\">\n",
       "      <th></th>\n",
       "      <th>Total</th>\n",
       "      <th>Loan Count</th>\n",
       "      <th>UPB for Liquidations</th>\n",
       "      <th>Default UPB % of Orig. UPB</th>\n",
       "      <th>Interest on Delinquent Loans</th>\n",
       "      <th>Total Liquidition Exp.</th>\n",
       "      <th>Foreclosure Costs</th>\n",
       "      <th>Prop.Pres. Costs</th>\n",
       "      <th>Asset Recovery Costs</th>\n",
       "      <th>Miscellaneaous Holding Expenses and Credits</th>\n",
       "      <th>Associated Taxes</th>\n",
       "      <th>Total Costs</th>\n",
       "      <th>Sales Proceeds</th>\n",
       "      <th>Credit Enhancement Proceeds</th>\n",
       "      <th>Repurchase/Make Whole Proceeds</th>\n",
       "      <th>Other Proceeds</th>\n",
       "      <th>Total Proceeds</th>\n",
       "      <th>Severity</th>\n",
       "      <th>Total Net Loss</th>\n",
       "    </tr>\n",
       "  </thead>\n",
       "  <tbody>\n",
       "    <tr>\n",
       "      <th>0</th>\n",
       "      <td>Total</td>\n",
       "      <td>1491</td>\n",
       "      <td>212344541.1</td>\n",
       "      <td>96.62</td>\n",
       "      <td>0.0</td>\n",
       "      <td>6.71</td>\n",
       "      <td>4.07</td>\n",
       "      <td>0.35</td>\n",
       "      <td>0.0</td>\n",
       "      <td>0.52</td>\n",
       "      <td>1.76</td>\n",
       "      <td>106.71</td>\n",
       "      <td>94.95</td>\n",
       "      <td>6.99</td>\n",
       "      <td>0.1</td>\n",
       "      <td>0.51</td>\n",
       "      <td>102.55</td>\n",
       "      <td>4.16</td>\n",
       "      <td>8834595.96</td>\n",
       "    </tr>\n",
       "  </tbody>\n",
       "</table>\n",
       "</div>"
      ],
      "text/plain": [
       "   Total  Loan Count  UPB for Liquidations  Default UPB % of Orig. UPB  \\\n",
       "0  Total        1491           212344541.1                       96.62   \n",
       "\n",
       "   Interest on Delinquent Loans  Total Liquidition Exp.  Foreclosure Costs  \\\n",
       "0                           0.0                    6.71               4.07   \n",
       "\n",
       "   Prop.Pres. Costs  Asset Recovery Costs  \\\n",
       "0              0.35                   0.0   \n",
       "\n",
       "   Miscellaneaous Holding Expenses and Credits  Associated Taxes  Total Costs  \\\n",
       "0                                         0.52              1.76       106.71   \n",
       "\n",
       "   Sales Proceeds  Credit Enhancement Proceeds  \\\n",
       "0           94.95                         6.99   \n",
       "\n",
       "   Repurchase/Make Whole Proceeds  Other Proceeds  Total Proceeds  Severity  \\\n",
       "0                             0.1            0.51          102.55      4.16   \n",
       "\n",
       "   Total Net Loss  \n",
       "0      8834595.96  "
      ]
     },
     "execution_count": 137,
     "metadata": {},
     "output_type": "execute_result"
    }
   ],
   "source": [
    "historical_totalnetloss1.toPandas()"
   ]
  },
  {
   "cell_type": "markdown",
   "metadata": {},
   "source": [
    "***Historical Net Loss Union 1***"
   ]
  },
  {
   "cell_type": "code",
   "execution_count": 138,
   "metadata": {},
   "outputs": [],
   "source": [
    "historical_total1 = historical_dispnetloss.union(historical_totalnetloss1)"
   ]
  },
  {
   "cell_type": "code",
   "execution_count": 139,
   "metadata": {},
   "outputs": [
    {
     "data": {
      "text/html": [
       "<div>\n",
       "<style scoped>\n",
       "    .dataframe tbody tr th:only-of-type {\n",
       "        vertical-align: middle;\n",
       "    }\n",
       "\n",
       "    .dataframe tbody tr th {\n",
       "        vertical-align: top;\n",
       "    }\n",
       "\n",
       "    .dataframe thead th {\n",
       "        text-align: right;\n",
       "    }\n",
       "</style>\n",
       "<table border=\"1\" class=\"dataframe\">\n",
       "  <thead>\n",
       "    <tr style=\"text-align: right;\">\n",
       "      <th></th>\n",
       "      <th>DispYr</th>\n",
       "      <th>Loan Count</th>\n",
       "      <th>UPB for Liquidations</th>\n",
       "      <th>Default UPB % of Orig. UPB</th>\n",
       "      <th>Interest on Delinquent Loans</th>\n",
       "      <th>Total Liquidition Exp.</th>\n",
       "      <th>Foreclosure Costs</th>\n",
       "      <th>Prop.Pres. Costs</th>\n",
       "      <th>Asset Recovery Costs</th>\n",
       "      <th>Miscellaneaous Holding Expenses and Credits</th>\n",
       "      <th>Associated Taxes</th>\n",
       "      <th>Total Costs</th>\n",
       "      <th>Sales Proceeds</th>\n",
       "      <th>Credit Enhancement Proceeds</th>\n",
       "      <th>Repurchase/Make Whole Proceeds</th>\n",
       "      <th>Other Proceeds</th>\n",
       "      <th>Total Proceeds</th>\n",
       "      <th>Severity</th>\n",
       "      <th>Total Net Loss</th>\n",
       "    </tr>\n",
       "  </thead>\n",
       "  <tbody>\n",
       "    <tr>\n",
       "      <th>0</th>\n",
       "      <td>2014</td>\n",
       "      <td>1</td>\n",
       "      <td>1.507819e+05</td>\n",
       "      <td>99.20</td>\n",
       "      <td>0.0</td>\n",
       "      <td>1.61</td>\n",
       "      <td>1.06</td>\n",
       "      <td>0.00</td>\n",
       "      <td>0.00</td>\n",
       "      <td>-1.04</td>\n",
       "      <td>1.59</td>\n",
       "      <td>101.61</td>\n",
       "      <td>101.91</td>\n",
       "      <td>0.86</td>\n",
       "      <td>0.00</td>\n",
       "      <td>1.55</td>\n",
       "      <td>104.32</td>\n",
       "      <td>-2.71</td>\n",
       "      <td>-4084.65</td>\n",
       "    </tr>\n",
       "    <tr>\n",
       "      <th>1</th>\n",
       "      <td>2015</td>\n",
       "      <td>17</td>\n",
       "      <td>2.488384e+06</td>\n",
       "      <td>98.94</td>\n",
       "      <td>0.0</td>\n",
       "      <td>3.44</td>\n",
       "      <td>2.35</td>\n",
       "      <td>0.23</td>\n",
       "      <td>0.00</td>\n",
       "      <td>0.03</td>\n",
       "      <td>0.83</td>\n",
       "      <td>103.44</td>\n",
       "      <td>100.01</td>\n",
       "      <td>4.08</td>\n",
       "      <td>0.00</td>\n",
       "      <td>0.14</td>\n",
       "      <td>104.23</td>\n",
       "      <td>-0.78</td>\n",
       "      <td>-19518.42</td>\n",
       "    </tr>\n",
       "    <tr>\n",
       "      <th>2</th>\n",
       "      <td>2016</td>\n",
       "      <td>149</td>\n",
       "      <td>2.177021e+07</td>\n",
       "      <td>98.09</td>\n",
       "      <td>0.0</td>\n",
       "      <td>5.68</td>\n",
       "      <td>3.27</td>\n",
       "      <td>0.34</td>\n",
       "      <td>0.00</td>\n",
       "      <td>0.52</td>\n",
       "      <td>1.55</td>\n",
       "      <td>105.68</td>\n",
       "      <td>92.77</td>\n",
       "      <td>7.64</td>\n",
       "      <td>0.10</td>\n",
       "      <td>0.37</td>\n",
       "      <td>100.89</td>\n",
       "      <td>4.79</td>\n",
       "      <td>1043802.76</td>\n",
       "    </tr>\n",
       "    <tr>\n",
       "      <th>3</th>\n",
       "      <td>2017</td>\n",
       "      <td>353</td>\n",
       "      <td>5.285267e+07</td>\n",
       "      <td>97.09</td>\n",
       "      <td>0.0</td>\n",
       "      <td>6.57</td>\n",
       "      <td>4.04</td>\n",
       "      <td>0.43</td>\n",
       "      <td>0.00</td>\n",
       "      <td>0.38</td>\n",
       "      <td>1.73</td>\n",
       "      <td>106.57</td>\n",
       "      <td>92.97</td>\n",
       "      <td>7.65</td>\n",
       "      <td>0.00</td>\n",
       "      <td>0.87</td>\n",
       "      <td>101.49</td>\n",
       "      <td>5.09</td>\n",
       "      <td>2688692.88</td>\n",
       "    </tr>\n",
       "    <tr>\n",
       "      <th>4</th>\n",
       "      <td>2018</td>\n",
       "      <td>612</td>\n",
       "      <td>8.774772e+07</td>\n",
       "      <td>96.25</td>\n",
       "      <td>0.0</td>\n",
       "      <td>6.92</td>\n",
       "      <td>4.26</td>\n",
       "      <td>0.34</td>\n",
       "      <td>0.01</td>\n",
       "      <td>0.54</td>\n",
       "      <td>1.76</td>\n",
       "      <td>106.92</td>\n",
       "      <td>96.31</td>\n",
       "      <td>6.93</td>\n",
       "      <td>0.21</td>\n",
       "      <td>0.45</td>\n",
       "      <td>103.90</td>\n",
       "      <td>3.01</td>\n",
       "      <td>2643150.28</td>\n",
       "    </tr>\n",
       "    <tr>\n",
       "      <th>5</th>\n",
       "      <td>2019</td>\n",
       "      <td>359</td>\n",
       "      <td>4.733478e+07</td>\n",
       "      <td>95.98</td>\n",
       "      <td>0.0</td>\n",
       "      <td>7.15</td>\n",
       "      <td>4.20</td>\n",
       "      <td>0.30</td>\n",
       "      <td>0.00</td>\n",
       "      <td>0.69</td>\n",
       "      <td>1.95</td>\n",
       "      <td>107.15</td>\n",
       "      <td>95.38</td>\n",
       "      <td>6.22</td>\n",
       "      <td>0.00</td>\n",
       "      <td>0.30</td>\n",
       "      <td>101.90</td>\n",
       "      <td>5.24</td>\n",
       "      <td>2482553.11</td>\n",
       "    </tr>\n",
       "    <tr>\n",
       "      <th>6</th>\n",
       "      <td>Total</td>\n",
       "      <td>1491</td>\n",
       "      <td>2.123445e+08</td>\n",
       "      <td>96.62</td>\n",
       "      <td>0.0</td>\n",
       "      <td>6.71</td>\n",
       "      <td>4.07</td>\n",
       "      <td>0.35</td>\n",
       "      <td>0.00</td>\n",
       "      <td>0.52</td>\n",
       "      <td>1.76</td>\n",
       "      <td>106.71</td>\n",
       "      <td>94.95</td>\n",
       "      <td>6.99</td>\n",
       "      <td>0.10</td>\n",
       "      <td>0.51</td>\n",
       "      <td>102.55</td>\n",
       "      <td>4.16</td>\n",
       "      <td>8834595.96</td>\n",
       "    </tr>\n",
       "  </tbody>\n",
       "</table>\n",
       "</div>"
      ],
      "text/plain": [
       "  DispYr  Loan Count  UPB for Liquidations  Default UPB % of Orig. UPB  \\\n",
       "0   2014           1          1.507819e+05                       99.20   \n",
       "1   2015          17          2.488384e+06                       98.94   \n",
       "2   2016         149          2.177021e+07                       98.09   \n",
       "3   2017         353          5.285267e+07                       97.09   \n",
       "4   2018         612          8.774772e+07                       96.25   \n",
       "5   2019         359          4.733478e+07                       95.98   \n",
       "6  Total        1491          2.123445e+08                       96.62   \n",
       "\n",
       "   Interest on Delinquent Loans  Total Liquidition Exp.  Foreclosure Costs  \\\n",
       "0                           0.0                    1.61               1.06   \n",
       "1                           0.0                    3.44               2.35   \n",
       "2                           0.0                    5.68               3.27   \n",
       "3                           0.0                    6.57               4.04   \n",
       "4                           0.0                    6.92               4.26   \n",
       "5                           0.0                    7.15               4.20   \n",
       "6                           0.0                    6.71               4.07   \n",
       "\n",
       "   Prop.Pres. Costs  Asset Recovery Costs  \\\n",
       "0              0.00                  0.00   \n",
       "1              0.23                  0.00   \n",
       "2              0.34                  0.00   \n",
       "3              0.43                  0.00   \n",
       "4              0.34                  0.01   \n",
       "5              0.30                  0.00   \n",
       "6              0.35                  0.00   \n",
       "\n",
       "   Miscellaneaous Holding Expenses and Credits  Associated Taxes  Total Costs  \\\n",
       "0                                        -1.04              1.59       101.61   \n",
       "1                                         0.03              0.83       103.44   \n",
       "2                                         0.52              1.55       105.68   \n",
       "3                                         0.38              1.73       106.57   \n",
       "4                                         0.54              1.76       106.92   \n",
       "5                                         0.69              1.95       107.15   \n",
       "6                                         0.52              1.76       106.71   \n",
       "\n",
       "   Sales Proceeds  Credit Enhancement Proceeds  \\\n",
       "0          101.91                         0.86   \n",
       "1          100.01                         4.08   \n",
       "2           92.77                         7.64   \n",
       "3           92.97                         7.65   \n",
       "4           96.31                         6.93   \n",
       "5           95.38                         6.22   \n",
       "6           94.95                         6.99   \n",
       "\n",
       "   Repurchase/Make Whole Proceeds  Other Proceeds  Total Proceeds  Severity  \\\n",
       "0                            0.00            1.55          104.32     -2.71   \n",
       "1                            0.00            0.14          104.23     -0.78   \n",
       "2                            0.10            0.37          100.89      4.79   \n",
       "3                            0.00            0.87          101.49      5.09   \n",
       "4                            0.21            0.45          103.90      3.01   \n",
       "5                            0.00            0.30          101.90      5.24   \n",
       "6                            0.10            0.51          102.55      4.16   \n",
       "\n",
       "   Total Net Loss  \n",
       "0        -4084.65  \n",
       "1       -19518.42  \n",
       "2      1043802.76  \n",
       "3      2688692.88  \n",
       "4      2643150.28  \n",
       "5      2482553.11  \n",
       "6      8834595.96  "
      ]
     },
     "execution_count": 139,
     "metadata": {},
     "output_type": "execute_result"
    }
   ],
   "source": [
    "historical_total1.toPandas()"
   ]
  },
  {
   "cell_type": "markdown",
   "metadata": {},
   "source": [
    "***Calculate Spread at Origination (SATO)***"
   ]
  },
  {
   "cell_type": "code",
   "execution_count": 140,
   "metadata": {},
   "outputs": [],
   "source": [
    "summary_statistics_sato = combined_data.where(F.col('ORIG_DTE').isNotNull()).withColumn('SATO1', F.col('ORIG_RT')*F.col('ORIG_AMT'))\\\n",
    "                                                                            .withColumn('SATO2', F.col('ORIG_AMT'))\\\n",
    "                                                .groupBy('ORIG_DTE').agg((F.round(F.sum('SATO1')/F.sum('SATO2'), 2)).alias('Avg_NoteRt'))\\\n",
    "                                                    .orderBy(F.substring(F.col('ORIG_DTE'), 4,4), F.substring(F.col('ORIG_DTE'), 1,2))"
   ]
  },
  {
   "cell_type": "code",
   "execution_count": 141,
   "metadata": {},
   "outputs": [],
   "source": [
    "statistics_data = combined_data.where(F.col('ORIG_DTE').isNotNull()).join(summary_statistics_sato, 'ORIG_DTE', 'left')"
   ]
  },
  {
   "cell_type": "code",
   "execution_count": 142,
   "metadata": {},
   "outputs": [],
   "source": [
    "statistics_data = statistics_data.withColumn('SATO', F.round(F.col('ORIG_RT') - F.col('Avg_NoteRt'),2))"
   ]
  },
  {
   "cell_type": "markdown",
   "metadata": {},
   "source": [
    "***Create buckets for continuous attributes, Risk Flag, and group number of borrowers***"
   ]
  },
  {
   "cell_type": "code",
   "execution_count": 143,
   "metadata": {},
   "outputs": [],
   "source": [
    "statistics_data = statistics_data.withColumn('borrower', F.when((F.col('NUM_BO') == '1') &\n",
    "                                                                (F.col('NUM_BO').isNotNull()), F.lit(1)).otherwise(F.lit(0)))\\\n",
    "                                 .withColumn('dti', F.when((F.col('DTI').isNotNull()), F.lit(1))\\\n",
    "                                         .otherwise(F.when(F.col('DTI') > 45, F.lit(1))\\\n",
    "                                         .otherwise(F.lit(0))))\\\n",
    "                                 .withColumn('occ', F.when((F.col('OCC_STAT') == '1') &\n",
    "                                                           (F.col('OCC_STAT').isNotNull()), F.lit(1)).otherwise(F.lit(0)))\\\n",
    "                                 .withColumn('purp', F.when((F.col('PURPOSE') == 'C') &\n",
    "                                                           (F.col('PURPOSE').isNotNull()), F.lit(1)).otherwise(F.lit(0)))\\\n",
    "                                 .withColumn('RskFctrs', F.col('borrower')+F.col('dti')+F.col('occ')+F.col('purp'))\\\n",
    "                                        .drop('borrower', 'dti', 'occ', 'purp')"
   ]
  },
  {
   "cell_type": "code",
   "execution_count": 144,
   "metadata": {},
   "outputs": [],
   "source": [
    "statistics_data = statistics_data.withColumn('OcltvBkt', F.when(F.col('OCLTV').isNull(), F.lit('MissingOCLTV'))\\\n",
    "                         .otherwise(F.when((F.col('OCLTV') > 0) & \n",
    "                                           (F.col('OCLTV') <= 60), F.lit('0-60'))\\\n",
    "                         .otherwise(F.when((F.col('OCLTV') > 60) & \n",
    "                                           (F.col('OCLTV') <= 65), F.lit('60-65'))\\\n",
    "                         .otherwise(F.when((F.col('OCLTV') > 65) & \n",
    "                                           (F.col('OCLTV') <= 70), F.lit('65-70'))\\\n",
    "                         .otherwise(F.when((F.col('OCLTV') > 70) & \n",
    "                                           (F.col('OCLTV') <= 75), F.lit('70-75'))\\\n",
    "                         .otherwise(F.when((F.col('OCLTV') > 75) & \n",
    "                                           (F.col('OCLTV') <= 80), F.lit('75-80'))\\\n",
    "                         .otherwise(F.when((F.col('OCLTV') > 80) & \n",
    "                                           (F.col('OCLTV') <= 85), F.lit('80-85'))\\\n",
    "                         .otherwise(F.when((F.col('OCLTV') > 85) & \n",
    "                                           (F.col('OCLTV') <= 90), F.lit('85-90'))\\\n",
    "                         .otherwise(F.when((F.col('OCLTV') > 90) & \n",
    "                                           (F.col('OCLTV') <= 97), F.lit('90-97'))\\\n",
    "                         .otherwise(F.when((F.col('OCLTV') > 97), F.lit('97+'))))))))))))"
   ]
  },
  {
   "cell_type": "code",
   "execution_count": 145,
   "metadata": {},
   "outputs": [],
   "source": [
    "statistics_data = statistics_data.withColumn('OltvBkt', F.when(F.col('OLTV').isNull(), F.lit('MissingOLTV'))\\\n",
    "                         .otherwise(F.when((F.col('OLTV') > 0) & \n",
    "                                           (F.col('OLTV') <= 60), F.lit('0-60'))\\\n",
    "                         .otherwise(F.when((F.col('OLTV') > 60) & \n",
    "                                           (F.col('OLTV') <= 65), F.lit('60-65'))\\\n",
    "                         .otherwise(F.when((F.col('OLTV') > 65) & \n",
    "                                           (F.col('OLTV') <= 70), F.lit('65-70'))\\\n",
    "                         .otherwise(F.when((F.col('OLTV') > 70) & \n",
    "                                           (F.col('OLTV') <= 75), F.lit('70-75'))\\\n",
    "                         .otherwise(F.when((F.col('OLTV') > 75) & \n",
    "                                           (F.col('OLTV') <= 80), F.lit('75-80'))\\\n",
    "                         .otherwise(F.when((F.col('OLTV') > 80) & \n",
    "                                           (F.col('OLTV') <= 85), F.lit('80-85'))\\\n",
    "                         .otherwise(F.when((F.col('OLTV') > 85) & \n",
    "                                           (F.col('OLTV') <= 90), F.lit('85-90'))\\\n",
    "                         .otherwise(F.when((F.col('OLTV') > 90) & \n",
    "                                           (F.col('OLTV') <= 97), F.lit('90-97'))\\\n",
    "                         .otherwise(F.when((F.col('OLTV') > 97), F.lit('97+'))))))))))))"
   ]
  },
  {
   "cell_type": "code",
   "execution_count": 146,
   "metadata": {},
   "outputs": [],
   "source": [
    "statistics_data = statistics_data.withColumn('FicoBkt', F.when(F.col('CSCORE_MN').isNull(), F.lit('MissingFICO'))\\\n",
    "                         .otherwise(F.when((F.col('CSCORE_MN') > 0) & \n",
    "                                           (F.col('CSCORE_MN') <= 620), F.lit('0-620'))\\\n",
    "                         .otherwise(F.when((F.col('CSCORE_MN') > 620) & \n",
    "                                           (F.col('CSCORE_MN') <= 660), F.lit('620-660'))\\\n",
    "                         .otherwise(F.when((F.col('CSCORE_MN') > 660) & \n",
    "                                           (F.col('CSCORE_MN') <= 700), F.lit('660-700'))\\\n",
    "                         .otherwise(F.when((F.col('CSCORE_MN') > 700) & \n",
    "                                           (F.col('CSCORE_MN') <= 740), F.lit('700-740'))\\\n",
    "                         .otherwise(F.when((F.col('CSCORE_MN') > 740) & \n",
    "                                           (F.col('CSCORE_MN') <= 780), F.lit('740-780'))\\\n",
    "                         .otherwise(F.when((F.col('CSCORE_MN') > 780), F.lit('780>')))))))))"
   ]
  },
  {
   "cell_type": "code",
   "execution_count": 147,
   "metadata": {},
   "outputs": [],
   "source": [
    "statistics_data = statistics_data.withColumn('DtiBkt', F.when(F.col('DTI').isNull(), F.lit('MissingDTI'))\\\n",
    "                         .otherwise(F.when((F.col('DTI') > 0) & \n",
    "                                           (F.col('DTI') <= 20), F.lit('0-20'))\\\n",
    "                         .otherwise(F.when((F.col('DTI') > 20) & \n",
    "                                           (F.col('DTI') <= 30), F.lit('20-30'))\\\n",
    "                         .otherwise(F.when((F.col('DTI') > 30) & \n",
    "                                           (F.col('DTI') <= 40), F.lit('30-40'))\\\n",
    "                         .otherwise(F.when((F.col('DTI') > 40) & \n",
    "                                           (F.col('DTI') <= 45), F.lit('40-45'))\\\n",
    "                         .otherwise(F.when((F.col('DTI') > 45), F.lit('45+'))))))))"
   ]
  },
  {
   "cell_type": "code",
   "execution_count": 148,
   "metadata": {},
   "outputs": [],
   "source": [
    "statistics_data = statistics_data.withColumn('OrigAmtBkt', F.when(F.col('ORIG_AMT').isNull(), F.lit('MissingORGAMT'))\\\n",
    "                         .otherwise(F.when((F.col('ORIG_AMT') > 0) & \n",
    "                                           (F.col('ORIG_AMT') <= 85000), F.lit('0-85k'))\\\n",
    "                         .otherwise(F.when((F.col('ORIG_AMT') > 85000) & \n",
    "                                           (F.col('ORIG_AMT') <= 110000), F.lit('85k-110k'))\\\n",
    "                         .otherwise(F.when((F.col('ORIG_AMT') > 110000) & \n",
    "                                           (F.col('ORIG_AMT') <= 125000), F.lit('110k-125k'))\\\n",
    "                         .otherwise(F.when((F.col('ORIG_AMT') > 125000) & \n",
    "                                           (F.col('ORIG_AMT') <= 150000), F.lit('125k-150k'))\\\n",
    "                         .otherwise(F.when((F.col('ORIG_AMT') > 150000) & \n",
    "                                           (F.col('ORIG_AMT') <= 175000), F.lit('150k-175k'))\\\n",
    "                         .otherwise(F.when((F.col('ORIG_AMT') > 175000) & \n",
    "                                           (F.col('ORIG_AMT') <= 200000), F.lit('175k-200k'))\\\n",
    "                         .otherwise(F.when((F.col('ORIG_AMT') > 200000) & \n",
    "                                           (F.col('ORIG_AMT') <= 417000), F.lit('200k-417k'))\\\n",
    "                         .otherwise(F.when((F.col('ORIG_AMT') > 417000), F.lit('417k+')))))))))))"
   ]
  },
  {
   "cell_type": "code",
   "execution_count": 149,
   "metadata": {},
   "outputs": [],
   "source": [
    "statistics_data = statistics_data.withColumn('NumBoBkt', F.when(F.col('NUM_BO').isNull(), F.lit('MissingNumBo'))\\\n",
    "                         .otherwise(F.when((F.col('NUM_BO') == 1), F.lit('1'))\\\n",
    "                         .otherwise(F.when((F.col('NUM_BO') == 2), F.lit('2')).otherwise(F.lit('3+')))))"
   ]
  },
  {
   "cell_type": "code",
   "execution_count": 150,
   "metadata": {},
   "outputs": [],
   "source": [
    "statistics_data = statistics_data.withColumn('SATOBkt', F.when(F.col('SATO').isNull(), F.lit('MissingSATO'))\\\n",
    "                         .otherwise(F.when((F.col('SATO') <= (-2)), F.lit('<-2%'))\\\n",
    "                         .otherwise(F.when((F.col('SATO') > (-2)) & \n",
    "                                           (F.col('SATO') <= (-1.5)), F.lit('-2%, -1.5%'))\\\n",
    "                         .otherwise(F.when((F.col('SATO') > (-1.5)) & \n",
    "                                           (F.col('SATO') <= (-1)), F.lit('-1.5%, -1%'))\\\n",
    "                         .otherwise(F.when((F.col('SATO') > (-1)) & \n",
    "                                           (F.col('SATO') <= (-0.5)), F.lit('-1%, -0.5%'))\\\n",
    "                         .otherwise(F.when((F.col('SATO') > (-0.5)) & \n",
    "                                           (F.col('SATO') <= 0), F.lit('-0.5%, 0%'))\\\n",
    "                         .otherwise(F.when((F.col('SATO') > 0) & \n",
    "                                           (F.col('SATO') <= 0.5), F.lit('0%, 0.5%'))\\\n",
    "                         .otherwise(F.when((F.col('SATO') > 0.5) & \n",
    "                                           (F.col('SATO') <= 1), F.lit('0.5%, 1%'))\\\n",
    "                         .otherwise(F.when((F.col('SATO') > 1) & \n",
    "                                           (F.col('SATO') <= 1.5), F.lit('1%, 1.5%'))\\\n",
    "                         .otherwise(F.when((F.col('SATO') > 1.5) & \n",
    "                                           (F.col('SATO') <= 2), F.lit('1.5%, 2%'))\\\n",
    "                         .otherwise(F.when((F.col('SATO') > 2), F.lit('2%>')))))))))))))"
   ]
  },
  {
   "cell_type": "markdown",
   "metadata": {},
   "source": [
    "***For the following calculations we need a subset of the data. To speed up the process we are going to rely on this small dataset***"
   ]
  },
  {
   "cell_type": "code",
   "execution_count": 151,
   "metadata": {},
   "outputs": [],
   "source": [
    "statistics_data_default = statistics_data.where((F.col('DISP_DT').isNotNull()))"
   ]
  },
  {
   "cell_type": "code",
   "execution_count": 152,
   "metadata": {},
   "outputs": [
    {
     "data": {
      "text/plain": [
       "9362516"
      ]
     },
     "execution_count": 152,
     "metadata": {},
     "output_type": "execute_result"
    }
   ],
   "source": [
    "statistics_data_default.count()"
   ]
  },
  {
   "cell_type": "markdown",
   "metadata": {},
   "source": [
    "***The following section will calculate the default, the severity and loss rates across various dimensions***"
   ]
  },
  {
   "cell_type": "markdown",
   "metadata": {},
   "source": [
    "***Default by Vintage and Occupancy***"
   ]
  },
  {
   "cell_type": "code",
   "execution_count": 153,
   "metadata": {},
   "outputs": [],
   "source": [
    "df = statistics_data_default.fillna('9999', 'VinYr')"
   ]
  },
  {
   "cell_type": "code",
   "execution_count": 154,
   "metadata": {},
   "outputs": [],
   "source": [
    "vintage_years = [row.VinYr for row in df.select('VinYr').orderBy('VinYr').distinct().collect() if row.VinYr != '9999']"
   ]
  },
  {
   "cell_type": "code",
   "execution_count": 155,
   "metadata": {},
   "outputs": [],
   "source": [
    "for vinyr in vintage_years:\n",
    "    df = df.withColumn(vinyr, F.when(F.col('VinYr') == vinyr, F.col('LAST_UPB')/F.col('ORIG_AMT')).otherwise(F.lit(0)))"
   ]
  },
  {
   "cell_type": "code",
   "execution_count": 156,
   "metadata": {},
   "outputs": [],
   "source": [
    "expr = [F.sum(x).alias(x) for x in vintage_years]"
   ]
  },
  {
   "cell_type": "code",
   "execution_count": 157,
   "metadata": {},
   "outputs": [],
   "source": [
    "df = df.where(F.col('OCC_STAT').isNotNull()).groupBy('OCC_STAT').agg(*expr)"
   ]
  },
  {
   "cell_type": "code",
   "execution_count": 158,
   "metadata": {},
   "outputs": [],
   "source": [
    "df_total = df.withColumn('Total', F.lit('Total')).groupBy('Total').agg(*expr)"
   ]
  },
  {
   "cell_type": "markdown",
   "metadata": {},
   "source": [
    "AGGREGATE"
   ]
  },
  {
   "cell_type": "code",
   "execution_count": 159,
   "metadata": {},
   "outputs": [],
   "source": [
    "total = df.union(df_total)"
   ]
  },
  {
   "cell_type": "code",
   "execution_count": 160,
   "metadata": {},
   "outputs": [
    {
     "data": {
      "text/html": [
       "<div>\n",
       "<style scoped>\n",
       "    .dataframe tbody tr th:only-of-type {\n",
       "        vertical-align: middle;\n",
       "    }\n",
       "\n",
       "    .dataframe tbody tr th {\n",
       "        vertical-align: top;\n",
       "    }\n",
       "\n",
       "    .dataframe thead th {\n",
       "        text-align: right;\n",
       "    }\n",
       "</style>\n",
       "<table border=\"1\" class=\"dataframe\">\n",
       "  <thead>\n",
       "    <tr style=\"text-align: right;\">\n",
       "      <th></th>\n",
       "      <th>OCC_STAT</th>\n",
       "      <th>2011</th>\n",
       "      <th>2012</th>\n",
       "      <th>2013</th>\n",
       "      <th>2014</th>\n",
       "      <th>2015</th>\n",
       "      <th>2016</th>\n",
       "      <th>2017</th>\n",
       "      <th>2018</th>\n",
       "      <th>2019</th>\n",
       "    </tr>\n",
       "  </thead>\n",
       "  <tbody>\n",
       "    <tr>\n",
       "      <th>0</th>\n",
       "      <td>S</td>\n",
       "      <td>0.000000</td>\n",
       "      <td>11.888814</td>\n",
       "      <td>4825.207807</td>\n",
       "      <td>5.727511e+04</td>\n",
       "      <td>7.034634e+04</td>\n",
       "      <td>8.206753e+04</td>\n",
       "      <td>7.959063e+04</td>\n",
       "      <td>6.963359e+04</td>\n",
       "      <td>6993.466891</td>\n",
       "    </tr>\n",
       "    <tr>\n",
       "      <th>1</th>\n",
       "      <td>I</td>\n",
       "      <td>0.544574</td>\n",
       "      <td>7.626266</td>\n",
       "      <td>11196.040716</td>\n",
       "      <td>1.194433e+05</td>\n",
       "      <td>1.422361e+05</td>\n",
       "      <td>1.469366e+05</td>\n",
       "      <td>1.434381e+05</td>\n",
       "      <td>1.208658e+05</td>\n",
       "      <td>12608.074604</td>\n",
       "    </tr>\n",
       "    <tr>\n",
       "      <th>2</th>\n",
       "      <td>P</td>\n",
       "      <td>0.000000</td>\n",
       "      <td>268.982743</td>\n",
       "      <td>87661.914347</td>\n",
       "      <td>1.070124e+06</td>\n",
       "      <td>1.416911e+06</td>\n",
       "      <td>1.832491e+06</td>\n",
       "      <td>1.549847e+06</td>\n",
       "      <td>1.319145e+06</td>\n",
       "      <td>141124.984517</td>\n",
       "    </tr>\n",
       "    <tr>\n",
       "      <th>3</th>\n",
       "      <td>Total</td>\n",
       "      <td>0.544574</td>\n",
       "      <td>288.497824</td>\n",
       "      <td>103683.162870</td>\n",
       "      <td>1.246842e+06</td>\n",
       "      <td>1.629493e+06</td>\n",
       "      <td>2.061495e+06</td>\n",
       "      <td>1.772876e+06</td>\n",
       "      <td>1.509645e+06</td>\n",
       "      <td>160726.526012</td>\n",
       "    </tr>\n",
       "  </tbody>\n",
       "</table>\n",
       "</div>"
      ],
      "text/plain": [
       "  OCC_STAT      2011        2012           2013          2014          2015  \\\n",
       "0        S  0.000000   11.888814    4825.207807  5.727511e+04  7.034634e+04   \n",
       "1        I  0.544574    7.626266   11196.040716  1.194433e+05  1.422361e+05   \n",
       "2        P  0.000000  268.982743   87661.914347  1.070124e+06  1.416911e+06   \n",
       "3    Total  0.544574  288.497824  103683.162870  1.246842e+06  1.629493e+06   \n",
       "\n",
       "           2016          2017          2018           2019  \n",
       "0  8.206753e+04  7.959063e+04  6.963359e+04    6993.466891  \n",
       "1  1.469366e+05  1.434381e+05  1.208658e+05   12608.074604  \n",
       "2  1.832491e+06  1.549847e+06  1.319145e+06  141124.984517  \n",
       "3  2.061495e+06  1.772876e+06  1.509645e+06  160726.526012  "
      ]
     },
     "execution_count": 160,
     "metadata": {},
     "output_type": "execute_result"
    }
   ],
   "source": [
    "total.toPandas()"
   ]
  },
  {
   "cell_type": "markdown",
   "metadata": {},
   "source": [
    "***Severity by Vintage and Occupancy***"
   ]
  },
  {
   "cell_type": "code",
   "execution_count": 161,
   "metadata": {},
   "outputs": [],
   "source": [
    "df = statistics_data_default.fillna('9999', 'VinYr')"
   ]
  },
  {
   "cell_type": "code",
   "execution_count": 162,
   "metadata": {},
   "outputs": [],
   "source": [
    "vintage_years = [row.VinYr for row in df.select('VinYr').orderBy('VinYr').distinct().collect() if row.VinYr != '9999']"
   ]
  },
  {
   "cell_type": "code",
   "execution_count": 163,
   "metadata": {},
   "outputs": [],
   "source": [
    "for vinyr in vintage_years:\n",
    "    df = df.withColumn(vinyr, F.when(F.col('VinYr') == vinyr, F.col('NET_LOSS')/F.col('LAST_UPB')).otherwise(F.lit(0)))"
   ]
  },
  {
   "cell_type": "code",
   "execution_count": 164,
   "metadata": {},
   "outputs": [],
   "source": [
    "expr = [F.sum(x).alias(x) for x in vintage_years]"
   ]
  },
  {
   "cell_type": "code",
   "execution_count": 165,
   "metadata": {},
   "outputs": [],
   "source": [
    "df = df.where(F.col('OCC_STAT').isNotNull()).groupBy('OCC_STAT').agg(*expr)"
   ]
  },
  {
   "cell_type": "code",
   "execution_count": 166,
   "metadata": {},
   "outputs": [],
   "source": [
    "df_total = df.withColumn('Total', F.lit('Total')).groupBy('Total').agg(*expr)"
   ]
  },
  {
   "cell_type": "markdown",
   "metadata": {},
   "source": [
    "AGGREGATE"
   ]
  },
  {
   "cell_type": "code",
   "execution_count": 167,
   "metadata": {},
   "outputs": [],
   "source": [
    "total = df.union(df_total)"
   ]
  },
  {
   "cell_type": "code",
   "execution_count": 168,
   "metadata": {},
   "outputs": [
    {
     "data": {
      "text/html": [
       "<div>\n",
       "<style scoped>\n",
       "    .dataframe tbody tr th:only-of-type {\n",
       "        vertical-align: middle;\n",
       "    }\n",
       "\n",
       "    .dataframe tbody tr th {\n",
       "        vertical-align: top;\n",
       "    }\n",
       "\n",
       "    .dataframe thead th {\n",
       "        text-align: right;\n",
       "    }\n",
       "</style>\n",
       "<table border=\"1\" class=\"dataframe\">\n",
       "  <thead>\n",
       "    <tr style=\"text-align: right;\">\n",
       "      <th></th>\n",
       "      <th>OCC_STAT</th>\n",
       "      <th>2011</th>\n",
       "      <th>2012</th>\n",
       "      <th>2013</th>\n",
       "      <th>2014</th>\n",
       "      <th>2015</th>\n",
       "      <th>2016</th>\n",
       "      <th>2017</th>\n",
       "      <th>2018</th>\n",
       "      <th>2019</th>\n",
       "    </tr>\n",
       "  </thead>\n",
       "  <tbody>\n",
       "    <tr>\n",
       "      <th>0</th>\n",
       "      <td>S</td>\n",
       "      <td>0.0</td>\n",
       "      <td>25.0</td>\n",
       "      <td>5885.172226</td>\n",
       "      <td>6.825206e+04</td>\n",
       "      <td>8.176822e+04</td>\n",
       "      <td>9.271781e+04</td>\n",
       "      <td>8.670403e+04</td>\n",
       "      <td>7.317299e+04</td>\n",
       "      <td>7228.0</td>\n",
       "    </tr>\n",
       "    <tr>\n",
       "      <th>1</th>\n",
       "      <td>I</td>\n",
       "      <td>1.0</td>\n",
       "      <td>10.0</td>\n",
       "      <td>13408.149329</td>\n",
       "      <td>1.400665e+05</td>\n",
       "      <td>1.621366e+05</td>\n",
       "      <td>1.623511e+05</td>\n",
       "      <td>1.532510e+05</td>\n",
       "      <td>1.253040e+05</td>\n",
       "      <td>12904.0</td>\n",
       "    </tr>\n",
       "    <tr>\n",
       "      <th>2</th>\n",
       "      <td>P</td>\n",
       "      <td>0.0</td>\n",
       "      <td>709.0</td>\n",
       "      <td>103552.432657</td>\n",
       "      <td>1.235490e+06</td>\n",
       "      <td>1.615111e+06</td>\n",
       "      <td>2.042404e+06</td>\n",
       "      <td>1.664091e+06</td>\n",
       "      <td>1.369851e+06</td>\n",
       "      <td>144570.0</td>\n",
       "    </tr>\n",
       "    <tr>\n",
       "      <th>3</th>\n",
       "      <td>Total</td>\n",
       "      <td>1.0</td>\n",
       "      <td>744.0</td>\n",
       "      <td>122845.754212</td>\n",
       "      <td>1.443809e+06</td>\n",
       "      <td>1.859015e+06</td>\n",
       "      <td>2.297473e+06</td>\n",
       "      <td>1.904046e+06</td>\n",
       "      <td>1.568328e+06</td>\n",
       "      <td>164702.0</td>\n",
       "    </tr>\n",
       "  </tbody>\n",
       "</table>\n",
       "</div>"
      ],
      "text/plain": [
       "  OCC_STAT  2011   2012           2013          2014          2015  \\\n",
       "0        S   0.0   25.0    5885.172226  6.825206e+04  8.176822e+04   \n",
       "1        I   1.0   10.0   13408.149329  1.400665e+05  1.621366e+05   \n",
       "2        P   0.0  709.0  103552.432657  1.235490e+06  1.615111e+06   \n",
       "3    Total   1.0  744.0  122845.754212  1.443809e+06  1.859015e+06   \n",
       "\n",
       "           2016          2017          2018      2019  \n",
       "0  9.271781e+04  8.670403e+04  7.317299e+04    7228.0  \n",
       "1  1.623511e+05  1.532510e+05  1.253040e+05   12904.0  \n",
       "2  2.042404e+06  1.664091e+06  1.369851e+06  144570.0  \n",
       "3  2.297473e+06  1.904046e+06  1.568328e+06  164702.0  "
      ]
     },
     "execution_count": 168,
     "metadata": {},
     "output_type": "execute_result"
    }
   ],
   "source": [
    "total.toPandas()"
   ]
  },
  {
   "cell_type": "markdown",
   "metadata": {},
   "source": [
    "***Loss Rate by Vintage and Occupancy***"
   ]
  },
  {
   "cell_type": "code",
   "execution_count": 169,
   "metadata": {},
   "outputs": [],
   "source": [
    "df = statistics_data_default.fillna('9999', 'VinYr')"
   ]
  },
  {
   "cell_type": "code",
   "execution_count": 170,
   "metadata": {},
   "outputs": [],
   "source": [
    "vintage_years = [row.VinYr for row in df.select('VinYr').orderBy('VinYr').distinct().collect() if row.VinYr != '9999']"
   ]
  },
  {
   "cell_type": "code",
   "execution_count": 171,
   "metadata": {},
   "outputs": [],
   "source": [
    "for vinyr in vintage_years:\n",
    "    df = df.withColumn(vinyr, F.when(F.col('VinYr') == vinyr, F.col('NET_LOSS')/F.col('ORIG_AMT')).otherwise(F.lit(0)))"
   ]
  },
  {
   "cell_type": "code",
   "execution_count": 172,
   "metadata": {},
   "outputs": [],
   "source": [
    "expr = [F.sum(x).alias(x) for x in vintage_years]"
   ]
  },
  {
   "cell_type": "code",
   "execution_count": 173,
   "metadata": {},
   "outputs": [],
   "source": [
    "df = df.where(F.col('OCC_STAT').isNotNull()).groupBy('OCC_STAT').agg(*expr)"
   ]
  },
  {
   "cell_type": "code",
   "execution_count": 174,
   "metadata": {},
   "outputs": [],
   "source": [
    "df_total = df.withColumn('Total', F.lit('Total')).groupBy('Total').agg(*expr)"
   ]
  },
  {
   "cell_type": "markdown",
   "metadata": {},
   "source": [
    "AGGREGATE"
   ]
  },
  {
   "cell_type": "code",
   "execution_count": 175,
   "metadata": {},
   "outputs": [],
   "source": [
    "total = df.union(df_total)"
   ]
  },
  {
   "cell_type": "code",
   "execution_count": 176,
   "metadata": {},
   "outputs": [
    {
     "data": {
      "text/html": [
       "<div>\n",
       "<style scoped>\n",
       "    .dataframe tbody tr th:only-of-type {\n",
       "        vertical-align: middle;\n",
       "    }\n",
       "\n",
       "    .dataframe tbody tr th {\n",
       "        vertical-align: top;\n",
       "    }\n",
       "\n",
       "    .dataframe thead th {\n",
       "        text-align: right;\n",
       "    }\n",
       "</style>\n",
       "<table border=\"1\" class=\"dataframe\">\n",
       "  <thead>\n",
       "    <tr style=\"text-align: right;\">\n",
       "      <th></th>\n",
       "      <th>OCC_STAT</th>\n",
       "      <th>2011</th>\n",
       "      <th>2012</th>\n",
       "      <th>2013</th>\n",
       "      <th>2014</th>\n",
       "      <th>2015</th>\n",
       "      <th>2016</th>\n",
       "      <th>2017</th>\n",
       "      <th>2018</th>\n",
       "      <th>2019</th>\n",
       "    </tr>\n",
       "  </thead>\n",
       "  <tbody>\n",
       "    <tr>\n",
       "      <th>0</th>\n",
       "      <td>S</td>\n",
       "      <td>0.000000</td>\n",
       "      <td>11.888814</td>\n",
       "      <td>4824.403203</td>\n",
       "      <td>5.726462e+04</td>\n",
       "      <td>7.034376e+04</td>\n",
       "      <td>8.206154e+04</td>\n",
       "      <td>7.958670e+04</td>\n",
       "      <td>6.963158e+04</td>\n",
       "      <td>6993.466891</td>\n",
       "    </tr>\n",
       "    <tr>\n",
       "      <th>1</th>\n",
       "      <td>I</td>\n",
       "      <td>0.544574</td>\n",
       "      <td>7.626266</td>\n",
       "      <td>11190.592073</td>\n",
       "      <td>1.194237e+05</td>\n",
       "      <td>1.422234e+05</td>\n",
       "      <td>1.469270e+05</td>\n",
       "      <td>1.434312e+05</td>\n",
       "      <td>1.208658e+05</td>\n",
       "      <td>12608.074604</td>\n",
       "    </tr>\n",
       "    <tr>\n",
       "      <th>2</th>\n",
       "      <td>P</td>\n",
       "      <td>0.000000</td>\n",
       "      <td>268.982743</td>\n",
       "      <td>87626.346018</td>\n",
       "      <td>1.069684e+06</td>\n",
       "      <td>1.416523e+06</td>\n",
       "      <td>1.832216e+06</td>\n",
       "      <td>1.549751e+06</td>\n",
       "      <td>1.319133e+06</td>\n",
       "      <td>141124.984517</td>\n",
       "    </tr>\n",
       "    <tr>\n",
       "      <th>3</th>\n",
       "      <td>Total</td>\n",
       "      <td>0.544574</td>\n",
       "      <td>288.497824</td>\n",
       "      <td>103641.341294</td>\n",
       "      <td>1.246372e+06</td>\n",
       "      <td>1.629090e+06</td>\n",
       "      <td>2.061204e+06</td>\n",
       "      <td>1.772769e+06</td>\n",
       "      <td>1.509631e+06</td>\n",
       "      <td>160726.526012</td>\n",
       "    </tr>\n",
       "  </tbody>\n",
       "</table>\n",
       "</div>"
      ],
      "text/plain": [
       "  OCC_STAT      2011        2012           2013          2014          2015  \\\n",
       "0        S  0.000000   11.888814    4824.403203  5.726462e+04  7.034376e+04   \n",
       "1        I  0.544574    7.626266   11190.592073  1.194237e+05  1.422234e+05   \n",
       "2        P  0.000000  268.982743   87626.346018  1.069684e+06  1.416523e+06   \n",
       "3    Total  0.544574  288.497824  103641.341294  1.246372e+06  1.629090e+06   \n",
       "\n",
       "           2016          2017          2018           2019  \n",
       "0  8.206154e+04  7.958670e+04  6.963158e+04    6993.466891  \n",
       "1  1.469270e+05  1.434312e+05  1.208658e+05   12608.074604  \n",
       "2  1.832216e+06  1.549751e+06  1.319133e+06  141124.984517  \n",
       "3  2.061204e+06  1.772769e+06  1.509631e+06  160726.526012  "
      ]
     },
     "execution_count": 176,
     "metadata": {},
     "output_type": "execute_result"
    }
   ],
   "source": [
    "total.toPandas()"
   ]
  },
  {
   "cell_type": "markdown",
   "metadata": {},
   "source": [
    "***Default Rate by CLTV and occupancy***"
   ]
  },
  {
   "cell_type": "code",
   "execution_count": 177,
   "metadata": {},
   "outputs": [],
   "source": [
    "df = statistics_data_default"
   ]
  },
  {
   "cell_type": "code",
   "execution_count": 178,
   "metadata": {},
   "outputs": [],
   "source": [
    "occupancy = [row.OCC_STAT for row in df.select('OCC_STAT').orderBy('OCC_STAT').distinct().collect()]"
   ]
  },
  {
   "cell_type": "code",
   "execution_count": 179,
   "metadata": {},
   "outputs": [],
   "source": [
    "for occ in occupancy:\n",
    "    df = df.withColumn(occ, F.when(F.col('OCC_STAT') == occ, F.col('LAST_UPB')/F.col('ORIG_AMT')).otherwise(F.lit(0)))"
   ]
  },
  {
   "cell_type": "code",
   "execution_count": 180,
   "metadata": {},
   "outputs": [],
   "source": [
    "expr = [F.sum(x).alias(x) for x in occupancy]"
   ]
  },
  {
   "cell_type": "code",
   "execution_count": 181,
   "metadata": {},
   "outputs": [],
   "source": [
    "df = df.where(F.col('OcltvBkt').isNotNull()).orderBy('OcltvBkt').groupBy('OcltvBkt').agg(*expr)"
   ]
  },
  {
   "cell_type": "code",
   "execution_count": 182,
   "metadata": {},
   "outputs": [],
   "source": [
    "df_total = df.withColumn('Total', F.lit('Total')).groupBy('Total').agg(*expr)"
   ]
  },
  {
   "cell_type": "markdown",
   "metadata": {},
   "source": [
    "AGGREGATE"
   ]
  },
  {
   "cell_type": "code",
   "execution_count": 183,
   "metadata": {},
   "outputs": [],
   "source": [
    "total = df.union(df_total)"
   ]
  },
  {
   "cell_type": "code",
   "execution_count": 184,
   "metadata": {},
   "outputs": [
    {
     "data": {
      "text/html": [
       "<div>\n",
       "<style scoped>\n",
       "    .dataframe tbody tr th:only-of-type {\n",
       "        vertical-align: middle;\n",
       "    }\n",
       "\n",
       "    .dataframe tbody tr th {\n",
       "        vertical-align: top;\n",
       "    }\n",
       "\n",
       "    .dataframe thead th {\n",
       "        text-align: right;\n",
       "    }\n",
       "</style>\n",
       "<table border=\"1\" class=\"dataframe\">\n",
       "  <thead>\n",
       "    <tr style=\"text-align: right;\">\n",
       "      <th></th>\n",
       "      <th>OcltvBkt</th>\n",
       "      <th>I</th>\n",
       "      <th>P</th>\n",
       "      <th>S</th>\n",
       "    </tr>\n",
       "  </thead>\n",
       "  <tbody>\n",
       "    <tr>\n",
       "      <th>0</th>\n",
       "      <td>0-60</td>\n",
       "      <td>147664.285945</td>\n",
       "      <td>1.332338e+06</td>\n",
       "      <td>57446.401071</td>\n",
       "    </tr>\n",
       "    <tr>\n",
       "      <th>1</th>\n",
       "      <td>60-65</td>\n",
       "      <td>39832.003769</td>\n",
       "      <td>3.402799e+05</td>\n",
       "      <td>13595.752739</td>\n",
       "    </tr>\n",
       "    <tr>\n",
       "      <th>2</th>\n",
       "      <td>65-70</td>\n",
       "      <td>87392.872371</td>\n",
       "      <td>5.215018e+05</td>\n",
       "      <td>24376.693395</td>\n",
       "    </tr>\n",
       "    <tr>\n",
       "      <th>3</th>\n",
       "      <td>70-75</td>\n",
       "      <td>281225.677964</td>\n",
       "      <td>6.732181e+05</td>\n",
       "      <td>43975.052849</td>\n",
       "    </tr>\n",
       "    <tr>\n",
       "      <th>4</th>\n",
       "      <td>75-80</td>\n",
       "      <td>129275.550828</td>\n",
       "      <td>1.998887e+06</td>\n",
       "      <td>130717.238335</td>\n",
       "    </tr>\n",
       "    <tr>\n",
       "      <th>5</th>\n",
       "      <td>80-85</td>\n",
       "      <td>11339.182030</td>\n",
       "      <td>2.920364e+05</td>\n",
       "      <td>7422.861284</td>\n",
       "    </tr>\n",
       "    <tr>\n",
       "      <th>6</th>\n",
       "      <td>85-90</td>\n",
       "      <td>1.943416</td>\n",
       "      <td>6.588594e+05</td>\n",
       "      <td>93206.673023</td>\n",
       "    </tr>\n",
       "    <tr>\n",
       "      <th>7</th>\n",
       "      <td>90-97</td>\n",
       "      <td>0.684391</td>\n",
       "      <td>1.483476e+06</td>\n",
       "      <td>3.090679</td>\n",
       "    </tr>\n",
       "    <tr>\n",
       "      <th>8</th>\n",
       "      <td>97+</td>\n",
       "      <td>0.000000</td>\n",
       "      <td>1.169767e+05</td>\n",
       "      <td>0.000000</td>\n",
       "    </tr>\n",
       "    <tr>\n",
       "      <th>9</th>\n",
       "      <td>Total</td>\n",
       "      <td>696732.200715</td>\n",
       "      <td>7.417573e+06</td>\n",
       "      <td>370743.763373</td>\n",
       "    </tr>\n",
       "  </tbody>\n",
       "</table>\n",
       "</div>"
      ],
      "text/plain": [
       "  OcltvBkt              I             P              S\n",
       "0     0-60  147664.285945  1.332338e+06   57446.401071\n",
       "1    60-65   39832.003769  3.402799e+05   13595.752739\n",
       "2    65-70   87392.872371  5.215018e+05   24376.693395\n",
       "3    70-75  281225.677964  6.732181e+05   43975.052849\n",
       "4    75-80  129275.550828  1.998887e+06  130717.238335\n",
       "5    80-85   11339.182030  2.920364e+05    7422.861284\n",
       "6    85-90       1.943416  6.588594e+05   93206.673023\n",
       "7    90-97       0.684391  1.483476e+06       3.090679\n",
       "8      97+       0.000000  1.169767e+05       0.000000\n",
       "9    Total  696732.200715  7.417573e+06  370743.763373"
      ]
     },
     "execution_count": 184,
     "metadata": {},
     "output_type": "execute_result"
    }
   ],
   "source": [
    "total.toPandas()"
   ]
  },
  {
   "cell_type": "markdown",
   "metadata": {},
   "source": [
    "***Default Rate by Vintage and Refinance Purpose***"
   ]
  },
  {
   "cell_type": "code",
   "execution_count": 185,
   "metadata": {},
   "outputs": [],
   "source": [
    "df = statistics_data_default.fillna('9999', 'VinYr')"
   ]
  },
  {
   "cell_type": "code",
   "execution_count": 186,
   "metadata": {},
   "outputs": [],
   "source": [
    "vintage_years = [row.VinYr for row in df.select('VinYr').orderBy('VinYr').distinct().collect() if row.VinYr != '9999']"
   ]
  },
  {
   "cell_type": "code",
   "execution_count": 187,
   "metadata": {},
   "outputs": [],
   "source": [
    "for vinyr in vintage_years:\n",
    "    df = df.withColumn(vinyr, F.when(F.col('VinYr') == vinyr, F.col('LAST_UPB')/F.col('ORIG_AMT')).otherwise(F.lit(0)))"
   ]
  },
  {
   "cell_type": "code",
   "execution_count": 188,
   "metadata": {},
   "outputs": [],
   "source": [
    "expr = [F.sum(x).alias(x) for x in vintage_years]"
   ]
  },
  {
   "cell_type": "code",
   "execution_count": 189,
   "metadata": {},
   "outputs": [],
   "source": [
    "df = df.where(F.col('PURPOSE').isNotNull()).groupBy('PURPOSE').agg(*expr)"
   ]
  },
  {
   "cell_type": "code",
   "execution_count": 190,
   "metadata": {},
   "outputs": [],
   "source": [
    "df_total = df.withColumn('Total', F.lit('Total')).groupBy('Total').agg(*expr)"
   ]
  },
  {
   "cell_type": "markdown",
   "metadata": {},
   "source": [
    "AGGREGATE"
   ]
  },
  {
   "cell_type": "code",
   "execution_count": 191,
   "metadata": {},
   "outputs": [],
   "source": [
    "total = df.union(df_total)"
   ]
  },
  {
   "cell_type": "code",
   "execution_count": 192,
   "metadata": {},
   "outputs": [
    {
     "data": {
      "text/html": [
       "<div>\n",
       "<style scoped>\n",
       "    .dataframe tbody tr th:only-of-type {\n",
       "        vertical-align: middle;\n",
       "    }\n",
       "\n",
       "    .dataframe tbody tr th {\n",
       "        vertical-align: top;\n",
       "    }\n",
       "\n",
       "    .dataframe thead th {\n",
       "        text-align: right;\n",
       "    }\n",
       "</style>\n",
       "<table border=\"1\" class=\"dataframe\">\n",
       "  <thead>\n",
       "    <tr style=\"text-align: right;\">\n",
       "      <th></th>\n",
       "      <th>PURPOSE</th>\n",
       "      <th>2011</th>\n",
       "      <th>2012</th>\n",
       "      <th>2013</th>\n",
       "      <th>2014</th>\n",
       "      <th>2015</th>\n",
       "      <th>2016</th>\n",
       "      <th>2017</th>\n",
       "      <th>2018</th>\n",
       "      <th>2019</th>\n",
       "    </tr>\n",
       "  </thead>\n",
       "  <tbody>\n",
       "    <tr>\n",
       "      <th>0</th>\n",
       "      <td>U</td>\n",
       "      <td>0.000000</td>\n",
       "      <td>0.000000</td>\n",
       "      <td>0.000000</td>\n",
       "      <td>1.854387e+00</td>\n",
       "      <td>0.000000e+00</td>\n",
       "      <td>0.000000e+00</td>\n",
       "      <td>0.000000e+00</td>\n",
       "      <td>0.000000e+00</td>\n",
       "      <td>0.000000</td>\n",
       "    </tr>\n",
       "    <tr>\n",
       "      <th>1</th>\n",
       "      <td>C</td>\n",
       "      <td>0.000000</td>\n",
       "      <td>107.130830</td>\n",
       "      <td>22029.979883</td>\n",
       "      <td>2.574140e+05</td>\n",
       "      <td>3.511056e+05</td>\n",
       "      <td>4.537430e+05</td>\n",
       "      <td>4.362981e+05</td>\n",
       "      <td>3.741188e+05</td>\n",
       "      <td>39288.977775</td>\n",
       "    </tr>\n",
       "    <tr>\n",
       "      <th>2</th>\n",
       "      <td>R</td>\n",
       "      <td>0.000000</td>\n",
       "      <td>145.955997</td>\n",
       "      <td>22870.532888</td>\n",
       "      <td>2.618182e+05</td>\n",
       "      <td>4.579284e+05</td>\n",
       "      <td>6.475275e+05</td>\n",
       "      <td>3.247144e+05</td>\n",
       "      <td>1.762797e+05</td>\n",
       "      <td>22576.464204</td>\n",
       "    </tr>\n",
       "    <tr>\n",
       "      <th>3</th>\n",
       "      <td>P</td>\n",
       "      <td>0.544574</td>\n",
       "      <td>35.410996</td>\n",
       "      <td>58782.650099</td>\n",
       "      <td>7.276079e+05</td>\n",
       "      <td>8.204590e+05</td>\n",
       "      <td>9.602248e+05</td>\n",
       "      <td>1.011863e+06</td>\n",
       "      <td>9.592460e+05</td>\n",
       "      <td>98861.084033</td>\n",
       "    </tr>\n",
       "    <tr>\n",
       "      <th>4</th>\n",
       "      <td>Total</td>\n",
       "      <td>0.544574</td>\n",
       "      <td>288.497824</td>\n",
       "      <td>103683.162870</td>\n",
       "      <td>1.246842e+06</td>\n",
       "      <td>1.629493e+06</td>\n",
       "      <td>2.061495e+06</td>\n",
       "      <td>1.772876e+06</td>\n",
       "      <td>1.509645e+06</td>\n",
       "      <td>160726.526012</td>\n",
       "    </tr>\n",
       "  </tbody>\n",
       "</table>\n",
       "</div>"
      ],
      "text/plain": [
       "  PURPOSE      2011        2012           2013          2014          2015  \\\n",
       "0       U  0.000000    0.000000       0.000000  1.854387e+00  0.000000e+00   \n",
       "1       C  0.000000  107.130830   22029.979883  2.574140e+05  3.511056e+05   \n",
       "2       R  0.000000  145.955997   22870.532888  2.618182e+05  4.579284e+05   \n",
       "3       P  0.544574   35.410996   58782.650099  7.276079e+05  8.204590e+05   \n",
       "4   Total  0.544574  288.497824  103683.162870  1.246842e+06  1.629493e+06   \n",
       "\n",
       "           2016          2017          2018           2019  \n",
       "0  0.000000e+00  0.000000e+00  0.000000e+00       0.000000  \n",
       "1  4.537430e+05  4.362981e+05  3.741188e+05   39288.977775  \n",
       "2  6.475275e+05  3.247144e+05  1.762797e+05   22576.464204  \n",
       "3  9.602248e+05  1.011863e+06  9.592460e+05   98861.084033  \n",
       "4  2.061495e+06  1.772876e+06  1.509645e+06  160726.526012  "
      ]
     },
     "execution_count": 192,
     "metadata": {},
     "output_type": "execute_result"
    }
   ],
   "source": [
    "total.toPandas()"
   ]
  },
  {
   "cell_type": "markdown",
   "metadata": {},
   "source": [
    "***Severity by Vintage and Refinance Purpose***"
   ]
  },
  {
   "cell_type": "code",
   "execution_count": 193,
   "metadata": {},
   "outputs": [],
   "source": [
    "df = statistics_data_default.fillna('9999', 'VinYr')"
   ]
  },
  {
   "cell_type": "code",
   "execution_count": 194,
   "metadata": {},
   "outputs": [],
   "source": [
    "vintage_years = [row.VinYr for row in df.select('VinYr').orderBy('VinYr').distinct().collect() if row.VinYr != '9999']"
   ]
  },
  {
   "cell_type": "code",
   "execution_count": 195,
   "metadata": {},
   "outputs": [],
   "source": [
    "for vinyr in vintage_years:\n",
    "    df = df.withColumn(vinyr, F.when(F.col('VinYr') == vinyr, F.col('NET_LOSS')/F.col('LAST_UPB')).otherwise(F.lit(0)))"
   ]
  },
  {
   "cell_type": "code",
   "execution_count": 196,
   "metadata": {},
   "outputs": [],
   "source": [
    "expr = [F.sum(x).alias(x) for x in vintage_years]"
   ]
  },
  {
   "cell_type": "code",
   "execution_count": 197,
   "metadata": {},
   "outputs": [],
   "source": [
    "df = df.where(F.col('PURPOSE').isNotNull()).groupBy('PURPOSE').agg(*expr)"
   ]
  },
  {
   "cell_type": "code",
   "execution_count": 198,
   "metadata": {},
   "outputs": [],
   "source": [
    "df_total = df.withColumn('Total', F.lit('Total')).groupBy('Total').agg(*expr)"
   ]
  },
  {
   "cell_type": "markdown",
   "metadata": {},
   "source": [
    "AGGREGATE"
   ]
  },
  {
   "cell_type": "code",
   "execution_count": 199,
   "metadata": {},
   "outputs": [],
   "source": [
    "total = df.union(df_total)"
   ]
  },
  {
   "cell_type": "code",
   "execution_count": 200,
   "metadata": {},
   "outputs": [
    {
     "data": {
      "text/html": [
       "<div>\n",
       "<style scoped>\n",
       "    .dataframe tbody tr th:only-of-type {\n",
       "        vertical-align: middle;\n",
       "    }\n",
       "\n",
       "    .dataframe tbody tr th {\n",
       "        vertical-align: top;\n",
       "    }\n",
       "\n",
       "    .dataframe thead th {\n",
       "        text-align: right;\n",
       "    }\n",
       "</style>\n",
       "<table border=\"1\" class=\"dataframe\">\n",
       "  <thead>\n",
       "    <tr style=\"text-align: right;\">\n",
       "      <th></th>\n",
       "      <th>PURPOSE</th>\n",
       "      <th>2011</th>\n",
       "      <th>2012</th>\n",
       "      <th>2013</th>\n",
       "      <th>2014</th>\n",
       "      <th>2015</th>\n",
       "      <th>2016</th>\n",
       "      <th>2017</th>\n",
       "      <th>2018</th>\n",
       "      <th>2019</th>\n",
       "    </tr>\n",
       "  </thead>\n",
       "  <tbody>\n",
       "    <tr>\n",
       "      <th>0</th>\n",
       "      <td>U</td>\n",
       "      <td>0.0</td>\n",
       "      <td>0.0</td>\n",
       "      <td>0.000000</td>\n",
       "      <td>2.000000e+00</td>\n",
       "      <td>0.000000e+00</td>\n",
       "      <td>0.000000e+00</td>\n",
       "      <td>0.000000e+00</td>\n",
       "      <td>0.000000e+00</td>\n",
       "      <td>0.0</td>\n",
       "    </tr>\n",
       "    <tr>\n",
       "      <th>1</th>\n",
       "      <td>C</td>\n",
       "      <td>0.0</td>\n",
       "      <td>296.0</td>\n",
       "      <td>26913.258887</td>\n",
       "      <td>3.045210e+05</td>\n",
       "      <td>4.041080e+05</td>\n",
       "      <td>5.054845e+05</td>\n",
       "      <td>4.679812e+05</td>\n",
       "      <td>3.876248e+05</td>\n",
       "      <td>40204.0</td>\n",
       "    </tr>\n",
       "    <tr>\n",
       "      <th>2</th>\n",
       "      <td>R</td>\n",
       "      <td>0.0</td>\n",
       "      <td>399.0</td>\n",
       "      <td>28261.156927</td>\n",
       "      <td>3.102612e+05</td>\n",
       "      <td>5.333113e+05</td>\n",
       "      <td>7.340548e+05</td>\n",
       "      <td>3.530814e+05</td>\n",
       "      <td>1.841399e+05</td>\n",
       "      <td>23120.0</td>\n",
       "    </tr>\n",
       "    <tr>\n",
       "      <th>3</th>\n",
       "      <td>P</td>\n",
       "      <td>1.0</td>\n",
       "      <td>49.0</td>\n",
       "      <td>67671.338398</td>\n",
       "      <td>8.290247e+05</td>\n",
       "      <td>9.215961e+05</td>\n",
       "      <td>1.057934e+06</td>\n",
       "      <td>1.082984e+06</td>\n",
       "      <td>9.965633e+05</td>\n",
       "      <td>101378.0</td>\n",
       "    </tr>\n",
       "    <tr>\n",
       "      <th>4</th>\n",
       "      <td>Total</td>\n",
       "      <td>1.0</td>\n",
       "      <td>744.0</td>\n",
       "      <td>122845.754212</td>\n",
       "      <td>1.443809e+06</td>\n",
       "      <td>1.859015e+06</td>\n",
       "      <td>2.297473e+06</td>\n",
       "      <td>1.904046e+06</td>\n",
       "      <td>1.568328e+06</td>\n",
       "      <td>164702.0</td>\n",
       "    </tr>\n",
       "  </tbody>\n",
       "</table>\n",
       "</div>"
      ],
      "text/plain": [
       "  PURPOSE  2011   2012           2013          2014          2015  \\\n",
       "0       U   0.0    0.0       0.000000  2.000000e+00  0.000000e+00   \n",
       "1       C   0.0  296.0   26913.258887  3.045210e+05  4.041080e+05   \n",
       "2       R   0.0  399.0   28261.156927  3.102612e+05  5.333113e+05   \n",
       "3       P   1.0   49.0   67671.338398  8.290247e+05  9.215961e+05   \n",
       "4   Total   1.0  744.0  122845.754212  1.443809e+06  1.859015e+06   \n",
       "\n",
       "           2016          2017          2018      2019  \n",
       "0  0.000000e+00  0.000000e+00  0.000000e+00       0.0  \n",
       "1  5.054845e+05  4.679812e+05  3.876248e+05   40204.0  \n",
       "2  7.340548e+05  3.530814e+05  1.841399e+05   23120.0  \n",
       "3  1.057934e+06  1.082984e+06  9.965633e+05  101378.0  \n",
       "4  2.297473e+06  1.904046e+06  1.568328e+06  164702.0  "
      ]
     },
     "execution_count": 200,
     "metadata": {},
     "output_type": "execute_result"
    }
   ],
   "source": [
    "total.toPandas()"
   ]
  },
  {
   "cell_type": "markdown",
   "metadata": {},
   "source": [
    "***Loss Rate by Vintage and Refinance Purpose***"
   ]
  },
  {
   "cell_type": "code",
   "execution_count": 201,
   "metadata": {},
   "outputs": [],
   "source": [
    "df = statistics_data_default.fillna('9999', 'VinYr')"
   ]
  },
  {
   "cell_type": "code",
   "execution_count": 202,
   "metadata": {},
   "outputs": [],
   "source": [
    "vintage_years = [row.VinYr for row in df.select('VinYr').orderBy('VinYr').distinct().collect() if row.VinYr != '9999']"
   ]
  },
  {
   "cell_type": "code",
   "execution_count": 203,
   "metadata": {},
   "outputs": [],
   "source": [
    "for vinyr in vintage_years:\n",
    "    df = df.withColumn(vinyr, F.when(F.col('VinYr') == vinyr, F.col('NET_LOSS')/F.col('ORIG_AMT')).otherwise(F.lit(0)))"
   ]
  },
  {
   "cell_type": "code",
   "execution_count": 204,
   "metadata": {},
   "outputs": [],
   "source": [
    "expr = [F.sum(x).alias(x) for x in vintage_years]"
   ]
  },
  {
   "cell_type": "code",
   "execution_count": 205,
   "metadata": {},
   "outputs": [],
   "source": [
    "df = df.where(F.col('PURPOSE').isNotNull()).groupBy('PURPOSE').agg(*expr)"
   ]
  },
  {
   "cell_type": "code",
   "execution_count": 206,
   "metadata": {},
   "outputs": [],
   "source": [
    "df_total = df.withColumn('Total', F.lit('Total')).groupBy('Total').agg(*expr)"
   ]
  },
  {
   "cell_type": "markdown",
   "metadata": {},
   "source": [
    "AGGREGATE"
   ]
  },
  {
   "cell_type": "code",
   "execution_count": 207,
   "metadata": {},
   "outputs": [],
   "source": [
    "total = df.union(df_total)"
   ]
  },
  {
   "cell_type": "code",
   "execution_count": 208,
   "metadata": {},
   "outputs": [
    {
     "data": {
      "text/html": [
       "<div>\n",
       "<style scoped>\n",
       "    .dataframe tbody tr th:only-of-type {\n",
       "        vertical-align: middle;\n",
       "    }\n",
       "\n",
       "    .dataframe tbody tr th {\n",
       "        vertical-align: top;\n",
       "    }\n",
       "\n",
       "    .dataframe thead th {\n",
       "        text-align: right;\n",
       "    }\n",
       "</style>\n",
       "<table border=\"1\" class=\"dataframe\">\n",
       "  <thead>\n",
       "    <tr style=\"text-align: right;\">\n",
       "      <th></th>\n",
       "      <th>PURPOSE</th>\n",
       "      <th>2011</th>\n",
       "      <th>2012</th>\n",
       "      <th>2013</th>\n",
       "      <th>2014</th>\n",
       "      <th>2015</th>\n",
       "      <th>2016</th>\n",
       "      <th>2017</th>\n",
       "      <th>2018</th>\n",
       "      <th>2019</th>\n",
       "    </tr>\n",
       "  </thead>\n",
       "  <tbody>\n",
       "    <tr>\n",
       "      <th>0</th>\n",
       "      <td>U</td>\n",
       "      <td>0.000000</td>\n",
       "      <td>0.000000</td>\n",
       "      <td>0.000000</td>\n",
       "      <td>1.854387e+00</td>\n",
       "      <td>0.000000e+00</td>\n",
       "      <td>0.000000e+00</td>\n",
       "      <td>0.000000e+00</td>\n",
       "      <td>0.000000e+00</td>\n",
       "      <td>0.000000</td>\n",
       "    </tr>\n",
       "    <tr>\n",
       "      <th>1</th>\n",
       "      <td>C</td>\n",
       "      <td>0.000000</td>\n",
       "      <td>107.130830</td>\n",
       "      <td>22018.731150</td>\n",
       "      <td>2.572890e+05</td>\n",
       "      <td>3.510169e+05</td>\n",
       "      <td>4.536801e+05</td>\n",
       "      <td>4.362716e+05</td>\n",
       "      <td>3.741137e+05</td>\n",
       "      <td>39288.977775</td>\n",
       "    </tr>\n",
       "    <tr>\n",
       "      <th>2</th>\n",
       "      <td>R</td>\n",
       "      <td>0.000000</td>\n",
       "      <td>145.955997</td>\n",
       "      <td>22862.360834</td>\n",
       "      <td>2.617555e+05</td>\n",
       "      <td>4.578512e+05</td>\n",
       "      <td>6.474824e+05</td>\n",
       "      <td>3.247049e+05</td>\n",
       "      <td>1.762766e+05</td>\n",
       "      <td>22576.464204</td>\n",
       "    </tr>\n",
       "    <tr>\n",
       "      <th>3</th>\n",
       "      <td>P</td>\n",
       "      <td>0.544574</td>\n",
       "      <td>35.410996</td>\n",
       "      <td>58760.249310</td>\n",
       "      <td>7.273258e+05</td>\n",
       "      <td>8.202221e+05</td>\n",
       "      <td>9.600415e+05</td>\n",
       "      <td>1.011793e+06</td>\n",
       "      <td>9.592403e+05</td>\n",
       "      <td>98861.084033</td>\n",
       "    </tr>\n",
       "    <tr>\n",
       "      <th>4</th>\n",
       "      <td>Total</td>\n",
       "      <td>0.544574</td>\n",
       "      <td>288.497824</td>\n",
       "      <td>103641.341294</td>\n",
       "      <td>1.246372e+06</td>\n",
       "      <td>1.629090e+06</td>\n",
       "      <td>2.061204e+06</td>\n",
       "      <td>1.772769e+06</td>\n",
       "      <td>1.509631e+06</td>\n",
       "      <td>160726.526012</td>\n",
       "    </tr>\n",
       "  </tbody>\n",
       "</table>\n",
       "</div>"
      ],
      "text/plain": [
       "  PURPOSE      2011        2012           2013          2014          2015  \\\n",
       "0       U  0.000000    0.000000       0.000000  1.854387e+00  0.000000e+00   \n",
       "1       C  0.000000  107.130830   22018.731150  2.572890e+05  3.510169e+05   \n",
       "2       R  0.000000  145.955997   22862.360834  2.617555e+05  4.578512e+05   \n",
       "3       P  0.544574   35.410996   58760.249310  7.273258e+05  8.202221e+05   \n",
       "4   Total  0.544574  288.497824  103641.341294  1.246372e+06  1.629090e+06   \n",
       "\n",
       "           2016          2017          2018           2019  \n",
       "0  0.000000e+00  0.000000e+00  0.000000e+00       0.000000  \n",
       "1  4.536801e+05  4.362716e+05  3.741137e+05   39288.977775  \n",
       "2  6.474824e+05  3.247049e+05  1.762766e+05   22576.464204  \n",
       "3  9.600415e+05  1.011793e+06  9.592403e+05   98861.084033  \n",
       "4  2.061204e+06  1.772769e+06  1.509631e+06  160726.526012  "
      ]
     },
     "execution_count": 208,
     "metadata": {},
     "output_type": "execute_result"
    }
   ],
   "source": [
    "total.toPandas()"
   ]
  },
  {
   "cell_type": "markdown",
   "metadata": {},
   "source": [
    "***Default Rate by CLTV and Purpose***"
   ]
  },
  {
   "cell_type": "code",
   "execution_count": 209,
   "metadata": {},
   "outputs": [],
   "source": [
    "df = statistics_data_default"
   ]
  },
  {
   "cell_type": "code",
   "execution_count": 210,
   "metadata": {},
   "outputs": [],
   "source": [
    "purpose = [row.PURPOSE for row in df.select('PURPOSE').orderBy('PURPOSE').distinct().collect()]"
   ]
  },
  {
   "cell_type": "code",
   "execution_count": 211,
   "metadata": {},
   "outputs": [],
   "source": [
    "for purp in purpose:\n",
    "    df = df.withColumn(purp, F.when(F.col('PURPOSE') == purp, F.col('LAST_UPB')/F.col('ORIG_AMT')).otherwise(F.lit(0)))"
   ]
  },
  {
   "cell_type": "code",
   "execution_count": 212,
   "metadata": {},
   "outputs": [],
   "source": [
    "expr = [F.sum(x).alias(x) for x in purpose]"
   ]
  },
  {
   "cell_type": "code",
   "execution_count": 213,
   "metadata": {},
   "outputs": [],
   "source": [
    "df = df.where(F.col('OcltvBkt').isNotNull()).orderBy('OcltvBkt').groupBy('OcltvBkt').agg(*expr)"
   ]
  },
  {
   "cell_type": "code",
   "execution_count": 214,
   "metadata": {},
   "outputs": [],
   "source": [
    "df_total = df.withColumn('Total', F.lit('Total')).groupBy('Total').agg(*expr)"
   ]
  },
  {
   "cell_type": "markdown",
   "metadata": {},
   "source": [
    "AGGREGATE"
   ]
  },
  {
   "cell_type": "code",
   "execution_count": 215,
   "metadata": {},
   "outputs": [],
   "source": [
    "total = df.union(df_total)"
   ]
  },
  {
   "cell_type": "code",
   "execution_count": 216,
   "metadata": {},
   "outputs": [
    {
     "data": {
      "text/html": [
       "<div>\n",
       "<style scoped>\n",
       "    .dataframe tbody tr th:only-of-type {\n",
       "        vertical-align: middle;\n",
       "    }\n",
       "\n",
       "    .dataframe tbody tr th {\n",
       "        vertical-align: top;\n",
       "    }\n",
       "\n",
       "    .dataframe thead th {\n",
       "        text-align: right;\n",
       "    }\n",
       "</style>\n",
       "<table border=\"1\" class=\"dataframe\">\n",
       "  <thead>\n",
       "    <tr style=\"text-align: right;\">\n",
       "      <th></th>\n",
       "      <th>OcltvBkt</th>\n",
       "      <th>C</th>\n",
       "      <th>P</th>\n",
       "      <th>R</th>\n",
       "      <th>U</th>\n",
       "    </tr>\n",
       "  </thead>\n",
       "  <tbody>\n",
       "    <tr>\n",
       "      <th>0</th>\n",
       "      <td>0-60</td>\n",
       "      <td>6.449834e+05</td>\n",
       "      <td>3.905129e+05</td>\n",
       "      <td>5.019525e+05</td>\n",
       "      <td>0.000000</td>\n",
       "    </tr>\n",
       "    <tr>\n",
       "      <th>1</th>\n",
       "      <td>60-65</td>\n",
       "      <td>1.525905e+05</td>\n",
       "      <td>9.315371e+04</td>\n",
       "      <td>1.479634e+05</td>\n",
       "      <td>0.000000</td>\n",
       "    </tr>\n",
       "    <tr>\n",
       "      <th>2</th>\n",
       "      <td>65-70</td>\n",
       "      <td>2.611298e+05</td>\n",
       "      <td>1.645869e+05</td>\n",
       "      <td>2.075547e+05</td>\n",
       "      <td>0.000000</td>\n",
       "    </tr>\n",
       "    <tr>\n",
       "      <th>3</th>\n",
       "      <td>70-75</td>\n",
       "      <td>3.427923e+05</td>\n",
       "      <td>3.760810e+05</td>\n",
       "      <td>2.795456e+05</td>\n",
       "      <td>0.000000</td>\n",
       "    </tr>\n",
       "    <tr>\n",
       "      <th>4</th>\n",
       "      <td>75-80</td>\n",
       "      <td>5.092671e+05</td>\n",
       "      <td>1.370490e+06</td>\n",
       "      <td>3.791207e+05</td>\n",
       "      <td>1.854387</td>\n",
       "    </tr>\n",
       "    <tr>\n",
       "      <th>5</th>\n",
       "      <td>80-85</td>\n",
       "      <td>2.333231e+04</td>\n",
       "      <td>1.509717e+05</td>\n",
       "      <td>1.364945e+05</td>\n",
       "      <td>0.000000</td>\n",
       "    </tr>\n",
       "    <tr>\n",
       "      <th>6</th>\n",
       "      <td>85-90</td>\n",
       "      <td>7.376001e+00</td>\n",
       "      <td>5.971345e+05</td>\n",
       "      <td>1.549262e+05</td>\n",
       "      <td>0.000000</td>\n",
       "    </tr>\n",
       "    <tr>\n",
       "      <th>7</th>\n",
       "      <td>90-97</td>\n",
       "      <td>2.839696e+00</td>\n",
       "      <td>1.377364e+06</td>\n",
       "      <td>1.061127e+05</td>\n",
       "      <td>0.000000</td>\n",
       "    </tr>\n",
       "    <tr>\n",
       "      <th>8</th>\n",
       "      <td>97+</td>\n",
       "      <td>0.000000e+00</td>\n",
       "      <td>1.167859e+05</td>\n",
       "      <td>1.907906e+02</td>\n",
       "      <td>0.000000</td>\n",
       "    </tr>\n",
       "    <tr>\n",
       "      <th>9</th>\n",
       "      <td>Total</td>\n",
       "      <td>1.934106e+06</td>\n",
       "      <td>4.637081e+06</td>\n",
       "      <td>1.913861e+06</td>\n",
       "      <td>1.854387</td>\n",
       "    </tr>\n",
       "  </tbody>\n",
       "</table>\n",
       "</div>"
      ],
      "text/plain": [
       "  OcltvBkt             C             P             R         U\n",
       "0     0-60  6.449834e+05  3.905129e+05  5.019525e+05  0.000000\n",
       "1    60-65  1.525905e+05  9.315371e+04  1.479634e+05  0.000000\n",
       "2    65-70  2.611298e+05  1.645869e+05  2.075547e+05  0.000000\n",
       "3    70-75  3.427923e+05  3.760810e+05  2.795456e+05  0.000000\n",
       "4    75-80  5.092671e+05  1.370490e+06  3.791207e+05  1.854387\n",
       "5    80-85  2.333231e+04  1.509717e+05  1.364945e+05  0.000000\n",
       "6    85-90  7.376001e+00  5.971345e+05  1.549262e+05  0.000000\n",
       "7    90-97  2.839696e+00  1.377364e+06  1.061127e+05  0.000000\n",
       "8      97+  0.000000e+00  1.167859e+05  1.907906e+02  0.000000\n",
       "9    Total  1.934106e+06  4.637081e+06  1.913861e+06  1.854387"
      ]
     },
     "execution_count": 216,
     "metadata": {},
     "output_type": "execute_result"
    }
   ],
   "source": [
    "total.toPandas()"
   ]
  },
  {
   "cell_type": "markdown",
   "metadata": {},
   "source": [
    "***Default Rate by Vintage and Number of Borrowers***"
   ]
  },
  {
   "cell_type": "code",
   "execution_count": 217,
   "metadata": {},
   "outputs": [],
   "source": [
    "df = statistics_data_default.fillna('9999', 'VinYr')"
   ]
  },
  {
   "cell_type": "code",
   "execution_count": 218,
   "metadata": {},
   "outputs": [],
   "source": [
    "vintage_years = [row.VinYr for row in df.select('VinYr').orderBy('VinYr').distinct().collect() if row.VinYr != '9999']"
   ]
  },
  {
   "cell_type": "code",
   "execution_count": 219,
   "metadata": {},
   "outputs": [],
   "source": [
    "for vinyr in vintage_years:\n",
    "    df = df.withColumn(vinyr, F.when(F.col('VinYr') == vinyr, F.col('LAST_UPB')/F.col('ORIG_AMT')).otherwise(F.lit(0)))"
   ]
  },
  {
   "cell_type": "code",
   "execution_count": 220,
   "metadata": {},
   "outputs": [],
   "source": [
    "expr = [F.sum(x).alias(x) for x in vintage_years]"
   ]
  },
  {
   "cell_type": "code",
   "execution_count": 221,
   "metadata": {},
   "outputs": [],
   "source": [
    "df = df.where(F.col('NumBoBkt').isNotNull()).orderBy('NumBoBkt').groupBy('NumBoBkt').agg(*expr)"
   ]
  },
  {
   "cell_type": "code",
   "execution_count": 222,
   "metadata": {},
   "outputs": [],
   "source": [
    "df_total = df.withColumn('Total', F.lit('Total')).groupBy('Total').agg(*expr)"
   ]
  },
  {
   "cell_type": "markdown",
   "metadata": {},
   "source": [
    "AGGREGATE"
   ]
  },
  {
   "cell_type": "code",
   "execution_count": 223,
   "metadata": {},
   "outputs": [],
   "source": [
    "total = df.union(df_total)"
   ]
  },
  {
   "cell_type": "code",
   "execution_count": 224,
   "metadata": {},
   "outputs": [
    {
     "data": {
      "text/html": [
       "<div>\n",
       "<style scoped>\n",
       "    .dataframe tbody tr th:only-of-type {\n",
       "        vertical-align: middle;\n",
       "    }\n",
       "\n",
       "    .dataframe tbody tr th {\n",
       "        vertical-align: top;\n",
       "    }\n",
       "\n",
       "    .dataframe thead th {\n",
       "        text-align: right;\n",
       "    }\n",
       "</style>\n",
       "<table border=\"1\" class=\"dataframe\">\n",
       "  <thead>\n",
       "    <tr style=\"text-align: right;\">\n",
       "      <th></th>\n",
       "      <th>NumBoBkt</th>\n",
       "      <th>2011</th>\n",
       "      <th>2012</th>\n",
       "      <th>2013</th>\n",
       "      <th>2014</th>\n",
       "      <th>2015</th>\n",
       "      <th>2016</th>\n",
       "      <th>2017</th>\n",
       "      <th>2018</th>\n",
       "      <th>2019</th>\n",
       "    </tr>\n",
       "  </thead>\n",
       "  <tbody>\n",
       "    <tr>\n",
       "      <th>0</th>\n",
       "      <td>1</td>\n",
       "      <td>0.000000</td>\n",
       "      <td>86.357759</td>\n",
       "      <td>53318.014897</td>\n",
       "      <td>6.308258e+05</td>\n",
       "      <td>8.142874e+05</td>\n",
       "      <td>1.031266e+06</td>\n",
       "      <td>9.456953e+05</td>\n",
       "      <td>8.275875e+05</td>\n",
       "      <td>89793.360567</td>\n",
       "    </tr>\n",
       "    <tr>\n",
       "      <th>1</th>\n",
       "      <td>2</td>\n",
       "      <td>0.544574</td>\n",
       "      <td>200.636610</td>\n",
       "      <td>49841.973509</td>\n",
       "      <td>6.103004e+05</td>\n",
       "      <td>8.082072e+05</td>\n",
       "      <td>1.016393e+06</td>\n",
       "      <td>8.110406e+05</td>\n",
       "      <td>6.655452e+05</td>\n",
       "      <td>69164.714336</td>\n",
       "    </tr>\n",
       "    <tr>\n",
       "      <th>2</th>\n",
       "      <td>3+</td>\n",
       "      <td>0.000000</td>\n",
       "      <td>1.503454</td>\n",
       "      <td>523.174463</td>\n",
       "      <td>5.715762e+03</td>\n",
       "      <td>6.998396e+03</td>\n",
       "      <td>1.383707e+04</td>\n",
       "      <td>1.613995e+04</td>\n",
       "      <td>1.651182e+04</td>\n",
       "      <td>1768.451109</td>\n",
       "    </tr>\n",
       "    <tr>\n",
       "      <th>3</th>\n",
       "      <td>Total</td>\n",
       "      <td>0.544574</td>\n",
       "      <td>288.497824</td>\n",
       "      <td>103683.162870</td>\n",
       "      <td>1.246842e+06</td>\n",
       "      <td>1.629493e+06</td>\n",
       "      <td>2.061495e+06</td>\n",
       "      <td>1.772876e+06</td>\n",
       "      <td>1.509645e+06</td>\n",
       "      <td>160726.526012</td>\n",
       "    </tr>\n",
       "  </tbody>\n",
       "</table>\n",
       "</div>"
      ],
      "text/plain": [
       "  NumBoBkt      2011        2012           2013          2014          2015  \\\n",
       "0        1  0.000000   86.357759   53318.014897  6.308258e+05  8.142874e+05   \n",
       "1        2  0.544574  200.636610   49841.973509  6.103004e+05  8.082072e+05   \n",
       "2       3+  0.000000    1.503454     523.174463  5.715762e+03  6.998396e+03   \n",
       "3    Total  0.544574  288.497824  103683.162870  1.246842e+06  1.629493e+06   \n",
       "\n",
       "           2016          2017          2018           2019  \n",
       "0  1.031266e+06  9.456953e+05  8.275875e+05   89793.360567  \n",
       "1  1.016393e+06  8.110406e+05  6.655452e+05   69164.714336  \n",
       "2  1.383707e+04  1.613995e+04  1.651182e+04    1768.451109  \n",
       "3  2.061495e+06  1.772876e+06  1.509645e+06  160726.526012  "
      ]
     },
     "execution_count": 224,
     "metadata": {},
     "output_type": "execute_result"
    }
   ],
   "source": [
    "total.toPandas()"
   ]
  },
  {
   "cell_type": "markdown",
   "metadata": {},
   "source": [
    "***Severity by Vintage and Number of Borrowers***"
   ]
  },
  {
   "cell_type": "code",
   "execution_count": 225,
   "metadata": {},
   "outputs": [],
   "source": [
    "df = statistics_data_default.fillna('9999', 'VinYr')"
   ]
  },
  {
   "cell_type": "code",
   "execution_count": 226,
   "metadata": {},
   "outputs": [],
   "source": [
    "vintage_years = [row.VinYr for row in df.select('VinYr').orderBy('VinYr').distinct().collect() if row.VinYr != '9999']"
   ]
  },
  {
   "cell_type": "code",
   "execution_count": 227,
   "metadata": {},
   "outputs": [],
   "source": [
    "for vinyr in vintage_years:\n",
    "    df = df.withColumn(vinyr, F.when(F.col('VinYr') == vinyr, F.col('NET_LOSS')/F.col('LAST_UPB')).otherwise(F.lit(0)))"
   ]
  },
  {
   "cell_type": "code",
   "execution_count": 228,
   "metadata": {},
   "outputs": [],
   "source": [
    "expr = [F.sum(x).alias(x) for x in vintage_years]"
   ]
  },
  {
   "cell_type": "code",
   "execution_count": 229,
   "metadata": {},
   "outputs": [],
   "source": [
    "df = df.where(F.col('NumBoBkt').isNotNull()).orderBy('NumBoBkt').groupBy('NumBoBkt').agg(*expr)"
   ]
  },
  {
   "cell_type": "code",
   "execution_count": 230,
   "metadata": {},
   "outputs": [],
   "source": [
    "df_total = df.withColumn('Total', F.lit('Total')).groupBy('Total').agg(*expr)"
   ]
  },
  {
   "cell_type": "markdown",
   "metadata": {},
   "source": [
    "AGGREGATE"
   ]
  },
  {
   "cell_type": "code",
   "execution_count": 231,
   "metadata": {},
   "outputs": [],
   "source": [
    "total = df.union(df_total)"
   ]
  },
  {
   "cell_type": "code",
   "execution_count": 232,
   "metadata": {},
   "outputs": [
    {
     "data": {
      "text/html": [
       "<div>\n",
       "<style scoped>\n",
       "    .dataframe tbody tr th:only-of-type {\n",
       "        vertical-align: middle;\n",
       "    }\n",
       "\n",
       "    .dataframe tbody tr th {\n",
       "        vertical-align: top;\n",
       "    }\n",
       "\n",
       "    .dataframe thead th {\n",
       "        text-align: right;\n",
       "    }\n",
       "</style>\n",
       "<table border=\"1\" class=\"dataframe\">\n",
       "  <thead>\n",
       "    <tr style=\"text-align: right;\">\n",
       "      <th></th>\n",
       "      <th>NumBoBkt</th>\n",
       "      <th>2011</th>\n",
       "      <th>2012</th>\n",
       "      <th>2013</th>\n",
       "      <th>2014</th>\n",
       "      <th>2015</th>\n",
       "      <th>2016</th>\n",
       "      <th>2017</th>\n",
       "      <th>2018</th>\n",
       "      <th>2019</th>\n",
       "    </tr>\n",
       "  </thead>\n",
       "  <tbody>\n",
       "    <tr>\n",
       "      <th>0</th>\n",
       "      <td>1</td>\n",
       "      <td>0.0</td>\n",
       "      <td>193.0</td>\n",
       "      <td>62665.672310</td>\n",
       "      <td>7.250748e+05</td>\n",
       "      <td>9.215639e+05</td>\n",
       "      <td>1.142290e+06</td>\n",
       "      <td>1.011105e+06</td>\n",
       "      <td>8.571371e+05</td>\n",
       "      <td>91840.0</td>\n",
       "    </tr>\n",
       "    <tr>\n",
       "      <th>1</th>\n",
       "      <td>2</td>\n",
       "      <td>1.0</td>\n",
       "      <td>549.0</td>\n",
       "      <td>59582.081901</td>\n",
       "      <td>7.122781e+05</td>\n",
       "      <td>9.296585e+05</td>\n",
       "      <td>1.140164e+06</td>\n",
       "      <td>8.758669e+05</td>\n",
       "      <td>6.941650e+05</td>\n",
       "      <td>71056.0</td>\n",
       "    </tr>\n",
       "    <tr>\n",
       "      <th>2</th>\n",
       "      <td>3+</td>\n",
       "      <td>0.0</td>\n",
       "      <td>2.0</td>\n",
       "      <td>598.000000</td>\n",
       "      <td>6.455936e+03</td>\n",
       "      <td>7.793000e+03</td>\n",
       "      <td>1.501900e+04</td>\n",
       "      <td>1.707400e+04</td>\n",
       "      <td>1.702600e+04</td>\n",
       "      <td>1806.0</td>\n",
       "    </tr>\n",
       "    <tr>\n",
       "      <th>3</th>\n",
       "      <td>Total</td>\n",
       "      <td>1.0</td>\n",
       "      <td>744.0</td>\n",
       "      <td>122845.754212</td>\n",
       "      <td>1.443809e+06</td>\n",
       "      <td>1.859015e+06</td>\n",
       "      <td>2.297473e+06</td>\n",
       "      <td>1.904046e+06</td>\n",
       "      <td>1.568328e+06</td>\n",
       "      <td>164702.0</td>\n",
       "    </tr>\n",
       "  </tbody>\n",
       "</table>\n",
       "</div>"
      ],
      "text/plain": [
       "  NumBoBkt  2011   2012           2013          2014          2015  \\\n",
       "0        1   0.0  193.0   62665.672310  7.250748e+05  9.215639e+05   \n",
       "1        2   1.0  549.0   59582.081901  7.122781e+05  9.296585e+05   \n",
       "2       3+   0.0    2.0     598.000000  6.455936e+03  7.793000e+03   \n",
       "3    Total   1.0  744.0  122845.754212  1.443809e+06  1.859015e+06   \n",
       "\n",
       "           2016          2017          2018      2019  \n",
       "0  1.142290e+06  1.011105e+06  8.571371e+05   91840.0  \n",
       "1  1.140164e+06  8.758669e+05  6.941650e+05   71056.0  \n",
       "2  1.501900e+04  1.707400e+04  1.702600e+04    1806.0  \n",
       "3  2.297473e+06  1.904046e+06  1.568328e+06  164702.0  "
      ]
     },
     "execution_count": 232,
     "metadata": {},
     "output_type": "execute_result"
    }
   ],
   "source": [
    "total.toPandas()"
   ]
  },
  {
   "cell_type": "markdown",
   "metadata": {},
   "source": [
    "***Loss Rate by Vintage and Number of Borrowers***"
   ]
  },
  {
   "cell_type": "code",
   "execution_count": 233,
   "metadata": {},
   "outputs": [],
   "source": [
    "df = statistics_data_default.fillna('9999', 'VinYr')"
   ]
  },
  {
   "cell_type": "code",
   "execution_count": 234,
   "metadata": {},
   "outputs": [],
   "source": [
    "vintage_years = [row.VinYr for row in df.select('VinYr').orderBy('VinYr').distinct().collect() if row.VinYr != '9999']"
   ]
  },
  {
   "cell_type": "code",
   "execution_count": 235,
   "metadata": {},
   "outputs": [],
   "source": [
    "for vinyr in vintage_years:\n",
    "    df = df.withColumn(vinyr, F.when(F.col('VinYr') == vinyr, F.col('NET_LOSS')/F.col('ORIG_AMT')).otherwise(F.lit(0)))"
   ]
  },
  {
   "cell_type": "code",
   "execution_count": 236,
   "metadata": {},
   "outputs": [],
   "source": [
    "expr = [F.sum(x).alias(x) for x in vintage_years]"
   ]
  },
  {
   "cell_type": "code",
   "execution_count": 237,
   "metadata": {},
   "outputs": [],
   "source": [
    "df = df.where(F.col('NumBoBkt').isNotNull()).orderBy('NumBoBkt').groupBy('NumBoBkt').agg(*expr)"
   ]
  },
  {
   "cell_type": "code",
   "execution_count": 238,
   "metadata": {},
   "outputs": [],
   "source": [
    "df_total = df.withColumn('Total', F.lit('Total')).groupBy('Total').agg(*expr)"
   ]
  },
  {
   "cell_type": "markdown",
   "metadata": {},
   "source": [
    "AGGREGATE"
   ]
  },
  {
   "cell_type": "code",
   "execution_count": 239,
   "metadata": {},
   "outputs": [],
   "source": [
    "total = df.union(df_total)"
   ]
  },
  {
   "cell_type": "code",
   "execution_count": 240,
   "metadata": {},
   "outputs": [
    {
     "data": {
      "text/html": [
       "<div>\n",
       "<style scoped>\n",
       "    .dataframe tbody tr th:only-of-type {\n",
       "        vertical-align: middle;\n",
       "    }\n",
       "\n",
       "    .dataframe tbody tr th {\n",
       "        vertical-align: top;\n",
       "    }\n",
       "\n",
       "    .dataframe thead th {\n",
       "        text-align: right;\n",
       "    }\n",
       "</style>\n",
       "<table border=\"1\" class=\"dataframe\">\n",
       "  <thead>\n",
       "    <tr style=\"text-align: right;\">\n",
       "      <th></th>\n",
       "      <th>NumBoBkt</th>\n",
       "      <th>2011</th>\n",
       "      <th>2012</th>\n",
       "      <th>2013</th>\n",
       "      <th>2014</th>\n",
       "      <th>2015</th>\n",
       "      <th>2016</th>\n",
       "      <th>2017</th>\n",
       "      <th>2018</th>\n",
       "      <th>2019</th>\n",
       "    </tr>\n",
       "  </thead>\n",
       "  <tbody>\n",
       "    <tr>\n",
       "      <th>0</th>\n",
       "      <td>1</td>\n",
       "      <td>0.000000</td>\n",
       "      <td>86.357759</td>\n",
       "      <td>53287.300051</td>\n",
       "      <td>6.304312e+05</td>\n",
       "      <td>8.139361e+05</td>\n",
       "      <td>1.031004e+06</td>\n",
       "      <td>9.456027e+05</td>\n",
       "      <td>8.275746e+05</td>\n",
       "      <td>89793.360567</td>\n",
       "    </tr>\n",
       "    <tr>\n",
       "      <th>1</th>\n",
       "      <td>2</td>\n",
       "      <td>0.544574</td>\n",
       "      <td>200.636610</td>\n",
       "      <td>49830.866780</td>\n",
       "      <td>6.102263e+05</td>\n",
       "      <td>8.081557e+05</td>\n",
       "      <td>1.016363e+06</td>\n",
       "      <td>8.110266e+05</td>\n",
       "      <td>6.655442e+05</td>\n",
       "      <td>69164.714336</td>\n",
       "    </tr>\n",
       "    <tr>\n",
       "      <th>2</th>\n",
       "      <td>3+</td>\n",
       "      <td>0.000000</td>\n",
       "      <td>1.503454</td>\n",
       "      <td>523.174463</td>\n",
       "      <td>5.714700e+03</td>\n",
       "      <td>6.998396e+03</td>\n",
       "      <td>1.383707e+04</td>\n",
       "      <td>1.613995e+04</td>\n",
       "      <td>1.651182e+04</td>\n",
       "      <td>1768.451109</td>\n",
       "    </tr>\n",
       "    <tr>\n",
       "      <th>3</th>\n",
       "      <td>Total</td>\n",
       "      <td>0.544574</td>\n",
       "      <td>288.497824</td>\n",
       "      <td>103641.341294</td>\n",
       "      <td>1.246372e+06</td>\n",
       "      <td>1.629090e+06</td>\n",
       "      <td>2.061204e+06</td>\n",
       "      <td>1.772769e+06</td>\n",
       "      <td>1.509631e+06</td>\n",
       "      <td>160726.526012</td>\n",
       "    </tr>\n",
       "  </tbody>\n",
       "</table>\n",
       "</div>"
      ],
      "text/plain": [
       "  NumBoBkt      2011        2012           2013          2014          2015  \\\n",
       "0        1  0.000000   86.357759   53287.300051  6.304312e+05  8.139361e+05   \n",
       "1        2  0.544574  200.636610   49830.866780  6.102263e+05  8.081557e+05   \n",
       "2       3+  0.000000    1.503454     523.174463  5.714700e+03  6.998396e+03   \n",
       "3    Total  0.544574  288.497824  103641.341294  1.246372e+06  1.629090e+06   \n",
       "\n",
       "           2016          2017          2018           2019  \n",
       "0  1.031004e+06  9.456027e+05  8.275746e+05   89793.360567  \n",
       "1  1.016363e+06  8.110266e+05  6.655442e+05   69164.714336  \n",
       "2  1.383707e+04  1.613995e+04  1.651182e+04    1768.451109  \n",
       "3  2.061204e+06  1.772769e+06  1.509631e+06  160726.526012  "
      ]
     },
     "execution_count": 240,
     "metadata": {},
     "output_type": "execute_result"
    }
   ],
   "source": [
    "total.toPandas()"
   ]
  },
  {
   "cell_type": "markdown",
   "metadata": {},
   "source": [
    "***Default Rate by Vintage and FICO***"
   ]
  },
  {
   "cell_type": "code",
   "execution_count": 241,
   "metadata": {},
   "outputs": [],
   "source": [
    "df = statistics_data_default.fillna('9999', 'VinYr')"
   ]
  },
  {
   "cell_type": "code",
   "execution_count": 242,
   "metadata": {},
   "outputs": [],
   "source": [
    "vintage_years = [row.VinYr for row in df.select('VinYr').orderBy('VinYr').distinct().collect() if row.VinYr != '9999']"
   ]
  },
  {
   "cell_type": "code",
   "execution_count": 243,
   "metadata": {},
   "outputs": [],
   "source": [
    "for vinyr in vintage_years:\n",
    "    df = df.withColumn(vinyr, F.when(F.col('VinYr') == vinyr, F.col('LAST_UPB')/F.col('ORIG_AMT')).otherwise(F.lit(0)))"
   ]
  },
  {
   "cell_type": "code",
   "execution_count": 244,
   "metadata": {},
   "outputs": [],
   "source": [
    "expr = [F.sum(x).alias(x) for x in vintage_years]"
   ]
  },
  {
   "cell_type": "code",
   "execution_count": 245,
   "metadata": {},
   "outputs": [],
   "source": [
    "df = df.where(F.col('FicoBkt').isNotNull()).orderBy('FicoBkt').groupBy('FicoBkt').agg(*expr)"
   ]
  },
  {
   "cell_type": "code",
   "execution_count": 246,
   "metadata": {},
   "outputs": [],
   "source": [
    "df_total = df.withColumn('Total', F.lit('Total')).groupBy('Total').agg(*expr)"
   ]
  },
  {
   "cell_type": "markdown",
   "metadata": {},
   "source": [
    "AGGREGATE"
   ]
  },
  {
   "cell_type": "code",
   "execution_count": 247,
   "metadata": {},
   "outputs": [],
   "source": [
    "total = df.union(df_total)"
   ]
  },
  {
   "cell_type": "code",
   "execution_count": 248,
   "metadata": {},
   "outputs": [
    {
     "data": {
      "text/html": [
       "<div>\n",
       "<style scoped>\n",
       "    .dataframe tbody tr th:only-of-type {\n",
       "        vertical-align: middle;\n",
       "    }\n",
       "\n",
       "    .dataframe tbody tr th {\n",
       "        vertical-align: top;\n",
       "    }\n",
       "\n",
       "    .dataframe thead th {\n",
       "        text-align: right;\n",
       "    }\n",
       "</style>\n",
       "<table border=\"1\" class=\"dataframe\">\n",
       "  <thead>\n",
       "    <tr style=\"text-align: right;\">\n",
       "      <th></th>\n",
       "      <th>FicoBkt</th>\n",
       "      <th>2011</th>\n",
       "      <th>2012</th>\n",
       "      <th>2013</th>\n",
       "      <th>2014</th>\n",
       "      <th>2015</th>\n",
       "      <th>2016</th>\n",
       "      <th>2017</th>\n",
       "      <th>2018</th>\n",
       "      <th>2019</th>\n",
       "    </tr>\n",
       "  </thead>\n",
       "  <tbody>\n",
       "    <tr>\n",
       "      <th>0</th>\n",
       "      <td>0-620</td>\n",
       "      <td>0.000000</td>\n",
       "      <td>3.342736</td>\n",
       "      <td>136.160224</td>\n",
       "      <td>1.182527e+03</td>\n",
       "      <td>1.435712e+03</td>\n",
       "      <td>1.436981e+03</td>\n",
       "      <td>1.806109e+03</td>\n",
       "      <td>1.760246e+03</td>\n",
       "      <td>179.327749</td>\n",
       "    </tr>\n",
       "    <tr>\n",
       "      <th>1</th>\n",
       "      <td>620-660</td>\n",
       "      <td>0.000000</td>\n",
       "      <td>2.117489</td>\n",
       "      <td>5143.711107</td>\n",
       "      <td>7.209522e+04</td>\n",
       "      <td>8.747600e+04</td>\n",
       "      <td>9.704316e+04</td>\n",
       "      <td>1.140842e+05</td>\n",
       "      <td>1.072553e+05</td>\n",
       "      <td>10118.059757</td>\n",
       "    </tr>\n",
       "    <tr>\n",
       "      <th>2</th>\n",
       "      <td>660-700</td>\n",
       "      <td>0.000000</td>\n",
       "      <td>19.459329</td>\n",
       "      <td>14247.155173</td>\n",
       "      <td>1.764711e+05</td>\n",
       "      <td>2.139840e+05</td>\n",
       "      <td>2.529975e+05</td>\n",
       "      <td>2.575366e+05</td>\n",
       "      <td>2.288073e+05</td>\n",
       "      <td>24320.557819</td>\n",
       "    </tr>\n",
       "    <tr>\n",
       "      <th>3</th>\n",
       "      <td>700-740</td>\n",
       "      <td>0.000000</td>\n",
       "      <td>33.771487</td>\n",
       "      <td>22187.930294</td>\n",
       "      <td>2.655756e+05</td>\n",
       "      <td>3.397362e+05</td>\n",
       "      <td>4.276778e+05</td>\n",
       "      <td>4.000700e+05</td>\n",
       "      <td>3.486213e+05</td>\n",
       "      <td>39201.232214</td>\n",
       "    </tr>\n",
       "    <tr>\n",
       "      <th>4</th>\n",
       "      <td>740-780</td>\n",
       "      <td>0.000000</td>\n",
       "      <td>78.201139</td>\n",
       "      <td>31342.354575</td>\n",
       "      <td>3.662588e+05</td>\n",
       "      <td>4.836177e+05</td>\n",
       "      <td>6.126077e+05</td>\n",
       "      <td>5.099860e+05</td>\n",
       "      <td>4.332652e+05</td>\n",
       "      <td>47332.182102</td>\n",
       "    </tr>\n",
       "    <tr>\n",
       "      <th>5</th>\n",
       "      <td>780&gt;</td>\n",
       "      <td>0.544574</td>\n",
       "      <td>151.605644</td>\n",
       "      <td>30625.851496</td>\n",
       "      <td>3.652586e+05</td>\n",
       "      <td>5.032433e+05</td>\n",
       "      <td>6.697321e+05</td>\n",
       "      <td>4.893930e+05</td>\n",
       "      <td>3.899353e+05</td>\n",
       "      <td>39575.166372</td>\n",
       "    </tr>\n",
       "    <tr>\n",
       "      <th>6</th>\n",
       "      <td>Total</td>\n",
       "      <td>0.544574</td>\n",
       "      <td>288.497824</td>\n",
       "      <td>103683.162870</td>\n",
       "      <td>1.246842e+06</td>\n",
       "      <td>1.629493e+06</td>\n",
       "      <td>2.061495e+06</td>\n",
       "      <td>1.772876e+06</td>\n",
       "      <td>1.509645e+06</td>\n",
       "      <td>160726.526012</td>\n",
       "    </tr>\n",
       "  </tbody>\n",
       "</table>\n",
       "</div>"
      ],
      "text/plain": [
       "   FicoBkt      2011        2012           2013          2014          2015  \\\n",
       "0    0-620  0.000000    3.342736     136.160224  1.182527e+03  1.435712e+03   \n",
       "1  620-660  0.000000    2.117489    5143.711107  7.209522e+04  8.747600e+04   \n",
       "2  660-700  0.000000   19.459329   14247.155173  1.764711e+05  2.139840e+05   \n",
       "3  700-740  0.000000   33.771487   22187.930294  2.655756e+05  3.397362e+05   \n",
       "4  740-780  0.000000   78.201139   31342.354575  3.662588e+05  4.836177e+05   \n",
       "5     780>  0.544574  151.605644   30625.851496  3.652586e+05  5.032433e+05   \n",
       "6    Total  0.544574  288.497824  103683.162870  1.246842e+06  1.629493e+06   \n",
       "\n",
       "           2016          2017          2018           2019  \n",
       "0  1.436981e+03  1.806109e+03  1.760246e+03     179.327749  \n",
       "1  9.704316e+04  1.140842e+05  1.072553e+05   10118.059757  \n",
       "2  2.529975e+05  2.575366e+05  2.288073e+05   24320.557819  \n",
       "3  4.276778e+05  4.000700e+05  3.486213e+05   39201.232214  \n",
       "4  6.126077e+05  5.099860e+05  4.332652e+05   47332.182102  \n",
       "5  6.697321e+05  4.893930e+05  3.899353e+05   39575.166372  \n",
       "6  2.061495e+06  1.772876e+06  1.509645e+06  160726.526012  "
      ]
     },
     "execution_count": 248,
     "metadata": {},
     "output_type": "execute_result"
    }
   ],
   "source": [
    "total.toPandas()"
   ]
  },
  {
   "cell_type": "markdown",
   "metadata": {},
   "source": [
    "***Severity by Vintage and FICO***"
   ]
  },
  {
   "cell_type": "code",
   "execution_count": 249,
   "metadata": {},
   "outputs": [],
   "source": [
    "df = statistics_data_default.fillna('9999', 'VinYr')"
   ]
  },
  {
   "cell_type": "code",
   "execution_count": 250,
   "metadata": {},
   "outputs": [],
   "source": [
    "vintage_years = [row.VinYr for row in df.select('VinYr').orderBy('VinYr').distinct().collect() if row.VinYr != '9999']"
   ]
  },
  {
   "cell_type": "code",
   "execution_count": 251,
   "metadata": {},
   "outputs": [],
   "source": [
    "for vinyr in vintage_years:\n",
    "    df = df.withColumn(vinyr, F.when(F.col('VinYr') == vinyr, F.col('NET_LOSS')/F.col('LAST_UPB')).otherwise(F.lit(0)))"
   ]
  },
  {
   "cell_type": "code",
   "execution_count": 252,
   "metadata": {},
   "outputs": [],
   "source": [
    "expr = [F.sum(x).alias(x) for x in vintage_years]"
   ]
  },
  {
   "cell_type": "code",
   "execution_count": 253,
   "metadata": {},
   "outputs": [],
   "source": [
    "df = df.where(F.col('FicoBkt').isNotNull()).orderBy('FicoBkt').groupBy('FicoBkt').agg(*expr)"
   ]
  },
  {
   "cell_type": "code",
   "execution_count": 254,
   "metadata": {},
   "outputs": [],
   "source": [
    "df_total = df.withColumn('Total', F.lit('Total')).groupBy('Total').agg(*expr)"
   ]
  },
  {
   "cell_type": "markdown",
   "metadata": {},
   "source": [
    "AGGREGATE"
   ]
  },
  {
   "cell_type": "code",
   "execution_count": 255,
   "metadata": {},
   "outputs": [],
   "source": [
    "total = df.union(df_total)"
   ]
  },
  {
   "cell_type": "code",
   "execution_count": 256,
   "metadata": {},
   "outputs": [
    {
     "data": {
      "text/html": [
       "<div>\n",
       "<style scoped>\n",
       "    .dataframe tbody tr th:only-of-type {\n",
       "        vertical-align: middle;\n",
       "    }\n",
       "\n",
       "    .dataframe tbody tr th {\n",
       "        vertical-align: top;\n",
       "    }\n",
       "\n",
       "    .dataframe thead th {\n",
       "        text-align: right;\n",
       "    }\n",
       "</style>\n",
       "<table border=\"1\" class=\"dataframe\">\n",
       "  <thead>\n",
       "    <tr style=\"text-align: right;\">\n",
       "      <th></th>\n",
       "      <th>FicoBkt</th>\n",
       "      <th>2011</th>\n",
       "      <th>2012</th>\n",
       "      <th>2013</th>\n",
       "      <th>2014</th>\n",
       "      <th>2015</th>\n",
       "      <th>2016</th>\n",
       "      <th>2017</th>\n",
       "      <th>2018</th>\n",
       "      <th>2019</th>\n",
       "    </tr>\n",
       "  </thead>\n",
       "  <tbody>\n",
       "    <tr>\n",
       "      <th>0</th>\n",
       "      <td>0-620</td>\n",
       "      <td>0.0</td>\n",
       "      <td>6.0</td>\n",
       "      <td>156.057592</td>\n",
       "      <td>1.337000e+03</td>\n",
       "      <td>1.582853e+03</td>\n",
       "      <td>1.559000e+03</td>\n",
       "      <td>1.908000e+03</td>\n",
       "      <td>1.807000e+03</td>\n",
       "      <td>182.0</td>\n",
       "    </tr>\n",
       "    <tr>\n",
       "      <th>1</th>\n",
       "      <td>620-660</td>\n",
       "      <td>0.0</td>\n",
       "      <td>7.0</td>\n",
       "      <td>5959.356883</td>\n",
       "      <td>8.124018e+04</td>\n",
       "      <td>9.694741e+04</td>\n",
       "      <td>1.054697e+05</td>\n",
       "      <td>1.205158e+05</td>\n",
       "      <td>1.101958e+05</td>\n",
       "      <td>10296.0</td>\n",
       "    </tr>\n",
       "    <tr>\n",
       "      <th>2</th>\n",
       "      <td>660-700</td>\n",
       "      <td>0.0</td>\n",
       "      <td>41.0</td>\n",
       "      <td>16457.504985</td>\n",
       "      <td>1.990297e+05</td>\n",
       "      <td>2.378483e+05</td>\n",
       "      <td>2.760999e+05</td>\n",
       "      <td>2.727450e+05</td>\n",
       "      <td>2.354139e+05</td>\n",
       "      <td>24769.0</td>\n",
       "    </tr>\n",
       "    <tr>\n",
       "      <th>3</th>\n",
       "      <td>700-740</td>\n",
       "      <td>0.0</td>\n",
       "      <td>78.0</td>\n",
       "      <td>25713.492279</td>\n",
       "      <td>3.015814e+05</td>\n",
       "      <td>3.804888e+05</td>\n",
       "      <td>4.694167e+05</td>\n",
       "      <td>4.253747e+05</td>\n",
       "      <td>3.595761e+05</td>\n",
       "      <td>39952.0</td>\n",
       "    </tr>\n",
       "    <tr>\n",
       "      <th>4</th>\n",
       "      <td>740-780</td>\n",
       "      <td>0.0</td>\n",
       "      <td>176.0</td>\n",
       "      <td>36822.888771</td>\n",
       "      <td>4.217456e+05</td>\n",
       "      <td>5.493874e+05</td>\n",
       "      <td>6.801104e+05</td>\n",
       "      <td>5.468115e+05</td>\n",
       "      <td>4.494952e+05</td>\n",
       "      <td>48465.0</td>\n",
       "    </tr>\n",
       "    <tr>\n",
       "      <th>5</th>\n",
       "      <td>780&gt;</td>\n",
       "      <td>1.0</td>\n",
       "      <td>436.0</td>\n",
       "      <td>37736.453701</td>\n",
       "      <td>4.388750e+05</td>\n",
       "      <td>5.927607e+05</td>\n",
       "      <td>7.648172e+05</td>\n",
       "      <td>5.366915e+05</td>\n",
       "      <td>4.118400e+05</td>\n",
       "      <td>41038.0</td>\n",
       "    </tr>\n",
       "    <tr>\n",
       "      <th>6</th>\n",
       "      <td>Total</td>\n",
       "      <td>1.0</td>\n",
       "      <td>744.0</td>\n",
       "      <td>122845.754212</td>\n",
       "      <td>1.443809e+06</td>\n",
       "      <td>1.859015e+06</td>\n",
       "      <td>2.297473e+06</td>\n",
       "      <td>1.904046e+06</td>\n",
       "      <td>1.568328e+06</td>\n",
       "      <td>164702.0</td>\n",
       "    </tr>\n",
       "  </tbody>\n",
       "</table>\n",
       "</div>"
      ],
      "text/plain": [
       "   FicoBkt  2011   2012           2013          2014          2015  \\\n",
       "0    0-620   0.0    6.0     156.057592  1.337000e+03  1.582853e+03   \n",
       "1  620-660   0.0    7.0    5959.356883  8.124018e+04  9.694741e+04   \n",
       "2  660-700   0.0   41.0   16457.504985  1.990297e+05  2.378483e+05   \n",
       "3  700-740   0.0   78.0   25713.492279  3.015814e+05  3.804888e+05   \n",
       "4  740-780   0.0  176.0   36822.888771  4.217456e+05  5.493874e+05   \n",
       "5     780>   1.0  436.0   37736.453701  4.388750e+05  5.927607e+05   \n",
       "6    Total   1.0  744.0  122845.754212  1.443809e+06  1.859015e+06   \n",
       "\n",
       "           2016          2017          2018      2019  \n",
       "0  1.559000e+03  1.908000e+03  1.807000e+03     182.0  \n",
       "1  1.054697e+05  1.205158e+05  1.101958e+05   10296.0  \n",
       "2  2.760999e+05  2.727450e+05  2.354139e+05   24769.0  \n",
       "3  4.694167e+05  4.253747e+05  3.595761e+05   39952.0  \n",
       "4  6.801104e+05  5.468115e+05  4.494952e+05   48465.0  \n",
       "5  7.648172e+05  5.366915e+05  4.118400e+05   41038.0  \n",
       "6  2.297473e+06  1.904046e+06  1.568328e+06  164702.0  "
      ]
     },
     "execution_count": 256,
     "metadata": {},
     "output_type": "execute_result"
    }
   ],
   "source": [
    "total.toPandas()"
   ]
  },
  {
   "cell_type": "markdown",
   "metadata": {},
   "source": [
    "***Loss Rate by Vintage and FICO***"
   ]
  },
  {
   "cell_type": "code",
   "execution_count": 257,
   "metadata": {},
   "outputs": [],
   "source": [
    "df = statistics_data_default.fillna('9999', 'VinYr')"
   ]
  },
  {
   "cell_type": "code",
   "execution_count": 258,
   "metadata": {},
   "outputs": [],
   "source": [
    "vintage_years = [row.VinYr for row in df.select('VinYr').orderBy('VinYr').distinct().collect() if row.VinYr != '9999']"
   ]
  },
  {
   "cell_type": "code",
   "execution_count": 259,
   "metadata": {},
   "outputs": [],
   "source": [
    "for vinyr in vintage_years:\n",
    "    df = df.withColumn(vinyr, F.when(F.col('VinYr') == vinyr, F.col('NET_LOSS')/F.col('ORIG_AMT')).otherwise(F.lit(0)))"
   ]
  },
  {
   "cell_type": "code",
   "execution_count": 260,
   "metadata": {},
   "outputs": [],
   "source": [
    "expr = [F.sum(x).alias(x) for x in vintage_years]"
   ]
  },
  {
   "cell_type": "code",
   "execution_count": 261,
   "metadata": {},
   "outputs": [],
   "source": [
    "df = df.where(F.col('FicoBkt').isNotNull()).orderBy('FicoBkt').groupBy('FicoBkt').agg(*expr)"
   ]
  },
  {
   "cell_type": "code",
   "execution_count": 262,
   "metadata": {},
   "outputs": [],
   "source": [
    "df_total = df.withColumn('Total', F.lit('Total')).groupBy('Total').agg(*expr)"
   ]
  },
  {
   "cell_type": "markdown",
   "metadata": {},
   "source": [
    "AGGREGATE"
   ]
  },
  {
   "cell_type": "code",
   "execution_count": 263,
   "metadata": {},
   "outputs": [],
   "source": [
    "total = df.union(df_total)"
   ]
  },
  {
   "cell_type": "code",
   "execution_count": 264,
   "metadata": {},
   "outputs": [
    {
     "data": {
      "text/html": [
       "<div>\n",
       "<style scoped>\n",
       "    .dataframe tbody tr th:only-of-type {\n",
       "        vertical-align: middle;\n",
       "    }\n",
       "\n",
       "    .dataframe tbody tr th {\n",
       "        vertical-align: top;\n",
       "    }\n",
       "\n",
       "    .dataframe thead th {\n",
       "        text-align: right;\n",
       "    }\n",
       "</style>\n",
       "<table border=\"1\" class=\"dataframe\">\n",
       "  <thead>\n",
       "    <tr style=\"text-align: right;\">\n",
       "      <th></th>\n",
       "      <th>FicoBkt</th>\n",
       "      <th>2011</th>\n",
       "      <th>2012</th>\n",
       "      <th>2013</th>\n",
       "      <th>2014</th>\n",
       "      <th>2015</th>\n",
       "      <th>2016</th>\n",
       "      <th>2017</th>\n",
       "      <th>2018</th>\n",
       "      <th>2019</th>\n",
       "    </tr>\n",
       "  </thead>\n",
       "  <tbody>\n",
       "    <tr>\n",
       "      <th>0</th>\n",
       "      <td>0-620</td>\n",
       "      <td>0.000000</td>\n",
       "      <td>3.342736</td>\n",
       "      <td>135.251765</td>\n",
       "      <td>1.181553e+03</td>\n",
       "      <td>1.431658e+03</td>\n",
       "      <td>1.436981e+03</td>\n",
       "      <td>1.806109e+03</td>\n",
       "      <td>1.760246e+03</td>\n",
       "      <td>179.327749</td>\n",
       "    </tr>\n",
       "    <tr>\n",
       "      <th>1</th>\n",
       "      <td>620-660</td>\n",
       "      <td>0.000000</td>\n",
       "      <td>2.117489</td>\n",
       "      <td>5140.273311</td>\n",
       "      <td>7.202273e+04</td>\n",
       "      <td>8.741172e+04</td>\n",
       "      <td>9.698700e+04</td>\n",
       "      <td>1.140632e+05</td>\n",
       "      <td>1.072502e+05</td>\n",
       "      <td>10118.059757</td>\n",
       "    </tr>\n",
       "    <tr>\n",
       "      <th>2</th>\n",
       "      <td>660-700</td>\n",
       "      <td>0.000000</td>\n",
       "      <td>19.459329</td>\n",
       "      <td>14235.138938</td>\n",
       "      <td>1.763234e+05</td>\n",
       "      <td>2.138455e+05</td>\n",
       "      <td>2.529182e+05</td>\n",
       "      <td>2.575089e+05</td>\n",
       "      <td>2.288032e+05</td>\n",
       "      <td>24320.557819</td>\n",
       "    </tr>\n",
       "    <tr>\n",
       "      <th>3</th>\n",
       "      <td>700-740</td>\n",
       "      <td>0.000000</td>\n",
       "      <td>33.771487</td>\n",
       "      <td>22177.955413</td>\n",
       "      <td>2.654567e+05</td>\n",
       "      <td>3.396537e+05</td>\n",
       "      <td>4.276054e+05</td>\n",
       "      <td>4.000509e+05</td>\n",
       "      <td>3.486205e+05</td>\n",
       "      <td>39201.232214</td>\n",
       "    </tr>\n",
       "    <tr>\n",
       "      <th>4</th>\n",
       "      <td>740-780</td>\n",
       "      <td>0.000000</td>\n",
       "      <td>78.201139</td>\n",
       "      <td>31331.673868</td>\n",
       "      <td>3.661831e+05</td>\n",
       "      <td>4.835511e+05</td>\n",
       "      <td>6.125614e+05</td>\n",
       "      <td>5.099617e+05</td>\n",
       "      <td>4.332633e+05</td>\n",
       "      <td>47332.182102</td>\n",
       "    </tr>\n",
       "    <tr>\n",
       "      <th>5</th>\n",
       "      <td>780&gt;</td>\n",
       "      <td>0.544574</td>\n",
       "      <td>151.605644</td>\n",
       "      <td>30621.047998</td>\n",
       "      <td>3.652047e+05</td>\n",
       "      <td>5.031966e+05</td>\n",
       "      <td>6.696951e+05</td>\n",
       "      <td>4.893785e+05</td>\n",
       "      <td>3.899333e+05</td>\n",
       "      <td>39575.166372</td>\n",
       "    </tr>\n",
       "    <tr>\n",
       "      <th>6</th>\n",
       "      <td>Total</td>\n",
       "      <td>0.544574</td>\n",
       "      <td>288.497824</td>\n",
       "      <td>103641.341294</td>\n",
       "      <td>1.246372e+06</td>\n",
       "      <td>1.629090e+06</td>\n",
       "      <td>2.061204e+06</td>\n",
       "      <td>1.772769e+06</td>\n",
       "      <td>1.509631e+06</td>\n",
       "      <td>160726.526012</td>\n",
       "    </tr>\n",
       "  </tbody>\n",
       "</table>\n",
       "</div>"
      ],
      "text/plain": [
       "   FicoBkt      2011        2012           2013          2014          2015  \\\n",
       "0    0-620  0.000000    3.342736     135.251765  1.181553e+03  1.431658e+03   \n",
       "1  620-660  0.000000    2.117489    5140.273311  7.202273e+04  8.741172e+04   \n",
       "2  660-700  0.000000   19.459329   14235.138938  1.763234e+05  2.138455e+05   \n",
       "3  700-740  0.000000   33.771487   22177.955413  2.654567e+05  3.396537e+05   \n",
       "4  740-780  0.000000   78.201139   31331.673868  3.661831e+05  4.835511e+05   \n",
       "5     780>  0.544574  151.605644   30621.047998  3.652047e+05  5.031966e+05   \n",
       "6    Total  0.544574  288.497824  103641.341294  1.246372e+06  1.629090e+06   \n",
       "\n",
       "           2016          2017          2018           2019  \n",
       "0  1.436981e+03  1.806109e+03  1.760246e+03     179.327749  \n",
       "1  9.698700e+04  1.140632e+05  1.072502e+05   10118.059757  \n",
       "2  2.529182e+05  2.575089e+05  2.288032e+05   24320.557819  \n",
       "3  4.276054e+05  4.000509e+05  3.486205e+05   39201.232214  \n",
       "4  6.125614e+05  5.099617e+05  4.332633e+05   47332.182102  \n",
       "5  6.696951e+05  4.893785e+05  3.899333e+05   39575.166372  \n",
       "6  2.061204e+06  1.772769e+06  1.509631e+06  160726.526012  "
      ]
     },
     "execution_count": 264,
     "metadata": {},
     "output_type": "execute_result"
    }
   ],
   "source": [
    "total.toPandas()"
   ]
  },
  {
   "cell_type": "markdown",
   "metadata": {},
   "source": [
    "***Default Rate by Vintage and Original Loan Amount***"
   ]
  },
  {
   "cell_type": "code",
   "execution_count": 265,
   "metadata": {},
   "outputs": [],
   "source": [
    "df = statistics_data_default.fillna('9999', 'VinYr')"
   ]
  },
  {
   "cell_type": "code",
   "execution_count": 266,
   "metadata": {},
   "outputs": [],
   "source": [
    "vintage_years = [row.VinYr for row in df.select('VinYr').orderBy('VinYr').distinct().collect() if row.VinYr != '9999']"
   ]
  },
  {
   "cell_type": "code",
   "execution_count": 267,
   "metadata": {},
   "outputs": [],
   "source": [
    "for vinyr in vintage_years:\n",
    "    df = df.withColumn(vinyr, F.when(F.col('VinYr') == vinyr, F.col('LAST_UPB')/F.col('ORIG_AMT')).otherwise(F.lit(0)))"
   ]
  },
  {
   "cell_type": "code",
   "execution_count": 268,
   "metadata": {},
   "outputs": [],
   "source": [
    "expr = [F.sum(x).alias(x) for x in vintage_years]"
   ]
  },
  {
   "cell_type": "code",
   "execution_count": 269,
   "metadata": {},
   "outputs": [],
   "source": [
    "df = df.where(F.col('OrigAmtBkt').isNotNull()).orderBy('OrigAmtBkt').groupBy('OrigAmtBkt').agg(*expr)"
   ]
  },
  {
   "cell_type": "code",
   "execution_count": 270,
   "metadata": {},
   "outputs": [],
   "source": [
    "df_total = df.withColumn('Total', F.lit('Total')).groupBy('Total').agg(*expr)"
   ]
  },
  {
   "cell_type": "markdown",
   "metadata": {},
   "source": [
    "AGGREGATE"
   ]
  },
  {
   "cell_type": "code",
   "execution_count": 271,
   "metadata": {},
   "outputs": [],
   "source": [
    "total = df.union(df_total)"
   ]
  },
  {
   "cell_type": "code",
   "execution_count": 272,
   "metadata": {},
   "outputs": [
    {
     "data": {
      "text/html": [
       "<div>\n",
       "<style scoped>\n",
       "    .dataframe tbody tr th:only-of-type {\n",
       "        vertical-align: middle;\n",
       "    }\n",
       "\n",
       "    .dataframe tbody tr th {\n",
       "        vertical-align: top;\n",
       "    }\n",
       "\n",
       "    .dataframe thead th {\n",
       "        text-align: right;\n",
       "    }\n",
       "</style>\n",
       "<table border=\"1\" class=\"dataframe\">\n",
       "  <thead>\n",
       "    <tr style=\"text-align: right;\">\n",
       "      <th></th>\n",
       "      <th>OrigAmtBkt</th>\n",
       "      <th>2011</th>\n",
       "      <th>2012</th>\n",
       "      <th>2013</th>\n",
       "      <th>2014</th>\n",
       "      <th>2015</th>\n",
       "      <th>2016</th>\n",
       "      <th>2017</th>\n",
       "      <th>2018</th>\n",
       "      <th>2019</th>\n",
       "    </tr>\n",
       "  </thead>\n",
       "  <tbody>\n",
       "    <tr>\n",
       "      <th>0</th>\n",
       "      <td>0-85k</td>\n",
       "      <td>0.544574</td>\n",
       "      <td>45.861161</td>\n",
       "      <td>11094.173548</td>\n",
       "      <td>1.177927e+05</td>\n",
       "      <td>1.273697e+05</td>\n",
       "      <td>1.380166e+05</td>\n",
       "      <td>1.377663e+05</td>\n",
       "      <td>1.134419e+05</td>\n",
       "      <td>11601.115445</td>\n",
       "    </tr>\n",
       "    <tr>\n",
       "      <th>1</th>\n",
       "      <td>110k-125k</td>\n",
       "      <td>0.000000</td>\n",
       "      <td>26.339765</td>\n",
       "      <td>6162.002000</td>\n",
       "      <td>7.138597e+04</td>\n",
       "      <td>8.523996e+04</td>\n",
       "      <td>1.027333e+05</td>\n",
       "      <td>9.561674e+04</td>\n",
       "      <td>7.486463e+04</td>\n",
       "      <td>7479.447573</td>\n",
       "    </tr>\n",
       "    <tr>\n",
       "      <th>2</th>\n",
       "      <td>125k-150k</td>\n",
       "      <td>0.000000</td>\n",
       "      <td>38.936404</td>\n",
       "      <td>10276.314021</td>\n",
       "      <td>1.227471e+05</td>\n",
       "      <td>1.494223e+05</td>\n",
       "      <td>1.858177e+05</td>\n",
       "      <td>1.706142e+05</td>\n",
       "      <td>1.356740e+05</td>\n",
       "      <td>13464.360031</td>\n",
       "    </tr>\n",
       "    <tr>\n",
       "      <th>3</th>\n",
       "      <td>150k-175k</td>\n",
       "      <td>0.000000</td>\n",
       "      <td>26.263085</td>\n",
       "      <td>9398.613408</td>\n",
       "      <td>1.121453e+05</td>\n",
       "      <td>1.417859e+05</td>\n",
       "      <td>1.790132e+05</td>\n",
       "      <td>1.567510e+05</td>\n",
       "      <td>1.243436e+05</td>\n",
       "      <td>13431.426540</td>\n",
       "    </tr>\n",
       "    <tr>\n",
       "      <th>4</th>\n",
       "      <td>175k-200k</td>\n",
       "      <td>0.000000</td>\n",
       "      <td>15.887922</td>\n",
       "      <td>8959.170870</td>\n",
       "      <td>1.127165e+05</td>\n",
       "      <td>1.486342e+05</td>\n",
       "      <td>1.809101e+05</td>\n",
       "      <td>1.610210e+05</td>\n",
       "      <td>1.357817e+05</td>\n",
       "      <td>13506.829849</td>\n",
       "    </tr>\n",
       "    <tr>\n",
       "      <th>5</th>\n",
       "      <td>200k-417k</td>\n",
       "      <td>0.000000</td>\n",
       "      <td>93.089405</td>\n",
       "      <td>43668.866318</td>\n",
       "      <td>5.513647e+05</td>\n",
       "      <td>7.826370e+05</td>\n",
       "      <td>1.022158e+06</td>\n",
       "      <td>7.775022e+05</td>\n",
       "      <td>6.780552e+05</td>\n",
       "      <td>73434.947273</td>\n",
       "    </tr>\n",
       "    <tr>\n",
       "      <th>6</th>\n",
       "      <td>417k+</td>\n",
       "      <td>0.000000</td>\n",
       "      <td>3.498563</td>\n",
       "      <td>4315.281628</td>\n",
       "      <td>5.088003e+04</td>\n",
       "      <td>7.106951e+04</td>\n",
       "      <td>1.084298e+05</td>\n",
       "      <td>1.380350e+05</td>\n",
       "      <td>1.375305e+05</td>\n",
       "      <td>16858.432159</td>\n",
       "    </tr>\n",
       "    <tr>\n",
       "      <th>7</th>\n",
       "      <td>85k-110k</td>\n",
       "      <td>0.000000</td>\n",
       "      <td>38.621517</td>\n",
       "      <td>9808.741077</td>\n",
       "      <td>1.078096e+05</td>\n",
       "      <td>1.233344e+05</td>\n",
       "      <td>1.444166e+05</td>\n",
       "      <td>1.355695e+05</td>\n",
       "      <td>1.099529e+05</td>\n",
       "      <td>10949.967143</td>\n",
       "    </tr>\n",
       "    <tr>\n",
       "      <th>8</th>\n",
       "      <td>Total</td>\n",
       "      <td>0.544574</td>\n",
       "      <td>288.497824</td>\n",
       "      <td>103683.162870</td>\n",
       "      <td>1.246842e+06</td>\n",
       "      <td>1.629493e+06</td>\n",
       "      <td>2.061495e+06</td>\n",
       "      <td>1.772876e+06</td>\n",
       "      <td>1.509645e+06</td>\n",
       "      <td>160726.526012</td>\n",
       "    </tr>\n",
       "  </tbody>\n",
       "</table>\n",
       "</div>"
      ],
      "text/plain": [
       "  OrigAmtBkt      2011        2012           2013          2014          2015  \\\n",
       "0      0-85k  0.544574   45.861161   11094.173548  1.177927e+05  1.273697e+05   \n",
       "1  110k-125k  0.000000   26.339765    6162.002000  7.138597e+04  8.523996e+04   \n",
       "2  125k-150k  0.000000   38.936404   10276.314021  1.227471e+05  1.494223e+05   \n",
       "3  150k-175k  0.000000   26.263085    9398.613408  1.121453e+05  1.417859e+05   \n",
       "4  175k-200k  0.000000   15.887922    8959.170870  1.127165e+05  1.486342e+05   \n",
       "5  200k-417k  0.000000   93.089405   43668.866318  5.513647e+05  7.826370e+05   \n",
       "6      417k+  0.000000    3.498563    4315.281628  5.088003e+04  7.106951e+04   \n",
       "7   85k-110k  0.000000   38.621517    9808.741077  1.078096e+05  1.233344e+05   \n",
       "8      Total  0.544574  288.497824  103683.162870  1.246842e+06  1.629493e+06   \n",
       "\n",
       "           2016          2017          2018           2019  \n",
       "0  1.380166e+05  1.377663e+05  1.134419e+05   11601.115445  \n",
       "1  1.027333e+05  9.561674e+04  7.486463e+04    7479.447573  \n",
       "2  1.858177e+05  1.706142e+05  1.356740e+05   13464.360031  \n",
       "3  1.790132e+05  1.567510e+05  1.243436e+05   13431.426540  \n",
       "4  1.809101e+05  1.610210e+05  1.357817e+05   13506.829849  \n",
       "5  1.022158e+06  7.775022e+05  6.780552e+05   73434.947273  \n",
       "6  1.084298e+05  1.380350e+05  1.375305e+05   16858.432159  \n",
       "7  1.444166e+05  1.355695e+05  1.099529e+05   10949.967143  \n",
       "8  2.061495e+06  1.772876e+06  1.509645e+06  160726.526012  "
      ]
     },
     "execution_count": 272,
     "metadata": {},
     "output_type": "execute_result"
    }
   ],
   "source": [
    "total.toPandas()"
   ]
  },
  {
   "cell_type": "markdown",
   "metadata": {},
   "source": [
    "***Severity by Vintage and Original Loan Amount***"
   ]
  },
  {
   "cell_type": "code",
   "execution_count": 273,
   "metadata": {},
   "outputs": [],
   "source": [
    "df = statistics_data_default.fillna('9999', 'VinYr')"
   ]
  },
  {
   "cell_type": "code",
   "execution_count": 274,
   "metadata": {},
   "outputs": [],
   "source": [
    "vintage_years = [row.VinYr for row in df.select('VinYr').orderBy('VinYr').distinct().collect() if row.VinYr != '9999']"
   ]
  },
  {
   "cell_type": "code",
   "execution_count": 275,
   "metadata": {},
   "outputs": [],
   "source": [
    "for vinyr in vintage_years:\n",
    "    df = df.withColumn(vinyr, F.when(F.col('VinYr') == vinyr, F.col('NET_LOSS')/F.col('LAST_UPB')).otherwise(F.lit(0)))"
   ]
  },
  {
   "cell_type": "code",
   "execution_count": 276,
   "metadata": {},
   "outputs": [],
   "source": [
    "expr = [F.sum(x).alias(x) for x in vintage_years]"
   ]
  },
  {
   "cell_type": "code",
   "execution_count": 277,
   "metadata": {},
   "outputs": [],
   "source": [
    "df = df.where(F.col('OrigAmtBkt').isNotNull()).orderBy('OrigAmtBkt').groupBy('OrigAmtBkt').agg(*expr)"
   ]
  },
  {
   "cell_type": "code",
   "execution_count": 278,
   "metadata": {},
   "outputs": [],
   "source": [
    "df_total = df.withColumn('Total', F.lit('Total')).groupBy('Total').agg(*expr)"
   ]
  },
  {
   "cell_type": "markdown",
   "metadata": {},
   "source": [
    "AGGREGATE"
   ]
  },
  {
   "cell_type": "code",
   "execution_count": 279,
   "metadata": {},
   "outputs": [],
   "source": [
    "total = df.union(df_total)"
   ]
  },
  {
   "cell_type": "code",
   "execution_count": 280,
   "metadata": {},
   "outputs": [
    {
     "data": {
      "text/html": [
       "<div>\n",
       "<style scoped>\n",
       "    .dataframe tbody tr th:only-of-type {\n",
       "        vertical-align: middle;\n",
       "    }\n",
       "\n",
       "    .dataframe tbody tr th {\n",
       "        vertical-align: top;\n",
       "    }\n",
       "\n",
       "    .dataframe thead th {\n",
       "        text-align: right;\n",
       "    }\n",
       "</style>\n",
       "<table border=\"1\" class=\"dataframe\">\n",
       "  <thead>\n",
       "    <tr style=\"text-align: right;\">\n",
       "      <th></th>\n",
       "      <th>OrigAmtBkt</th>\n",
       "      <th>2011</th>\n",
       "      <th>2012</th>\n",
       "      <th>2013</th>\n",
       "      <th>2014</th>\n",
       "      <th>2015</th>\n",
       "      <th>2016</th>\n",
       "      <th>2017</th>\n",
       "      <th>2018</th>\n",
       "      <th>2019</th>\n",
       "    </tr>\n",
       "  </thead>\n",
       "  <tbody>\n",
       "    <tr>\n",
       "      <th>0</th>\n",
       "      <td>0-85k</td>\n",
       "      <td>1.0</td>\n",
       "      <td>157.0</td>\n",
       "      <td>14430.272701</td>\n",
       "      <td>1.482568e+05</td>\n",
       "      <td>1.544420e+05</td>\n",
       "      <td>1.599523e+05</td>\n",
       "      <td>1.520316e+05</td>\n",
       "      <td>1.193852e+05</td>\n",
       "      <td>12009.0</td>\n",
       "    </tr>\n",
       "    <tr>\n",
       "      <th>1</th>\n",
       "      <td>110k-125k</td>\n",
       "      <td>0.0</td>\n",
       "      <td>72.0</td>\n",
       "      <td>7566.811940</td>\n",
       "      <td>8.513020e+04</td>\n",
       "      <td>9.910957e+04</td>\n",
       "      <td>1.156849e+05</td>\n",
       "      <td>1.032870e+05</td>\n",
       "      <td>7.795714e+04</td>\n",
       "      <td>7676.0</td>\n",
       "    </tr>\n",
       "    <tr>\n",
       "      <th>2</th>\n",
       "      <td>125k-150k</td>\n",
       "      <td>0.0</td>\n",
       "      <td>91.0</td>\n",
       "      <td>12438.213748</td>\n",
       "      <td>1.447854e+05</td>\n",
       "      <td>1.728132e+05</td>\n",
       "      <td>2.087622e+05</td>\n",
       "      <td>1.839771e+05</td>\n",
       "      <td>1.411879e+05</td>\n",
       "      <td>13824.0</td>\n",
       "    </tr>\n",
       "    <tr>\n",
       "      <th>3</th>\n",
       "      <td>150k-175k</td>\n",
       "      <td>0.0</td>\n",
       "      <td>76.0</td>\n",
       "      <td>11172.241066</td>\n",
       "      <td>1.304162e+05</td>\n",
       "      <td>1.624934e+05</td>\n",
       "      <td>1.999554e+05</td>\n",
       "      <td>1.683518e+05</td>\n",
       "      <td>1.291150e+05</td>\n",
       "      <td>13755.0</td>\n",
       "    </tr>\n",
       "    <tr>\n",
       "      <th>4</th>\n",
       "      <td>175k-200k</td>\n",
       "      <td>0.0</td>\n",
       "      <td>42.0</td>\n",
       "      <td>10573.569214</td>\n",
       "      <td>1.301924e+05</td>\n",
       "      <td>1.696709e+05</td>\n",
       "      <td>2.019164e+05</td>\n",
       "      <td>1.727400e+05</td>\n",
       "      <td>1.409160e+05</td>\n",
       "      <td>13850.0</td>\n",
       "    </tr>\n",
       "    <tr>\n",
       "      <th>5</th>\n",
       "      <td>200k-417k</td>\n",
       "      <td>0.0</td>\n",
       "      <td>185.0</td>\n",
       "      <td>49759.032763</td>\n",
       "      <td>6.194574e+05</td>\n",
       "      <td>8.774198e+05</td>\n",
       "      <td>1.129714e+06</td>\n",
       "      <td>8.301925e+05</td>\n",
       "      <td>7.027679e+05</td>\n",
       "      <td>75111.0</td>\n",
       "    </tr>\n",
       "    <tr>\n",
       "      <th>6</th>\n",
       "      <td>417k+</td>\n",
       "      <td>0.0</td>\n",
       "      <td>4.0</td>\n",
       "      <td>4674.000000</td>\n",
       "      <td>5.478097e+04</td>\n",
       "      <td>7.764638e+04</td>\n",
       "      <td>1.172690e+05</td>\n",
       "      <td>1.458510e+05</td>\n",
       "      <td>1.420110e+05</td>\n",
       "      <td>17187.0</td>\n",
       "    </tr>\n",
       "    <tr>\n",
       "      <th>7</th>\n",
       "      <td>85k-110k</td>\n",
       "      <td>0.0</td>\n",
       "      <td>117.0</td>\n",
       "      <td>12231.612780</td>\n",
       "      <td>1.307894e+05</td>\n",
       "      <td>1.454201e+05</td>\n",
       "      <td>1.642184e+05</td>\n",
       "      <td>1.476155e+05</td>\n",
       "      <td>1.149879e+05</td>\n",
       "      <td>11290.0</td>\n",
       "    </tr>\n",
       "    <tr>\n",
       "      <th>8</th>\n",
       "      <td>Total</td>\n",
       "      <td>1.0</td>\n",
       "      <td>744.0</td>\n",
       "      <td>122845.754212</td>\n",
       "      <td>1.443809e+06</td>\n",
       "      <td>1.859015e+06</td>\n",
       "      <td>2.297473e+06</td>\n",
       "      <td>1.904046e+06</td>\n",
       "      <td>1.568328e+06</td>\n",
       "      <td>164702.0</td>\n",
       "    </tr>\n",
       "  </tbody>\n",
       "</table>\n",
       "</div>"
      ],
      "text/plain": [
       "  OrigAmtBkt  2011   2012           2013          2014          2015  \\\n",
       "0      0-85k   1.0  157.0   14430.272701  1.482568e+05  1.544420e+05   \n",
       "1  110k-125k   0.0   72.0    7566.811940  8.513020e+04  9.910957e+04   \n",
       "2  125k-150k   0.0   91.0   12438.213748  1.447854e+05  1.728132e+05   \n",
       "3  150k-175k   0.0   76.0   11172.241066  1.304162e+05  1.624934e+05   \n",
       "4  175k-200k   0.0   42.0   10573.569214  1.301924e+05  1.696709e+05   \n",
       "5  200k-417k   0.0  185.0   49759.032763  6.194574e+05  8.774198e+05   \n",
       "6      417k+   0.0    4.0    4674.000000  5.478097e+04  7.764638e+04   \n",
       "7   85k-110k   0.0  117.0   12231.612780  1.307894e+05  1.454201e+05   \n",
       "8      Total   1.0  744.0  122845.754212  1.443809e+06  1.859015e+06   \n",
       "\n",
       "           2016          2017          2018      2019  \n",
       "0  1.599523e+05  1.520316e+05  1.193852e+05   12009.0  \n",
       "1  1.156849e+05  1.032870e+05  7.795714e+04    7676.0  \n",
       "2  2.087622e+05  1.839771e+05  1.411879e+05   13824.0  \n",
       "3  1.999554e+05  1.683518e+05  1.291150e+05   13755.0  \n",
       "4  2.019164e+05  1.727400e+05  1.409160e+05   13850.0  \n",
       "5  1.129714e+06  8.301925e+05  7.027679e+05   75111.0  \n",
       "6  1.172690e+05  1.458510e+05  1.420110e+05   17187.0  \n",
       "7  1.642184e+05  1.476155e+05  1.149879e+05   11290.0  \n",
       "8  2.297473e+06  1.904046e+06  1.568328e+06  164702.0  "
      ]
     },
     "execution_count": 280,
     "metadata": {},
     "output_type": "execute_result"
    }
   ],
   "source": [
    "total.toPandas()"
   ]
  },
  {
   "cell_type": "markdown",
   "metadata": {},
   "source": [
    "***Loss Rate by Vintage and Original Loan Amount***"
   ]
  },
  {
   "cell_type": "code",
   "execution_count": 281,
   "metadata": {},
   "outputs": [],
   "source": [
    "df = statistics_data_default.fillna('9999', 'VinYr')"
   ]
  },
  {
   "cell_type": "code",
   "execution_count": 282,
   "metadata": {},
   "outputs": [],
   "source": [
    "vintage_years = [row.VinYr for row in df.select('VinYr').orderBy('VinYr').distinct().collect() if row.VinYr != '9999']"
   ]
  },
  {
   "cell_type": "code",
   "execution_count": 283,
   "metadata": {},
   "outputs": [],
   "source": [
    "for vinyr in vintage_years:\n",
    "    df = df.withColumn(vinyr, F.when(F.col('VinYr') == vinyr, F.col('NET_LOSS')/F.col('ORIG_AMT')).otherwise(F.lit(0)))"
   ]
  },
  {
   "cell_type": "code",
   "execution_count": 284,
   "metadata": {},
   "outputs": [],
   "source": [
    "expr = [F.sum(x).alias(x) for x in vintage_years]"
   ]
  },
  {
   "cell_type": "code",
   "execution_count": 285,
   "metadata": {},
   "outputs": [],
   "source": [
    "df = df.where(F.col('OrigAmtBkt').isNotNull()).orderBy('OrigAmtBkt').groupBy('OrigAmtBkt').agg(*expr)"
   ]
  },
  {
   "cell_type": "code",
   "execution_count": 286,
   "metadata": {},
   "outputs": [],
   "source": [
    "df_total = df.withColumn('Total', F.lit('Total')).groupBy('Total').agg(*expr)"
   ]
  },
  {
   "cell_type": "markdown",
   "metadata": {},
   "source": [
    "AGGREGATE"
   ]
  },
  {
   "cell_type": "code",
   "execution_count": 287,
   "metadata": {},
   "outputs": [],
   "source": [
    "total = df.union(df_total)"
   ]
  },
  {
   "cell_type": "code",
   "execution_count": 288,
   "metadata": {},
   "outputs": [
    {
     "data": {
      "text/html": [
       "<div>\n",
       "<style scoped>\n",
       "    .dataframe tbody tr th:only-of-type {\n",
       "        vertical-align: middle;\n",
       "    }\n",
       "\n",
       "    .dataframe tbody tr th {\n",
       "        vertical-align: top;\n",
       "    }\n",
       "\n",
       "    .dataframe thead th {\n",
       "        text-align: right;\n",
       "    }\n",
       "</style>\n",
       "<table border=\"1\" class=\"dataframe\">\n",
       "  <thead>\n",
       "    <tr style=\"text-align: right;\">\n",
       "      <th></th>\n",
       "      <th>OrigAmtBkt</th>\n",
       "      <th>2011</th>\n",
       "      <th>2012</th>\n",
       "      <th>2013</th>\n",
       "      <th>2014</th>\n",
       "      <th>2015</th>\n",
       "      <th>2016</th>\n",
       "      <th>2017</th>\n",
       "      <th>2018</th>\n",
       "      <th>2019</th>\n",
       "    </tr>\n",
       "  </thead>\n",
       "  <tbody>\n",
       "    <tr>\n",
       "      <th>0</th>\n",
       "      <td>0-85k</td>\n",
       "      <td>0.544574</td>\n",
       "      <td>45.861161</td>\n",
       "      <td>11082.400210</td>\n",
       "      <td>1.176660e+05</td>\n",
       "      <td>1.272656e+05</td>\n",
       "      <td>1.379389e+05</td>\n",
       "      <td>1.377343e+05</td>\n",
       "      <td>1.134411e+05</td>\n",
       "      <td>11601.115445</td>\n",
       "    </tr>\n",
       "    <tr>\n",
       "      <th>1</th>\n",
       "      <td>110k-125k</td>\n",
       "      <td>0.000000</td>\n",
       "      <td>26.339765</td>\n",
       "      <td>6158.920699</td>\n",
       "      <td>7.134870e+04</td>\n",
       "      <td>8.520193e+04</td>\n",
       "      <td>1.027108e+05</td>\n",
       "      <td>9.560880e+04</td>\n",
       "      <td>7.486378e+04</td>\n",
       "      <td>7479.447573</td>\n",
       "    </tr>\n",
       "    <tr>\n",
       "      <th>2</th>\n",
       "      <td>125k-150k</td>\n",
       "      <td>0.000000</td>\n",
       "      <td>38.936404</td>\n",
       "      <td>10272.663321</td>\n",
       "      <td>1.226911e+05</td>\n",
       "      <td>1.493898e+05</td>\n",
       "      <td>1.857894e+05</td>\n",
       "      <td>1.706013e+05</td>\n",
       "      <td>1.356719e+05</td>\n",
       "      <td>13464.360031</td>\n",
       "    </tr>\n",
       "    <tr>\n",
       "      <th>3</th>\n",
       "      <td>150k-175k</td>\n",
       "      <td>0.000000</td>\n",
       "      <td>26.263085</td>\n",
       "      <td>9396.922493</td>\n",
       "      <td>1.120967e+05</td>\n",
       "      <td>1.417464e+05</td>\n",
       "      <td>1.789832e+05</td>\n",
       "      <td>1.567419e+05</td>\n",
       "      <td>1.243426e+05</td>\n",
       "      <td>13431.426540</td>\n",
       "    </tr>\n",
       "    <tr>\n",
       "      <th>4</th>\n",
       "      <td>175k-200k</td>\n",
       "      <td>0.000000</td>\n",
       "      <td>15.887922</td>\n",
       "      <td>8953.863596</td>\n",
       "      <td>1.126891e+05</td>\n",
       "      <td>1.486078e+05</td>\n",
       "      <td>1.808900e+05</td>\n",
       "      <td>1.610180e+05</td>\n",
       "      <td>1.357817e+05</td>\n",
       "      <td>13506.829849</td>\n",
       "    </tr>\n",
       "    <tr>\n",
       "      <th>5</th>\n",
       "      <td>200k-417k</td>\n",
       "      <td>0.000000</td>\n",
       "      <td>93.089405</td>\n",
       "      <td>43659.264905</td>\n",
       "      <td>5.512537e+05</td>\n",
       "      <td>7.825437e+05</td>\n",
       "      <td>1.022098e+06</td>\n",
       "      <td>7.774818e+05</td>\n",
       "      <td>6.780481e+05</td>\n",
       "      <td>73434.947273</td>\n",
       "    </tr>\n",
       "    <tr>\n",
       "      <th>6</th>\n",
       "      <td>417k+</td>\n",
       "      <td>0.000000</td>\n",
       "      <td>3.498563</td>\n",
       "      <td>4315.281628</td>\n",
       "      <td>5.087715e+04</td>\n",
       "      <td>7.106500e+04</td>\n",
       "      <td>1.084258e+05</td>\n",
       "      <td>1.380340e+05</td>\n",
       "      <td>1.375305e+05</td>\n",
       "      <td>16858.432159</td>\n",
       "    </tr>\n",
       "    <tr>\n",
       "      <th>7</th>\n",
       "      <td>85k-110k</td>\n",
       "      <td>0.000000</td>\n",
       "      <td>38.621517</td>\n",
       "      <td>9802.024440</td>\n",
       "      <td>1.077497e+05</td>\n",
       "      <td>1.232700e+05</td>\n",
       "      <td>1.443684e+05</td>\n",
       "      <td>1.355491e+05</td>\n",
       "      <td>1.099508e+05</td>\n",
       "      <td>10949.967143</td>\n",
       "    </tr>\n",
       "    <tr>\n",
       "      <th>8</th>\n",
       "      <td>Total</td>\n",
       "      <td>0.544574</td>\n",
       "      <td>288.497824</td>\n",
       "      <td>103641.341294</td>\n",
       "      <td>1.246372e+06</td>\n",
       "      <td>1.629090e+06</td>\n",
       "      <td>2.061204e+06</td>\n",
       "      <td>1.772769e+06</td>\n",
       "      <td>1.509631e+06</td>\n",
       "      <td>160726.526012</td>\n",
       "    </tr>\n",
       "  </tbody>\n",
       "</table>\n",
       "</div>"
      ],
      "text/plain": [
       "  OrigAmtBkt      2011        2012           2013          2014          2015  \\\n",
       "0      0-85k  0.544574   45.861161   11082.400210  1.176660e+05  1.272656e+05   \n",
       "1  110k-125k  0.000000   26.339765    6158.920699  7.134870e+04  8.520193e+04   \n",
       "2  125k-150k  0.000000   38.936404   10272.663321  1.226911e+05  1.493898e+05   \n",
       "3  150k-175k  0.000000   26.263085    9396.922493  1.120967e+05  1.417464e+05   \n",
       "4  175k-200k  0.000000   15.887922    8953.863596  1.126891e+05  1.486078e+05   \n",
       "5  200k-417k  0.000000   93.089405   43659.264905  5.512537e+05  7.825437e+05   \n",
       "6      417k+  0.000000    3.498563    4315.281628  5.087715e+04  7.106500e+04   \n",
       "7   85k-110k  0.000000   38.621517    9802.024440  1.077497e+05  1.232700e+05   \n",
       "8      Total  0.544574  288.497824  103641.341294  1.246372e+06  1.629090e+06   \n",
       "\n",
       "           2016          2017          2018           2019  \n",
       "0  1.379389e+05  1.377343e+05  1.134411e+05   11601.115445  \n",
       "1  1.027108e+05  9.560880e+04  7.486378e+04    7479.447573  \n",
       "2  1.857894e+05  1.706013e+05  1.356719e+05   13464.360031  \n",
       "3  1.789832e+05  1.567419e+05  1.243426e+05   13431.426540  \n",
       "4  1.808900e+05  1.610180e+05  1.357817e+05   13506.829849  \n",
       "5  1.022098e+06  7.774818e+05  6.780481e+05   73434.947273  \n",
       "6  1.084258e+05  1.380340e+05  1.375305e+05   16858.432159  \n",
       "7  1.443684e+05  1.355491e+05  1.099508e+05   10949.967143  \n",
       "8  2.061204e+06  1.772769e+06  1.509631e+06  160726.526012  "
      ]
     },
     "execution_count": 288,
     "metadata": {},
     "output_type": "execute_result"
    }
   ],
   "source": [
    "total.toPandas()"
   ]
  },
  {
   "cell_type": "markdown",
   "metadata": {},
   "source": [
    "***Default Rate by FICO and Original Loan Amount***"
   ]
  },
  {
   "cell_type": "code",
   "execution_count": 289,
   "metadata": {},
   "outputs": [],
   "source": [
    "df = statistics_data_default.fillna('9999', 'VinYr')"
   ]
  },
  {
   "cell_type": "code",
   "execution_count": 290,
   "metadata": {},
   "outputs": [],
   "source": [
    "orig_loan_amounts = [row.OrigAmtBkt for row in df.select('OrigAmtBkt').orderBy('OrigAmtBkt').distinct().collect()]"
   ]
  },
  {
   "cell_type": "code",
   "execution_count": 291,
   "metadata": {},
   "outputs": [],
   "source": [
    "for ola in orig_loan_amounts:\n",
    "    df = df.withColumn(ola, F.when(F.col('OrigAmtBkt') == ola, F.col('LAST_UPB')/F.col('ORIG_AMT')).otherwise(F.lit(0)))"
   ]
  },
  {
   "cell_type": "code",
   "execution_count": 292,
   "metadata": {},
   "outputs": [],
   "source": [
    "expr = [F.sum(x).alias(x) for x in orig_loan_amounts]"
   ]
  },
  {
   "cell_type": "code",
   "execution_count": 293,
   "metadata": {},
   "outputs": [],
   "source": [
    "df = df.where(F.col('FicoBkt').isNotNull()).orderBy('FicoBkt').groupBy('FicoBkt').agg(*expr)"
   ]
  },
  {
   "cell_type": "code",
   "execution_count": 294,
   "metadata": {},
   "outputs": [],
   "source": [
    "df_total = df.withColumn('Total', F.lit('Total')).groupBy('Total').agg(*expr)"
   ]
  },
  {
   "cell_type": "markdown",
   "metadata": {},
   "source": [
    "AGGREGATE"
   ]
  },
  {
   "cell_type": "code",
   "execution_count": 295,
   "metadata": {},
   "outputs": [],
   "source": [
    "total = df.union(df_total)"
   ]
  },
  {
   "cell_type": "code",
   "execution_count": 296,
   "metadata": {},
   "outputs": [
    {
     "data": {
      "text/html": [
       "<div>\n",
       "<style scoped>\n",
       "    .dataframe tbody tr th:only-of-type {\n",
       "        vertical-align: middle;\n",
       "    }\n",
       "\n",
       "    .dataframe tbody tr th {\n",
       "        vertical-align: top;\n",
       "    }\n",
       "\n",
       "    .dataframe thead th {\n",
       "        text-align: right;\n",
       "    }\n",
       "</style>\n",
       "<table border=\"1\" class=\"dataframe\">\n",
       "  <thead>\n",
       "    <tr style=\"text-align: right;\">\n",
       "      <th></th>\n",
       "      <th>FicoBkt</th>\n",
       "      <th>0-85k</th>\n",
       "      <th>110k-125k</th>\n",
       "      <th>125k-150k</th>\n",
       "      <th>150k-175k</th>\n",
       "      <th>175k-200k</th>\n",
       "      <th>200k-417k</th>\n",
       "      <th>417k+</th>\n",
       "      <th>85k-110k</th>\n",
       "    </tr>\n",
       "  </thead>\n",
       "  <tbody>\n",
       "    <tr>\n",
       "      <th>0</th>\n",
       "      <td>0-620</td>\n",
       "      <td>1081.664370</td>\n",
       "      <td>528.783156</td>\n",
       "      <td>882.251089</td>\n",
       "      <td>665.129599</td>\n",
       "      <td>703.771394</td>\n",
       "      <td>2.856587e+03</td>\n",
       "      <td>317.772477</td>\n",
       "      <td>904.447029</td>\n",
       "    </tr>\n",
       "    <tr>\n",
       "      <th>1</th>\n",
       "      <td>620-660</td>\n",
       "      <td>64446.517681</td>\n",
       "      <td>32673.932210</td>\n",
       "      <td>54162.723796</td>\n",
       "      <td>46627.930059</td>\n",
       "      <td>43486.783074</td>\n",
       "      <td>1.806391e+05</td>\n",
       "      <td>18851.263574</td>\n",
       "      <td>52329.497972</td>\n",
       "    </tr>\n",
       "    <tr>\n",
       "      <th>2</th>\n",
       "      <td>660-700</td>\n",
       "      <td>113224.869419</td>\n",
       "      <td>67860.808673</td>\n",
       "      <td>116735.136218</td>\n",
       "      <td>106761.686089</td>\n",
       "      <td>104837.792745</td>\n",
       "      <td>4.968921e+05</td>\n",
       "      <td>61240.825655</td>\n",
       "      <td>100830.293140</td>\n",
       "    </tr>\n",
       "    <tr>\n",
       "      <th>3</th>\n",
       "      <td>700-740</td>\n",
       "      <td>133459.956166</td>\n",
       "      <td>95441.069539</td>\n",
       "      <td>170061.491755</td>\n",
       "      <td>161758.319693</td>\n",
       "      <td>165489.313019</td>\n",
       "      <td>8.600711e+05</td>\n",
       "      <td>124544.499215</td>\n",
       "      <td>132278.070477</td>\n",
       "    </tr>\n",
       "    <tr>\n",
       "      <th>4</th>\n",
       "      <td>740-780</td>\n",
       "      <td>158714.394857</td>\n",
       "      <td>119866.040886</td>\n",
       "      <td>217680.480708</td>\n",
       "      <td>210440.368438</td>\n",
       "      <td>220801.062639</td>\n",
       "      <td>1.217512e+06</td>\n",
       "      <td>173974.498492</td>\n",
       "      <td>165499.417708</td>\n",
       "    </tr>\n",
       "    <tr>\n",
       "      <th>5</th>\n",
       "      <td>780&gt;</td>\n",
       "      <td>186201.575849</td>\n",
       "      <td>127137.788216</td>\n",
       "      <td>228532.780977</td>\n",
       "      <td>210641.840594</td>\n",
       "      <td>226226.724073</td>\n",
       "      <td>1.170943e+06</td>\n",
       "      <td>148193.187081</td>\n",
       "      <td>190038.581469</td>\n",
       "    </tr>\n",
       "    <tr>\n",
       "      <th>6</th>\n",
       "      <td>Total</td>\n",
       "      <td>657128.978341</td>\n",
       "      <td>443508.422680</td>\n",
       "      <td>788054.864543</td>\n",
       "      <td>736895.274472</td>\n",
       "      <td>761545.446944</td>\n",
       "      <td>3.928914e+06</td>\n",
       "      <td>527122.046494</td>\n",
       "      <td>641880.307794</td>\n",
       "    </tr>\n",
       "  </tbody>\n",
       "</table>\n",
       "</div>"
      ],
      "text/plain": [
       "   FicoBkt          0-85k      110k-125k      125k-150k      150k-175k  \\\n",
       "0    0-620    1081.664370     528.783156     882.251089     665.129599   \n",
       "1  620-660   64446.517681   32673.932210   54162.723796   46627.930059   \n",
       "2  660-700  113224.869419   67860.808673  116735.136218  106761.686089   \n",
       "3  700-740  133459.956166   95441.069539  170061.491755  161758.319693   \n",
       "4  740-780  158714.394857  119866.040886  217680.480708  210440.368438   \n",
       "5     780>  186201.575849  127137.788216  228532.780977  210641.840594   \n",
       "6    Total  657128.978341  443508.422680  788054.864543  736895.274472   \n",
       "\n",
       "       175k-200k     200k-417k          417k+       85k-110k  \n",
       "0     703.771394  2.856587e+03     317.772477     904.447029  \n",
       "1   43486.783074  1.806391e+05   18851.263574   52329.497972  \n",
       "2  104837.792745  4.968921e+05   61240.825655  100830.293140  \n",
       "3  165489.313019  8.600711e+05  124544.499215  132278.070477  \n",
       "4  220801.062639  1.217512e+06  173974.498492  165499.417708  \n",
       "5  226226.724073  1.170943e+06  148193.187081  190038.581469  \n",
       "6  761545.446944  3.928914e+06  527122.046494  641880.307794  "
      ]
     },
     "execution_count": 296,
     "metadata": {},
     "output_type": "execute_result"
    }
   ],
   "source": [
    "total.toPandas()"
   ]
  },
  {
   "cell_type": "markdown",
   "metadata": {},
   "source": [
    "***Default Rate by Vintage and OCLTV***"
   ]
  },
  {
   "cell_type": "code",
   "execution_count": 297,
   "metadata": {},
   "outputs": [],
   "source": [
    "df = statistics_data_default.fillna('9999', 'VinYr')"
   ]
  },
  {
   "cell_type": "code",
   "execution_count": 298,
   "metadata": {},
   "outputs": [],
   "source": [
    "vintage_years = [row.VinYr for row in df.select('VinYr').orderBy('VinYr').distinct().collect() if row.VinYr != '9999']"
   ]
  },
  {
   "cell_type": "code",
   "execution_count": 299,
   "metadata": {},
   "outputs": [],
   "source": [
    "for vinyr in vintage_years:\n",
    "    df = df.withColumn(vinyr, F.when(F.col('VinYr') == vinyr, F.col('LAST_UPB')/F.col('ORIG_AMT')).otherwise(F.lit(0)))"
   ]
  },
  {
   "cell_type": "code",
   "execution_count": 300,
   "metadata": {},
   "outputs": [],
   "source": [
    "expr = [F.sum(x).alias(x) for x in vintage_years]"
   ]
  },
  {
   "cell_type": "code",
   "execution_count": 301,
   "metadata": {},
   "outputs": [],
   "source": [
    "df = df.where(F.col('OcltvBkt').isNotNull()).orderBy('OcltvBkt').groupBy('OcltvBkt').agg(*expr)"
   ]
  },
  {
   "cell_type": "code",
   "execution_count": 302,
   "metadata": {},
   "outputs": [],
   "source": [
    "df_total = df.withColumn('Total', F.lit('Total')).groupBy('Total').agg(*expr)"
   ]
  },
  {
   "cell_type": "markdown",
   "metadata": {},
   "source": [
    "AGGREGATE"
   ]
  },
  {
   "cell_type": "code",
   "execution_count": 303,
   "metadata": {},
   "outputs": [],
   "source": [
    "total = df.union(df_total)"
   ]
  },
  {
   "cell_type": "code",
   "execution_count": 304,
   "metadata": {},
   "outputs": [
    {
     "data": {
      "text/html": [
       "<div>\n",
       "<style scoped>\n",
       "    .dataframe tbody tr th:only-of-type {\n",
       "        vertical-align: middle;\n",
       "    }\n",
       "\n",
       "    .dataframe tbody tr th {\n",
       "        vertical-align: top;\n",
       "    }\n",
       "\n",
       "    .dataframe thead th {\n",
       "        text-align: right;\n",
       "    }\n",
       "</style>\n",
       "<table border=\"1\" class=\"dataframe\">\n",
       "  <thead>\n",
       "    <tr style=\"text-align: right;\">\n",
       "      <th></th>\n",
       "      <th>OcltvBkt</th>\n",
       "      <th>2011</th>\n",
       "      <th>2012</th>\n",
       "      <th>2013</th>\n",
       "      <th>2014</th>\n",
       "      <th>2015</th>\n",
       "      <th>2016</th>\n",
       "      <th>2017</th>\n",
       "      <th>2018</th>\n",
       "      <th>2019</th>\n",
       "    </tr>\n",
       "  </thead>\n",
       "  <tbody>\n",
       "    <tr>\n",
       "      <th>0</th>\n",
       "      <td>0-60</td>\n",
       "      <td>0.000000</td>\n",
       "      <td>138.671606</td>\n",
       "      <td>16100.895208</td>\n",
       "      <td>1.793149e+05</td>\n",
       "      <td>2.725022e+05</td>\n",
       "      <td>4.196656e+05</td>\n",
       "      <td>3.284734e+05</td>\n",
       "      <td>2.883823e+05</td>\n",
       "      <td>32870.606667</td>\n",
       "    </tr>\n",
       "    <tr>\n",
       "      <th>1</th>\n",
       "      <td>60-65</td>\n",
       "      <td>0.000000</td>\n",
       "      <td>24.537763</td>\n",
       "      <td>4360.300100</td>\n",
       "      <td>5.108149e+04</td>\n",
       "      <td>7.757064e+04</td>\n",
       "      <td>1.104777e+05</td>\n",
       "      <td>8.137685e+04</td>\n",
       "      <td>6.200156e+04</td>\n",
       "      <td>6814.550692</td>\n",
       "    </tr>\n",
       "    <tr>\n",
       "      <th>2</th>\n",
       "      <td>65-70</td>\n",
       "      <td>0.000000</td>\n",
       "      <td>24.906744</td>\n",
       "      <td>7254.737959</td>\n",
       "      <td>8.552475e+04</td>\n",
       "      <td>1.235662e+05</td>\n",
       "      <td>1.657752e+05</td>\n",
       "      <td>1.315276e+05</td>\n",
       "      <td>1.076748e+05</td>\n",
       "      <td>11923.213294</td>\n",
       "    </tr>\n",
       "    <tr>\n",
       "      <th>3</th>\n",
       "      <td>70-75</td>\n",
       "      <td>0.000000</td>\n",
       "      <td>26.358177</td>\n",
       "      <td>13384.877822</td>\n",
       "      <td>1.513946e+05</td>\n",
       "      <td>2.030268e+05</td>\n",
       "      <td>2.515743e+05</td>\n",
       "      <td>2.021409e+05</td>\n",
       "      <td>1.614450e+05</td>\n",
       "      <td>15426.124769</td>\n",
       "    </tr>\n",
       "    <tr>\n",
       "      <th>4</th>\n",
       "      <td>75-80</td>\n",
       "      <td>0.544574</td>\n",
       "      <td>51.499441</td>\n",
       "      <td>30624.524965</td>\n",
       "      <td>3.620229e+05</td>\n",
       "      <td>4.413844e+05</td>\n",
       "      <td>5.295207e+05</td>\n",
       "      <td>4.822561e+05</td>\n",
       "      <td>3.787036e+05</td>\n",
       "      <td>34315.754787</td>\n",
       "    </tr>\n",
       "    <tr>\n",
       "      <th>5</th>\n",
       "      <td>80-85</td>\n",
       "      <td>0.000000</td>\n",
       "      <td>2.000701</td>\n",
       "      <td>4156.312297</td>\n",
       "      <td>5.797837e+04</td>\n",
       "      <td>6.029662e+04</td>\n",
       "      <td>7.576840e+04</td>\n",
       "      <td>5.997166e+04</td>\n",
       "      <td>4.717864e+04</td>\n",
       "      <td>5446.479978</td>\n",
       "    </tr>\n",
       "    <tr>\n",
       "      <th>6</th>\n",
       "      <td>85-90</td>\n",
       "      <td>0.000000</td>\n",
       "      <td>9.568303</td>\n",
       "      <td>9385.006835</td>\n",
       "      <td>1.262887e+05</td>\n",
       "      <td>1.603305e+05</td>\n",
       "      <td>1.708520e+05</td>\n",
       "      <td>1.468912e+05</td>\n",
       "      <td>1.245164e+05</td>\n",
       "      <td>13794.695351</td>\n",
       "    </tr>\n",
       "    <tr>\n",
       "      <th>7</th>\n",
       "      <td>90-97</td>\n",
       "      <td>0.000000</td>\n",
       "      <td>10.955089</td>\n",
       "      <td>18020.529800</td>\n",
       "      <td>2.271502e+05</td>\n",
       "      <td>2.754196e+05</td>\n",
       "      <td>3.153696e+05</td>\n",
       "      <td>3.100767e+05</td>\n",
       "      <td>3.002672e+05</td>\n",
       "      <td>37164.854016</td>\n",
       "    </tr>\n",
       "    <tr>\n",
       "      <th>8</th>\n",
       "      <td>97+</td>\n",
       "      <td>0.000000</td>\n",
       "      <td>0.000000</td>\n",
       "      <td>395.977884</td>\n",
       "      <td>6.085963e+03</td>\n",
       "      <td>1.539606e+04</td>\n",
       "      <td>2.249183e+04</td>\n",
       "      <td>3.016146e+04</td>\n",
       "      <td>3.947514e+04</td>\n",
       "      <td>2970.246459</td>\n",
       "    </tr>\n",
       "    <tr>\n",
       "      <th>9</th>\n",
       "      <td>Total</td>\n",
       "      <td>0.544574</td>\n",
       "      <td>288.497824</td>\n",
       "      <td>103683.162870</td>\n",
       "      <td>1.246842e+06</td>\n",
       "      <td>1.629493e+06</td>\n",
       "      <td>2.061495e+06</td>\n",
       "      <td>1.772876e+06</td>\n",
       "      <td>1.509645e+06</td>\n",
       "      <td>160726.526012</td>\n",
       "    </tr>\n",
       "  </tbody>\n",
       "</table>\n",
       "</div>"
      ],
      "text/plain": [
       "  OcltvBkt      2011        2012           2013          2014          2015  \\\n",
       "0     0-60  0.000000  138.671606   16100.895208  1.793149e+05  2.725022e+05   \n",
       "1    60-65  0.000000   24.537763    4360.300100  5.108149e+04  7.757064e+04   \n",
       "2    65-70  0.000000   24.906744    7254.737959  8.552475e+04  1.235662e+05   \n",
       "3    70-75  0.000000   26.358177   13384.877822  1.513946e+05  2.030268e+05   \n",
       "4    75-80  0.544574   51.499441   30624.524965  3.620229e+05  4.413844e+05   \n",
       "5    80-85  0.000000    2.000701    4156.312297  5.797837e+04  6.029662e+04   \n",
       "6    85-90  0.000000    9.568303    9385.006835  1.262887e+05  1.603305e+05   \n",
       "7    90-97  0.000000   10.955089   18020.529800  2.271502e+05  2.754196e+05   \n",
       "8      97+  0.000000    0.000000     395.977884  6.085963e+03  1.539606e+04   \n",
       "9    Total  0.544574  288.497824  103683.162870  1.246842e+06  1.629493e+06   \n",
       "\n",
       "           2016          2017          2018           2019  \n",
       "0  4.196656e+05  3.284734e+05  2.883823e+05   32870.606667  \n",
       "1  1.104777e+05  8.137685e+04  6.200156e+04    6814.550692  \n",
       "2  1.657752e+05  1.315276e+05  1.076748e+05   11923.213294  \n",
       "3  2.515743e+05  2.021409e+05  1.614450e+05   15426.124769  \n",
       "4  5.295207e+05  4.822561e+05  3.787036e+05   34315.754787  \n",
       "5  7.576840e+04  5.997166e+04  4.717864e+04    5446.479978  \n",
       "6  1.708520e+05  1.468912e+05  1.245164e+05   13794.695351  \n",
       "7  3.153696e+05  3.100767e+05  3.002672e+05   37164.854016  \n",
       "8  2.249183e+04  3.016146e+04  3.947514e+04    2970.246459  \n",
       "9  2.061495e+06  1.772876e+06  1.509645e+06  160726.526012  "
      ]
     },
     "execution_count": 304,
     "metadata": {},
     "output_type": "execute_result"
    }
   ],
   "source": [
    "total.toPandas()"
   ]
  },
  {
   "cell_type": "markdown",
   "metadata": {},
   "source": [
    "***Severity by Vintage and OCLTV***"
   ]
  },
  {
   "cell_type": "code",
   "execution_count": 305,
   "metadata": {},
   "outputs": [],
   "source": [
    "df = statistics_data_default.fillna('9999', 'VinYr')"
   ]
  },
  {
   "cell_type": "code",
   "execution_count": 306,
   "metadata": {},
   "outputs": [],
   "source": [
    "vintage_years = [row.VinYr for row in df.select('VinYr').orderBy('VinYr').distinct().collect() if row.VinYr != '9999']"
   ]
  },
  {
   "cell_type": "code",
   "execution_count": 307,
   "metadata": {},
   "outputs": [],
   "source": [
    "for vinyr in vintage_years:\n",
    "    df = df.withColumn(vinyr, F.when(F.col('VinYr') == vinyr, F.col('NET_LOSS')/F.col('LAST_UPB')).otherwise(F.lit(0)))"
   ]
  },
  {
   "cell_type": "code",
   "execution_count": 308,
   "metadata": {},
   "outputs": [],
   "source": [
    "expr = [F.sum(x).alias(x) for x in vintage_years]"
   ]
  },
  {
   "cell_type": "code",
   "execution_count": 309,
   "metadata": {},
   "outputs": [],
   "source": [
    "df = df.where(F.col('OcltvBkt').isNotNull()).orderBy('OcltvBkt').groupBy('OcltvBkt').agg(*expr)"
   ]
  },
  {
   "cell_type": "code",
   "execution_count": 310,
   "metadata": {},
   "outputs": [],
   "source": [
    "df_total = df.withColumn('Total', F.lit('Total')).groupBy('Total').agg(*expr)"
   ]
  },
  {
   "cell_type": "markdown",
   "metadata": {},
   "source": [
    "AGGREGATE"
   ]
  },
  {
   "cell_type": "code",
   "execution_count": 311,
   "metadata": {},
   "outputs": [],
   "source": [
    "total = df.union(df_total)"
   ]
  },
  {
   "cell_type": "code",
   "execution_count": 312,
   "metadata": {},
   "outputs": [
    {
     "data": {
      "text/html": [
       "<div>\n",
       "<style scoped>\n",
       "    .dataframe tbody tr th:only-of-type {\n",
       "        vertical-align: middle;\n",
       "    }\n",
       "\n",
       "    .dataframe tbody tr th {\n",
       "        vertical-align: top;\n",
       "    }\n",
       "\n",
       "    .dataframe thead th {\n",
       "        text-align: right;\n",
       "    }\n",
       "</style>\n",
       "<table border=\"1\" class=\"dataframe\">\n",
       "  <thead>\n",
       "    <tr style=\"text-align: right;\">\n",
       "      <th></th>\n",
       "      <th>OcltvBkt</th>\n",
       "      <th>2011</th>\n",
       "      <th>2012</th>\n",
       "      <th>2013</th>\n",
       "      <th>2014</th>\n",
       "      <th>2015</th>\n",
       "      <th>2016</th>\n",
       "      <th>2017</th>\n",
       "      <th>2018</th>\n",
       "      <th>2019</th>\n",
       "    </tr>\n",
       "  </thead>\n",
       "  <tbody>\n",
       "    <tr>\n",
       "      <th>0</th>\n",
       "      <td>0-60</td>\n",
       "      <td>0.0</td>\n",
       "      <td>432.0</td>\n",
       "      <td>21327.065923</td>\n",
       "      <td>2.289715e+05</td>\n",
       "      <td>3.331354e+05</td>\n",
       "      <td>4.896639e+05</td>\n",
       "      <td>3.639478e+05</td>\n",
       "      <td>3.042600e+05</td>\n",
       "      <td>34097.0</td>\n",
       "    </tr>\n",
       "    <tr>\n",
       "      <th>1</th>\n",
       "      <td>60-65</td>\n",
       "      <td>0.0</td>\n",
       "      <td>61.0</td>\n",
       "      <td>5433.992622</td>\n",
       "      <td>6.175897e+04</td>\n",
       "      <td>9.112879e+04</td>\n",
       "      <td>1.252660e+05</td>\n",
       "      <td>8.848700e+04</td>\n",
       "      <td>6.482100e+04</td>\n",
       "      <td>7017.0</td>\n",
       "    </tr>\n",
       "    <tr>\n",
       "      <th>2</th>\n",
       "      <td>65-70</td>\n",
       "      <td>0.0</td>\n",
       "      <td>59.0</td>\n",
       "      <td>8811.835352</td>\n",
       "      <td>1.008289e+05</td>\n",
       "      <td>1.424191e+05</td>\n",
       "      <td>1.855255e+05</td>\n",
       "      <td>1.416247e+05</td>\n",
       "      <td>1.120600e+05</td>\n",
       "      <td>12242.0</td>\n",
       "    </tr>\n",
       "    <tr>\n",
       "      <th>3</th>\n",
       "      <td>70-75</td>\n",
       "      <td>0.0</td>\n",
       "      <td>53.0</td>\n",
       "      <td>15962.702057</td>\n",
       "      <td>1.763658e+05</td>\n",
       "      <td>2.317020e+05</td>\n",
       "      <td>2.793209e+05</td>\n",
       "      <td>2.168223e+05</td>\n",
       "      <td>1.676169e+05</td>\n",
       "      <td>15751.0</td>\n",
       "    </tr>\n",
       "    <tr>\n",
       "      <th>4</th>\n",
       "      <td>75-80</td>\n",
       "      <td>1.0</td>\n",
       "      <td>101.0</td>\n",
       "      <td>35757.959883</td>\n",
       "      <td>4.159207e+05</td>\n",
       "      <td>4.999872e+05</td>\n",
       "      <td>5.859171e+05</td>\n",
       "      <td>5.167702e+05</td>\n",
       "      <td>3.935480e+05</td>\n",
       "      <td>35097.0</td>\n",
       "    </tr>\n",
       "    <tr>\n",
       "      <th>5</th>\n",
       "      <td>80-85</td>\n",
       "      <td>0.0</td>\n",
       "      <td>7.0</td>\n",
       "      <td>4716.235265</td>\n",
       "      <td>6.475222e+04</td>\n",
       "      <td>6.681101e+04</td>\n",
       "      <td>8.249131e+04</td>\n",
       "      <td>6.351336e+04</td>\n",
       "      <td>4.860798e+04</td>\n",
       "      <td>5543.0</td>\n",
       "    </tr>\n",
       "    <tr>\n",
       "      <th>6</th>\n",
       "      <td>85-90</td>\n",
       "      <td>0.0</td>\n",
       "      <td>17.0</td>\n",
       "      <td>10494.786073</td>\n",
       "      <td>1.395679e+05</td>\n",
       "      <td>1.766301e+05</td>\n",
       "      <td>1.858790e+05</td>\n",
       "      <td>1.557360e+05</td>\n",
       "      <td>1.286021e+05</td>\n",
       "      <td>14093.0</td>\n",
       "    </tr>\n",
       "    <tr>\n",
       "      <th>7</th>\n",
       "      <td>90-97</td>\n",
       "      <td>0.0</td>\n",
       "      <td>14.0</td>\n",
       "      <td>19907.411999</td>\n",
       "      <td>2.489823e+05</td>\n",
       "      <td>3.005872e+05</td>\n",
       "      <td>3.395178e+05</td>\n",
       "      <td>3.257686e+05</td>\n",
       "      <td>3.086039e+05</td>\n",
       "      <td>37852.0</td>\n",
       "    </tr>\n",
       "    <tr>\n",
       "      <th>8</th>\n",
       "      <td>97+</td>\n",
       "      <td>0.0</td>\n",
       "      <td>0.0</td>\n",
       "      <td>433.765038</td>\n",
       "      <td>6.660460e+03</td>\n",
       "      <td>1.661468e+04</td>\n",
       "      <td>2.389131e+04</td>\n",
       "      <td>3.137630e+04</td>\n",
       "      <td>4.020823e+04</td>\n",
       "      <td>3010.0</td>\n",
       "    </tr>\n",
       "    <tr>\n",
       "      <th>9</th>\n",
       "      <td>Total</td>\n",
       "      <td>1.0</td>\n",
       "      <td>744.0</td>\n",
       "      <td>122845.754212</td>\n",
       "      <td>1.443809e+06</td>\n",
       "      <td>1.859015e+06</td>\n",
       "      <td>2.297473e+06</td>\n",
       "      <td>1.904046e+06</td>\n",
       "      <td>1.568328e+06</td>\n",
       "      <td>164702.0</td>\n",
       "    </tr>\n",
       "  </tbody>\n",
       "</table>\n",
       "</div>"
      ],
      "text/plain": [
       "  OcltvBkt  2011   2012           2013          2014          2015  \\\n",
       "0     0-60   0.0  432.0   21327.065923  2.289715e+05  3.331354e+05   \n",
       "1    60-65   0.0   61.0    5433.992622  6.175897e+04  9.112879e+04   \n",
       "2    65-70   0.0   59.0    8811.835352  1.008289e+05  1.424191e+05   \n",
       "3    70-75   0.0   53.0   15962.702057  1.763658e+05  2.317020e+05   \n",
       "4    75-80   1.0  101.0   35757.959883  4.159207e+05  4.999872e+05   \n",
       "5    80-85   0.0    7.0    4716.235265  6.475222e+04  6.681101e+04   \n",
       "6    85-90   0.0   17.0   10494.786073  1.395679e+05  1.766301e+05   \n",
       "7    90-97   0.0   14.0   19907.411999  2.489823e+05  3.005872e+05   \n",
       "8      97+   0.0    0.0     433.765038  6.660460e+03  1.661468e+04   \n",
       "9    Total   1.0  744.0  122845.754212  1.443809e+06  1.859015e+06   \n",
       "\n",
       "           2016          2017          2018      2019  \n",
       "0  4.896639e+05  3.639478e+05  3.042600e+05   34097.0  \n",
       "1  1.252660e+05  8.848700e+04  6.482100e+04    7017.0  \n",
       "2  1.855255e+05  1.416247e+05  1.120600e+05   12242.0  \n",
       "3  2.793209e+05  2.168223e+05  1.676169e+05   15751.0  \n",
       "4  5.859171e+05  5.167702e+05  3.935480e+05   35097.0  \n",
       "5  8.249131e+04  6.351336e+04  4.860798e+04    5543.0  \n",
       "6  1.858790e+05  1.557360e+05  1.286021e+05   14093.0  \n",
       "7  3.395178e+05  3.257686e+05  3.086039e+05   37852.0  \n",
       "8  2.389131e+04  3.137630e+04  4.020823e+04    3010.0  \n",
       "9  2.297473e+06  1.904046e+06  1.568328e+06  164702.0  "
      ]
     },
     "execution_count": 312,
     "metadata": {},
     "output_type": "execute_result"
    }
   ],
   "source": [
    "total.toPandas()"
   ]
  },
  {
   "cell_type": "markdown",
   "metadata": {},
   "source": [
    "***Loss Rate by Vintage and OCLTV***"
   ]
  },
  {
   "cell_type": "code",
   "execution_count": 313,
   "metadata": {},
   "outputs": [],
   "source": [
    "df = statistics_data_default.fillna('9999', 'VinYr')"
   ]
  },
  {
   "cell_type": "code",
   "execution_count": 314,
   "metadata": {},
   "outputs": [],
   "source": [
    "vintage_years = [row.VinYr for row in df.select('VinYr').orderBy('VinYr').distinct().collect() if row.VinYr != '9999']"
   ]
  },
  {
   "cell_type": "code",
   "execution_count": 315,
   "metadata": {},
   "outputs": [],
   "source": [
    "for vinyr in vintage_years:\n",
    "    df = df.withColumn(vinyr, F.when(F.col('VinYr') == vinyr, F.col('NET_LOSS')/F.col('ORIG_AMT')).otherwise(F.lit(0)))"
   ]
  },
  {
   "cell_type": "code",
   "execution_count": 316,
   "metadata": {},
   "outputs": [],
   "source": [
    "expr = [F.sum(x).alias(x) for x in vintage_years]"
   ]
  },
  {
   "cell_type": "code",
   "execution_count": 317,
   "metadata": {},
   "outputs": [],
   "source": [
    "df = df.where(F.col('OcltvBkt').isNotNull()).orderBy('OcltvBkt').groupBy('OcltvBkt').agg(*expr)"
   ]
  },
  {
   "cell_type": "code",
   "execution_count": 318,
   "metadata": {},
   "outputs": [],
   "source": [
    "df_total = df.withColumn('Total', F.lit('Total')).groupBy('Total').agg(*expr)"
   ]
  },
  {
   "cell_type": "markdown",
   "metadata": {},
   "source": [
    "AGGREGATE"
   ]
  },
  {
   "cell_type": "code",
   "execution_count": 319,
   "metadata": {},
   "outputs": [],
   "source": [
    "total = df.union(df_total)"
   ]
  },
  {
   "cell_type": "code",
   "execution_count": 320,
   "metadata": {},
   "outputs": [
    {
     "data": {
      "text/html": [
       "<div>\n",
       "<style scoped>\n",
       "    .dataframe tbody tr th:only-of-type {\n",
       "        vertical-align: middle;\n",
       "    }\n",
       "\n",
       "    .dataframe tbody tr th {\n",
       "        vertical-align: top;\n",
       "    }\n",
       "\n",
       "    .dataframe thead th {\n",
       "        text-align: right;\n",
       "    }\n",
       "</style>\n",
       "<table border=\"1\" class=\"dataframe\">\n",
       "  <thead>\n",
       "    <tr style=\"text-align: right;\">\n",
       "      <th></th>\n",
       "      <th>OcltvBkt</th>\n",
       "      <th>2011</th>\n",
       "      <th>2012</th>\n",
       "      <th>2013</th>\n",
       "      <th>2014</th>\n",
       "      <th>2015</th>\n",
       "      <th>2016</th>\n",
       "      <th>2017</th>\n",
       "      <th>2018</th>\n",
       "      <th>2019</th>\n",
       "    </tr>\n",
       "  </thead>\n",
       "  <tbody>\n",
       "    <tr>\n",
       "      <th>0</th>\n",
       "      <td>0-60</td>\n",
       "      <td>0.000000</td>\n",
       "      <td>138.671606</td>\n",
       "      <td>16098.162603</td>\n",
       "      <td>1.792768e+05</td>\n",
       "      <td>2.724796e+05</td>\n",
       "      <td>4.196434e+05</td>\n",
       "      <td>3.284624e+05</td>\n",
       "      <td>2.883813e+05</td>\n",
       "      <td>32870.606667</td>\n",
       "    </tr>\n",
       "    <tr>\n",
       "      <th>1</th>\n",
       "      <td>60-65</td>\n",
       "      <td>0.000000</td>\n",
       "      <td>24.537763</td>\n",
       "      <td>4359.361497</td>\n",
       "      <td>5.107258e+04</td>\n",
       "      <td>7.755736e+04</td>\n",
       "      <td>1.104739e+05</td>\n",
       "      <td>8.137685e+04</td>\n",
       "      <td>6.200156e+04</td>\n",
       "      <td>6814.550692</td>\n",
       "    </tr>\n",
       "    <tr>\n",
       "      <th>2</th>\n",
       "      <td>65-70</td>\n",
       "      <td>0.000000</td>\n",
       "      <td>24.906744</td>\n",
       "      <td>7252.640141</td>\n",
       "      <td>8.549160e+04</td>\n",
       "      <td>1.235504e+05</td>\n",
       "      <td>1.657660e+05</td>\n",
       "      <td>1.315214e+05</td>\n",
       "      <td>1.076738e+05</td>\n",
       "      <td>11923.213294</td>\n",
       "    </tr>\n",
       "    <tr>\n",
       "      <th>3</th>\n",
       "      <td>70-75</td>\n",
       "      <td>0.000000</td>\n",
       "      <td>26.358177</td>\n",
       "      <td>13380.812411</td>\n",
       "      <td>1.513532e+05</td>\n",
       "      <td>2.029981e+05</td>\n",
       "      <td>2.515498e+05</td>\n",
       "      <td>2.021294e+05</td>\n",
       "      <td>1.614439e+05</td>\n",
       "      <td>15426.124769</td>\n",
       "    </tr>\n",
       "    <tr>\n",
       "      <th>4</th>\n",
       "      <td>75-80</td>\n",
       "      <td>0.544574</td>\n",
       "      <td>51.499441</td>\n",
       "      <td>30613.197942</td>\n",
       "      <td>3.619115e+05</td>\n",
       "      <td>4.412779e+05</td>\n",
       "      <td>5.294550e+05</td>\n",
       "      <td>4.822355e+05</td>\n",
       "      <td>3.787006e+05</td>\n",
       "      <td>34315.754787</td>\n",
       "    </tr>\n",
       "    <tr>\n",
       "      <th>5</th>\n",
       "      <td>80-85</td>\n",
       "      <td>0.000000</td>\n",
       "      <td>2.000701</td>\n",
       "      <td>4153.654292</td>\n",
       "      <td>5.795185e+04</td>\n",
       "      <td>6.028411e+04</td>\n",
       "      <td>7.575600e+04</td>\n",
       "      <td>5.996709e+04</td>\n",
       "      <td>4.717763e+04</td>\n",
       "      <td>5446.479978</td>\n",
       "    </tr>\n",
       "    <tr>\n",
       "      <th>6</th>\n",
       "      <td>85-90</td>\n",
       "      <td>0.000000</td>\n",
       "      <td>9.568303</td>\n",
       "      <td>9382.891614</td>\n",
       "      <td>1.262382e+05</td>\n",
       "      <td>1.602849e+05</td>\n",
       "      <td>1.708218e+05</td>\n",
       "      <td>1.468853e+05</td>\n",
       "      <td>1.245134e+05</td>\n",
       "      <td>13794.695351</td>\n",
       "    </tr>\n",
       "    <tr>\n",
       "      <th>7</th>\n",
       "      <td>90-97</td>\n",
       "      <td>0.000000</td>\n",
       "      <td>10.955089</td>\n",
       "      <td>18005.828532</td>\n",
       "      <td>2.269968e+05</td>\n",
       "      <td>2.752776e+05</td>\n",
       "      <td>3.152666e+05</td>\n",
       "      <td>3.100366e+05</td>\n",
       "      <td>3.002641e+05</td>\n",
       "      <td>37164.854016</td>\n",
       "    </tr>\n",
       "    <tr>\n",
       "      <th>8</th>\n",
       "      <td>97+</td>\n",
       "      <td>0.000000</td>\n",
       "      <td>0.000000</td>\n",
       "      <td>394.792261</td>\n",
       "      <td>6.079582e+03</td>\n",
       "      <td>1.538023e+04</td>\n",
       "      <td>2.247158e+04</td>\n",
       "      <td>3.015484e+04</td>\n",
       "      <td>3.947437e+04</td>\n",
       "      <td>2970.246459</td>\n",
       "    </tr>\n",
       "    <tr>\n",
       "      <th>9</th>\n",
       "      <td>Total</td>\n",
       "      <td>0.544574</td>\n",
       "      <td>288.497824</td>\n",
       "      <td>103641.341294</td>\n",
       "      <td>1.246372e+06</td>\n",
       "      <td>1.629090e+06</td>\n",
       "      <td>2.061204e+06</td>\n",
       "      <td>1.772769e+06</td>\n",
       "      <td>1.509631e+06</td>\n",
       "      <td>160726.526012</td>\n",
       "    </tr>\n",
       "  </tbody>\n",
       "</table>\n",
       "</div>"
      ],
      "text/plain": [
       "  OcltvBkt      2011        2012           2013          2014          2015  \\\n",
       "0     0-60  0.000000  138.671606   16098.162603  1.792768e+05  2.724796e+05   \n",
       "1    60-65  0.000000   24.537763    4359.361497  5.107258e+04  7.755736e+04   \n",
       "2    65-70  0.000000   24.906744    7252.640141  8.549160e+04  1.235504e+05   \n",
       "3    70-75  0.000000   26.358177   13380.812411  1.513532e+05  2.029981e+05   \n",
       "4    75-80  0.544574   51.499441   30613.197942  3.619115e+05  4.412779e+05   \n",
       "5    80-85  0.000000    2.000701    4153.654292  5.795185e+04  6.028411e+04   \n",
       "6    85-90  0.000000    9.568303    9382.891614  1.262382e+05  1.602849e+05   \n",
       "7    90-97  0.000000   10.955089   18005.828532  2.269968e+05  2.752776e+05   \n",
       "8      97+  0.000000    0.000000     394.792261  6.079582e+03  1.538023e+04   \n",
       "9    Total  0.544574  288.497824  103641.341294  1.246372e+06  1.629090e+06   \n",
       "\n",
       "           2016          2017          2018           2019  \n",
       "0  4.196434e+05  3.284624e+05  2.883813e+05   32870.606667  \n",
       "1  1.104739e+05  8.137685e+04  6.200156e+04    6814.550692  \n",
       "2  1.657660e+05  1.315214e+05  1.076738e+05   11923.213294  \n",
       "3  2.515498e+05  2.021294e+05  1.614439e+05   15426.124769  \n",
       "4  5.294550e+05  4.822355e+05  3.787006e+05   34315.754787  \n",
       "5  7.575600e+04  5.996709e+04  4.717763e+04    5446.479978  \n",
       "6  1.708218e+05  1.468853e+05  1.245134e+05   13794.695351  \n",
       "7  3.152666e+05  3.100366e+05  3.002641e+05   37164.854016  \n",
       "8  2.247158e+04  3.015484e+04  3.947437e+04    2970.246459  \n",
       "9  2.061204e+06  1.772769e+06  1.509631e+06  160726.526012  "
      ]
     },
     "execution_count": 320,
     "metadata": {},
     "output_type": "execute_result"
    }
   ],
   "source": [
    "total.toPandas()"
   ]
  },
  {
   "cell_type": "markdown",
   "metadata": {},
   "source": [
    "***Default Rate by Vintage and DTI***"
   ]
  },
  {
   "cell_type": "code",
   "execution_count": 321,
   "metadata": {},
   "outputs": [],
   "source": [
    "df = statistics_data_default.fillna('9999', 'VinYr')"
   ]
  },
  {
   "cell_type": "code",
   "execution_count": 322,
   "metadata": {},
   "outputs": [],
   "source": [
    "vintage_years = [row.VinYr for row in df.select('VinYr').orderBy('VinYr').distinct().collect() if row.VinYr != '9999']"
   ]
  },
  {
   "cell_type": "code",
   "execution_count": 323,
   "metadata": {},
   "outputs": [],
   "source": [
    "for vinyr in vintage_years:\n",
    "    df = df.withColumn(vinyr, F.when(F.col('VinYr') == vinyr, F.col('LAST_UPB')/F.col('ORIG_AMT')).otherwise(F.lit(0)))"
   ]
  },
  {
   "cell_type": "code",
   "execution_count": 324,
   "metadata": {},
   "outputs": [],
   "source": [
    "expr = [F.sum(x).alias(x) for x in vintage_years]"
   ]
  },
  {
   "cell_type": "code",
   "execution_count": 325,
   "metadata": {},
   "outputs": [],
   "source": [
    "df = df.where(F.col('DtiBkt').isNotNull()).orderBy('DtiBkt').groupBy('DtiBkt').agg(*expr)"
   ]
  },
  {
   "cell_type": "code",
   "execution_count": 326,
   "metadata": {},
   "outputs": [],
   "source": [
    "df_total = df.withColumn('Total', F.lit('Total')).groupBy('Total').agg(*expr)"
   ]
  },
  {
   "cell_type": "markdown",
   "metadata": {},
   "source": [
    "AGGREGATE"
   ]
  },
  {
   "cell_type": "code",
   "execution_count": 327,
   "metadata": {},
   "outputs": [],
   "source": [
    "total = df.union(df_total)"
   ]
  },
  {
   "cell_type": "code",
   "execution_count": 328,
   "metadata": {},
   "outputs": [
    {
     "data": {
      "text/html": [
       "<div>\n",
       "<style scoped>\n",
       "    .dataframe tbody tr th:only-of-type {\n",
       "        vertical-align: middle;\n",
       "    }\n",
       "\n",
       "    .dataframe tbody tr th {\n",
       "        vertical-align: top;\n",
       "    }\n",
       "\n",
       "    .dataframe thead th {\n",
       "        text-align: right;\n",
       "    }\n",
       "</style>\n",
       "<table border=\"1\" class=\"dataframe\">\n",
       "  <thead>\n",
       "    <tr style=\"text-align: right;\">\n",
       "      <th></th>\n",
       "      <th>DtiBkt</th>\n",
       "      <th>2011</th>\n",
       "      <th>2012</th>\n",
       "      <th>2013</th>\n",
       "      <th>2014</th>\n",
       "      <th>2015</th>\n",
       "      <th>2016</th>\n",
       "      <th>2017</th>\n",
       "      <th>2018</th>\n",
       "      <th>2019</th>\n",
       "    </tr>\n",
       "  </thead>\n",
       "  <tbody>\n",
       "    <tr>\n",
       "      <th>0</th>\n",
       "      <td>0-20</td>\n",
       "      <td>0.000000</td>\n",
       "      <td>57.214646</td>\n",
       "      <td>8892.229618</td>\n",
       "      <td>1.053474e+05</td>\n",
       "      <td>1.487719e+05</td>\n",
       "      <td>2.061770e+05</td>\n",
       "      <td>1.373571e+05</td>\n",
       "      <td>9.282414e+04</td>\n",
       "      <td>9567.560268</td>\n",
       "    </tr>\n",
       "    <tr>\n",
       "      <th>1</th>\n",
       "      <td>20-30</td>\n",
       "      <td>0.000000</td>\n",
       "      <td>101.667079</td>\n",
       "      <td>25382.797410</td>\n",
       "      <td>3.114693e+05</td>\n",
       "      <td>4.279883e+05</td>\n",
       "      <td>5.573276e+05</td>\n",
       "      <td>4.091878e+05</td>\n",
       "      <td>2.894267e+05</td>\n",
       "      <td>30548.386397</td>\n",
       "    </tr>\n",
       "    <tr>\n",
       "      <th>2</th>\n",
       "      <td>30-40</td>\n",
       "      <td>0.000000</td>\n",
       "      <td>83.622923</td>\n",
       "      <td>39108.875672</td>\n",
       "      <td>4.769381e+05</td>\n",
       "      <td>6.195006e+05</td>\n",
       "      <td>7.634925e+05</td>\n",
       "      <td>6.365236e+05</td>\n",
       "      <td>4.802495e+05</td>\n",
       "      <td>53221.503784</td>\n",
       "    </tr>\n",
       "    <tr>\n",
       "      <th>3</th>\n",
       "      <td>40-45</td>\n",
       "      <td>0.544574</td>\n",
       "      <td>43.000348</td>\n",
       "      <td>25826.366389</td>\n",
       "      <td>3.064045e+05</td>\n",
       "      <td>3.780676e+05</td>\n",
       "      <td>4.501460e+05</td>\n",
       "      <td>4.102190e+05</td>\n",
       "      <td>3.152157e+05</td>\n",
       "      <td>36356.164119</td>\n",
       "    </tr>\n",
       "    <tr>\n",
       "      <th>4</th>\n",
       "      <td>45+</td>\n",
       "      <td>0.000000</td>\n",
       "      <td>2.992827</td>\n",
       "      <td>4455.322108</td>\n",
       "      <td>4.636047e+04</td>\n",
       "      <td>5.479808e+04</td>\n",
       "      <td>8.407622e+04</td>\n",
       "      <td>1.792873e+05</td>\n",
       "      <td>3.314479e+05</td>\n",
       "      <td>30982.719306</td>\n",
       "    </tr>\n",
       "    <tr>\n",
       "      <th>5</th>\n",
       "      <td>MissingDTI</td>\n",
       "      <td>0.000000</td>\n",
       "      <td>0.000000</td>\n",
       "      <td>17.571673</td>\n",
       "      <td>3.221622e+02</td>\n",
       "      <td>3.666134e+02</td>\n",
       "      <td>2.759021e+02</td>\n",
       "      <td>3.010563e+02</td>\n",
       "      <td>4.806421e+02</td>\n",
       "      <td>50.192137</td>\n",
       "    </tr>\n",
       "    <tr>\n",
       "      <th>6</th>\n",
       "      <td>Total</td>\n",
       "      <td>0.544574</td>\n",
       "      <td>288.497824</td>\n",
       "      <td>103683.162870</td>\n",
       "      <td>1.246842e+06</td>\n",
       "      <td>1.629493e+06</td>\n",
       "      <td>2.061495e+06</td>\n",
       "      <td>1.772876e+06</td>\n",
       "      <td>1.509645e+06</td>\n",
       "      <td>160726.526012</td>\n",
       "    </tr>\n",
       "  </tbody>\n",
       "</table>\n",
       "</div>"
      ],
      "text/plain": [
       "       DtiBkt      2011        2012           2013          2014  \\\n",
       "0        0-20  0.000000   57.214646    8892.229618  1.053474e+05   \n",
       "1       20-30  0.000000  101.667079   25382.797410  3.114693e+05   \n",
       "2       30-40  0.000000   83.622923   39108.875672  4.769381e+05   \n",
       "3       40-45  0.544574   43.000348   25826.366389  3.064045e+05   \n",
       "4         45+  0.000000    2.992827    4455.322108  4.636047e+04   \n",
       "5  MissingDTI  0.000000    0.000000      17.571673  3.221622e+02   \n",
       "6       Total  0.544574  288.497824  103683.162870  1.246842e+06   \n",
       "\n",
       "           2015          2016          2017          2018           2019  \n",
       "0  1.487719e+05  2.061770e+05  1.373571e+05  9.282414e+04    9567.560268  \n",
       "1  4.279883e+05  5.573276e+05  4.091878e+05  2.894267e+05   30548.386397  \n",
       "2  6.195006e+05  7.634925e+05  6.365236e+05  4.802495e+05   53221.503784  \n",
       "3  3.780676e+05  4.501460e+05  4.102190e+05  3.152157e+05   36356.164119  \n",
       "4  5.479808e+04  8.407622e+04  1.792873e+05  3.314479e+05   30982.719306  \n",
       "5  3.666134e+02  2.759021e+02  3.010563e+02  4.806421e+02      50.192137  \n",
       "6  1.629493e+06  2.061495e+06  1.772876e+06  1.509645e+06  160726.526012  "
      ]
     },
     "execution_count": 328,
     "metadata": {},
     "output_type": "execute_result"
    }
   ],
   "source": [
    "total.toPandas()"
   ]
  },
  {
   "cell_type": "markdown",
   "metadata": {},
   "source": [
    "***Severity by Vintage and DTI***"
   ]
  },
  {
   "cell_type": "code",
   "execution_count": 329,
   "metadata": {},
   "outputs": [],
   "source": [
    "df = statistics_data_default.fillna('9999', 'VinYr')"
   ]
  },
  {
   "cell_type": "code",
   "execution_count": 330,
   "metadata": {},
   "outputs": [],
   "source": [
    "vintage_years = [row.VinYr for row in df.select('VinYr').orderBy('VinYr').distinct().collect() if row.VinYr != '9999']"
   ]
  },
  {
   "cell_type": "code",
   "execution_count": 331,
   "metadata": {},
   "outputs": [],
   "source": [
    "for vinyr in vintage_years:\n",
    "    df = df.withColumn(vinyr, F.when(F.col('VinYr') == vinyr, F.col('NET_LOSS')/F.col('LAST_UPB')).otherwise(F.lit(0)))"
   ]
  },
  {
   "cell_type": "code",
   "execution_count": 332,
   "metadata": {},
   "outputs": [],
   "source": [
    "expr = [F.sum(x).alias(x) for x in vintage_years]"
   ]
  },
  {
   "cell_type": "code",
   "execution_count": 333,
   "metadata": {},
   "outputs": [],
   "source": [
    "df = df.where(F.col('DtiBkt').isNotNull()).orderBy('DtiBkt').groupBy('DtiBkt').agg(*expr)"
   ]
  },
  {
   "cell_type": "code",
   "execution_count": 334,
   "metadata": {},
   "outputs": [],
   "source": [
    "df_total = df.withColumn('Total', F.lit('Total')).groupBy('Total').agg(*expr)"
   ]
  },
  {
   "cell_type": "markdown",
   "metadata": {},
   "source": [
    "AGGREGATE"
   ]
  },
  {
   "cell_type": "code",
   "execution_count": 335,
   "metadata": {},
   "outputs": [],
   "source": [
    "total = df.union(df_total)"
   ]
  },
  {
   "cell_type": "code",
   "execution_count": 336,
   "metadata": {},
   "outputs": [
    {
     "data": {
      "text/html": [
       "<div>\n",
       "<style scoped>\n",
       "    .dataframe tbody tr th:only-of-type {\n",
       "        vertical-align: middle;\n",
       "    }\n",
       "\n",
       "    .dataframe tbody tr th {\n",
       "        vertical-align: top;\n",
       "    }\n",
       "\n",
       "    .dataframe thead th {\n",
       "        text-align: right;\n",
       "    }\n",
       "</style>\n",
       "<table border=\"1\" class=\"dataframe\">\n",
       "  <thead>\n",
       "    <tr style=\"text-align: right;\">\n",
       "      <th></th>\n",
       "      <th>DtiBkt</th>\n",
       "      <th>2011</th>\n",
       "      <th>2012</th>\n",
       "      <th>2013</th>\n",
       "      <th>2014</th>\n",
       "      <th>2015</th>\n",
       "      <th>2016</th>\n",
       "      <th>2017</th>\n",
       "      <th>2018</th>\n",
       "      <th>2019</th>\n",
       "    </tr>\n",
       "  </thead>\n",
       "  <tbody>\n",
       "    <tr>\n",
       "      <th>0</th>\n",
       "      <td>0-20</td>\n",
       "      <td>0.0</td>\n",
       "      <td>176.0</td>\n",
       "      <td>11646.670968</td>\n",
       "      <td>1.329613e+05</td>\n",
       "      <td>1.813436e+05</td>\n",
       "      <td>2.409283e+05</td>\n",
       "      <td>1.534460e+05</td>\n",
       "      <td>9.898000e+04</td>\n",
       "      <td>9984.0</td>\n",
       "    </tr>\n",
       "    <tr>\n",
       "      <th>1</th>\n",
       "      <td>20-30</td>\n",
       "      <td>0.0</td>\n",
       "      <td>271.0</td>\n",
       "      <td>30675.589675</td>\n",
       "      <td>3.666447e+05</td>\n",
       "      <td>4.944951e+05</td>\n",
       "      <td>6.267017e+05</td>\n",
       "      <td>4.431701e+05</td>\n",
       "      <td>3.023172e+05</td>\n",
       "      <td>31401.0</td>\n",
       "    </tr>\n",
       "    <tr>\n",
       "      <th>2</th>\n",
       "      <td>30-40</td>\n",
       "      <td>0.0</td>\n",
       "      <td>201.0</td>\n",
       "      <td>45615.487140</td>\n",
       "      <td>5.452858e+05</td>\n",
       "      <td>6.991169e+05</td>\n",
       "      <td>8.438370e+05</td>\n",
       "      <td>6.807849e+05</td>\n",
       "      <td>4.981341e+05</td>\n",
       "      <td>54464.0</td>\n",
       "    </tr>\n",
       "    <tr>\n",
       "      <th>3</th>\n",
       "      <td>40-45</td>\n",
       "      <td>1.0</td>\n",
       "      <td>92.0</td>\n",
       "      <td>29665.095787</td>\n",
       "      <td>3.452151e+05</td>\n",
       "      <td>4.215629e+05</td>\n",
       "      <td>4.925521e+05</td>\n",
       "      <td>4.360041e+05</td>\n",
       "      <td>3.258839e+05</td>\n",
       "      <td>37147.0</td>\n",
       "    </tr>\n",
       "    <tr>\n",
       "      <th>4</th>\n",
       "      <td>45+</td>\n",
       "      <td>0.0</td>\n",
       "      <td>4.0</td>\n",
       "      <td>5220.910641</td>\n",
       "      <td>5.332793e+04</td>\n",
       "      <td>6.208096e+04</td>\n",
       "      <td>9.315183e+04</td>\n",
       "      <td>1.903253e+05</td>\n",
       "      <td>3.425178e+05</td>\n",
       "      <td>31655.0</td>\n",
       "    </tr>\n",
       "    <tr>\n",
       "      <th>5</th>\n",
       "      <td>MissingDTI</td>\n",
       "      <td>0.0</td>\n",
       "      <td>0.0</td>\n",
       "      <td>22.000000</td>\n",
       "      <td>3.740000e+02</td>\n",
       "      <td>4.160000e+02</td>\n",
       "      <td>3.020000e+02</td>\n",
       "      <td>3.160000e+02</td>\n",
       "      <td>4.950000e+02</td>\n",
       "      <td>51.0</td>\n",
       "    </tr>\n",
       "    <tr>\n",
       "      <th>6</th>\n",
       "      <td>Total</td>\n",
       "      <td>1.0</td>\n",
       "      <td>744.0</td>\n",
       "      <td>122845.754212</td>\n",
       "      <td>1.443809e+06</td>\n",
       "      <td>1.859015e+06</td>\n",
       "      <td>2.297473e+06</td>\n",
       "      <td>1.904046e+06</td>\n",
       "      <td>1.568328e+06</td>\n",
       "      <td>164702.0</td>\n",
       "    </tr>\n",
       "  </tbody>\n",
       "</table>\n",
       "</div>"
      ],
      "text/plain": [
       "       DtiBkt  2011   2012           2013          2014          2015  \\\n",
       "0        0-20   0.0  176.0   11646.670968  1.329613e+05  1.813436e+05   \n",
       "1       20-30   0.0  271.0   30675.589675  3.666447e+05  4.944951e+05   \n",
       "2       30-40   0.0  201.0   45615.487140  5.452858e+05  6.991169e+05   \n",
       "3       40-45   1.0   92.0   29665.095787  3.452151e+05  4.215629e+05   \n",
       "4         45+   0.0    4.0    5220.910641  5.332793e+04  6.208096e+04   \n",
       "5  MissingDTI   0.0    0.0      22.000000  3.740000e+02  4.160000e+02   \n",
       "6       Total   1.0  744.0  122845.754212  1.443809e+06  1.859015e+06   \n",
       "\n",
       "           2016          2017          2018      2019  \n",
       "0  2.409283e+05  1.534460e+05  9.898000e+04    9984.0  \n",
       "1  6.267017e+05  4.431701e+05  3.023172e+05   31401.0  \n",
       "2  8.438370e+05  6.807849e+05  4.981341e+05   54464.0  \n",
       "3  4.925521e+05  4.360041e+05  3.258839e+05   37147.0  \n",
       "4  9.315183e+04  1.903253e+05  3.425178e+05   31655.0  \n",
       "5  3.020000e+02  3.160000e+02  4.950000e+02      51.0  \n",
       "6  2.297473e+06  1.904046e+06  1.568328e+06  164702.0  "
      ]
     },
     "execution_count": 336,
     "metadata": {},
     "output_type": "execute_result"
    }
   ],
   "source": [
    "total.toPandas()"
   ]
  },
  {
   "cell_type": "markdown",
   "metadata": {},
   "source": [
    "***Loss Rate by Vintage and DTI***"
   ]
  },
  {
   "cell_type": "code",
   "execution_count": 337,
   "metadata": {},
   "outputs": [],
   "source": [
    "df = statistics_data_default.fillna('9999', 'VinYr')"
   ]
  },
  {
   "cell_type": "code",
   "execution_count": 338,
   "metadata": {},
   "outputs": [],
   "source": [
    "vintage_years = [row.VinYr for row in df.select('VinYr').orderBy('VinYr').distinct().collect() if row.VinYr != '9999']"
   ]
  },
  {
   "cell_type": "code",
   "execution_count": 339,
   "metadata": {},
   "outputs": [],
   "source": [
    "for vinyr in vintage_years:\n",
    "    df = df.withColumn(vinyr, F.when(F.col('VinYr') == vinyr, F.col('NET_LOSS')/F.col('ORIG_AMT')).otherwise(F.lit(0)))"
   ]
  },
  {
   "cell_type": "code",
   "execution_count": 340,
   "metadata": {},
   "outputs": [],
   "source": [
    "expr = [F.sum(x).alias(x) for x in vintage_years]"
   ]
  },
  {
   "cell_type": "code",
   "execution_count": 341,
   "metadata": {},
   "outputs": [],
   "source": [
    "df = df.where(F.col('DtiBkt').isNotNull()).orderBy('DtiBkt').groupBy('DtiBkt').agg(*expr)"
   ]
  },
  {
   "cell_type": "code",
   "execution_count": 342,
   "metadata": {},
   "outputs": [],
   "source": [
    "df_total = df.withColumn('Total', F.lit('Total')).groupBy('Total').agg(*expr)"
   ]
  },
  {
   "cell_type": "markdown",
   "metadata": {},
   "source": [
    "AGGREGATE"
   ]
  },
  {
   "cell_type": "code",
   "execution_count": 343,
   "metadata": {},
   "outputs": [],
   "source": [
    "total = df.union(df_total)"
   ]
  },
  {
   "cell_type": "code",
   "execution_count": 344,
   "metadata": {},
   "outputs": [
    {
     "data": {
      "text/html": [
       "<div>\n",
       "<style scoped>\n",
       "    .dataframe tbody tr th:only-of-type {\n",
       "        vertical-align: middle;\n",
       "    }\n",
       "\n",
       "    .dataframe tbody tr th {\n",
       "        vertical-align: top;\n",
       "    }\n",
       "\n",
       "    .dataframe thead th {\n",
       "        text-align: right;\n",
       "    }\n",
       "</style>\n",
       "<table border=\"1\" class=\"dataframe\">\n",
       "  <thead>\n",
       "    <tr style=\"text-align: right;\">\n",
       "      <th></th>\n",
       "      <th>DtiBkt</th>\n",
       "      <th>2011</th>\n",
       "      <th>2012</th>\n",
       "      <th>2013</th>\n",
       "      <th>2014</th>\n",
       "      <th>2015</th>\n",
       "      <th>2016</th>\n",
       "      <th>2017</th>\n",
       "      <th>2018</th>\n",
       "      <th>2019</th>\n",
       "    </tr>\n",
       "  </thead>\n",
       "  <tbody>\n",
       "    <tr>\n",
       "      <th>0</th>\n",
       "      <td>0-20</td>\n",
       "      <td>0.000000</td>\n",
       "      <td>57.214646</td>\n",
       "      <td>8888.152446</td>\n",
       "      <td>1.053243e+05</td>\n",
       "      <td>1.487504e+05</td>\n",
       "      <td>2.061658e+05</td>\n",
       "      <td>1.373550e+05</td>\n",
       "      <td>9.282414e+04</td>\n",
       "      <td>9567.560268</td>\n",
       "    </tr>\n",
       "    <tr>\n",
       "      <th>1</th>\n",
       "      <td>20-30</td>\n",
       "      <td>0.000000</td>\n",
       "      <td>101.667079</td>\n",
       "      <td>25375.006271</td>\n",
       "      <td>3.113847e+05</td>\n",
       "      <td>4.279115e+05</td>\n",
       "      <td>5.572764e+05</td>\n",
       "      <td>4.091681e+05</td>\n",
       "      <td>2.894259e+05</td>\n",
       "      <td>30548.386397</td>\n",
       "    </tr>\n",
       "    <tr>\n",
       "      <th>2</th>\n",
       "      <td>30-40</td>\n",
       "      <td>0.000000</td>\n",
       "      <td>83.622923</td>\n",
       "      <td>39095.176669</td>\n",
       "      <td>4.767412e+05</td>\n",
       "      <td>6.193339e+05</td>\n",
       "      <td>7.633792e+05</td>\n",
       "      <td>6.364799e+05</td>\n",
       "      <td>4.802456e+05</td>\n",
       "      <td>53221.503784</td>\n",
       "    </tr>\n",
       "    <tr>\n",
       "      <th>3</th>\n",
       "      <td>40-45</td>\n",
       "      <td>0.544574</td>\n",
       "      <td>43.000348</td>\n",
       "      <td>25811.135544</td>\n",
       "      <td>3.062471e+05</td>\n",
       "      <td>3.779393e+05</td>\n",
       "      <td>4.500434e+05</td>\n",
       "      <td>4.101914e+05</td>\n",
       "      <td>3.152126e+05</td>\n",
       "      <td>36356.164119</td>\n",
       "    </tr>\n",
       "    <tr>\n",
       "      <th>4</th>\n",
       "      <td>45+</td>\n",
       "      <td>0.000000</td>\n",
       "      <td>2.992827</td>\n",
       "      <td>4454.298692</td>\n",
       "      <td>4.635268e+04</td>\n",
       "      <td>5.478842e+04</td>\n",
       "      <td>8.406342e+04</td>\n",
       "      <td>1.792738e+05</td>\n",
       "      <td>3.314418e+05</td>\n",
       "      <td>30982.719306</td>\n",
       "    </tr>\n",
       "    <tr>\n",
       "      <th>5</th>\n",
       "      <td>MissingDTI</td>\n",
       "      <td>0.000000</td>\n",
       "      <td>0.000000</td>\n",
       "      <td>17.571673</td>\n",
       "      <td>3.221622e+02</td>\n",
       "      <td>3.666134e+02</td>\n",
       "      <td>2.759021e+02</td>\n",
       "      <td>3.010563e+02</td>\n",
       "      <td>4.806421e+02</td>\n",
       "      <td>50.192137</td>\n",
       "    </tr>\n",
       "    <tr>\n",
       "      <th>6</th>\n",
       "      <td>Total</td>\n",
       "      <td>0.544574</td>\n",
       "      <td>288.497824</td>\n",
       "      <td>103641.341294</td>\n",
       "      <td>1.246372e+06</td>\n",
       "      <td>1.629090e+06</td>\n",
       "      <td>2.061204e+06</td>\n",
       "      <td>1.772769e+06</td>\n",
       "      <td>1.509631e+06</td>\n",
       "      <td>160726.526012</td>\n",
       "    </tr>\n",
       "  </tbody>\n",
       "</table>\n",
       "</div>"
      ],
      "text/plain": [
       "       DtiBkt      2011        2012           2013          2014  \\\n",
       "0        0-20  0.000000   57.214646    8888.152446  1.053243e+05   \n",
       "1       20-30  0.000000  101.667079   25375.006271  3.113847e+05   \n",
       "2       30-40  0.000000   83.622923   39095.176669  4.767412e+05   \n",
       "3       40-45  0.544574   43.000348   25811.135544  3.062471e+05   \n",
       "4         45+  0.000000    2.992827    4454.298692  4.635268e+04   \n",
       "5  MissingDTI  0.000000    0.000000      17.571673  3.221622e+02   \n",
       "6       Total  0.544574  288.497824  103641.341294  1.246372e+06   \n",
       "\n",
       "           2015          2016          2017          2018           2019  \n",
       "0  1.487504e+05  2.061658e+05  1.373550e+05  9.282414e+04    9567.560268  \n",
       "1  4.279115e+05  5.572764e+05  4.091681e+05  2.894259e+05   30548.386397  \n",
       "2  6.193339e+05  7.633792e+05  6.364799e+05  4.802456e+05   53221.503784  \n",
       "3  3.779393e+05  4.500434e+05  4.101914e+05  3.152126e+05   36356.164119  \n",
       "4  5.478842e+04  8.406342e+04  1.792738e+05  3.314418e+05   30982.719306  \n",
       "5  3.666134e+02  2.759021e+02  3.010563e+02  4.806421e+02      50.192137  \n",
       "6  1.629090e+06  2.061204e+06  1.772769e+06  1.509631e+06  160726.526012  "
      ]
     },
     "execution_count": 344,
     "metadata": {},
     "output_type": "execute_result"
    }
   ],
   "source": [
    "total.toPandas()"
   ]
  },
  {
   "cell_type": "markdown",
   "metadata": {},
   "source": [
    "***Default Rate by Vintage and SATO***"
   ]
  },
  {
   "cell_type": "code",
   "execution_count": 345,
   "metadata": {},
   "outputs": [],
   "source": [
    "df = statistics_data_default.fillna('9999', 'VinYr')"
   ]
  },
  {
   "cell_type": "code",
   "execution_count": 346,
   "metadata": {},
   "outputs": [],
   "source": [
    "vintage_years = [row.VinYr for row in df.select('VinYr').orderBy('VinYr').distinct().collect() if row.VinYr != '9999']"
   ]
  },
  {
   "cell_type": "code",
   "execution_count": 347,
   "metadata": {},
   "outputs": [],
   "source": [
    "for vinyr in vintage_years:\n",
    "    df = df.withColumn(vinyr, F.when(F.col('VinYr') == vinyr, F.col('LAST_UPB')/F.col('ORIG_AMT')).otherwise(F.lit(0)))"
   ]
  },
  {
   "cell_type": "code",
   "execution_count": 348,
   "metadata": {},
   "outputs": [],
   "source": [
    "expr = [F.sum(x).alias(x) for x in vintage_years]"
   ]
  },
  {
   "cell_type": "code",
   "execution_count": 349,
   "metadata": {},
   "outputs": [],
   "source": [
    "df = df.where(F.col('SATOBkt').isNotNull()).orderBy('SATOBkt').groupBy('SATOBkt').agg(*expr)"
   ]
  },
  {
   "cell_type": "code",
   "execution_count": 350,
   "metadata": {},
   "outputs": [],
   "source": [
    "df_total = df.withColumn('Total', F.lit('Total')).groupBy('Total').agg(*expr)"
   ]
  },
  {
   "cell_type": "markdown",
   "metadata": {},
   "source": [
    "AGGREGATE"
   ]
  },
  {
   "cell_type": "code",
   "execution_count": 351,
   "metadata": {},
   "outputs": [],
   "source": [
    "total = df.union(df_total)"
   ]
  },
  {
   "cell_type": "code",
   "execution_count": 352,
   "metadata": {},
   "outputs": [
    {
     "data": {
      "text/html": [
       "<div>\n",
       "<style scoped>\n",
       "    .dataframe tbody tr th:only-of-type {\n",
       "        vertical-align: middle;\n",
       "    }\n",
       "\n",
       "    .dataframe tbody tr th {\n",
       "        vertical-align: top;\n",
       "    }\n",
       "\n",
       "    .dataframe thead th {\n",
       "        text-align: right;\n",
       "    }\n",
       "</style>\n",
       "<table border=\"1\" class=\"dataframe\">\n",
       "  <thead>\n",
       "    <tr style=\"text-align: right;\">\n",
       "      <th></th>\n",
       "      <th>SATOBkt</th>\n",
       "      <th>2011</th>\n",
       "      <th>2012</th>\n",
       "      <th>2013</th>\n",
       "      <th>2014</th>\n",
       "      <th>2015</th>\n",
       "      <th>2016</th>\n",
       "      <th>2017</th>\n",
       "      <th>2018</th>\n",
       "      <th>2019</th>\n",
       "    </tr>\n",
       "  </thead>\n",
       "  <tbody>\n",
       "    <tr>\n",
       "      <th>0</th>\n",
       "      <td>-0.5%, 0%</td>\n",
       "      <td>0.544574</td>\n",
       "      <td>144.590956</td>\n",
       "      <td>28790.521718</td>\n",
       "      <td>3.733945e+05</td>\n",
       "      <td>5.190349e+05</td>\n",
       "      <td>7.109987e+05</td>\n",
       "      <td>6.456805e+05</td>\n",
       "      <td>6.592116e+05</td>\n",
       "      <td>69244.486791</td>\n",
       "    </tr>\n",
       "    <tr>\n",
       "      <th>1</th>\n",
       "      <td>-1%, -0.5%</td>\n",
       "      <td>0.000000</td>\n",
       "      <td>5.958778</td>\n",
       "      <td>10977.076679</td>\n",
       "      <td>1.172392e+05</td>\n",
       "      <td>1.629865e+05</td>\n",
       "      <td>2.411476e+05</td>\n",
       "      <td>1.855894e+05</td>\n",
       "      <td>1.116126e+05</td>\n",
       "      <td>12179.436628</td>\n",
       "    </tr>\n",
       "    <tr>\n",
       "      <th>2</th>\n",
       "      <td>-1.5%, -1%</td>\n",
       "      <td>0.000000</td>\n",
       "      <td>0.000000</td>\n",
       "      <td>4326.278078</td>\n",
       "      <td>4.698085e+04</td>\n",
       "      <td>3.216508e+04</td>\n",
       "      <td>3.232860e+04</td>\n",
       "      <td>3.621046e+04</td>\n",
       "      <td>1.049055e+04</td>\n",
       "      <td>1666.494391</td>\n",
       "    </tr>\n",
       "    <tr>\n",
       "      <th>3</th>\n",
       "      <td>-2%, -1.5%</td>\n",
       "      <td>0.000000</td>\n",
       "      <td>0.000000</td>\n",
       "      <td>154.477818</td>\n",
       "      <td>8.411223e+02</td>\n",
       "      <td>2.201078e+02</td>\n",
       "      <td>1.737386e+02</td>\n",
       "      <td>6.779870e+02</td>\n",
       "      <td>4.070169e+02</td>\n",
       "      <td>66.559560</td>\n",
       "    </tr>\n",
       "    <tr>\n",
       "      <th>4</th>\n",
       "      <td>0%, 0.5%</td>\n",
       "      <td>0.000000</td>\n",
       "      <td>125.062115</td>\n",
       "      <td>47585.717363</td>\n",
       "      <td>5.790712e+05</td>\n",
       "      <td>7.073666e+05</td>\n",
       "      <td>7.891131e+05</td>\n",
       "      <td>6.656349e+05</td>\n",
       "      <td>5.033757e+05</td>\n",
       "      <td>53113.795972</td>\n",
       "    </tr>\n",
       "    <tr>\n",
       "      <th>5</th>\n",
       "      <td>0.5%, 1%</td>\n",
       "      <td>0.000000</td>\n",
       "      <td>8.602453</td>\n",
       "      <td>10358.913738</td>\n",
       "      <td>1.220344e+05</td>\n",
       "      <td>1.879826e+05</td>\n",
       "      <td>2.392404e+05</td>\n",
       "      <td>2.001045e+05</td>\n",
       "      <td>1.846401e+05</td>\n",
       "      <td>18018.292689</td>\n",
       "    </tr>\n",
       "    <tr>\n",
       "      <th>6</th>\n",
       "      <td>1%, 1.5%</td>\n",
       "      <td>0.000000</td>\n",
       "      <td>3.389626</td>\n",
       "      <td>1435.369792</td>\n",
       "      <td>7.175959e+03</td>\n",
       "      <td>1.949042e+04</td>\n",
       "      <td>4.634320e+04</td>\n",
       "      <td>3.673351e+04</td>\n",
       "      <td>3.598842e+04</td>\n",
       "      <td>5839.175469</td>\n",
       "    </tr>\n",
       "    <tr>\n",
       "      <th>7</th>\n",
       "      <td>1.5%, 2%</td>\n",
       "      <td>0.000000</td>\n",
       "      <td>0.893894</td>\n",
       "      <td>46.774392</td>\n",
       "      <td>1.013019e+02</td>\n",
       "      <td>2.449643e+02</td>\n",
       "      <td>2.099911e+03</td>\n",
       "      <td>2.158810e+03</td>\n",
       "      <td>3.890874e+03</td>\n",
       "      <td>593.455167</td>\n",
       "    </tr>\n",
       "    <tr>\n",
       "      <th>8</th>\n",
       "      <td>2%&gt;</td>\n",
       "      <td>0.000000</td>\n",
       "      <td>0.000000</td>\n",
       "      <td>0.000000</td>\n",
       "      <td>0.000000e+00</td>\n",
       "      <td>1.876695e+00</td>\n",
       "      <td>4.997149e+01</td>\n",
       "      <td>8.422968e+01</td>\n",
       "      <td>1.847751e+01</td>\n",
       "      <td>1.986574</td>\n",
       "    </tr>\n",
       "    <tr>\n",
       "      <th>9</th>\n",
       "      <td>&lt;-2%</td>\n",
       "      <td>0.000000</td>\n",
       "      <td>0.000000</td>\n",
       "      <td>8.033290</td>\n",
       "      <td>3.270642e+00</td>\n",
       "      <td>0.000000e+00</td>\n",
       "      <td>0.000000e+00</td>\n",
       "      <td>1.539289e+00</td>\n",
       "      <td>9.155349e+00</td>\n",
       "      <td>2.842771</td>\n",
       "    </tr>\n",
       "    <tr>\n",
       "      <th>10</th>\n",
       "      <td>Total</td>\n",
       "      <td>0.544574</td>\n",
       "      <td>288.497824</td>\n",
       "      <td>103683.162870</td>\n",
       "      <td>1.246842e+06</td>\n",
       "      <td>1.629493e+06</td>\n",
       "      <td>2.061495e+06</td>\n",
       "      <td>1.772876e+06</td>\n",
       "      <td>1.509645e+06</td>\n",
       "      <td>160726.526012</td>\n",
       "    </tr>\n",
       "  </tbody>\n",
       "</table>\n",
       "</div>"
      ],
      "text/plain": [
       "       SATOBkt      2011        2012           2013          2014  \\\n",
       "0    -0.5%, 0%  0.544574  144.590956   28790.521718  3.733945e+05   \n",
       "1   -1%, -0.5%  0.000000    5.958778   10977.076679  1.172392e+05   \n",
       "2   -1.5%, -1%  0.000000    0.000000    4326.278078  4.698085e+04   \n",
       "3   -2%, -1.5%  0.000000    0.000000     154.477818  8.411223e+02   \n",
       "4     0%, 0.5%  0.000000  125.062115   47585.717363  5.790712e+05   \n",
       "5     0.5%, 1%  0.000000    8.602453   10358.913738  1.220344e+05   \n",
       "6     1%, 1.5%  0.000000    3.389626    1435.369792  7.175959e+03   \n",
       "7     1.5%, 2%  0.000000    0.893894      46.774392  1.013019e+02   \n",
       "8          2%>  0.000000    0.000000       0.000000  0.000000e+00   \n",
       "9         <-2%  0.000000    0.000000       8.033290  3.270642e+00   \n",
       "10       Total  0.544574  288.497824  103683.162870  1.246842e+06   \n",
       "\n",
       "            2015          2016          2017          2018           2019  \n",
       "0   5.190349e+05  7.109987e+05  6.456805e+05  6.592116e+05   69244.486791  \n",
       "1   1.629865e+05  2.411476e+05  1.855894e+05  1.116126e+05   12179.436628  \n",
       "2   3.216508e+04  3.232860e+04  3.621046e+04  1.049055e+04    1666.494391  \n",
       "3   2.201078e+02  1.737386e+02  6.779870e+02  4.070169e+02      66.559560  \n",
       "4   7.073666e+05  7.891131e+05  6.656349e+05  5.033757e+05   53113.795972  \n",
       "5   1.879826e+05  2.392404e+05  2.001045e+05  1.846401e+05   18018.292689  \n",
       "6   1.949042e+04  4.634320e+04  3.673351e+04  3.598842e+04    5839.175469  \n",
       "7   2.449643e+02  2.099911e+03  2.158810e+03  3.890874e+03     593.455167  \n",
       "8   1.876695e+00  4.997149e+01  8.422968e+01  1.847751e+01       1.986574  \n",
       "9   0.000000e+00  0.000000e+00  1.539289e+00  9.155349e+00       2.842771  \n",
       "10  1.629493e+06  2.061495e+06  1.772876e+06  1.509645e+06  160726.526012  "
      ]
     },
     "execution_count": 352,
     "metadata": {},
     "output_type": "execute_result"
    }
   ],
   "source": [
    "total.toPandas()"
   ]
  },
  {
   "cell_type": "markdown",
   "metadata": {},
   "source": [
    "***Severity by Vintage and SATO***"
   ]
  },
  {
   "cell_type": "code",
   "execution_count": 353,
   "metadata": {},
   "outputs": [],
   "source": [
    "df = statistics_data_default.fillna('9999', 'VinYr')"
   ]
  },
  {
   "cell_type": "code",
   "execution_count": 354,
   "metadata": {},
   "outputs": [],
   "source": [
    "vintage_years = [row.VinYr for row in df.select('VinYr').orderBy('VinYr').distinct().collect() if row.VinYr != '9999']"
   ]
  },
  {
   "cell_type": "code",
   "execution_count": 355,
   "metadata": {},
   "outputs": [],
   "source": [
    "for vinyr in vintage_years:\n",
    "    df = df.withColumn(vinyr, F.when(F.col('VinYr') == vinyr, F.col('NET_LOSS')/F.col('LAST_UPB')).otherwise(F.lit(0)))"
   ]
  },
  {
   "cell_type": "code",
   "execution_count": 356,
   "metadata": {},
   "outputs": [],
   "source": [
    "expr = [F.sum(x).alias(x) for x in vintage_years]"
   ]
  },
  {
   "cell_type": "code",
   "execution_count": 357,
   "metadata": {},
   "outputs": [],
   "source": [
    "df = df.where(F.col('SATOBkt').isNotNull()).orderBy('SATOBkt').groupBy('SATOBkt').agg(*expr)"
   ]
  },
  {
   "cell_type": "code",
   "execution_count": 358,
   "metadata": {},
   "outputs": [],
   "source": [
    "df_total = df.withColumn('Total', F.lit('Total')).groupBy('Total').agg(*expr)"
   ]
  },
  {
   "cell_type": "markdown",
   "metadata": {},
   "source": [
    "AGGREGATE"
   ]
  },
  {
   "cell_type": "code",
   "execution_count": 359,
   "metadata": {},
   "outputs": [],
   "source": [
    "total = df.union(df_total)"
   ]
  },
  {
   "cell_type": "code",
   "execution_count": 360,
   "metadata": {},
   "outputs": [
    {
     "data": {
      "text/html": [
       "<div>\n",
       "<style scoped>\n",
       "    .dataframe tbody tr th:only-of-type {\n",
       "        vertical-align: middle;\n",
       "    }\n",
       "\n",
       "    .dataframe tbody tr th {\n",
       "        vertical-align: top;\n",
       "    }\n",
       "\n",
       "    .dataframe thead th {\n",
       "        text-align: right;\n",
       "    }\n",
       "</style>\n",
       "<table border=\"1\" class=\"dataframe\">\n",
       "  <thead>\n",
       "    <tr style=\"text-align: right;\">\n",
       "      <th></th>\n",
       "      <th>SATOBkt</th>\n",
       "      <th>2011</th>\n",
       "      <th>2012</th>\n",
       "      <th>2013</th>\n",
       "      <th>2014</th>\n",
       "      <th>2015</th>\n",
       "      <th>2016</th>\n",
       "      <th>2017</th>\n",
       "      <th>2018</th>\n",
       "      <th>2019</th>\n",
       "    </tr>\n",
       "  </thead>\n",
       "  <tbody>\n",
       "    <tr>\n",
       "      <th>0</th>\n",
       "      <td>-0.5%, 0%</td>\n",
       "      <td>1.0</td>\n",
       "      <td>415.0</td>\n",
       "      <td>33556.628970</td>\n",
       "      <td>4.271889e+05</td>\n",
       "      <td>5.926879e+05</td>\n",
       "      <td>7.903024e+05</td>\n",
       "      <td>6.915239e+05</td>\n",
       "      <td>6.860850e+05</td>\n",
       "      <td>71010.0</td>\n",
       "    </tr>\n",
       "    <tr>\n",
       "      <th>1</th>\n",
       "      <td>-1%, -0.5%</td>\n",
       "      <td>0.0</td>\n",
       "      <td>14.0</td>\n",
       "      <td>16384.657413</td>\n",
       "      <td>1.681718e+05</td>\n",
       "      <td>2.227386e+05</td>\n",
       "      <td>3.065659e+05</td>\n",
       "      <td>2.177216e+05</td>\n",
       "      <td>1.217450e+05</td>\n",
       "      <td>12768.0</td>\n",
       "    </tr>\n",
       "    <tr>\n",
       "      <th>2</th>\n",
       "      <td>-1.5%, -1%</td>\n",
       "      <td>0.0</td>\n",
       "      <td>0.0</td>\n",
       "      <td>6989.018637</td>\n",
       "      <td>7.246426e+04</td>\n",
       "      <td>4.574742e+04</td>\n",
       "      <td>4.218000e+04</td>\n",
       "      <td>4.369300e+04</td>\n",
       "      <td>1.169700e+04</td>\n",
       "      <td>1778.0</td>\n",
       "    </tr>\n",
       "    <tr>\n",
       "      <th>3</th>\n",
       "      <td>-2%, -1.5%</td>\n",
       "      <td>0.0</td>\n",
       "      <td>0.0</td>\n",
       "      <td>303.000000</td>\n",
       "      <td>1.536000e+03</td>\n",
       "      <td>3.100000e+02</td>\n",
       "      <td>2.290000e+02</td>\n",
       "      <td>8.460000e+02</td>\n",
       "      <td>4.480000e+02</td>\n",
       "      <td>70.0</td>\n",
       "    </tr>\n",
       "    <tr>\n",
       "      <th>4</th>\n",
       "      <td>0%, 0.5%</td>\n",
       "      <td>0.0</td>\n",
       "      <td>298.0</td>\n",
       "      <td>52674.653828</td>\n",
       "      <td>6.347167e+05</td>\n",
       "      <td>7.740411e+05</td>\n",
       "      <td>8.523564e+05</td>\n",
       "      <td>7.013088e+05</td>\n",
       "      <td>5.185340e+05</td>\n",
       "      <td>54199.0</td>\n",
       "    </tr>\n",
       "    <tr>\n",
       "      <th>5</th>\n",
       "      <td>0.5%, 1%</td>\n",
       "      <td>0.0</td>\n",
       "      <td>11.0</td>\n",
       "      <td>11311.707181</td>\n",
       "      <td>1.318803e+05</td>\n",
       "      <td>2.023801e+05</td>\n",
       "      <td>2.547054e+05</td>\n",
       "      <td>2.086248e+05</td>\n",
       "      <td>1.890750e+05</td>\n",
       "      <td>18335.0</td>\n",
       "    </tr>\n",
       "    <tr>\n",
       "      <th>6</th>\n",
       "      <td>1%, 1.5%</td>\n",
       "      <td>0.0</td>\n",
       "      <td>5.0</td>\n",
       "      <td>1562.088183</td>\n",
       "      <td>7.734865e+03</td>\n",
       "      <td>2.084528e+04</td>\n",
       "      <td>4.888108e+04</td>\n",
       "      <td>3.801222e+04</td>\n",
       "      <td>3.675099e+04</td>\n",
       "      <td>5936.0</td>\n",
       "    </tr>\n",
       "    <tr>\n",
       "      <th>7</th>\n",
       "      <td>1.5%, 2%</td>\n",
       "      <td>0.0</td>\n",
       "      <td>1.0</td>\n",
       "      <td>51.000000</td>\n",
       "      <td>1.100000e+02</td>\n",
       "      <td>2.630000e+02</td>\n",
       "      <td>2.200686e+03</td>\n",
       "      <td>2.225981e+03</td>\n",
       "      <td>3.964000e+03</td>\n",
       "      <td>601.0</td>\n",
       "    </tr>\n",
       "    <tr>\n",
       "      <th>8</th>\n",
       "      <td>2%&gt;</td>\n",
       "      <td>0.0</td>\n",
       "      <td>0.0</td>\n",
       "      <td>0.000000</td>\n",
       "      <td>0.000000e+00</td>\n",
       "      <td>2.000000e+00</td>\n",
       "      <td>5.200000e+01</td>\n",
       "      <td>8.800000e+01</td>\n",
       "      <td>1.900000e+01</td>\n",
       "      <td>2.0</td>\n",
       "    </tr>\n",
       "    <tr>\n",
       "      <th>9</th>\n",
       "      <td>&lt;-2%</td>\n",
       "      <td>0.0</td>\n",
       "      <td>0.0</td>\n",
       "      <td>13.000000</td>\n",
       "      <td>6.000000e+00</td>\n",
       "      <td>0.000000e+00</td>\n",
       "      <td>0.000000e+00</td>\n",
       "      <td>2.000000e+00</td>\n",
       "      <td>1.000000e+01</td>\n",
       "      <td>3.0</td>\n",
       "    </tr>\n",
       "    <tr>\n",
       "      <th>10</th>\n",
       "      <td>Total</td>\n",
       "      <td>1.0</td>\n",
       "      <td>744.0</td>\n",
       "      <td>122845.754212</td>\n",
       "      <td>1.443809e+06</td>\n",
       "      <td>1.859015e+06</td>\n",
       "      <td>2.297473e+06</td>\n",
       "      <td>1.904046e+06</td>\n",
       "      <td>1.568328e+06</td>\n",
       "      <td>164702.0</td>\n",
       "    </tr>\n",
       "  </tbody>\n",
       "</table>\n",
       "</div>"
      ],
      "text/plain": [
       "       SATOBkt  2011   2012           2013          2014          2015  \\\n",
       "0    -0.5%, 0%   1.0  415.0   33556.628970  4.271889e+05  5.926879e+05   \n",
       "1   -1%, -0.5%   0.0   14.0   16384.657413  1.681718e+05  2.227386e+05   \n",
       "2   -1.5%, -1%   0.0    0.0    6989.018637  7.246426e+04  4.574742e+04   \n",
       "3   -2%, -1.5%   0.0    0.0     303.000000  1.536000e+03  3.100000e+02   \n",
       "4     0%, 0.5%   0.0  298.0   52674.653828  6.347167e+05  7.740411e+05   \n",
       "5     0.5%, 1%   0.0   11.0   11311.707181  1.318803e+05  2.023801e+05   \n",
       "6     1%, 1.5%   0.0    5.0    1562.088183  7.734865e+03  2.084528e+04   \n",
       "7     1.5%, 2%   0.0    1.0      51.000000  1.100000e+02  2.630000e+02   \n",
       "8          2%>   0.0    0.0       0.000000  0.000000e+00  2.000000e+00   \n",
       "9         <-2%   0.0    0.0      13.000000  6.000000e+00  0.000000e+00   \n",
       "10       Total   1.0  744.0  122845.754212  1.443809e+06  1.859015e+06   \n",
       "\n",
       "            2016          2017          2018      2019  \n",
       "0   7.903024e+05  6.915239e+05  6.860850e+05   71010.0  \n",
       "1   3.065659e+05  2.177216e+05  1.217450e+05   12768.0  \n",
       "2   4.218000e+04  4.369300e+04  1.169700e+04    1778.0  \n",
       "3   2.290000e+02  8.460000e+02  4.480000e+02      70.0  \n",
       "4   8.523564e+05  7.013088e+05  5.185340e+05   54199.0  \n",
       "5   2.547054e+05  2.086248e+05  1.890750e+05   18335.0  \n",
       "6   4.888108e+04  3.801222e+04  3.675099e+04    5936.0  \n",
       "7   2.200686e+03  2.225981e+03  3.964000e+03     601.0  \n",
       "8   5.200000e+01  8.800000e+01  1.900000e+01       2.0  \n",
       "9   0.000000e+00  2.000000e+00  1.000000e+01       3.0  \n",
       "10  2.297473e+06  1.904046e+06  1.568328e+06  164702.0  "
      ]
     },
     "execution_count": 360,
     "metadata": {},
     "output_type": "execute_result"
    }
   ],
   "source": [
    "total.toPandas()"
   ]
  },
  {
   "cell_type": "markdown",
   "metadata": {},
   "source": [
    "***Loss Rate by Vintage and SATO***"
   ]
  },
  {
   "cell_type": "code",
   "execution_count": 361,
   "metadata": {},
   "outputs": [],
   "source": [
    "df = statistics_data_default.fillna('9999', 'VinYr')"
   ]
  },
  {
   "cell_type": "code",
   "execution_count": 362,
   "metadata": {},
   "outputs": [],
   "source": [
    "vintage_years = [row.VinYr for row in df.select('VinYr').orderBy('VinYr').distinct().collect() if row.VinYr != '9999']"
   ]
  },
  {
   "cell_type": "code",
   "execution_count": 363,
   "metadata": {},
   "outputs": [],
   "source": [
    "for vinyr in vintage_years:\n",
    "    df = df.withColumn(vinyr, F.when(F.col('VinYr') == vinyr, F.col('NET_LOSS')/F.col('ORIG_AMT')).otherwise(F.lit(0)))"
   ]
  },
  {
   "cell_type": "code",
   "execution_count": 364,
   "metadata": {},
   "outputs": [],
   "source": [
    "expr = [F.sum(x).alias(x) for x in vintage_years]"
   ]
  },
  {
   "cell_type": "code",
   "execution_count": 365,
   "metadata": {},
   "outputs": [],
   "source": [
    "df = df.where(F.col('SATOBkt').isNotNull()).orderBy('SATOBkt').groupBy('SATOBkt').agg(*expr)"
   ]
  },
  {
   "cell_type": "code",
   "execution_count": 366,
   "metadata": {},
   "outputs": [],
   "source": [
    "df_total = df.withColumn('Total', F.lit('Total')).groupBy('Total').agg(*expr)"
   ]
  },
  {
   "cell_type": "markdown",
   "metadata": {},
   "source": [
    "AGGREGATE"
   ]
  },
  {
   "cell_type": "code",
   "execution_count": 367,
   "metadata": {},
   "outputs": [],
   "source": [
    "total = df.union(df_total)"
   ]
  },
  {
   "cell_type": "code",
   "execution_count": 368,
   "metadata": {},
   "outputs": [
    {
     "data": {
      "text/html": [
       "<div>\n",
       "<style scoped>\n",
       "    .dataframe tbody tr th:only-of-type {\n",
       "        vertical-align: middle;\n",
       "    }\n",
       "\n",
       "    .dataframe tbody tr th {\n",
       "        vertical-align: top;\n",
       "    }\n",
       "\n",
       "    .dataframe thead th {\n",
       "        text-align: right;\n",
       "    }\n",
       "</style>\n",
       "<table border=\"1\" class=\"dataframe\">\n",
       "  <thead>\n",
       "    <tr style=\"text-align: right;\">\n",
       "      <th></th>\n",
       "      <th>SATOBkt</th>\n",
       "      <th>2011</th>\n",
       "      <th>2012</th>\n",
       "      <th>2013</th>\n",
       "      <th>2014</th>\n",
       "      <th>2015</th>\n",
       "      <th>2016</th>\n",
       "      <th>2017</th>\n",
       "      <th>2018</th>\n",
       "      <th>2019</th>\n",
       "    </tr>\n",
       "  </thead>\n",
       "  <tbody>\n",
       "    <tr>\n",
       "      <th>0</th>\n",
       "      <td>-0.5%, 0%</td>\n",
       "      <td>0.544574</td>\n",
       "      <td>144.590956</td>\n",
       "      <td>28786.493167</td>\n",
       "      <td>3.733201e+05</td>\n",
       "      <td>5.189693e+05</td>\n",
       "      <td>7.109506e+05</td>\n",
       "      <td>6.456626e+05</td>\n",
       "      <td>6.592096e+05</td>\n",
       "      <td>69244.486791</td>\n",
       "    </tr>\n",
       "    <tr>\n",
       "      <th>1</th>\n",
       "      <td>-1%, -0.5%</td>\n",
       "      <td>0.000000</td>\n",
       "      <td>5.958778</td>\n",
       "      <td>10975.006779</td>\n",
       "      <td>1.172085e+05</td>\n",
       "      <td>1.629718e+05</td>\n",
       "      <td>2.411439e+05</td>\n",
       "      <td>1.855841e+05</td>\n",
       "      <td>1.116126e+05</td>\n",
       "      <td>12179.436628</td>\n",
       "    </tr>\n",
       "    <tr>\n",
       "      <th>2</th>\n",
       "      <td>-1.5%, -1%</td>\n",
       "      <td>0.000000</td>\n",
       "      <td>0.000000</td>\n",
       "      <td>4325.639013</td>\n",
       "      <td>4.697547e+04</td>\n",
       "      <td>3.216179e+04</td>\n",
       "      <td>3.232860e+04</td>\n",
       "      <td>3.621046e+04</td>\n",
       "      <td>1.049055e+04</td>\n",
       "      <td>1666.494391</td>\n",
       "    </tr>\n",
       "    <tr>\n",
       "      <th>3</th>\n",
       "      <td>-2%, -1.5%</td>\n",
       "      <td>0.000000</td>\n",
       "      <td>0.000000</td>\n",
       "      <td>154.477818</td>\n",
       "      <td>8.411223e+02</td>\n",
       "      <td>2.201078e+02</td>\n",
       "      <td>1.737386e+02</td>\n",
       "      <td>6.779870e+02</td>\n",
       "      <td>4.070169e+02</td>\n",
       "      <td>66.559560</td>\n",
       "    </tr>\n",
       "    <tr>\n",
       "      <th>4</th>\n",
       "      <td>0%, 0.5%</td>\n",
       "      <td>0.000000</td>\n",
       "      <td>125.062115</td>\n",
       "      <td>47564.300534</td>\n",
       "      <td>5.788269e+05</td>\n",
       "      <td>7.071677e+05</td>\n",
       "      <td>7.889962e+05</td>\n",
       "      <td>6.655872e+05</td>\n",
       "      <td>5.033707e+05</td>\n",
       "      <td>53113.795972</td>\n",
       "    </tr>\n",
       "    <tr>\n",
       "      <th>5</th>\n",
       "      <td>0.5%, 1%</td>\n",
       "      <td>0.000000</td>\n",
       "      <td>8.602453</td>\n",
       "      <td>10348.021610</td>\n",
       "      <td>1.219264e+05</td>\n",
       "      <td>1.878777e+05</td>\n",
       "      <td>2.391487e+05</td>\n",
       "      <td>2.000805e+05</td>\n",
       "      <td>1.846342e+05</td>\n",
       "      <td>18018.292689</td>\n",
       "    </tr>\n",
       "    <tr>\n",
       "      <th>6</th>\n",
       "      <td>1%, 1.5%</td>\n",
       "      <td>0.000000</td>\n",
       "      <td>3.389626</td>\n",
       "      <td>1432.594690</td>\n",
       "      <td>7.169032e+03</td>\n",
       "      <td>1.947507e+04</td>\n",
       "      <td>4.631376e+04</td>\n",
       "      <td>3.672283e+04</td>\n",
       "      <td>3.598743e+04</td>\n",
       "      <td>5839.175469</td>\n",
       "    </tr>\n",
       "    <tr>\n",
       "      <th>7</th>\n",
       "      <td>1.5%, 2%</td>\n",
       "      <td>0.000000</td>\n",
       "      <td>0.893894</td>\n",
       "      <td>46.774392</td>\n",
       "      <td>1.013019e+02</td>\n",
       "      <td>2.449643e+02</td>\n",
       "      <td>2.098621e+03</td>\n",
       "      <td>2.157796e+03</td>\n",
       "      <td>3.890874e+03</td>\n",
       "      <td>593.455167</td>\n",
       "    </tr>\n",
       "    <tr>\n",
       "      <th>8</th>\n",
       "      <td>2%&gt;</td>\n",
       "      <td>0.000000</td>\n",
       "      <td>0.000000</td>\n",
       "      <td>0.000000</td>\n",
       "      <td>0.000000e+00</td>\n",
       "      <td>1.876695e+00</td>\n",
       "      <td>4.997149e+01</td>\n",
       "      <td>8.422968e+01</td>\n",
       "      <td>1.847751e+01</td>\n",
       "      <td>1.986574</td>\n",
       "    </tr>\n",
       "    <tr>\n",
       "      <th>9</th>\n",
       "      <td>&lt;-2%</td>\n",
       "      <td>0.000000</td>\n",
       "      <td>0.000000</td>\n",
       "      <td>8.033290</td>\n",
       "      <td>3.270642e+00</td>\n",
       "      <td>0.000000e+00</td>\n",
       "      <td>0.000000e+00</td>\n",
       "      <td>1.539289e+00</td>\n",
       "      <td>9.155349e+00</td>\n",
       "      <td>2.842771</td>\n",
       "    </tr>\n",
       "    <tr>\n",
       "      <th>10</th>\n",
       "      <td>Total</td>\n",
       "      <td>0.544574</td>\n",
       "      <td>288.497824</td>\n",
       "      <td>103641.341294</td>\n",
       "      <td>1.246372e+06</td>\n",
       "      <td>1.629090e+06</td>\n",
       "      <td>2.061204e+06</td>\n",
       "      <td>1.772769e+06</td>\n",
       "      <td>1.509631e+06</td>\n",
       "      <td>160726.526012</td>\n",
       "    </tr>\n",
       "  </tbody>\n",
       "</table>\n",
       "</div>"
      ],
      "text/plain": [
       "       SATOBkt      2011        2012           2013          2014  \\\n",
       "0    -0.5%, 0%  0.544574  144.590956   28786.493167  3.733201e+05   \n",
       "1   -1%, -0.5%  0.000000    5.958778   10975.006779  1.172085e+05   \n",
       "2   -1.5%, -1%  0.000000    0.000000    4325.639013  4.697547e+04   \n",
       "3   -2%, -1.5%  0.000000    0.000000     154.477818  8.411223e+02   \n",
       "4     0%, 0.5%  0.000000  125.062115   47564.300534  5.788269e+05   \n",
       "5     0.5%, 1%  0.000000    8.602453   10348.021610  1.219264e+05   \n",
       "6     1%, 1.5%  0.000000    3.389626    1432.594690  7.169032e+03   \n",
       "7     1.5%, 2%  0.000000    0.893894      46.774392  1.013019e+02   \n",
       "8          2%>  0.000000    0.000000       0.000000  0.000000e+00   \n",
       "9         <-2%  0.000000    0.000000       8.033290  3.270642e+00   \n",
       "10       Total  0.544574  288.497824  103641.341294  1.246372e+06   \n",
       "\n",
       "            2015          2016          2017          2018           2019  \n",
       "0   5.189693e+05  7.109506e+05  6.456626e+05  6.592096e+05   69244.486791  \n",
       "1   1.629718e+05  2.411439e+05  1.855841e+05  1.116126e+05   12179.436628  \n",
       "2   3.216179e+04  3.232860e+04  3.621046e+04  1.049055e+04    1666.494391  \n",
       "3   2.201078e+02  1.737386e+02  6.779870e+02  4.070169e+02      66.559560  \n",
       "4   7.071677e+05  7.889962e+05  6.655872e+05  5.033707e+05   53113.795972  \n",
       "5   1.878777e+05  2.391487e+05  2.000805e+05  1.846342e+05   18018.292689  \n",
       "6   1.947507e+04  4.631376e+04  3.672283e+04  3.598743e+04    5839.175469  \n",
       "7   2.449643e+02  2.098621e+03  2.157796e+03  3.890874e+03     593.455167  \n",
       "8   1.876695e+00  4.997149e+01  8.422968e+01  1.847751e+01       1.986574  \n",
       "9   0.000000e+00  0.000000e+00  1.539289e+00  9.155349e+00       2.842771  \n",
       "10  1.629090e+06  2.061204e+06  1.772769e+06  1.509631e+06  160726.526012  "
      ]
     },
     "execution_count": 368,
     "metadata": {},
     "output_type": "execute_result"
    }
   ],
   "source": [
    "total.toPandas()"
   ]
  },
  {
   "cell_type": "markdown",
   "metadata": {},
   "source": [
    "***Calculate SATO by LTV and FICO***"
   ]
  },
  {
   "cell_type": "code",
   "execution_count": 369,
   "metadata": {},
   "outputs": [],
   "source": [
    "df = statistics_data_default.fillna('9999', 'VinYr')"
   ]
  },
  {
   "cell_type": "code",
   "execution_count": 370,
   "metadata": {},
   "outputs": [],
   "source": [
    "fico = [row.FicoBkt for row in df.select('FicoBkt').orderBy('FicoBkt').distinct().collect()]"
   ]
  },
  {
   "cell_type": "code",
   "execution_count": 371,
   "metadata": {},
   "outputs": [],
   "source": [
    "for fic in fico:\n",
    "    df = df.withColumn(fic, F.when(F.col('FicoBkt') == fic, (F.col('SATO')*F.col('ORIG_AMT'))/F.col('ORIG_AMT')).otherwise(F.lit(0)))"
   ]
  },
  {
   "cell_type": "code",
   "execution_count": 372,
   "metadata": {},
   "outputs": [],
   "source": [
    "expr = [F.sum(x).alias(x) for x in fico]"
   ]
  },
  {
   "cell_type": "code",
   "execution_count": 373,
   "metadata": {},
   "outputs": [],
   "source": [
    "df = df.where(F.col('OcltvBkt').isNotNull()).orderBy('OcltvBkt').groupBy('OcltvBkt').agg(*expr)"
   ]
  },
  {
   "cell_type": "code",
   "execution_count": 374,
   "metadata": {},
   "outputs": [],
   "source": [
    "df_total = df.withColumn('Total', F.lit('Total')).groupBy('Total').agg(*expr)"
   ]
  },
  {
   "cell_type": "markdown",
   "metadata": {},
   "source": [
    "AGGREGATE"
   ]
  },
  {
   "cell_type": "code",
   "execution_count": 375,
   "metadata": {},
   "outputs": [],
   "source": [
    "total = df.union(df_total)"
   ]
  },
  {
   "cell_type": "code",
   "execution_count": 376,
   "metadata": {},
   "outputs": [
    {
     "data": {
      "text/html": [
       "<div>\n",
       "<style scoped>\n",
       "    .dataframe tbody tr th:only-of-type {\n",
       "        vertical-align: middle;\n",
       "    }\n",
       "\n",
       "    .dataframe tbody tr th {\n",
       "        vertical-align: top;\n",
       "    }\n",
       "\n",
       "    .dataframe thead th {\n",
       "        text-align: right;\n",
       "    }\n",
       "</style>\n",
       "<table border=\"1\" class=\"dataframe\">\n",
       "  <thead>\n",
       "    <tr style=\"text-align: right;\">\n",
       "      <th></th>\n",
       "      <th>OcltvBkt</th>\n",
       "      <th>0-620</th>\n",
       "      <th>620-660</th>\n",
       "      <th>660-700</th>\n",
       "      <th>700-740</th>\n",
       "      <th>740-780</th>\n",
       "      <th>780&gt;</th>\n",
       "    </tr>\n",
       "  </thead>\n",
       "  <tbody>\n",
       "    <tr>\n",
       "      <th>0</th>\n",
       "      <td>0-60</td>\n",
       "      <td>236.29</td>\n",
       "      <td>8699.83</td>\n",
       "      <td>-16347.73</td>\n",
       "      <td>-49343.82</td>\n",
       "      <td>-110319.47</td>\n",
       "      <td>-227608.009999</td>\n",
       "    </tr>\n",
       "    <tr>\n",
       "      <th>1</th>\n",
       "      <td>60-65</td>\n",
       "      <td>171.31</td>\n",
       "      <td>7137.59</td>\n",
       "      <td>2730.61</td>\n",
       "      <td>-6065.73</td>\n",
       "      <td>-21247.16</td>\n",
       "      <td>-36130.680000</td>\n",
       "    </tr>\n",
       "    <tr>\n",
       "      <th>2</th>\n",
       "      <td>65-70</td>\n",
       "      <td>416.93</td>\n",
       "      <td>19936.07</td>\n",
       "      <td>14551.45</td>\n",
       "      <td>14.14</td>\n",
       "      <td>-19147.36</td>\n",
       "      <td>-37151.610000</td>\n",
       "    </tr>\n",
       "    <tr>\n",
       "      <th>3</th>\n",
       "      <td>70-75</td>\n",
       "      <td>496.01</td>\n",
       "      <td>29316.26</td>\n",
       "      <td>41205.71</td>\n",
       "      <td>26522.58</td>\n",
       "      <td>6384.59</td>\n",
       "      <td>-15265.620000</td>\n",
       "    </tr>\n",
       "    <tr>\n",
       "      <th>4</th>\n",
       "      <td>75-80</td>\n",
       "      <td>1148.80</td>\n",
       "      <td>67277.10</td>\n",
       "      <td>103799.31</td>\n",
       "      <td>40977.95</td>\n",
       "      <td>-36408.65</td>\n",
       "      <td>-64257.360000</td>\n",
       "    </tr>\n",
       "    <tr>\n",
       "      <th>5</th>\n",
       "      <td>80-85</td>\n",
       "      <td>96.30</td>\n",
       "      <td>5512.64</td>\n",
       "      <td>10649.48</td>\n",
       "      <td>6702.28</td>\n",
       "      <td>-2252.98</td>\n",
       "      <td>-3974.700000</td>\n",
       "    </tr>\n",
       "    <tr>\n",
       "      <th>6</th>\n",
       "      <td>85-90</td>\n",
       "      <td>223.66</td>\n",
       "      <td>13492.39</td>\n",
       "      <td>24957.50</td>\n",
       "      <td>18246.26</td>\n",
       "      <td>-2859.00</td>\n",
       "      <td>-6662.740000</td>\n",
       "    </tr>\n",
       "    <tr>\n",
       "      <th>7</th>\n",
       "      <td>90-97</td>\n",
       "      <td>491.17</td>\n",
       "      <td>33995.87</td>\n",
       "      <td>73173.75</td>\n",
       "      <td>70220.88</td>\n",
       "      <td>30428.96</td>\n",
       "      <td>7929.780000</td>\n",
       "    </tr>\n",
       "    <tr>\n",
       "      <th>8</th>\n",
       "      <td>97+</td>\n",
       "      <td>31.92</td>\n",
       "      <td>6726.10</td>\n",
       "      <td>16011.51</td>\n",
       "      <td>18024.92</td>\n",
       "      <td>11933.02</td>\n",
       "      <td>4404.550000</td>\n",
       "    </tr>\n",
       "    <tr>\n",
       "      <th>9</th>\n",
       "      <td>Total</td>\n",
       "      <td>3312.39</td>\n",
       "      <td>192093.85</td>\n",
       "      <td>270731.59</td>\n",
       "      <td>125299.46</td>\n",
       "      <td>-143488.05</td>\n",
       "      <td>-378716.389999</td>\n",
       "    </tr>\n",
       "  </tbody>\n",
       "</table>\n",
       "</div>"
      ],
      "text/plain": [
       "  OcltvBkt    0-620    620-660    660-700    700-740    740-780           780>\n",
       "0     0-60   236.29    8699.83  -16347.73  -49343.82 -110319.47 -227608.009999\n",
       "1    60-65   171.31    7137.59    2730.61   -6065.73  -21247.16  -36130.680000\n",
       "2    65-70   416.93   19936.07   14551.45      14.14  -19147.36  -37151.610000\n",
       "3    70-75   496.01   29316.26   41205.71   26522.58    6384.59  -15265.620000\n",
       "4    75-80  1148.80   67277.10  103799.31   40977.95  -36408.65  -64257.360000\n",
       "5    80-85    96.30    5512.64   10649.48    6702.28   -2252.98   -3974.700000\n",
       "6    85-90   223.66   13492.39   24957.50   18246.26   -2859.00   -6662.740000\n",
       "7    90-97   491.17   33995.87   73173.75   70220.88   30428.96    7929.780000\n",
       "8      97+    31.92    6726.10   16011.51   18024.92   11933.02    4404.550000\n",
       "9    Total  3312.39  192093.85  270731.59  125299.46 -143488.05 -378716.389999"
      ]
     },
     "execution_count": 376,
     "metadata": {},
     "output_type": "execute_result"
    }
   ],
   "source": [
    "total.toPandas()"
   ]
  },
  {
   "cell_type": "markdown",
   "metadata": {},
   "source": [
    "***Calculate Note Rate by LTV and FICO***"
   ]
  },
  {
   "cell_type": "code",
   "execution_count": 377,
   "metadata": {},
   "outputs": [],
   "source": [
    "df = statistics_data_default.fillna('9999', 'VinYr')"
   ]
  },
  {
   "cell_type": "code",
   "execution_count": 378,
   "metadata": {},
   "outputs": [],
   "source": [
    "fico = [row.FicoBkt for row in df.select('FicoBkt').orderBy('FicoBkt').distinct().collect()]"
   ]
  },
  {
   "cell_type": "code",
   "execution_count": 379,
   "metadata": {},
   "outputs": [],
   "source": [
    "for fic in fico:\n",
    "    df = df.withColumn(fic, F.when(F.col('FicoBkt') == fic, (F.col('ORIG_RT')*F.col('ORIG_AMT'))/F.col('ORIG_AMT')).otherwise(F.lit(0)))"
   ]
  },
  {
   "cell_type": "code",
   "execution_count": 380,
   "metadata": {},
   "outputs": [],
   "source": [
    "expr = [F.sum(x).alias(x) for x in fico]"
   ]
  },
  {
   "cell_type": "code",
   "execution_count": 381,
   "metadata": {},
   "outputs": [],
   "source": [
    "df = df.where(F.col('OcltvBkt').isNotNull()).orderBy('OcltvBkt').groupBy('OcltvBkt').agg(*expr)"
   ]
  },
  {
   "cell_type": "code",
   "execution_count": 382,
   "metadata": {},
   "outputs": [],
   "source": [
    "df_total = df.withColumn('Total', F.lit('Total')).groupBy('Total').agg(*expr)"
   ]
  },
  {
   "cell_type": "markdown",
   "metadata": {},
   "source": [
    "AGGREGATE"
   ]
  },
  {
   "cell_type": "code",
   "execution_count": 383,
   "metadata": {},
   "outputs": [],
   "source": [
    "total = df.union(df_total)"
   ]
  },
  {
   "cell_type": "code",
   "execution_count": 384,
   "metadata": {},
   "outputs": [
    {
     "data": {
      "text/html": [
       "<div>\n",
       "<style scoped>\n",
       "    .dataframe tbody tr th:only-of-type {\n",
       "        vertical-align: middle;\n",
       "    }\n",
       "\n",
       "    .dataframe tbody tr th {\n",
       "        vertical-align: top;\n",
       "    }\n",
       "\n",
       "    .dataframe thead th {\n",
       "        text-align: right;\n",
       "    }\n",
       "</style>\n",
       "<table border=\"1\" class=\"dataframe\">\n",
       "  <thead>\n",
       "    <tr style=\"text-align: right;\">\n",
       "      <th></th>\n",
       "      <th>OcltvBkt</th>\n",
       "      <th>0-620</th>\n",
       "      <th>620-660</th>\n",
       "      <th>660-700</th>\n",
       "      <th>700-740</th>\n",
       "      <th>740-780</th>\n",
       "      <th>780&gt;</th>\n",
       "    </tr>\n",
       "  </thead>\n",
       "  <tbody>\n",
       "    <tr>\n",
       "      <th>0</th>\n",
       "      <td>0-60</td>\n",
       "      <td>8858.871</td>\n",
       "      <td>476146.978</td>\n",
       "      <td>821088.107</td>\n",
       "      <td>1130804.916</td>\n",
       "      <td>1.729433e+06</td>\n",
       "      <td>2.779222e+06</td>\n",
       "    </tr>\n",
       "    <tr>\n",
       "      <th>1</th>\n",
       "      <td>60-65</td>\n",
       "      <td>2527.555</td>\n",
       "      <td>131502.829</td>\n",
       "      <td>243650.958</td>\n",
       "      <td>328324.454</td>\n",
       "      <td>4.809961e+05</td>\n",
       "      <td>5.841691e+05</td>\n",
       "    </tr>\n",
       "    <tr>\n",
       "      <th>2</th>\n",
       "      <td>65-70</td>\n",
       "      <td>4612.778</td>\n",
       "      <td>267174.258</td>\n",
       "      <td>460660.335</td>\n",
       "      <td>574691.943</td>\n",
       "      <td>7.511412e+05</td>\n",
       "      <td>8.264597e+05</td>\n",
       "    </tr>\n",
       "    <tr>\n",
       "      <th>3</th>\n",
       "      <td>70-75</td>\n",
       "      <td>5020.213</td>\n",
       "      <td>297051.058</td>\n",
       "      <td>641266.713</td>\n",
       "      <td>916054.750</td>\n",
       "      <td>1.374223e+06</td>\n",
       "      <td>1.414812e+06</td>\n",
       "    </tr>\n",
       "    <tr>\n",
       "      <th>4</th>\n",
       "      <td>75-80</td>\n",
       "      <td>10295.129</td>\n",
       "      <td>645653.529</td>\n",
       "      <td>1499246.827</td>\n",
       "      <td>2258548.356</td>\n",
       "      <td>2.956362e+06</td>\n",
       "      <td>3.049972e+06</td>\n",
       "    </tr>\n",
       "    <tr>\n",
       "      <th>5</th>\n",
       "      <td>80-85</td>\n",
       "      <td>1087.718</td>\n",
       "      <td>69202.255</td>\n",
       "      <td>200737.745</td>\n",
       "      <td>352526.516</td>\n",
       "      <td>4.502558e+05</td>\n",
       "      <td>3.363459e+05</td>\n",
       "    </tr>\n",
       "    <tr>\n",
       "      <th>6</th>\n",
       "      <td>85-90</td>\n",
       "      <td>2113.965</td>\n",
       "      <td>148557.697</td>\n",
       "      <td>459819.122</td>\n",
       "      <td>832013.441</td>\n",
       "      <td>1.102982e+06</td>\n",
       "      <td>8.771042e+05</td>\n",
       "    </tr>\n",
       "    <tr>\n",
       "      <th>7</th>\n",
       "      <td>90-97</td>\n",
       "      <td>4403.011</td>\n",
       "      <td>331713.670</td>\n",
       "      <td>1079134.163</td>\n",
       "      <td>1896236.632</td>\n",
       "      <td>2.212298e+06</td>\n",
       "      <td>1.336096e+06</td>\n",
       "    </tr>\n",
       "    <tr>\n",
       "      <th>8</th>\n",
       "      <td>97+</td>\n",
       "      <td>393.615</td>\n",
       "      <td>58036.858</td>\n",
       "      <td>148408.228</td>\n",
       "      <td>184829.831</td>\n",
       "      <td>1.355621e+05</td>\n",
       "      <td>5.422076e+04</td>\n",
       "    </tr>\n",
       "    <tr>\n",
       "      <th>9</th>\n",
       "      <td>Total</td>\n",
       "      <td>39312.855</td>\n",
       "      <td>2425039.132</td>\n",
       "      <td>5554012.198</td>\n",
       "      <td>8474030.839</td>\n",
       "      <td>1.119325e+07</td>\n",
       "      <td>1.125840e+07</td>\n",
       "    </tr>\n",
       "  </tbody>\n",
       "</table>\n",
       "</div>"
      ],
      "text/plain": [
       "  OcltvBkt      0-620      620-660      660-700      700-740       740-780  \\\n",
       "0     0-60   8858.871   476146.978   821088.107  1130804.916  1.729433e+06   \n",
       "1    60-65   2527.555   131502.829   243650.958   328324.454  4.809961e+05   \n",
       "2    65-70   4612.778   267174.258   460660.335   574691.943  7.511412e+05   \n",
       "3    70-75   5020.213   297051.058   641266.713   916054.750  1.374223e+06   \n",
       "4    75-80  10295.129   645653.529  1499246.827  2258548.356  2.956362e+06   \n",
       "5    80-85   1087.718    69202.255   200737.745   352526.516  4.502558e+05   \n",
       "6    85-90   2113.965   148557.697   459819.122   832013.441  1.102982e+06   \n",
       "7    90-97   4403.011   331713.670  1079134.163  1896236.632  2.212298e+06   \n",
       "8      97+    393.615    58036.858   148408.228   184829.831  1.355621e+05   \n",
       "9    Total  39312.855  2425039.132  5554012.198  8474030.839  1.119325e+07   \n",
       "\n",
       "           780>  \n",
       "0  2.779222e+06  \n",
       "1  5.841691e+05  \n",
       "2  8.264597e+05  \n",
       "3  1.414812e+06  \n",
       "4  3.049972e+06  \n",
       "5  3.363459e+05  \n",
       "6  8.771042e+05  \n",
       "7  1.336096e+06  \n",
       "8  5.422076e+04  \n",
       "9  1.125840e+07  "
      ]
     },
     "execution_count": 384,
     "metadata": {},
     "output_type": "execute_result"
    }
   ],
   "source": [
    "total.toPandas()"
   ]
  },
  {
   "cell_type": "markdown",
   "metadata": {},
   "source": [
    "***Default Rate by Vintage and Risk Factors***"
   ]
  },
  {
   "cell_type": "code",
   "execution_count": 385,
   "metadata": {},
   "outputs": [],
   "source": [
    "df = statistics_data_default.fillna('9999', 'VinYr')"
   ]
  },
  {
   "cell_type": "code",
   "execution_count": 386,
   "metadata": {},
   "outputs": [],
   "source": [
    "vintage_years = [row.VinYr for row in df.select('VinYr').orderBy('VinYr').distinct().collect() if row.VinYr != '9999']"
   ]
  },
  {
   "cell_type": "code",
   "execution_count": 387,
   "metadata": {},
   "outputs": [],
   "source": [
    "for vinyr in vintage_years:\n",
    "    df = df.withColumn(vinyr, F.when(F.col('VinYr') == vinyr, F.col('LAST_UPB')/F.col('ORIG_AMT')).otherwise(F.lit(0)))"
   ]
  },
  {
   "cell_type": "code",
   "execution_count": 388,
   "metadata": {},
   "outputs": [],
   "source": [
    "expr = [F.sum(x).alias(x) for x in vintage_years]"
   ]
  },
  {
   "cell_type": "code",
   "execution_count": 389,
   "metadata": {},
   "outputs": [],
   "source": [
    "df = df.where(F.col('RskFctrs').isNotNull()).orderBy('RskFctrs').groupBy('RskFctrs').agg(*expr)"
   ]
  },
  {
   "cell_type": "code",
   "execution_count": 390,
   "metadata": {},
   "outputs": [],
   "source": [
    "df_total = df.withColumn('Total', F.lit('Total')).groupBy('Total').agg(*expr)"
   ]
  },
  {
   "cell_type": "markdown",
   "metadata": {},
   "source": [
    "AGGREGATE"
   ]
  },
  {
   "cell_type": "code",
   "execution_count": 391,
   "metadata": {},
   "outputs": [],
   "source": [
    "total = df.union(df_total)"
   ]
  },
  {
   "cell_type": "code",
   "execution_count": 392,
   "metadata": {},
   "outputs": [
    {
     "data": {
      "text/html": [
       "<div>\n",
       "<style scoped>\n",
       "    .dataframe tbody tr th:only-of-type {\n",
       "        vertical-align: middle;\n",
       "    }\n",
       "\n",
       "    .dataframe tbody tr th {\n",
       "        vertical-align: top;\n",
       "    }\n",
       "\n",
       "    .dataframe thead th {\n",
       "        text-align: right;\n",
       "    }\n",
       "</style>\n",
       "<table border=\"1\" class=\"dataframe\">\n",
       "  <thead>\n",
       "    <tr style=\"text-align: right;\">\n",
       "      <th></th>\n",
       "      <th>RskFctrs</th>\n",
       "      <th>2011</th>\n",
       "      <th>2012</th>\n",
       "      <th>2013</th>\n",
       "      <th>2014</th>\n",
       "      <th>2015</th>\n",
       "      <th>2016</th>\n",
       "      <th>2017</th>\n",
       "      <th>2018</th>\n",
       "      <th>2019</th>\n",
       "    </tr>\n",
       "  </thead>\n",
       "  <tbody>\n",
       "    <tr>\n",
       "      <th>0</th>\n",
       "      <td>0</td>\n",
       "      <td>0.000000</td>\n",
       "      <td>0.000000</td>\n",
       "      <td>2.454047</td>\n",
       "      <td>4.230188e+01</td>\n",
       "      <td>4.070044e+01</td>\n",
       "      <td>2.361462e+01</td>\n",
       "      <td>2.519089e+01</td>\n",
       "      <td>5.480677e+01</td>\n",
       "      <td>1.951724</td>\n",
       "    </tr>\n",
       "    <tr>\n",
       "      <th>1</th>\n",
       "      <td>1</td>\n",
       "      <td>0.544574</td>\n",
       "      <td>120.821848</td>\n",
       "      <td>39511.244257</td>\n",
       "      <td>4.875739e+05</td>\n",
       "      <td>6.351961e+05</td>\n",
       "      <td>7.979800e+05</td>\n",
       "      <td>6.212125e+05</td>\n",
       "      <td>5.178964e+05</td>\n",
       "      <td>54425.602872</td>\n",
       "    </tr>\n",
       "    <tr>\n",
       "      <th>2</th>\n",
       "      <td>2</td>\n",
       "      <td>0.000000</td>\n",
       "      <td>141.863361</td>\n",
       "      <td>53006.051976</td>\n",
       "      <td>6.304916e+05</td>\n",
       "      <td>8.234454e+05</td>\n",
       "      <td>1.042227e+06</td>\n",
       "      <td>9.215588e+05</td>\n",
       "      <td>7.821063e+05</td>\n",
       "      <td>83563.844903</td>\n",
       "    </tr>\n",
       "    <tr>\n",
       "      <th>3</th>\n",
       "      <td>3</td>\n",
       "      <td>0.000000</td>\n",
       "      <td>25.812614</td>\n",
       "      <td>11163.412589</td>\n",
       "      <td>1.287342e+05</td>\n",
       "      <td>1.708109e+05</td>\n",
       "      <td>2.212646e+05</td>\n",
       "      <td>2.300794e+05</td>\n",
       "      <td>2.095871e+05</td>\n",
       "      <td>22735.126512</td>\n",
       "    </tr>\n",
       "    <tr>\n",
       "      <th>4</th>\n",
       "      <td>Total</td>\n",
       "      <td>0.544574</td>\n",
       "      <td>288.497824</td>\n",
       "      <td>103683.162870</td>\n",
       "      <td>1.246842e+06</td>\n",
       "      <td>1.629493e+06</td>\n",
       "      <td>2.061495e+06</td>\n",
       "      <td>1.772876e+06</td>\n",
       "      <td>1.509645e+06</td>\n",
       "      <td>160726.526012</td>\n",
       "    </tr>\n",
       "  </tbody>\n",
       "</table>\n",
       "</div>"
      ],
      "text/plain": [
       "  RskFctrs      2011        2012           2013          2014          2015  \\\n",
       "0        0  0.000000    0.000000       2.454047  4.230188e+01  4.070044e+01   \n",
       "1        1  0.544574  120.821848   39511.244257  4.875739e+05  6.351961e+05   \n",
       "2        2  0.000000  141.863361   53006.051976  6.304916e+05  8.234454e+05   \n",
       "3        3  0.000000   25.812614   11163.412589  1.287342e+05  1.708109e+05   \n",
       "4    Total  0.544574  288.497824  103683.162870  1.246842e+06  1.629493e+06   \n",
       "\n",
       "           2016          2017          2018           2019  \n",
       "0  2.361462e+01  2.519089e+01  5.480677e+01       1.951724  \n",
       "1  7.979800e+05  6.212125e+05  5.178964e+05   54425.602872  \n",
       "2  1.042227e+06  9.215588e+05  7.821063e+05   83563.844903  \n",
       "3  2.212646e+05  2.300794e+05  2.095871e+05   22735.126512  \n",
       "4  2.061495e+06  1.772876e+06  1.509645e+06  160726.526012  "
      ]
     },
     "execution_count": 392,
     "metadata": {},
     "output_type": "execute_result"
    }
   ],
   "source": [
    "total.toPandas()"
   ]
  },
  {
   "cell_type": "markdown",
   "metadata": {},
   "source": [
    "***Severity by Vintage and Risk Factors***"
   ]
  },
  {
   "cell_type": "code",
   "execution_count": 393,
   "metadata": {},
   "outputs": [],
   "source": [
    "df = statistics_data_default.fillna('9999', 'VinYr')"
   ]
  },
  {
   "cell_type": "code",
   "execution_count": 394,
   "metadata": {},
   "outputs": [],
   "source": [
    "vintage_years = [row.VinYr for row in df.select('VinYr').orderBy('VinYr').distinct().collect() if row.VinYr != '9999']"
   ]
  },
  {
   "cell_type": "code",
   "execution_count": 395,
   "metadata": {},
   "outputs": [],
   "source": [
    "for vinyr in vintage_years:\n",
    "    df = df.withColumn(vinyr, F.when(F.col('VinYr') == vinyr, F.col('NET_LOSS')/F.col('LAST_UPB')).otherwise(F.lit(0)))"
   ]
  },
  {
   "cell_type": "code",
   "execution_count": 396,
   "metadata": {},
   "outputs": [],
   "source": [
    "expr = [F.sum(x).alias(x) for x in vintage_years]"
   ]
  },
  {
   "cell_type": "code",
   "execution_count": 397,
   "metadata": {},
   "outputs": [],
   "source": [
    "df = df.where(F.col('RskFctrs').isNotNull()).orderBy('RskFctrs').groupBy('RskFctrs').agg(*expr)"
   ]
  },
  {
   "cell_type": "code",
   "execution_count": 398,
   "metadata": {},
   "outputs": [],
   "source": [
    "df_total = df.withColumn('Total', F.lit('Total')).groupBy('Total').agg(*expr)"
   ]
  },
  {
   "cell_type": "markdown",
   "metadata": {},
   "source": [
    "AGGREGATE"
   ]
  },
  {
   "cell_type": "code",
   "execution_count": 399,
   "metadata": {},
   "outputs": [],
   "source": [
    "total = df.union(df_total)"
   ]
  },
  {
   "cell_type": "code",
   "execution_count": 400,
   "metadata": {},
   "outputs": [
    {
     "data": {
      "text/html": [
       "<div>\n",
       "<style scoped>\n",
       "    .dataframe tbody tr th:only-of-type {\n",
       "        vertical-align: middle;\n",
       "    }\n",
       "\n",
       "    .dataframe tbody tr th {\n",
       "        vertical-align: top;\n",
       "    }\n",
       "\n",
       "    .dataframe thead th {\n",
       "        text-align: right;\n",
       "    }\n",
       "</style>\n",
       "<table border=\"1\" class=\"dataframe\">\n",
       "  <thead>\n",
       "    <tr style=\"text-align: right;\">\n",
       "      <th></th>\n",
       "      <th>RskFctrs</th>\n",
       "      <th>2011</th>\n",
       "      <th>2012</th>\n",
       "      <th>2013</th>\n",
       "      <th>2014</th>\n",
       "      <th>2015</th>\n",
       "      <th>2016</th>\n",
       "      <th>2017</th>\n",
       "      <th>2018</th>\n",
       "      <th>2019</th>\n",
       "    </tr>\n",
       "  </thead>\n",
       "  <tbody>\n",
       "    <tr>\n",
       "      <th>0</th>\n",
       "      <td>0</td>\n",
       "      <td>0.0</td>\n",
       "      <td>0.0</td>\n",
       "      <td>4.000000</td>\n",
       "      <td>5.100000e+01</td>\n",
       "      <td>4.500000e+01</td>\n",
       "      <td>2.600000e+01</td>\n",
       "      <td>2.700000e+01</td>\n",
       "      <td>5.700000e+01</td>\n",
       "      <td>2.0</td>\n",
       "    </tr>\n",
       "    <tr>\n",
       "      <th>1</th>\n",
       "      <td>1</td>\n",
       "      <td>1.0</td>\n",
       "      <td>320.0</td>\n",
       "      <td>46619.523325</td>\n",
       "      <td>5.637824e+05</td>\n",
       "      <td>7.271315e+05</td>\n",
       "      <td>8.938405e+05</td>\n",
       "      <td>6.706488e+05</td>\n",
       "      <td>5.405860e+05</td>\n",
       "      <td>55944.0</td>\n",
       "    </tr>\n",
       "    <tr>\n",
       "      <th>2</th>\n",
       "      <td>2</td>\n",
       "      <td>0.0</td>\n",
       "      <td>359.0</td>\n",
       "      <td>62883.530577</td>\n",
       "      <td>7.306781e+05</td>\n",
       "      <td>9.383769e+05</td>\n",
       "      <td>1.159714e+06</td>\n",
       "      <td>9.879435e+05</td>\n",
       "      <td>8.110462e+05</td>\n",
       "      <td>85517.0</td>\n",
       "    </tr>\n",
       "    <tr>\n",
       "      <th>3</th>\n",
       "      <td>3</td>\n",
       "      <td>0.0</td>\n",
       "      <td>65.0</td>\n",
       "      <td>13338.700310</td>\n",
       "      <td>1.492974e+05</td>\n",
       "      <td>1.934620e+05</td>\n",
       "      <td>2.438923e+05</td>\n",
       "      <td>2.454271e+05</td>\n",
       "      <td>2.166388e+05</td>\n",
       "      <td>23239.0</td>\n",
       "    </tr>\n",
       "    <tr>\n",
       "      <th>4</th>\n",
       "      <td>Total</td>\n",
       "      <td>1.0</td>\n",
       "      <td>744.0</td>\n",
       "      <td>122845.754212</td>\n",
       "      <td>1.443809e+06</td>\n",
       "      <td>1.859015e+06</td>\n",
       "      <td>2.297473e+06</td>\n",
       "      <td>1.904046e+06</td>\n",
       "      <td>1.568328e+06</td>\n",
       "      <td>164702.0</td>\n",
       "    </tr>\n",
       "  </tbody>\n",
       "</table>\n",
       "</div>"
      ],
      "text/plain": [
       "  RskFctrs  2011   2012           2013          2014          2015  \\\n",
       "0        0   0.0    0.0       4.000000  5.100000e+01  4.500000e+01   \n",
       "1        1   1.0  320.0   46619.523325  5.637824e+05  7.271315e+05   \n",
       "2        2   0.0  359.0   62883.530577  7.306781e+05  9.383769e+05   \n",
       "3        3   0.0   65.0   13338.700310  1.492974e+05  1.934620e+05   \n",
       "4    Total   1.0  744.0  122845.754212  1.443809e+06  1.859015e+06   \n",
       "\n",
       "           2016          2017          2018      2019  \n",
       "0  2.600000e+01  2.700000e+01  5.700000e+01       2.0  \n",
       "1  8.938405e+05  6.706488e+05  5.405860e+05   55944.0  \n",
       "2  1.159714e+06  9.879435e+05  8.110462e+05   85517.0  \n",
       "3  2.438923e+05  2.454271e+05  2.166388e+05   23239.0  \n",
       "4  2.297473e+06  1.904046e+06  1.568328e+06  164702.0  "
      ]
     },
     "execution_count": 400,
     "metadata": {},
     "output_type": "execute_result"
    }
   ],
   "source": [
    "total.toPandas()"
   ]
  },
  {
   "cell_type": "markdown",
   "metadata": {},
   "source": [
    "***Loss Rate by Vintage and Risk Factors***"
   ]
  },
  {
   "cell_type": "code",
   "execution_count": 401,
   "metadata": {},
   "outputs": [],
   "source": [
    "df = statistics_data_default.fillna('9999', 'VinYr')"
   ]
  },
  {
   "cell_type": "code",
   "execution_count": 402,
   "metadata": {},
   "outputs": [],
   "source": [
    "vintage_years = [row.VinYr for row in df.select('VinYr').orderBy('VinYr').distinct().collect() if row.VinYr != '9999']"
   ]
  },
  {
   "cell_type": "code",
   "execution_count": 403,
   "metadata": {},
   "outputs": [],
   "source": [
    "for vinyr in vintage_years:\n",
    "    df = df.withColumn(vinyr, F.when(F.col('VinYr') == vinyr, F.col('NET_LOSS')/F.col('ORIG_AMT')).otherwise(F.lit(0)))"
   ]
  },
  {
   "cell_type": "code",
   "execution_count": 404,
   "metadata": {},
   "outputs": [],
   "source": [
    "expr = [F.sum(x).alias(x) for x in vintage_years]"
   ]
  },
  {
   "cell_type": "code",
   "execution_count": 405,
   "metadata": {},
   "outputs": [],
   "source": [
    "df = df.where(F.col('RskFctrs').isNotNull()).orderBy('RskFctrs').groupBy('RskFctrs').agg(*expr)"
   ]
  },
  {
   "cell_type": "code",
   "execution_count": 406,
   "metadata": {},
   "outputs": [],
   "source": [
    "df_total = df.withColumn('Total', F.lit('Total')).groupBy('Total').agg(*expr)"
   ]
  },
  {
   "cell_type": "markdown",
   "metadata": {},
   "source": [
    "AGGREGATE"
   ]
  },
  {
   "cell_type": "code",
   "execution_count": 407,
   "metadata": {},
   "outputs": [],
   "source": [
    "total = df.union(df_total)"
   ]
  },
  {
   "cell_type": "code",
   "execution_count": 408,
   "metadata": {},
   "outputs": [
    {
     "data": {
      "text/html": [
       "<div>\n",
       "<style scoped>\n",
       "    .dataframe tbody tr th:only-of-type {\n",
       "        vertical-align: middle;\n",
       "    }\n",
       "\n",
       "    .dataframe tbody tr th {\n",
       "        vertical-align: top;\n",
       "    }\n",
       "\n",
       "    .dataframe thead th {\n",
       "        text-align: right;\n",
       "    }\n",
       "</style>\n",
       "<table border=\"1\" class=\"dataframe\">\n",
       "  <thead>\n",
       "    <tr style=\"text-align: right;\">\n",
       "      <th></th>\n",
       "      <th>RskFctrs</th>\n",
       "      <th>2011</th>\n",
       "      <th>2012</th>\n",
       "      <th>2013</th>\n",
       "      <th>2014</th>\n",
       "      <th>2015</th>\n",
       "      <th>2016</th>\n",
       "      <th>2017</th>\n",
       "      <th>2018</th>\n",
       "      <th>2019</th>\n",
       "    </tr>\n",
       "  </thead>\n",
       "  <tbody>\n",
       "    <tr>\n",
       "      <th>0</th>\n",
       "      <td>0</td>\n",
       "      <td>0.000000</td>\n",
       "      <td>0.000000</td>\n",
       "      <td>2.454047</td>\n",
       "      <td>4.230188e+01</td>\n",
       "      <td>4.070044e+01</td>\n",
       "      <td>2.361462e+01</td>\n",
       "      <td>2.519089e+01</td>\n",
       "      <td>5.480677e+01</td>\n",
       "      <td>1.951724</td>\n",
       "    </tr>\n",
       "    <tr>\n",
       "      <th>1</th>\n",
       "      <td>1</td>\n",
       "      <td>0.544574</td>\n",
       "      <td>120.821848</td>\n",
       "      <td>39503.408175</td>\n",
       "      <td>4.875147e+05</td>\n",
       "      <td>6.351550e+05</td>\n",
       "      <td>7.979571e+05</td>\n",
       "      <td>6.212034e+05</td>\n",
       "      <td>5.178953e+05</td>\n",
       "      <td>54425.602872</td>\n",
       "    </tr>\n",
       "    <tr>\n",
       "      <th>2</th>\n",
       "      <td>2</td>\n",
       "      <td>0.000000</td>\n",
       "      <td>141.863361</td>\n",
       "      <td>52980.044569</td>\n",
       "      <td>6.301899e+05</td>\n",
       "      <td>8.231619e+05</td>\n",
       "      <td>1.042015e+06</td>\n",
       "      <td>9.214830e+05</td>\n",
       "      <td>7.820985e+05</td>\n",
       "      <td>83563.844903</td>\n",
       "    </tr>\n",
       "    <tr>\n",
       "      <th>3</th>\n",
       "      <td>3</td>\n",
       "      <td>0.000000</td>\n",
       "      <td>25.812614</td>\n",
       "      <td>11155.434503</td>\n",
       "      <td>1.286252e+05</td>\n",
       "      <td>1.707326e+05</td>\n",
       "      <td>2.212083e+05</td>\n",
       "      <td>2.300577e+05</td>\n",
       "      <td>2.095820e+05</td>\n",
       "      <td>22735.126512</td>\n",
       "    </tr>\n",
       "    <tr>\n",
       "      <th>4</th>\n",
       "      <td>Total</td>\n",
       "      <td>0.544574</td>\n",
       "      <td>288.497824</td>\n",
       "      <td>103641.341294</td>\n",
       "      <td>1.246372e+06</td>\n",
       "      <td>1.629090e+06</td>\n",
       "      <td>2.061204e+06</td>\n",
       "      <td>1.772769e+06</td>\n",
       "      <td>1.509631e+06</td>\n",
       "      <td>160726.526012</td>\n",
       "    </tr>\n",
       "  </tbody>\n",
       "</table>\n",
       "</div>"
      ],
      "text/plain": [
       "  RskFctrs      2011        2012           2013          2014          2015  \\\n",
       "0        0  0.000000    0.000000       2.454047  4.230188e+01  4.070044e+01   \n",
       "1        1  0.544574  120.821848   39503.408175  4.875147e+05  6.351550e+05   \n",
       "2        2  0.000000  141.863361   52980.044569  6.301899e+05  8.231619e+05   \n",
       "3        3  0.000000   25.812614   11155.434503  1.286252e+05  1.707326e+05   \n",
       "4    Total  0.544574  288.497824  103641.341294  1.246372e+06  1.629090e+06   \n",
       "\n",
       "           2016          2017          2018           2019  \n",
       "0  2.361462e+01  2.519089e+01  5.480677e+01       1.951724  \n",
       "1  7.979571e+05  6.212034e+05  5.178953e+05   54425.602872  \n",
       "2  1.042015e+06  9.214830e+05  7.820985e+05   83563.844903  \n",
       "3  2.212083e+05  2.300577e+05  2.095820e+05   22735.126512  \n",
       "4  2.061204e+06  1.772769e+06  1.509631e+06  160726.526012  "
      ]
     },
     "execution_count": 408,
     "metadata": {},
     "output_type": "execute_result"
    }
   ],
   "source": [
    "total.toPandas()"
   ]
  },
  {
   "cell_type": "markdown",
   "metadata": {},
   "source": [
    "***Default Rate by LTV and FICO***"
   ]
  },
  {
   "cell_type": "code",
   "execution_count": 409,
   "metadata": {},
   "outputs": [],
   "source": [
    "df = statistics_data_default.fillna('9999', 'VinYr')"
   ]
  },
  {
   "cell_type": "code",
   "execution_count": 410,
   "metadata": {},
   "outputs": [],
   "source": [
    "fico = [row.FicoBkt for row in df.select('FicoBkt').orderBy('FicoBkt').distinct().collect()]"
   ]
  },
  {
   "cell_type": "code",
   "execution_count": 411,
   "metadata": {},
   "outputs": [],
   "source": [
    "for fic in fico:\n",
    "    df = df.withColumn(fic, F.when(F.col('FicoBkt') == fic, F.col('LAST_UPB')/F.col('ORIG_AMT')).otherwise(F.lit(0)))"
   ]
  },
  {
   "cell_type": "code",
   "execution_count": 412,
   "metadata": {},
   "outputs": [],
   "source": [
    "expr = [F.sum(x).alias(x) for x in fico]"
   ]
  },
  {
   "cell_type": "code",
   "execution_count": 413,
   "metadata": {},
   "outputs": [],
   "source": [
    "df = df.where(F.col('OcltvBkt').isNotNull()).orderBy('OcltvBkt').groupBy('OcltvBkt').agg(*expr)"
   ]
  },
  {
   "cell_type": "code",
   "execution_count": 414,
   "metadata": {},
   "outputs": [],
   "source": [
    "df_total = df.withColumn('Total', F.lit('Total')).groupBy('Total').agg(*expr)"
   ]
  },
  {
   "cell_type": "markdown",
   "metadata": {},
   "source": [
    "AGGREGATE"
   ]
  },
  {
   "cell_type": "code",
   "execution_count": 415,
   "metadata": {},
   "outputs": [],
   "source": [
    "total = df.union(df_total)"
   ]
  },
  {
   "cell_type": "code",
   "execution_count": 416,
   "metadata": {},
   "outputs": [
    {
     "data": {
      "text/html": [
       "<div>\n",
       "<style scoped>\n",
       "    .dataframe tbody tr th:only-of-type {\n",
       "        vertical-align: middle;\n",
       "    }\n",
       "\n",
       "    .dataframe tbody tr th {\n",
       "        vertical-align: top;\n",
       "    }\n",
       "\n",
       "    .dataframe thead th {\n",
       "        text-align: right;\n",
       "    }\n",
       "</style>\n",
       "<table border=\"1\" class=\"dataframe\">\n",
       "  <thead>\n",
       "    <tr style=\"text-align: right;\">\n",
       "      <th></th>\n",
       "      <th>OcltvBkt</th>\n",
       "      <th>0-620</th>\n",
       "      <th>620-660</th>\n",
       "      <th>660-700</th>\n",
       "      <th>700-740</th>\n",
       "      <th>740-780</th>\n",
       "      <th>780&gt;</th>\n",
       "    </tr>\n",
       "  </thead>\n",
       "  <tbody>\n",
       "    <tr>\n",
       "      <th>0</th>\n",
       "      <td>0-60</td>\n",
       "      <td>1874.090493</td>\n",
       "      <td>101025.436561</td>\n",
       "      <td>1.793207e+05</td>\n",
       "      <td>2.506461e+05</td>\n",
       "      <td>3.861938e+05</td>\n",
       "      <td>6.183887e+05</td>\n",
       "    </tr>\n",
       "    <tr>\n",
       "      <th>1</th>\n",
       "      <td>60-65</td>\n",
       "      <td>515.390377</td>\n",
       "      <td>27277.705269</td>\n",
       "      <td>5.265384e+04</td>\n",
       "      <td>7.272945e+04</td>\n",
       "      <td>1.086562e+05</td>\n",
       "      <td>1.318750e+05</td>\n",
       "    </tr>\n",
       "    <tr>\n",
       "      <th>2</th>\n",
       "      <td>65-70</td>\n",
       "      <td>930.068550</td>\n",
       "      <td>54761.184112</td>\n",
       "      <td>9.851298e+04</td>\n",
       "      <td>1.261815e+05</td>\n",
       "      <td>1.679663e+05</td>\n",
       "      <td>1.849193e+05</td>\n",
       "    </tr>\n",
       "    <tr>\n",
       "      <th>3</th>\n",
       "      <td>70-75</td>\n",
       "      <td>994.806715</td>\n",
       "      <td>59175.290119</td>\n",
       "      <td>1.328713e+05</td>\n",
       "      <td>1.963826e+05</td>\n",
       "      <td>3.003632e+05</td>\n",
       "      <td>3.086316e+05</td>\n",
       "    </tr>\n",
       "    <tr>\n",
       "      <th>4</th>\n",
       "      <td>75-80</td>\n",
       "      <td>2027.812032</td>\n",
       "      <td>128474.537026</td>\n",
       "      <td>3.098062e+05</td>\n",
       "      <td>4.908242e+05</td>\n",
       "      <td>6.576578e+05</td>\n",
       "      <td>6.700893e+05</td>\n",
       "    </tr>\n",
       "    <tr>\n",
       "      <th>5</th>\n",
       "      <td>80-85</td>\n",
       "      <td>221.057809</td>\n",
       "      <td>14168.911318</td>\n",
       "      <td>4.250418e+04</td>\n",
       "      <td>7.745589e+04</td>\n",
       "      <td>1.011677e+05</td>\n",
       "      <td>7.528076e+04</td>\n",
       "    </tr>\n",
       "    <tr>\n",
       "      <th>6</th>\n",
       "      <td>85-90</td>\n",
       "      <td>422.237780</td>\n",
       "      <td>30147.885757</td>\n",
       "      <td>9.744642e+04</td>\n",
       "      <td>1.825896e+05</td>\n",
       "      <td>2.471259e+05</td>\n",
       "      <td>1.943359e+05</td>\n",
       "    </tr>\n",
       "    <tr>\n",
       "      <th>7</th>\n",
       "      <td>90-97</td>\n",
       "      <td>876.435134</td>\n",
       "      <td>66802.792458</td>\n",
       "      <td>2.257682e+05</td>\n",
       "      <td>4.090836e+05</td>\n",
       "      <td>4.877148e+05</td>\n",
       "      <td>2.932338e+05</td>\n",
       "    </tr>\n",
       "    <tr>\n",
       "      <th>8</th>\n",
       "      <td>97+</td>\n",
       "      <td>78.507137</td>\n",
       "      <td>11384.020126</td>\n",
       "      <td>2.949968e+04</td>\n",
       "      <td>3.721087e+04</td>\n",
       "      <td>2.764248e+04</td>\n",
       "      <td>1.116111e+04</td>\n",
       "    </tr>\n",
       "    <tr>\n",
       "      <th>9</th>\n",
       "      <td>Total</td>\n",
       "      <td>7940.406027</td>\n",
       "      <td>493217.762747</td>\n",
       "      <td>1.168384e+06</td>\n",
       "      <td>1.843104e+06</td>\n",
       "      <td>2.484488e+06</td>\n",
       "      <td>2.487915e+06</td>\n",
       "    </tr>\n",
       "  </tbody>\n",
       "</table>\n",
       "</div>"
      ],
      "text/plain": [
       "  OcltvBkt        0-620        620-660       660-700       700-740  \\\n",
       "0     0-60  1874.090493  101025.436561  1.793207e+05  2.506461e+05   \n",
       "1    60-65   515.390377   27277.705269  5.265384e+04  7.272945e+04   \n",
       "2    65-70   930.068550   54761.184112  9.851298e+04  1.261815e+05   \n",
       "3    70-75   994.806715   59175.290119  1.328713e+05  1.963826e+05   \n",
       "4    75-80  2027.812032  128474.537026  3.098062e+05  4.908242e+05   \n",
       "5    80-85   221.057809   14168.911318  4.250418e+04  7.745589e+04   \n",
       "6    85-90   422.237780   30147.885757  9.744642e+04  1.825896e+05   \n",
       "7    90-97   876.435134   66802.792458  2.257682e+05  4.090836e+05   \n",
       "8      97+    78.507137   11384.020126  2.949968e+04  3.721087e+04   \n",
       "9    Total  7940.406027  493217.762747  1.168384e+06  1.843104e+06   \n",
       "\n",
       "        740-780          780>  \n",
       "0  3.861938e+05  6.183887e+05  \n",
       "1  1.086562e+05  1.318750e+05  \n",
       "2  1.679663e+05  1.849193e+05  \n",
       "3  3.003632e+05  3.086316e+05  \n",
       "4  6.576578e+05  6.700893e+05  \n",
       "5  1.011677e+05  7.528076e+04  \n",
       "6  2.471259e+05  1.943359e+05  \n",
       "7  4.877148e+05  2.932338e+05  \n",
       "8  2.764248e+04  1.116111e+04  \n",
       "9  2.484488e+06  2.487915e+06  "
      ]
     },
     "execution_count": 416,
     "metadata": {},
     "output_type": "execute_result"
    }
   ],
   "source": [
    "total.toPandas()"
   ]
  },
  {
   "cell_type": "markdown",
   "metadata": {},
   "source": [
    "***Severity Rate by LTV and FICO***"
   ]
  },
  {
   "cell_type": "code",
   "execution_count": 417,
   "metadata": {},
   "outputs": [],
   "source": [
    "df = statistics_data_default.fillna('9999', 'VinYr')"
   ]
  },
  {
   "cell_type": "code",
   "execution_count": 418,
   "metadata": {},
   "outputs": [],
   "source": [
    "fico = [row.FicoBkt for row in df.select('FicoBkt').orderBy('FicoBkt').distinct().collect()]"
   ]
  },
  {
   "cell_type": "code",
   "execution_count": 419,
   "metadata": {},
   "outputs": [],
   "source": [
    "for fic in fico:\n",
    "    df = df.withColumn(fic, F.when(F.col('FicoBkt') == fic, F.col('NET_LOSS')/F.col('LAST_UPB')).otherwise(F.lit(0)))"
   ]
  },
  {
   "cell_type": "code",
   "execution_count": 420,
   "metadata": {},
   "outputs": [],
   "source": [
    "expr = [F.sum(x).alias(x) for x in fico]"
   ]
  },
  {
   "cell_type": "code",
   "execution_count": 421,
   "metadata": {},
   "outputs": [],
   "source": [
    "df = df.where(F.col('OcltvBkt').isNotNull()).orderBy('OcltvBkt').groupBy('OcltvBkt').agg(*expr)"
   ]
  },
  {
   "cell_type": "code",
   "execution_count": 422,
   "metadata": {},
   "outputs": [],
   "source": [
    "df_total = df.withColumn('Total', F.lit('Total')).groupBy('Total').agg(*expr)"
   ]
  },
  {
   "cell_type": "markdown",
   "metadata": {},
   "source": [
    "AGGREGATE"
   ]
  },
  {
   "cell_type": "code",
   "execution_count": 423,
   "metadata": {},
   "outputs": [],
   "source": [
    "total = df.union(df_total)"
   ]
  },
  {
   "cell_type": "code",
   "execution_count": 424,
   "metadata": {},
   "outputs": [
    {
     "data": {
      "text/html": [
       "<div>\n",
       "<style scoped>\n",
       "    .dataframe tbody tr th:only-of-type {\n",
       "        vertical-align: middle;\n",
       "    }\n",
       "\n",
       "    .dataframe tbody tr th {\n",
       "        vertical-align: top;\n",
       "    }\n",
       "\n",
       "    .dataframe thead th {\n",
       "        text-align: right;\n",
       "    }\n",
       "</style>\n",
       "<table border=\"1\" class=\"dataframe\">\n",
       "  <thead>\n",
       "    <tr style=\"text-align: right;\">\n",
       "      <th></th>\n",
       "      <th>OcltvBkt</th>\n",
       "      <th>0-620</th>\n",
       "      <th>620-660</th>\n",
       "      <th>660-700</th>\n",
       "      <th>700-740</th>\n",
       "      <th>740-780</th>\n",
       "      <th>780&gt;</th>\n",
       "    </tr>\n",
       "  </thead>\n",
       "  <tbody>\n",
       "    <tr>\n",
       "      <th>0</th>\n",
       "      <td>0-60</td>\n",
       "      <td>2033.969829</td>\n",
       "      <td>110524.846254</td>\n",
       "      <td>1.995848e+05</td>\n",
       "      <td>2.834590e+05</td>\n",
       "      <td>4.454432e+05</td>\n",
       "      <td>7.347889e+05</td>\n",
       "    </tr>\n",
       "    <tr>\n",
       "      <th>1</th>\n",
       "      <td>60-65</td>\n",
       "      <td>560.000000</td>\n",
       "      <td>29674.361225</td>\n",
       "      <td>5.790528e+04</td>\n",
       "      <td>8.092488e+04</td>\n",
       "      <td>1.224529e+05</td>\n",
       "      <td>1.524564e+05</td>\n",
       "    </tr>\n",
       "    <tr>\n",
       "      <th>2</th>\n",
       "      <td>65-70</td>\n",
       "      <td>993.000000</td>\n",
       "      <td>58752.613649</td>\n",
       "      <td>1.067446e+05</td>\n",
       "      <td>1.385854e+05</td>\n",
       "      <td>1.871661e+05</td>\n",
       "      <td>2.113293e+05</td>\n",
       "    </tr>\n",
       "    <tr>\n",
       "      <th>3</th>\n",
       "      <td>70-75</td>\n",
       "      <td>1077.000000</td>\n",
       "      <td>63969.048510</td>\n",
       "      <td>1.441599e+05</td>\n",
       "      <td>2.146324e+05</td>\n",
       "      <td>3.315929e+05</td>\n",
       "      <td>3.481634e+05</td>\n",
       "    </tr>\n",
       "    <tr>\n",
       "      <th>4</th>\n",
       "      <td>75-80</td>\n",
       "      <td>2175.011825</td>\n",
       "      <td>138093.018570</td>\n",
       "      <td>3.347664e+05</td>\n",
       "      <td>5.333588e+05</td>\n",
       "      <td>7.219218e+05</td>\n",
       "      <td>7.527852e+05</td>\n",
       "    </tr>\n",
       "    <tr>\n",
       "      <th>5</th>\n",
       "      <td>80-85</td>\n",
       "      <td>235.928229</td>\n",
       "      <td>15241.107386</td>\n",
       "      <td>4.565774e+04</td>\n",
       "      <td>8.331177e+04</td>\n",
       "      <td>1.094737e+05</td>\n",
       "      <td>8.252188e+04</td>\n",
       "    </tr>\n",
       "    <tr>\n",
       "      <th>6</th>\n",
       "      <td>85-90</td>\n",
       "      <td>451.000000</td>\n",
       "      <td>32181.617895</td>\n",
       "      <td>1.041414e+05</td>\n",
       "      <td>1.954619e+05</td>\n",
       "      <td>2.660667e+05</td>\n",
       "      <td>2.127172e+05</td>\n",
       "    </tr>\n",
       "    <tr>\n",
       "      <th>7</th>\n",
       "      <td>90-97</td>\n",
       "      <td>928.000000</td>\n",
       "      <td>70370.062877</td>\n",
       "      <td>2.386978e+05</td>\n",
       "      <td>4.336031e+05</td>\n",
       "      <td>5.199497e+05</td>\n",
       "      <td>3.176845e+05</td>\n",
       "    </tr>\n",
       "    <tr>\n",
       "      <th>8</th>\n",
       "      <td>97+</td>\n",
       "      <td>84.000000</td>\n",
       "      <td>11824.596041</td>\n",
       "      <td>3.074615e+04</td>\n",
       "      <td>3.884393e+04</td>\n",
       "      <td>2.894700e+04</td>\n",
       "      <td>1.174907e+04</td>\n",
       "    </tr>\n",
       "    <tr>\n",
       "      <th>9</th>\n",
       "      <td>Total</td>\n",
       "      <td>8537.909883</td>\n",
       "      <td>530631.272407</td>\n",
       "      <td>1.262404e+06</td>\n",
       "      <td>2.002181e+06</td>\n",
       "      <td>2.733014e+06</td>\n",
       "      <td>2.824196e+06</td>\n",
       "    </tr>\n",
       "  </tbody>\n",
       "</table>\n",
       "</div>"
      ],
      "text/plain": [
       "  OcltvBkt        0-620        620-660       660-700       700-740  \\\n",
       "0     0-60  2033.969829  110524.846254  1.995848e+05  2.834590e+05   \n",
       "1    60-65   560.000000   29674.361225  5.790528e+04  8.092488e+04   \n",
       "2    65-70   993.000000   58752.613649  1.067446e+05  1.385854e+05   \n",
       "3    70-75  1077.000000   63969.048510  1.441599e+05  2.146324e+05   \n",
       "4    75-80  2175.011825  138093.018570  3.347664e+05  5.333588e+05   \n",
       "5    80-85   235.928229   15241.107386  4.565774e+04  8.331177e+04   \n",
       "6    85-90   451.000000   32181.617895  1.041414e+05  1.954619e+05   \n",
       "7    90-97   928.000000   70370.062877  2.386978e+05  4.336031e+05   \n",
       "8      97+    84.000000   11824.596041  3.074615e+04  3.884393e+04   \n",
       "9    Total  8537.909883  530631.272407  1.262404e+06  2.002181e+06   \n",
       "\n",
       "        740-780          780>  \n",
       "0  4.454432e+05  7.347889e+05  \n",
       "1  1.224529e+05  1.524564e+05  \n",
       "2  1.871661e+05  2.113293e+05  \n",
       "3  3.315929e+05  3.481634e+05  \n",
       "4  7.219218e+05  7.527852e+05  \n",
       "5  1.094737e+05  8.252188e+04  \n",
       "6  2.660667e+05  2.127172e+05  \n",
       "7  5.199497e+05  3.176845e+05  \n",
       "8  2.894700e+04  1.174907e+04  \n",
       "9  2.733014e+06  2.824196e+06  "
      ]
     },
     "execution_count": 424,
     "metadata": {},
     "output_type": "execute_result"
    }
   ],
   "source": [
    "total.toPandas()"
   ]
  },
  {
   "cell_type": "markdown",
   "metadata": {},
   "source": [
    "***Loss Rate by LTV and FICO***"
   ]
  },
  {
   "cell_type": "code",
   "execution_count": 425,
   "metadata": {},
   "outputs": [],
   "source": [
    "df = statistics_data_default.fillna('9999', 'VinYr')"
   ]
  },
  {
   "cell_type": "code",
   "execution_count": 426,
   "metadata": {},
   "outputs": [],
   "source": [
    "fico = [row.FicoBkt for row in df.select('FicoBkt').orderBy('FicoBkt').distinct().collect()]"
   ]
  },
  {
   "cell_type": "code",
   "execution_count": 427,
   "metadata": {},
   "outputs": [],
   "source": [
    "for fic in fico:\n",
    "    df = df.withColumn(fic, F.when(F.col('FicoBkt') == fic, F.col('NET_LOSS')/F.col('ORIG_AMT')).otherwise(F.lit(0)))"
   ]
  },
  {
   "cell_type": "code",
   "execution_count": 428,
   "metadata": {},
   "outputs": [],
   "source": [
    "expr = [F.sum(x).alias(x) for x in fico]"
   ]
  },
  {
   "cell_type": "code",
   "execution_count": 429,
   "metadata": {},
   "outputs": [],
   "source": [
    "df = df.where(F.col('OcltvBkt').isNotNull()).orderBy('OcltvBkt').groupBy('OcltvBkt').agg(*expr)"
   ]
  },
  {
   "cell_type": "code",
   "execution_count": 430,
   "metadata": {},
   "outputs": [],
   "source": [
    "df_total = df.withColumn('Total', F.lit('Total')).groupBy('Total').agg(*expr)"
   ]
  },
  {
   "cell_type": "markdown",
   "metadata": {},
   "source": [
    "AGGREGATE"
   ]
  },
  {
   "cell_type": "code",
   "execution_count": 431,
   "metadata": {},
   "outputs": [],
   "source": [
    "total = df.union(df_total)"
   ]
  },
  {
   "cell_type": "code",
   "execution_count": 432,
   "metadata": {},
   "outputs": [
    {
     "data": {
      "text/html": [
       "<div>\n",
       "<style scoped>\n",
       "    .dataframe tbody tr th:only-of-type {\n",
       "        vertical-align: middle;\n",
       "    }\n",
       "\n",
       "    .dataframe tbody tr th {\n",
       "        vertical-align: top;\n",
       "    }\n",
       "\n",
       "    .dataframe thead th {\n",
       "        text-align: right;\n",
       "    }\n",
       "</style>\n",
       "<table border=\"1\" class=\"dataframe\">\n",
       "  <thead>\n",
       "    <tr style=\"text-align: right;\">\n",
       "      <th></th>\n",
       "      <th>OcltvBkt</th>\n",
       "      <th>0-620</th>\n",
       "      <th>620-660</th>\n",
       "      <th>660-700</th>\n",
       "      <th>700-740</th>\n",
       "      <th>740-780</th>\n",
       "      <th>780&gt;</th>\n",
       "    </tr>\n",
       "  </thead>\n",
       "  <tbody>\n",
       "    <tr>\n",
       "      <th>0</th>\n",
       "      <td>0-60</td>\n",
       "      <td>1871.141187</td>\n",
       "      <td>101001.134673</td>\n",
       "      <td>1.792879e+05</td>\n",
       "      <td>2.506320e+05</td>\n",
       "      <td>3.861845e+05</td>\n",
       "      <td>6.183742e+05</td>\n",
       "    </tr>\n",
       "    <tr>\n",
       "      <th>1</th>\n",
       "      <td>60-65</td>\n",
       "      <td>515.390377</td>\n",
       "      <td>27269.443821</td>\n",
       "      <td>5.264644e+04</td>\n",
       "      <td>7.272468e+04</td>\n",
       "      <td>1.086516e+05</td>\n",
       "      <td>1.318732e+05</td>\n",
       "    </tr>\n",
       "    <tr>\n",
       "      <th>2</th>\n",
       "      <td>65-70</td>\n",
       "      <td>930.068550</td>\n",
       "      <td>54742.329184</td>\n",
       "      <td>9.849164e+04</td>\n",
       "      <td>1.261707e+05</td>\n",
       "      <td>1.679583e+05</td>\n",
       "      <td>1.849110e+05</td>\n",
       "    </tr>\n",
       "    <tr>\n",
       "      <th>3</th>\n",
       "      <td>70-75</td>\n",
       "      <td>994.806715</td>\n",
       "      <td>59152.298959</td>\n",
       "      <td>1.328336e+05</td>\n",
       "      <td>1.963602e+05</td>\n",
       "      <td>3.003504e+05</td>\n",
       "      <td>3.086164e+05</td>\n",
       "    </tr>\n",
       "    <tr>\n",
       "      <th>4</th>\n",
       "      <td>75-80</td>\n",
       "      <td>2025.875741</td>\n",
       "      <td>128414.553676</td>\n",
       "      <td>3.097007e+05</td>\n",
       "      <td>4.907558e+05</td>\n",
       "      <td>6.576075e+05</td>\n",
       "      <td>6.700571e+05</td>\n",
       "    </tr>\n",
       "    <tr>\n",
       "      <th>5</th>\n",
       "      <td>80-85</td>\n",
       "      <td>220.006153</td>\n",
       "      <td>14157.309046</td>\n",
       "      <td>4.248924e+04</td>\n",
       "      <td>7.743592e+04</td>\n",
       "      <td>1.011606e+05</td>\n",
       "      <td>7.527578e+04</td>\n",
       "    </tr>\n",
       "    <tr>\n",
       "      <th>6</th>\n",
       "      <td>85-90</td>\n",
       "      <td>422.237780</td>\n",
       "      <td>30126.323698</td>\n",
       "      <td>9.740718e+04</td>\n",
       "      <td>1.825589e+05</td>\n",
       "      <td>2.471064e+05</td>\n",
       "      <td>1.943098e+05</td>\n",
       "    </tr>\n",
       "    <tr>\n",
       "      <th>7</th>\n",
       "      <td>90-97</td>\n",
       "      <td>876.435134</td>\n",
       "      <td>66754.137212</td>\n",
       "      <td>2.256334e+05</td>\n",
       "      <td>4.089647e+05</td>\n",
       "      <td>4.876156e+05</td>\n",
       "      <td>2.931790e+05</td>\n",
       "    </tr>\n",
       "    <tr>\n",
       "      <th>8</th>\n",
       "      <td>97+</td>\n",
       "      <td>78.507137</td>\n",
       "      <td>11377.719579</td>\n",
       "      <td>2.948418e+04</td>\n",
       "      <td>3.719715e+04</td>\n",
       "      <td>2.762788e+04</td>\n",
       "      <td>1.116022e+04</td>\n",
       "    </tr>\n",
       "    <tr>\n",
       "      <th>9</th>\n",
       "      <td>Total</td>\n",
       "      <td>7934.468774</td>\n",
       "      <td>492995.249849</td>\n",
       "      <td>1.167974e+06</td>\n",
       "      <td>1.842800e+06</td>\n",
       "      <td>2.484263e+06</td>\n",
       "      <td>2.487757e+06</td>\n",
       "    </tr>\n",
       "  </tbody>\n",
       "</table>\n",
       "</div>"
      ],
      "text/plain": [
       "  OcltvBkt        0-620        620-660       660-700       700-740  \\\n",
       "0     0-60  1871.141187  101001.134673  1.792879e+05  2.506320e+05   \n",
       "1    60-65   515.390377   27269.443821  5.264644e+04  7.272468e+04   \n",
       "2    65-70   930.068550   54742.329184  9.849164e+04  1.261707e+05   \n",
       "3    70-75   994.806715   59152.298959  1.328336e+05  1.963602e+05   \n",
       "4    75-80  2025.875741  128414.553676  3.097007e+05  4.907558e+05   \n",
       "5    80-85   220.006153   14157.309046  4.248924e+04  7.743592e+04   \n",
       "6    85-90   422.237780   30126.323698  9.740718e+04  1.825589e+05   \n",
       "7    90-97   876.435134   66754.137212  2.256334e+05  4.089647e+05   \n",
       "8      97+    78.507137   11377.719579  2.948418e+04  3.719715e+04   \n",
       "9    Total  7934.468774  492995.249849  1.167974e+06  1.842800e+06   \n",
       "\n",
       "        740-780          780>  \n",
       "0  3.861845e+05  6.183742e+05  \n",
       "1  1.086516e+05  1.318732e+05  \n",
       "2  1.679583e+05  1.849110e+05  \n",
       "3  3.003504e+05  3.086164e+05  \n",
       "4  6.576075e+05  6.700571e+05  \n",
       "5  1.011606e+05  7.527578e+04  \n",
       "6  2.471064e+05  1.943098e+05  \n",
       "7  4.876156e+05  2.931790e+05  \n",
       "8  2.762788e+04  1.116022e+04  \n",
       "9  2.484263e+06  2.487757e+06  "
      ]
     },
     "execution_count": 432,
     "metadata": {},
     "output_type": "execute_result"
    }
   ],
   "source": [
    "total.toPandas()"
   ]
  }
 ],
 "metadata": {
  "kernelspec": {
   "display_name": "d1-spark2python3",
   "language": "python",
   "name": "spark-python-d1-spark2python3"
  },
  "language_info": {
   "codemirror_mode": {
    "name": "ipython",
    "version": 3
   },
   "file_extension": ".py",
   "mimetype": "text/x-python",
   "name": "python",
   "nbconvert_exporter": "python",
   "pygments_lexer": "ipython3",
   "version": "3.5.2"
  }
 },
 "nbformat": 4,
 "nbformat_minor": 4
}
