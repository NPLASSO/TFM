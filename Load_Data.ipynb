{
 "cells": [
  {
   "cell_type": "markdown",
   "metadata": {},
   "source": [
    "# 1. Imports"
   ]
  },
  {
   "cell_type": "code",
   "execution_count": 11,
   "metadata": {},
   "outputs": [],
   "source": [
    "# Import SparkSession from pyspark.sql\n",
    "from pyspark.sql import SparkSession\n",
    "\n",
    "# Create a Session\n",
    "spark = SparkSession.builder.appName('LoadDataSFApp').master('spark://172.31.19.209:7077').getOrCreate()"
   ]
  },
  {
   "cell_type": "code",
   "execution_count": 12,
   "metadata": {},
   "outputs": [],
   "source": [
    "from pyspark.sql.types import *\n",
    "from pyspark.sql import Row, DataFrame, functions as F\n",
    "from datetime import datetime, date, timedelta"
   ]
  },
  {
   "cell_type": "markdown",
   "metadata": {},
   "source": [
    "***With the next lines of code every time we perform an action with a show function, it doesnt matter how big is the dataframe or how many columns does it have, it will print the table like a pandas table without the need of conversion and the posibility of running out of memory.***"
   ]
  },
  {
   "cell_type": "code",
   "execution_count": 13,
   "metadata": {},
   "outputs": [
    {
     "data": {
      "text/html": [
       "<style>pre { white-space: pre !important; }</style>"
      ],
      "text/plain": [
       "<IPython.core.display.HTML object>"
      ]
     },
     "metadata": {},
     "output_type": "display_data"
    }
   ],
   "source": [
    "from IPython.core.display import HTML\n",
    "display(HTML(\"<style>pre { white-space: pre !important; }</style>\"))"
   ]
  },
  {
   "cell_type": "markdown",
   "metadata": {},
   "source": [
    "# 2. Variables"
   ]
  },
  {
   "cell_type": "markdown",
   "metadata": {},
   "source": [
    "***Dataset Path***"
   ]
  },
  {
   "cell_type": "code",
   "execution_count": 14,
   "metadata": {},
   "outputs": [],
   "source": [
    "acquisitions_path = 'hdfs://hdfs:9000/tfm/Dataset/SingleFamily/SingleFamilyFixedRateMortgage/Acquisition/'\n",
    "performance_path = 'hdfs://hdfs:9000/tfm/Dataset/SingleFamily/SingleFamilyFixedRateMortgage/Performance/'"
   ]
  },
  {
   "cell_type": "markdown",
   "metadata": {},
   "source": [
    "***Dataframe Path***"
   ]
  },
  {
   "cell_type": "code",
   "execution_count": 15,
   "metadata": {},
   "outputs": [],
   "source": [
    "df_acquisitions = 'hdfs://hdfs:9000/tfm/Dataframes/SingleFamily/SingleFamilyFixedRateMortgage/Acquisition/'\n",
    "df_performance = 'hdfs://hdfs:9000/tfm/Dataframes/SingleFamily/SingleFamilyFixedRateMortgage/Performance/'"
   ]
  },
  {
   "cell_type": "markdown",
   "metadata": {},
   "source": [
    "# 3. Manage Data"
   ]
  },
  {
   "cell_type": "markdown",
   "metadata": {},
   "source": [
    "## 3.1. Acquisitions File"
   ]
  },
  {
   "cell_type": "markdown",
   "metadata": {},
   "source": [
    "## 3.1.1. Read Data"
   ]
  },
  {
   "cell_type": "code",
   "execution_count": 18,
   "metadata": {},
   "outputs": [],
   "source": [
    "URI           = sc._gateway.jvm.java.net.URI\n",
    "Path          = sc._gateway.jvm.org.apache.hadoop.fs.Path\n",
    "FileSystem    = sc._gateway.jvm.org.apache.hadoop.fs.FileSystem\n",
    "Configuration = sc._gateway.jvm.org.apache.hadoop.conf.Configuration"
   ]
  },
  {
   "cell_type": "code",
   "execution_count": 19,
   "metadata": {},
   "outputs": [],
   "source": [
    "fs = FileSystem.get(URI(\"hdfs://hdfs:9000\"), Configuration())"
   ]
  },
  {
   "cell_type": "code",
   "execution_count": 20,
   "metadata": {},
   "outputs": [],
   "source": [
    "status = fs.listStatus(Path(acquisitions_path))\n",
    "\n",
    "for fileStatus in status:\n",
    "    print(fileStatus.getPath())"
   ]
  },
  {
   "cell_type": "code",
   "execution_count": 21,
   "metadata": {},
   "outputs": [],
   "source": [
    "status = fs.listStatus(Path(performance_path))\n",
    "\n",
    "for fileStatus in status:\n",
    "    print(fileStatus.getPath())"
   ]
  },
  {
   "cell_type": "code",
   "execution_count": 23,
   "metadata": {},
   "outputs": [],
   "source": [
    "status = fs.listStatus(Path(performance_path))\n",
    "\n",
    "for fileStatus in status:\n",
    "    print(fileStatus.getPath())"
   ]
  },
  {
   "cell_type": "code",
   "execution_count": 25,
   "metadata": {
    "scrolled": true
   },
   "outputs": [],
   "source": [
    "acquisitions = spark.read.format('csv')\\\n",
    "                    .option('delimiter', '|')\\\n",
    "                    .option(\"header\",\"false\")\\\n",
    "                    .option(\"inferSchema\",\"true\")\\\n",
    "                    .load(acquisitions_path)"
   ]
  },
  {
   "cell_type": "code",
   "execution_count": 26,
   "metadata": {},
   "outputs": [
    {
     "name": "stdout",
     "output_type": "stream",
     "text": [
      "root\n",
      " |-- _c0: long (nullable = true)\n",
      " |-- _c1: string (nullable = true)\n",
      " |-- _c2: string (nullable = true)\n",
      " |-- _c3: double (nullable = true)\n",
      " |-- _c4: integer (nullable = true)\n",
      " |-- _c5: integer (nullable = true)\n",
      " |-- _c6: string (nullable = true)\n",
      " |-- _c7: string (nullable = true)\n",
      " |-- _c8: integer (nullable = true)\n",
      " |-- _c9: integer (nullable = true)\n",
      " |-- _c10: integer (nullable = true)\n",
      " |-- _c11: integer (nullable = true)\n",
      " |-- _c12: integer (nullable = true)\n",
      " |-- _c13: string (nullable = true)\n",
      " |-- _c14: string (nullable = true)\n",
      " |-- _c15: string (nullable = true)\n",
      " |-- _c16: integer (nullable = true)\n",
      " |-- _c17: string (nullable = true)\n",
      " |-- _c18: string (nullable = true)\n",
      " |-- _c19: integer (nullable = true)\n",
      " |-- _c20: integer (nullable = true)\n",
      " |-- _c21: string (nullable = true)\n",
      " |-- _c22: integer (nullable = true)\n",
      " |-- _c23: integer (nullable = true)\n",
      " |-- _c24: string (nullable = true)\n",
      "\n"
     ]
    }
   ],
   "source": [
    "acquisitions.printSchema()"
   ]
  },
  {
   "cell_type": "code",
   "execution_count": 27,
   "metadata": {},
   "outputs": [],
   "source": [
    "new_columns = [\"LOAN_ID\", \"ORIG_CHN\", \"Seller_Name\", \"ORIG_RT\", \"ORIG_AMT\", \"ORIG_TRM\", \"ORIG_DTE\"\n",
    "                           ,\"FRST_DTE\", \"OLTV\", \"OCLTV\", \"NUM_BO\", \"DTI\", \"CSCORE_B\", \"FTHB_FLG\", \"PURPOSE\", \"PROP_TYP\"\n",
    "                           ,\"NUM_UNIT\", \"OCC_STAT\", \"STATE\", \"ZIP_3\", \"MI_PCT\", \"Product_Type\", \"CSCORE_C\", \"MI_TYPE\", \"RELOCATION_FLG\"]"
   ]
  },
  {
   "cell_type": "code",
   "execution_count": 28,
   "metadata": {},
   "outputs": [],
   "source": [
    "former_columns = acquisitions.columns"
   ]
  },
  {
   "cell_type": "code",
   "execution_count": 29,
   "metadata": {},
   "outputs": [
    {
     "data": {
      "text/plain": [
       "['_c0',\n",
       " '_c1',\n",
       " '_c2',\n",
       " '_c3',\n",
       " '_c4',\n",
       " '_c5',\n",
       " '_c6',\n",
       " '_c7',\n",
       " '_c8',\n",
       " '_c9',\n",
       " '_c10',\n",
       " '_c11',\n",
       " '_c12',\n",
       " '_c13',\n",
       " '_c14',\n",
       " '_c15',\n",
       " '_c16',\n",
       " '_c17',\n",
       " '_c18',\n",
       " '_c19',\n",
       " '_c20',\n",
       " '_c21',\n",
       " '_c22',\n",
       " '_c23',\n",
       " '_c24']"
      ]
     },
     "execution_count": 29,
     "metadata": {},
     "output_type": "execute_result"
    }
   ],
   "source": [
    "former_columns"
   ]
  },
  {
   "cell_type": "markdown",
   "metadata": {},
   "source": [
    "## 3.1.2. Rename Columns and Infer Schema"
   ]
  },
  {
   "cell_type": "code",
   "execution_count": 30,
   "metadata": {},
   "outputs": [],
   "source": [
    "for c in range(len(new_columns)):\n",
    "    acquisitions = acquisitions.withColumnRenamed(former_columns[c], new_columns[c])"
   ]
  },
  {
   "cell_type": "code",
   "execution_count": 31,
   "metadata": {},
   "outputs": [
    {
     "name": "stdout",
     "output_type": "stream",
     "text": [
      "root\n",
      " |-- LOAN_ID: long (nullable = true)\n",
      " |-- ORIG_CHN: string (nullable = true)\n",
      " |-- Seller_Name: string (nullable = true)\n",
      " |-- ORIG_RT: double (nullable = true)\n",
      " |-- ORIG_AMT: integer (nullable = true)\n",
      " |-- ORIG_TRM: integer (nullable = true)\n",
      " |-- ORIG_DTE: string (nullable = true)\n",
      " |-- FRST_DTE: string (nullable = true)\n",
      " |-- OLTV: integer (nullable = true)\n",
      " |-- OCLTV: integer (nullable = true)\n",
      " |-- NUM_BO: integer (nullable = true)\n",
      " |-- DTI: integer (nullable = true)\n",
      " |-- CSCORE_B: integer (nullable = true)\n",
      " |-- FTHB_FLG: string (nullable = true)\n",
      " |-- PURPOSE: string (nullable = true)\n",
      " |-- PROP_TYP: string (nullable = true)\n",
      " |-- NUM_UNIT: integer (nullable = true)\n",
      " |-- OCC_STAT: string (nullable = true)\n",
      " |-- STATE: string (nullable = true)\n",
      " |-- ZIP_3: integer (nullable = true)\n",
      " |-- MI_PCT: integer (nullable = true)\n",
      " |-- Product_Type: string (nullable = true)\n",
      " |-- CSCORE_C: integer (nullable = true)\n",
      " |-- MI_TYPE: integer (nullable = true)\n",
      " |-- RELOCATION_FLG: string (nullable = true)\n",
      "\n"
     ]
    }
   ],
   "source": [
    "acquisitions.printSchema()"
   ]
  },
  {
   "cell_type": "code",
   "execution_count": 32,
   "metadata": {},
   "outputs": [
    {
     "name": "stdout",
     "output_type": "stream",
     "text": [
      "+------------+--------+--------------------+-------+--------+--------+--------+--------+----+-----+------+---+--------+--------+-------+--------+--------+--------+-----+-----+------+------------+--------+-------+--------------+\n",
      "|     LOAN_ID|ORIG_CHN|         Seller_Name|ORIG_RT|ORIG_AMT|ORIG_TRM|ORIG_DTE|FRST_DTE|OLTV|OCLTV|NUM_BO|DTI|CSCORE_B|FTHB_FLG|PURPOSE|PROP_TYP|NUM_UNIT|OCC_STAT|STATE|ZIP_3|MI_PCT|Product_Type|CSCORE_C|MI_TYPE|RELOCATION_FLG|\n",
      "+------------+--------+--------------------+-------+--------+--------+--------+--------+----+-----+------+---+--------+--------+-------+--------+--------+--------+-----+-----+------+------------+--------+-------+--------------+\n",
      "|100001420754|       C|PROVIDENT FUNDING...|  3.375|  217000|     360| 11/2016| 01/2017|  74|   74|     1| 30|     785|       N|      R|      SF|       1|       P|   PA|  194|  null|         FRM|    null|   null|             N|\n",
      "|100003665787|       R|JPMORGAN CHASE BA...|  3.125|  374000|     360| 08/2016| 10/2016|  80|   80|     1| 32|     805|       N|      P|      PU|       1|       P|   NE|  681|  null|         FRM|    null|   null|             Y|\n",
      "|100005168281|       R|               OTHER|  2.875|  330000|     180| 10/2016| 12/2016|  60|   60|     2| 11|     772|       N|      R|      SF|       1|       S|   PA|  178|  null|         FRM|     795|   null|             N|\n",
      "|100005516991|       R|               OTHER|   3.75|  193000|     360| 09/2016| 11/2016|  90|   90|     1| 36|     680|       N|      R|      PU|       1|       P|   AZ|  853|    25|         FRM|    null|      1|             N|\n",
      "|100005598239|       R|MOVEMENT MORTGAGE...|  3.875|  414000|     360| 10/2016| 12/2016|  90|   90|     2| 37|     753|       N|      P|      PU|       1|       P|   NV|  894|    25|         FRM|     778|      1|             N|\n",
      "+------------+--------+--------------------+-------+--------+--------+--------+--------+----+-----+------+---+--------+--------+-------+--------+--------+--------+-----+-----+------+------------+--------+-------+--------------+\n",
      "only showing top 5 rows\n",
      "\n"
     ]
    }
   ],
   "source": [
    "acquisitions.show(5)"
   ]
  },
  {
   "cell_type": "markdown",
   "metadata": {},
   "source": [
    "***In order to gain performance in the dataframe I persist the modified dataframe so every time I make an action it wont have to make all the previous transformations. Therefore, the previous steps will only be necessary the first time.***"
   ]
  },
  {
   "cell_type": "code",
   "execution_count": 33,
   "metadata": {},
   "outputs": [],
   "source": [
    "acquisitions.write.parquet(df_acquisitions, mode = 'overwrite')"
   ]
  },
  {
   "cell_type": "markdown",
   "metadata": {},
   "source": [
    "## 3.1.3. Read Total Acquisition File"
   ]
  },
  {
   "cell_type": "code",
   "execution_count": 34,
   "metadata": {
    "scrolled": true
   },
   "outputs": [],
   "source": [
    "acquisitions = spark.read.parquet(df_acquisitions)"
   ]
  },
  {
   "cell_type": "code",
   "execution_count": 35,
   "metadata": {},
   "outputs": [
    {
     "data": {
      "text/plain": [
       "9366884"
      ]
     },
     "execution_count": 35,
     "metadata": {},
     "output_type": "execute_result"
    }
   ],
   "source": [
    "acquisitions.count()"
   ]
  },
  {
   "cell_type": "code",
   "execution_count": 36,
   "metadata": {},
   "outputs": [
    {
     "name": "stdout",
     "output_type": "stream",
     "text": [
      "+------------+--------+--------------------------------------------------------------------+-------+--------+--------+--------+--------+----+-----+------+---+--------+--------+-------+--------+--------+--------+-----+-----+------+------------+--------+-------+--------------+\n",
      "|LOAN_ID     |ORIG_CHN|Seller_Name                                                         |ORIG_RT|ORIG_AMT|ORIG_TRM|ORIG_DTE|FRST_DTE|OLTV|OCLTV|NUM_BO|DTI|CSCORE_B|FTHB_FLG|PURPOSE|PROP_TYP|NUM_UNIT|OCC_STAT|STATE|ZIP_3|MI_PCT|Product_Type|CSCORE_C|MI_TYPE|RELOCATION_FLG|\n",
      "+------------+--------+--------------------------------------------------------------------+-------+--------+--------+--------+--------+----+-----+------+---+--------+--------+-------+--------+--------+--------+-----+-----+------+------------+--------+-------+--------------+\n",
      "|100000040778|B       |UNITED SHORE FINANCIAL SERVICES, LLC D/B/A UNITED WHOLESALE MORTGAGE|3.875  |238000  |360     |06/2016 |08/2016 |52  |52   |2     |29 |782     |N       |C      |SF      |1       |P       |CA   |922  |null  |FRM         |784     |null   |N             |\n",
      "|100001486795|R       |OTHER                                                               |3.5    |125000  |360     |07/2016 |09/2016 |77  |77   |2     |18 |775     |Y       |P      |SF      |1       |P       |MO   |636  |null  |FRM         |791     |null   |N             |\n",
      "|100004186125|C       |WELLS FARGO BANK, N.A.                                              |3.625  |136000  |360     |06/2016 |08/2016 |80  |80   |2     |47 |768     |N       |P      |SF      |1       |P       |ME   |42   |null  |FRM         |767     |null   |N             |\n",
      "|100004379412|C       |WELLS FARGO BANK, N.A.                                              |3.625  |353000  |360     |07/2016 |09/2016 |95  |95   |1     |37 |723     |Y       |P      |PU      |1       |P       |GA   |305  |30    |FRM         |null    |1      |N             |\n",
      "|100007687897|R       |OTHER                                                               |3.5    |339000  |360     |09/2016 |11/2016 |93  |93   |2     |27 |775     |Y       |P      |SF      |1       |P       |CA   |957  |30    |FRM         |807     |1      |N             |\n",
      "+------------+--------+--------------------------------------------------------------------+-------+--------+--------+--------+--------+----+-----+------+---+--------+--------+-------+--------+--------+--------+-----+-----+------+------------+--------+-------+--------------+\n",
      "only showing top 5 rows\n",
      "\n"
     ]
    }
   ],
   "source": [
    "acquisitions.show(5, truncate = False)"
   ]
  },
  {
   "cell_type": "markdown",
   "metadata": {},
   "source": [
    "## 3.2. Performance File"
   ]
  },
  {
   "cell_type": "code",
   "execution_count": 37,
   "metadata": {
    "scrolled": true
   },
   "outputs": [],
   "source": [
    "performance = spark.read.format('csv')\\\n",
    "                    .option('delimiter', '|')\\\n",
    "                    .option(\"header\",\"false\")\\\n",
    "                    .option(\"inferSchema\",\"true\")\\\n",
    "                    .load(performance_path)"
   ]
  },
  {
   "cell_type": "code",
   "execution_count": 38,
   "metadata": {},
   "outputs": [
    {
     "name": "stdout",
     "output_type": "stream",
     "text": [
      "root\n",
      " |-- _c0: long (nullable = true)\n",
      " |-- _c1: string (nullable = true)\n",
      " |-- _c2: string (nullable = true)\n",
      " |-- _c3: double (nullable = true)\n",
      " |-- _c4: double (nullable = true)\n",
      " |-- _c5: integer (nullable = true)\n",
      " |-- _c6: integer (nullable = true)\n",
      " |-- _c7: integer (nullable = true)\n",
      " |-- _c8: string (nullable = true)\n",
      " |-- _c9: integer (nullable = true)\n",
      " |-- _c10: string (nullable = true)\n",
      " |-- _c11: string (nullable = true)\n",
      " |-- _c12: integer (nullable = true)\n",
      " |-- _c13: string (nullable = true)\n",
      " |-- _c14: string (nullable = true)\n",
      " |-- _c15: string (nullable = true)\n",
      " |-- _c16: string (nullable = true)\n",
      " |-- _c17: double (nullable = true)\n",
      " |-- _c18: double (nullable = true)\n",
      " |-- _c19: double (nullable = true)\n",
      " |-- _c20: double (nullable = true)\n",
      " |-- _c21: double (nullable = true)\n",
      " |-- _c22: double (nullable = true)\n",
      " |-- _c23: double (nullable = true)\n",
      " |-- _c24: double (nullable = true)\n",
      " |-- _c25: double (nullable = true)\n",
      " |-- _c26: double (nullable = true)\n",
      " |-- _c27: double (nullable = true)\n",
      " |-- _c28: string (nullable = true)\n",
      " |-- _c29: string (nullable = true)\n",
      " |-- _c30: string (nullable = true)\n",
      "\n"
     ]
    }
   ],
   "source": [
    "performance.printSchema()"
   ]
  },
  {
   "cell_type": "code",
   "execution_count": 39,
   "metadata": {},
   "outputs": [],
   "source": [
    "new_columns = [\"LOAN_ID\", \"Monthly_Rpt_Prd\", \"Servicer_Name\", \"LAST_RT\", \"LAST_UPB\", \"Loan_Age\", \"Months_To_Legal_Mat\"\n",
    "                          , \"Adj_Month_To_Mat\", \"Maturity_Date\", \"MSA\", \"Delq_Status\", \"MOD_FLAG\", \"Zero_Bal_Code\", \n",
    "                          \"ZB_DTE\", \"LPI_DTE\", \"FCC_DTE\",\"DISP_DT\", \"FCC_COST\", \"PP_COST\", \"AR_COST\", \"IE_COST\", \"TAX_COST\", \"NS_PROCS\",\n",
    "                          \"CE_PROCS\", \"RMW_PROCS\", \"O_PROCS\", \"NON_INT_UPB\", \"PRIN_FORG_UPB_FHFA\", \"REPCH_FLAG\", \"PRIN_FORG_UPB_OTH\", \"TRANSFER_FLG\"]"
   ]
  },
  {
   "cell_type": "code",
   "execution_count": 40,
   "metadata": {},
   "outputs": [],
   "source": [
    "former_columns = performance.columns"
   ]
  },
  {
   "cell_type": "markdown",
   "metadata": {},
   "source": [
    "## 3.2.1. Rename Columns"
   ]
  },
  {
   "cell_type": "code",
   "execution_count": 41,
   "metadata": {},
   "outputs": [],
   "source": [
    "for c in range(len(new_columns)):\n",
    "    performance = performance.withColumnRenamed(former_columns[c], new_columns[c])"
   ]
  },
  {
   "cell_type": "code",
   "execution_count": 42,
   "metadata": {},
   "outputs": [
    {
     "name": "stdout",
     "output_type": "stream",
     "text": [
      "root\n",
      " |-- LOAN_ID: long (nullable = true)\n",
      " |-- Monthly_Rpt_Prd: string (nullable = true)\n",
      " |-- Servicer_Name: string (nullable = true)\n",
      " |-- LAST_RT: double (nullable = true)\n",
      " |-- LAST_UPB: double (nullable = true)\n",
      " |-- Loan_Age: integer (nullable = true)\n",
      " |-- Months_To_Legal_Mat: integer (nullable = true)\n",
      " |-- Adj_Month_To_Mat: integer (nullable = true)\n",
      " |-- Maturity_Date: string (nullable = true)\n",
      " |-- MSA: integer (nullable = true)\n",
      " |-- Delq_Status: string (nullable = true)\n",
      " |-- MOD_FLAG: string (nullable = true)\n",
      " |-- Zero_Bal_Code: integer (nullable = true)\n",
      " |-- ZB_DTE: string (nullable = true)\n",
      " |-- LPI_DTE: string (nullable = true)\n",
      " |-- FCC_DTE: string (nullable = true)\n",
      " |-- DISP_DT: string (nullable = true)\n",
      " |-- FCC_COST: double (nullable = true)\n",
      " |-- PP_COST: double (nullable = true)\n",
      " |-- AR_COST: double (nullable = true)\n",
      " |-- IE_COST: double (nullable = true)\n",
      " |-- TAX_COST: double (nullable = true)\n",
      " |-- NS_PROCS: double (nullable = true)\n",
      " |-- CE_PROCS: double (nullable = true)\n",
      " |-- RMW_PROCS: double (nullable = true)\n",
      " |-- O_PROCS: double (nullable = true)\n",
      " |-- NON_INT_UPB: double (nullable = true)\n",
      " |-- PRIN_FORG_UPB_FHFA: double (nullable = true)\n",
      " |-- REPCH_FLAG: string (nullable = true)\n",
      " |-- PRIN_FORG_UPB_OTH: string (nullable = true)\n",
      " |-- TRANSFER_FLG: string (nullable = true)\n",
      "\n"
     ]
    }
   ],
   "source": [
    "performance.printSchema()"
   ]
  },
  {
   "cell_type": "code",
   "execution_count": 43,
   "metadata": {
    "scrolled": true
   },
   "outputs": [
    {
     "name": "stdout",
     "output_type": "stream",
     "text": [
      "+------------+---------------+-------------+-------+--------+--------+-------------------+----------------+-------------+-----+-----------+--------+-------------+------+-------+-------+-------+--------+-------+-------+-------+--------+--------+--------+---------+-------+-----------+------------------+----------+-----------------+------------+\n",
      "|     LOAN_ID|Monthly_Rpt_Prd|Servicer_Name|LAST_RT|LAST_UPB|Loan_Age|Months_To_Legal_Mat|Adj_Month_To_Mat|Maturity_Date|  MSA|Delq_Status|MOD_FLAG|Zero_Bal_Code|ZB_DTE|LPI_DTE|FCC_DTE|DISP_DT|FCC_COST|PP_COST|AR_COST|IE_COST|TAX_COST|NS_PROCS|CE_PROCS|RMW_PROCS|O_PROCS|NON_INT_UPB|PRIN_FORG_UPB_FHFA|REPCH_FLAG|PRIN_FORG_UPB_OTH|TRANSFER_FLG|\n",
      "+------------+---------------+-------------+-------+--------+--------+-------------------+----------------+-------------+-----+-----------+--------+-------------+------+-------+-------+-------+--------+-------+-------+-------+--------+--------+--------+---------+-------+-----------+------------------+----------+-----------------+------------+\n",
      "|100002091588|     01/01/2015|        OTHER|  4.125|    null|       0|                360|             360|      01/2045|16740|          0|       N|         null|  null|   null|   null|   null|    null|   null|   null|   null|    null|    null|    null|     null|   null|       null|              null|      null|             null|           N|\n",
      "|100002091588|     02/01/2015|         null|  4.125|    null|       1|                359|             359|      01/2045|16740|          0|       N|         null|  null|   null|   null|   null|    null|   null|   null|   null|    null|    null|    null|     null|   null|       null|              null|      null|             null|           N|\n",
      "|100002091588|     03/01/2015|         null|  4.125|    null|       2|                358|             358|      01/2045|16740|          0|       N|         null|  null|   null|   null|   null|    null|   null|   null|   null|    null|    null|    null|     null|   null|       null|              null|      null|             null|           N|\n",
      "|100002091588|     04/01/2015|         null|  4.125|    null|       3|                357|             357|      01/2045|16740|          0|       N|         null|  null|   null|   null|   null|    null|   null|   null|   null|    null|    null|    null|     null|   null|       null|              null|      null|             null|           N|\n",
      "|100002091588|     05/01/2015|         null|  4.125|    null|       4|                356|             356|      01/2045|16740|          0|       N|         null|  null|   null|   null|   null|    null|   null|   null|   null|    null|    null|    null|     null|   null|       null|              null|      null|             null|           N|\n",
      "+------------+---------------+-------------+-------+--------+--------+-------------------+----------------+-------------+-----+-----------+--------+-------------+------+-------+-------+-------+--------+-------+-------+-------+--------+--------+--------+---------+-------+-----------+------------------+----------+-----------------+------------+\n",
      "only showing top 5 rows\n",
      "\n"
     ]
    }
   ],
   "source": [
    "performance.show(5)"
   ]
  },
  {
   "cell_type": "markdown",
   "metadata": {},
   "source": [
    "***In order to gain performance in the dataframe I persist the modified dataframe so every time I make an action it wont have to make all the previous transformations. Therefore, the previous steps will only be necessary the first time.***"
   ]
  },
  {
   "cell_type": "code",
   "execution_count": 44,
   "metadata": {},
   "outputs": [],
   "source": [
    "performance.write.parquet(df_performance, mode = 'overwrite')"
   ]
  },
  {
   "cell_type": "markdown",
   "metadata": {},
   "source": [
    "## 3.1.3. Read Total Performance File"
   ]
  },
  {
   "cell_type": "code",
   "execution_count": 45,
   "metadata": {},
   "outputs": [],
   "source": [
    "performance = spark.read.parquet(df_performance)"
   ]
  },
  {
   "cell_type": "code",
   "execution_count": 46,
   "metadata": {},
   "outputs": [
    {
     "data": {
      "text/plain": [
       "298507297"
      ]
     },
     "execution_count": 46,
     "metadata": {},
     "output_type": "execute_result"
    }
   ],
   "source": [
    "performance.count()"
   ]
  },
  {
   "cell_type": "code",
   "execution_count": 47,
   "metadata": {},
   "outputs": [
    {
     "name": "stdout",
     "output_type": "stream",
     "text": [
      "+------------+---------------+-------------+-------+--------+--------+-------------------+----------------+-------------+-----+-----------+--------+-------------+------+-------+-------+-------+--------+-------+-------+-------+--------+--------+--------+---------+-------+-----------+------------------+----------+-----------------+------------+\n",
      "|LOAN_ID     |Monthly_Rpt_Prd|Servicer_Name|LAST_RT|LAST_UPB|Loan_Age|Months_To_Legal_Mat|Adj_Month_To_Mat|Maturity_Date|MSA  |Delq_Status|MOD_FLAG|Zero_Bal_Code|ZB_DTE|LPI_DTE|FCC_DTE|DISP_DT|FCC_COST|PP_COST|AR_COST|IE_COST|TAX_COST|NS_PROCS|CE_PROCS|RMW_PROCS|O_PROCS|NON_INT_UPB|PRIN_FORG_UPB_FHFA|REPCH_FLAG|PRIN_FORG_UPB_OTH|TRANSFER_FLG|\n",
      "+------------+---------------+-------------+-------+--------+--------+-------------------+----------------+-------------+-----+-----------+--------+-------------+------+-------+-------+-------+--------+-------+-------+-------+--------+--------+--------+---------+-------+-----------+------------------+----------+-----------------+------------+\n",
      "|735609827062|01/01/2016     |null         |4.75   |80181.38|24      |336                |327             |01/2044      |33100|0          |N       |null         |null  |null   |null   |null   |null    |null   |null   |null   |null    |null    |null    |null     |null   |null       |null              |null      |null             |N           |\n",
      "|735609827062|02/01/2016     |null         |4.75   |80025.52|25      |335                |325             |01/2044      |33100|0          |N       |null         |null  |null   |null   |null   |null    |null   |null   |null   |null    |null    |null    |null     |null   |null       |null              |null      |null             |N           |\n",
      "|735609827062|03/01/2016     |null         |4.75   |79869.05|26      |334                |324             |01/2044      |33100|0          |N       |null         |null  |null   |null   |null   |null    |null   |null   |null   |null    |null    |null    |null     |null   |null       |null              |null      |null             |N           |\n",
      "|735609827062|04/01/2016     |null         |4.75   |79711.96|27      |333                |323             |01/2044      |33100|0          |N       |null         |null  |null   |null   |null   |null    |null   |null   |null   |null    |null    |null    |null     |null   |null       |null              |null      |null             |N           |\n",
      "|735609827062|05/01/2016     |null         |4.75   |79554.25|28      |332                |322             |01/2044      |33100|0          |N       |null         |null  |null   |null   |null   |null    |null   |null   |null   |null    |null    |null    |null     |null   |null       |null              |null      |null             |N           |\n",
      "+------------+---------------+-------------+-------+--------+--------+-------------------+----------------+-------------+-----+-----------+--------+-------------+------+-------+-------+-------+--------+-------+-------+-------+--------+--------+--------+---------+-------+-----------+------------------+----------+-----------------+------------+\n",
      "only showing top 5 rows\n",
      "\n"
     ]
    }
   ],
   "source": [
    "performance.show(5, truncate = False)"
   ]
  }
 ],
 "metadata": {
  "kernelspec": {
   "display_name": "d1-spark2python3",
   "language": "python",
   "name": "spark-python-d1-spark2python3"
  },
  "language_info": {
   "codemirror_mode": {
    "name": "ipython",
    "version": 3
   },
   "file_extension": ".py",
   "mimetype": "text/x-python",
   "name": "python",
   "nbconvert_exporter": "python",
   "pygments_lexer": "ipython3",
   "version": "3.5.2"
  }
 },
 "nbformat": 4,
 "nbformat_minor": 4
}
