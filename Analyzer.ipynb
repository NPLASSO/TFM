{
 "cells": [
  {
   "cell_type": "markdown",
   "metadata": {},
   "source": [
    "# 1. Imports and Funcions"
   ]
  },
  {
   "cell_type": "code",
   "execution_count": 11,
   "metadata": {},
   "outputs": [],
   "source": [
    "# Import SparkSession from pyspark.sql\n",
    "from pyspark.sql import SparkSession\n",
    "\n",
    "# Create a Session\n",
    "spark = SparkSession.builder.appName('AnalyzerApp').master('spark://172.31.19.209:7077').getOrCreate()"
   ]
  },
  {
   "cell_type": "markdown",
   "metadata": {},
   "source": [
    "## 1.1. Imports"
   ]
  },
  {
   "cell_type": "code",
   "execution_count": 49,
   "metadata": {},
   "outputs": [],
   "source": [
    "import sys\n",
    "from pyspark.sql.types import *\n",
    "from pyspark.sql import Row, DataFrame, functions as F\n",
    "from datetime import datetime, date, timedelta\n",
    "from pyspark.sql.window import Window"
   ]
  },
  {
   "cell_type": "code",
   "execution_count": 50,
   "metadata": {},
   "outputs": [],
   "source": [
    "import pandas as pd\n",
    "import numpy as np\n",
    "#PySpark ML\n",
    "import warnings\n",
    "warnings.filterwarnings('ignore')\n",
    "from pyspark.ml.feature import StringIndexer\n",
    "from pyspark.ml.feature import OneHotEncoder\n",
    "from pyspark.ml.feature import VectorAssembler\n",
    "from pyspark.ml.pipeline import Pipeline\n",
    "from pyspark.ml.classification import RandomForestClassifier\n",
    "from pyspark.ml.classification import LogisticRegression\n",
    "from pyspark.ml.classification import GBTClassifier\n",
    "from pyspark.ml.evaluation import MulticlassClassificationEvaluator\n",
    "from pyspark.ml.classification import DecisionTreeClassifier\n",
    "from pyspark.ml.tuning import CrossValidator, ParamGridBuilder\n",
    "from pyspark.sql import types\n",
    "from pandas import Series, DataFrame\n",
    "from sklearn.model_selection import GridSearchCV\n",
    "from sklearn import metrics\n",
    "from sklearn.model_selection import cross_val_score, KFold, StratifiedKFold\n",
    "from sklearn.metrics import classification_report\n",
    "from sklearn.metrics import roc_curve\n",
    "from sklearn.metrics import roc_auc_score\n",
    "# Visualisation\n",
    "import seaborn as sns\n",
    "import matplotlib.pyplot as plt\n",
    "sns.set(color_codes=True)\n",
    "plt.rcParams['figure.figsize'] = (11, 7)"
   ]
  },
  {
   "cell_type": "markdown",
   "metadata": {},
   "source": [
    "***With the next lines of code every time we perform an action with a show function, it doesnt matter how big is the dataframe or how many columns does it have, it will print the table like a pandas table without the need of conversion and the posibility of running out of memory.***"
   ]
  },
  {
   "cell_type": "code",
   "execution_count": 51,
   "metadata": {},
   "outputs": [
    {
     "data": {
      "text/html": [
       "<style>pre { white-space: pre !important; }</style>"
      ],
      "text/plain": [
       "<IPython.core.display.HTML object>"
      ]
     },
     "metadata": {},
     "output_type": "display_data"
    }
   ],
   "source": [
    "from IPython.core.display import HTML\n",
    "display(HTML(\"<style>pre { white-space: pre !important; }</style>\"))"
   ]
  },
  {
   "cell_type": "markdown",
   "metadata": {},
   "source": [
    "## 1.2. Functions"
   ]
  },
  {
   "cell_type": "code",
   "execution_count": 52,
   "metadata": {},
   "outputs": [],
   "source": [
    "def parse_closing_date(closing_date_str):\n",
    "    closing_date = datetime.strptime(closing_date_str, '%m/%d/%Y').date()\n",
    "    return closing_date"
   ]
  },
  {
   "cell_type": "code",
   "execution_count": 53,
   "metadata": {},
   "outputs": [],
   "source": [
    "def parse_closing_date1(closing_date_str):\n",
    "    closing_date = datetime.strptime(closing_date_str, '%m/%Y').date()\n",
    "    return closing_date"
   ]
  },
  {
   "cell_type": "markdown",
   "metadata": {},
   "source": [
    "# 2. Variables"
   ]
  },
  {
   "cell_type": "markdown",
   "metadata": {},
   "source": [
    "***Dataframe Path***"
   ]
  },
  {
   "cell_type": "code",
   "execution_count": 15,
   "metadata": {},
   "outputs": [],
   "source": [
    "df_acquisitions = 'hdfs://hdfs:9000/tfm/Dataframes/SingleFamily/SingleFamilyFixedRateMortgage/Acquisition/'\n",
    "df_performance = 'hdfs://hdfs:9000/tfm/Dataframes/SingleFamily/SingleFamilyFixedRateMortgage/Performance/'\n",
    "temp_acquisitions = 'hdfs://hdfs:9000/tfm//Dataframes/SingleFamily/temp/acquisitions/sandbox/'\n",
    "temp_performance = 'hdfs://hdfs:9000/tfm/Dataframes/SingleFamily/temp/performance/sandbox/'\n",
    "temp_combined = 'hdfs://hdfs:9000/tfm/Dataframes/SingleFamily/temp/combined/sandbox/'"
   ]
  },
  {
   "cell_type": "markdown",
   "metadata": {},
   "source": [
    "# 3. Manage Data"
   ]
  },
  {
   "cell_type": "markdown",
   "metadata": {},
   "source": [
    "## 3.1. Acquisitions File"
   ]
  },
  {
   "cell_type": "markdown",
   "metadata": {},
   "source": [
    "## 3.1.1. Read Data"
   ]
  },
  {
   "cell_type": "code",
   "execution_count": 55,
   "metadata": {
    "scrolled": true
   },
   "outputs": [],
   "source": [
    "acquisitions = spark.read.parquet(df_acquisitions)"
   ]
  },
  {
   "cell_type": "code",
   "execution_count": 56,
   "metadata": {},
   "outputs": [
    {
     "name": "stdout",
     "output_type": "stream",
     "text": [
      "+------------+--------+--------------------+-------+--------+--------+--------+--------+----+-----+------+---+--------+--------+-------+--------+--------+--------+-----+-----+------+------------+--------+-------+--------------+\n",
      "|     LOAN_ID|ORIG_CHN|         Seller_Name|ORIG_RT|ORIG_AMT|ORIG_TRM|ORIG_DTE|FRST_DTE|OLTV|OCLTV|NUM_BO|DTI|CSCORE_B|FTHB_FLG|PURPOSE|PROP_TYP|NUM_UNIT|OCC_STAT|STATE|ZIP_3|MI_PCT|Product_Type|CSCORE_C|MI_TYPE|RELOCATION_FLG|\n",
      "+------------+--------+--------------------+-------+--------+--------+--------+--------+----+-----+------+---+--------+--------+-------+--------+--------+--------+-----+-----+------+------------+--------+-------+--------------+\n",
      "|100000827160|       R|               OTHER|   4.25|  150000|     360| 03/2016| 05/2016|  49|   49|     2| 27|     809|       N|      C|      SF|       1|       I|   CA|  953|  null|         FRM|     812|   null|             N|\n",
      "|100002112463|       R|               OTHER|  4.625|  250000|     360| 04/2016| 06/2016|  69|   69|     1| 46|     774|       N|      C|      SF|       1|       I|   CA|  932|  null|         FRM|    null|   null|             N|\n",
      "|100007277669|       R|               OTHER|  3.625|  100000|     360| 04/2016| 06/2016|  95|  103|     1| 40|     758|       Y|      P|      SF|       1|       P|   NY|  130|    30|         FRM|    null|      1|             N|\n",
      "|100009404649|       R|               OTHER|    3.5|  149000|     360| 05/2016| 07/2016|  95|   95|     1| 32|     766|       N|      P|      PU|       1|       P|   TX|  765|    30|         FRM|    null|      1|             N|\n",
      "|100013046181|       R|               OTHER|   4.25|  216000|     360| 04/2016| 06/2016|  80|   80|     1| 44|     737|       N|      C|      SF|       1|       P|   WA|  980|  null|         FRM|    null|   null|             N|\n",
      "|100013782820|       R|               OTHER|  3.375|  150000|     240| 03/2016| 05/2016|  52|   52|     2| 15|     804|       N|      P|      PU|       1|       P|   NE|  681|  null|         FRM|     803|   null|             N|\n",
      "|100017601890|       R|               OTHER|  4.375|  236000|     360| 05/2016| 07/2016|  75|   75|     1|  5|     749|       N|      C|      SF|       1|       I|   OH|  441|  null|         FRM|    null|   null|             N|\n",
      "|100018154729|       R|  QUICKEN LOANS INC.|   3.99|   86000|     360| 05/2016| 07/2016|  90|   90|     1| 21|     753|       N|      P|      SF|       1|       P|   MI|  492|    25|         FRM|    null|      1|             N|\n",
      "|100018494233|       C|WELLS FARGO BANK,...|   3.75|  223000|     360| 04/2016| 06/2016|  95|   95|     1| 16|     797|       N|      P|      PU|       1|       P|   AL|  357|    30|         FRM|    null|      1|             N|\n",
      "|100026617283|       R|               OTHER|  3.625|  366000|     360| 03/2016| 05/2016|  65|   65|     1| 42|     731|       N|      R|      SF|       1|       P|   DC|  200|  null|         FRM|    null|   null|             N|\n",
      "|100029608476|       R|  QUICKEN LOANS INC.|   3.75|  240000|     360| 05/2016| 07/2016|  49|   49|     2| 40|     804|       N|      C|      PU|       1|       P|   FL|  334|  null|         FRM|     701|   null|             N|\n",
      "|100030562445|       C|FREEDOM MORTGAGE ...|  3.875|  246000|     360| 05/2016| 07/2016|  95|   95|     1| 44|     789|       N|      P|      PU|       1|       P|   KS|  662|    30|         FRM|    null|      2|             N|\n",
      "|100034301636|       R|       SUNTRUST BANK|   4.49|   70000|     360| 04/2016| 06/2016|  80|   80|     2| 41|     669|       N|      C|      SF|       1|       P|   GA|  300|  null|         FRM|     666|   null|             N|\n",
      "|100034834152|       B|UNITED SHORE FINA...|   4.25|   90000|     360| 02/2016| 04/2016|  62|   62|     1| 41|     668|       N|      C|      SF|       1|       P|   MI|  483|  null|         FRM|    null|   null|             N|\n",
      "|100035253992|       R|               OTHER|  3.875|  152000|     360| 04/2016| 06/2016|  80|   80|     2| 22|     811|       N|      P|      SF|       1|       S|   WA|  984|  null|         FRM|     747|   null|             N|\n",
      "|100036018474|       R|MOVEMENT MORTGAGE...|   3.99|  164000|     360| 03/2016| 05/2016|  90|   90|     2| 32|     704|       Y|      P|      PU|       1|       P|   NC|  282|    25|         FRM|     732|      1|             N|\n",
      "|100037414520|       R|               OTHER|  3.625|   76000|     240| 04/2016| 06/2016|  80|   80|     2| 36|     764|       N|      C|      SF|       1|       P|   IL|  615|  null|         FRM|     761|   null|             N|\n",
      "|100037814455|       C|WELLS FARGO BANK,...|  3.125|  220000|     120| 04/2016| 06/2016|  59|   59|     1| 31|     721|       N|      C|      SF|       1|       P|   KY|  400|  null|         FRM|    null|   null|             N|\n",
      "|100039948594|       C|               OTHER|  4.125|  246000|     360| 05/2016| 07/2016|  95|   95|     1| 32|     755|       Y|      P|      PU|       1|       P|   AL|  361|    30|         FRM|    null|      2|             N|\n",
      "|100043750331|       R|  QUICKEN LOANS INC.|   3.75|  373000|     360| 03/2016| 05/2016|  70|   70|     1| 25|     790|       N|      R|      PU|       1|       P|   CO|  800|  null|         FRM|    null|   null|             N|\n",
      "+------------+--------+--------------------+-------+--------+--------+--------+--------+----+-----+------+---+--------+--------+-------+--------+--------+--------+-----+-----+------+------------+--------+-------+--------------+\n",
      "only showing top 20 rows\n",
      "\n"
     ]
    }
   ],
   "source": [
    "acquisitions.show()"
   ]
  },
  {
   "cell_type": "markdown",
   "metadata": {},
   "source": [
    "## 3.1.2. Manage Data"
   ]
  },
  {
   "cell_type": "markdown",
   "metadata": {},
   "source": [
    "***First, I am going to delete the unnecessary Acquisition variables from the dataframe***"
   ]
  },
  {
   "cell_type": "code",
   "execution_count": 57,
   "metadata": {},
   "outputs": [],
   "source": [
    "acquisitions = acquisitions.drop('Seller_Name', 'Product_Type')"
   ]
  },
  {
   "cell_type": "markdown",
   "metadata": {},
   "source": [
    "***Calculation of the minimum FICO score by comparing the borrower credit score vs the coborrower credit score***"
   ]
  },
  {
   "cell_type": "code",
   "execution_count": 58,
   "metadata": {},
   "outputs": [],
   "source": [
    "acquisitions = acquisitions.where(~((F.col('CSCORE_B').isNull()) & (F.col('CSCORE_C').isNull())))"
   ]
  },
  {
   "cell_type": "code",
   "execution_count": 59,
   "metadata": {},
   "outputs": [],
   "source": [
    "acquisitions = acquisitions.withColumn('CSCORE_MN', F.when(F.col('CSCORE_B').isNull(), F.col('CSCORE_C'))\\\n",
    "                          .otherwise(F.when(F.col('CSCORE_C').isNull(), F.col('CSCORE_B'))\\\n",
    "                          .otherwise(F.when(F.col('CSCORE_C') < F.col('CSCORE_B'), F.col('CSCORE_C'))\\\n",
    "                          .otherwise(F.when(F.col('CSCORE_B') < F.col('CSCORE_C'), F.col('CSCORE_B')).otherwise(F.col('CSCORE_B'))))))"
   ]
  },
  {
   "cell_type": "code",
   "execution_count": 60,
   "metadata": {},
   "outputs": [],
   "source": [
    "acquisitions = acquisitions.withColumn('CSCORE_B', F.when(F.col('CSCORE_B').isNull(), F.col('CSCORE_C')).otherwise(F.col('CSCORE_B')))\\\n",
    "                           .withColumn('CSCORE_C', F.when(F.col('CSCORE_C').isNull(), F.col('CSCORE_B')).otherwise(F.col('CSCORE_C')))"
   ]
  },
  {
   "cell_type": "markdown",
   "metadata": {},
   "source": [
    "***Calculation of the House Price***"
   ]
  },
  {
   "cell_type": "code",
   "execution_count": 61,
   "metadata": {},
   "outputs": [],
   "source": [
    "acquisitions = acquisitions.withColumn('ORIG_VAL', F.lit(F.round(F.col('ORIG_AMT')/(F.col('OLTV')/100),1)))"
   ]
  },
  {
   "cell_type": "markdown",
   "metadata": {},
   "source": [
    "***Replacement of missing OCLTV with OLTV values***"
   ]
  },
  {
   "cell_type": "code",
   "execution_count": 62,
   "metadata": {},
   "outputs": [],
   "source": [
    "acquisitions = acquisitions.withColumn('OCLTV', F.when(F.col('OCLTV').isNull(), F.col('OLTV')).otherwise(F.col('OCLTV')))"
   ]
  },
  {
   "cell_type": "markdown",
   "metadata": {},
   "source": [
    "## 3.2. Performance File"
   ]
  },
  {
   "cell_type": "markdown",
   "metadata": {},
   "source": [
    "## 3.2.1. Read Data"
   ]
  },
  {
   "cell_type": "code",
   "execution_count": 63,
   "metadata": {
    "scrolled": true
   },
   "outputs": [],
   "source": [
    "performance = spark.read.parquet(df_performance)"
   ]
  },
  {
   "cell_type": "code",
   "execution_count": 64,
   "metadata": {},
   "outputs": [
    {
     "name": "stdout",
     "output_type": "stream",
     "text": [
      "+------------+---------------+-------------+-------+--------+--------+-------------------+----------------+-------------+-----+-----------+--------+-------------+------+-------+-------+-------+--------+-------+-------+-------+--------+--------+--------+---------+-------+-----------+------------------+----------+-----------------+------------+\n",
      "|     LOAN_ID|Monthly_Rpt_Prd|Servicer_Name|LAST_RT|LAST_UPB|Loan_Age|Months_To_Legal_Mat|Adj_Month_To_Mat|Maturity_Date|  MSA|Delq_Status|MOD_FLAG|Zero_Bal_Code|ZB_DTE|LPI_DTE|FCC_DTE|DISP_DT|FCC_COST|PP_COST|AR_COST|IE_COST|TAX_COST|NS_PROCS|CE_PROCS|RMW_PROCS|O_PROCS|NON_INT_UPB|PRIN_FORG_UPB_FHFA|REPCH_FLAG|PRIN_FORG_UPB_OTH|TRANSFER_FLG|\n",
      "+------------+---------------+-------------+-------+--------+--------+-------------------+----------------+-------------+-----+-----------+--------+-------------+------+-------+-------+-------+--------+-------+-------+-------+--------+--------+--------+---------+-------+-----------+------------------+----------+-----------------+------------+\n",
      "|735609827062|     01/01/2016|         null|   4.75|80181.38|      24|                336|             327|      01/2044|33100|          0|       N|         null|  null|   null|   null|   null|    null|   null|   null|   null|    null|    null|    null|     null|   null|       null|              null|      null|             null|           N|\n",
      "|735609827062|     02/01/2016|         null|   4.75|80025.52|      25|                335|             325|      01/2044|33100|          0|       N|         null|  null|   null|   null|   null|    null|   null|   null|   null|    null|    null|    null|     null|   null|       null|              null|      null|             null|           N|\n",
      "|735609827062|     03/01/2016|         null|   4.75|79869.05|      26|                334|             324|      01/2044|33100|          0|       N|         null|  null|   null|   null|   null|    null|   null|   null|   null|    null|    null|    null|     null|   null|       null|              null|      null|             null|           N|\n",
      "|735609827062|     04/01/2016|         null|   4.75|79711.96|      27|                333|             323|      01/2044|33100|          0|       N|         null|  null|   null|   null|   null|    null|   null|   null|   null|    null|    null|    null|     null|   null|       null|              null|      null|             null|           N|\n",
      "|735609827062|     05/01/2016|         null|   4.75|79554.25|      28|                332|             322|      01/2044|33100|          0|       N|         null|  null|   null|   null|   null|    null|   null|   null|   null|    null|    null|    null|     null|   null|       null|              null|      null|             null|           N|\n",
      "|735609827062|     06/01/2016|         null|   4.75|79395.91|      29|                331|             320|      01/2044|33100|          0|       N|         null|  null|   null|   null|   null|    null|   null|   null|   null|    null|    null|    null|     null|   null|       null|              null|      null|             null|           N|\n",
      "|735609827062|     07/01/2016|         null|   4.75|79236.95|      30|                330|             319|      01/2044|33100|          0|       N|         null|  null|   null|   null|   null|    null|   null|   null|   null|    null|    null|    null|     null|   null|       null|              null|      null|             null|           N|\n",
      "|735609827062|     08/01/2016|         null|   4.75|79077.36|      31|                329|             318|      01/2044|33100|          0|       N|         null|  null|   null|   null|   null|    null|   null|   null|   null|    null|    null|    null|     null|   null|       null|              null|      null|             null|           N|\n",
      "|735609827062|     09/01/2016|         null|   4.75|78917.13|      32|                328|             316|      01/2044|33100|          0|       N|         null|  null|   null|   null|   null|    null|   null|   null|   null|    null|    null|    null|     null|   null|       null|              null|      null|             null|           N|\n",
      "|735609827062|     10/01/2016|         null|   4.75|78756.27|      33|                327|             315|      01/2044|33100|          0|       N|         null|  null|   null|   null|   null|    null|   null|   null|   null|    null|    null|    null|     null|   null|       null|              null|      null|             null|           N|\n",
      "|735609827062|     11/01/2016|         null|   4.75|78594.77|      34|                326|             314|      01/2044|33100|          0|       N|         null|  null|   null|   null|   null|    null|   null|   null|   null|    null|    null|    null|     null|   null|       null|              null|      null|             null|           N|\n",
      "|735609827062|     12/01/2016|         null|   4.75|78380.07|      35|                325|             312|      01/2044|33100|          0|       N|         null|  null|   null|   null|   null|    null|   null|   null|   null|    null|    null|    null|     null|   null|       null|              null|      null|             null|           N|\n",
      "|735609827062|     01/01/2017|         null|   4.75|78217.08|      36|                324|             311|      01/2044|33100|          0|       N|         null|  null|   null|   null|   null|    null|   null|   null|   null|    null|    null|    null|     null|   null|       null|              null|      null|             null|           N|\n",
      "|735609827062|     02/01/2017|         null|   4.75|78053.45|      37|                323|             310|      01/2044|33100|          0|       N|         null|  null|   null|   null|   null|    null|   null|   null|   null|    null|    null|    null|     null|   null|       null|              null|      null|             null|           N|\n",
      "|735609827062|     03/01/2017|         null|   4.75|77889.17|      38|                322|             308|      01/2044|33100|          0|       N|         null|  null|   null|   null|   null|    null|   null|   null|   null|    null|    null|    null|     null|   null|       null|              null|      null|             null|           N|\n",
      "|735609827062|     04/01/2017|         null|   4.75|77724.24|      39|                321|             307|      01/2044|33100|          0|       N|         null|  null|   null|   null|   null|    null|   null|   null|   null|    null|    null|    null|     null|   null|       null|              null|      null|             null|           N|\n",
      "|735609827062|     05/01/2017|         null|   4.75|77558.66|      40|                320|             306|      01/2044|33100|          0|       N|         null|  null|   null|   null|   null|    null|   null|   null|   null|    null|    null|    null|     null|   null|       null|              null|      null|             null|           N|\n",
      "|735609827062|     06/01/2017|         null|   4.75|77392.42|      41|                319|             305|      01/2044|33100|          0|       N|         null|  null|   null|   null|   null|    null|   null|   null|   null|    null|    null|    null|     null|   null|       null|              null|      null|             null|           N|\n",
      "|735609827062|     07/01/2017|         null|   4.75|77225.52|      42|                318|             303|      01/2044|33100|          0|       N|         null|  null|   null|   null|   null|    null|   null|   null|   null|    null|    null|    null|     null|   null|       null|              null|      null|             null|           N|\n",
      "|735609827062|     08/01/2017|         null|   4.75|77057.96|      43|                317|             302|      01/2044|33100|          0|       N|         null|  null|   null|   null|   null|    null|   null|   null|   null|    null|    null|    null|     null|   null|       null|              null|      null|             null|           N|\n",
      "+------------+---------------+-------------+-------+--------+--------+-------------------+----------------+-------------+-----+-----------+--------+-------------+------+-------+-------+-------+--------+-------+-------+-------+--------+--------+--------+---------+-------+-----------+------------------+----------+-----------------+------------+\n",
      "only showing top 20 rows\n",
      "\n"
     ]
    }
   ],
   "source": [
    "performance.show()"
   ]
  },
  {
   "cell_type": "code",
   "execution_count": 65,
   "metadata": {},
   "outputs": [
    {
     "data": {
      "text/plain": [
       "298507297"
      ]
     },
     "execution_count": 65,
     "metadata": {},
     "output_type": "execute_result"
    }
   ],
   "source": [
    "performance.count()"
   ]
  },
  {
   "cell_type": "markdown",
   "metadata": {},
   "source": [
    "## 3.2.2. Manage Data"
   ]
  },
  {
   "cell_type": "markdown",
   "metadata": {},
   "source": [
    "***First, we order the data by Loan ID and Monthly Reporting Period***"
   ]
  },
  {
   "cell_type": "code",
   "execution_count": 66,
   "metadata": {},
   "outputs": [],
   "source": [
    "performance = performance.orderBy('LOAN_ID', F.substring(F.col('Monthly_Rpt_Prd'),7,4), F.substring(F.col('Monthly_Rpt_Prd'),1,2), F.substring(F.col('Monthly_Rpt_Prd'),4,2))"
   ]
  },
  {
   "cell_type": "markdown",
   "metadata": {},
   "source": [
    "***Calculation of the total of principle forgiveness UPB***"
   ]
  },
  {
   "cell_type": "code",
   "execution_count": 67,
   "metadata": {},
   "outputs": [],
   "source": [
    "performance = performance.withColumn('PRIN_FORG_UPB_OTH', F.col('PRIN_FORG_UPB_OTH').cast('double'))"
   ]
  },
  {
   "cell_type": "code",
   "execution_count": 68,
   "metadata": {},
   "outputs": [],
   "source": [
    "performance = performance.fillna(0.0, ['PRIN_FORG_UPB_FHFA', 'PRIN_FORG_UPB_OTH'])"
   ]
  },
  {
   "cell_type": "code",
   "execution_count": 69,
   "metadata": {},
   "outputs": [],
   "source": [
    "performance = performance.withColumn('PRIN_FORG_UPB', F.col('PRIN_FORG_UPB_FHFA') + F.col('PRIN_FORG_UPB_OTH')).drop('PRIN_FORG_UPB_FHFA', 'PRIN_FORG_UPB_OTH')"
   ]
  },
  {
   "cell_type": "markdown",
   "metadata": {},
   "source": [
    "***Calculation of the Standarize Delinquenzy Status Codes***"
   ]
  },
  {
   "cell_type": "code",
   "execution_count": 70,
   "metadata": {},
   "outputs": [],
   "source": [
    "performance = performance.withColumn('Delq_Status', F.when(F.col('Delq_Status') == 'X', '999').otherwise(F.col('Delq_Status')))"
   ]
  },
  {
   "cell_type": "markdown",
   "metadata": {},
   "source": [
    "***Now we add the original rate from the Acquisitions File***"
   ]
  },
  {
   "cell_type": "code",
   "execution_count": 71,
   "metadata": {},
   "outputs": [],
   "source": [
    "performance = performance.join(acquisitions.select('LOAN_ID', 'ORIG_RT'), 'LOAN_ID', 'left')"
   ]
  },
  {
   "cell_type": "markdown",
   "metadata": {},
   "source": [
    "***Now we need to apply a function to fill current UPBs and NON_INT_UPBs***"
   ]
  },
  {
   "cell_type": "code",
   "execution_count": 72,
   "metadata": {},
   "outputs": [],
   "source": [
    "performance = performance.withColumn(\"LAST_UPB\", F.first('LAST_UPB', True).over(Window.partitionBy('LOAN_ID')\\\n",
    ".orderBy(F.substring(F.col('Monthly_Rpt_Prd'),7,4), F.substring(F.col('Monthly_Rpt_Prd'),1,2), F.substring(F.col('Monthly_Rpt_Prd'),4,2)).rowsBetween(0,sys.maxsize)))\\\n",
    "            .fillna(0.0, 'LAST_UPB')"
   ]
  },
  {
   "cell_type": "code",
   "execution_count": 73,
   "metadata": {},
   "outputs": [],
   "source": [
    "performance = performance.withColumn(\"NON_INT_UPB\", F.first('NON_INT_UPB', True).over(Window.partitionBy('LOAN_ID')\\\n",
    ".orderBy(F.substring(F.col('Monthly_Rpt_Prd'),7,4), F.substring(F.col('Monthly_Rpt_Prd'),1,2), F.substring(F.col('Monthly_Rpt_Prd'),4,2)).rowsBetween(0,sys.maxsize)))\\\n",
    "            .fillna(0.0, 'NON_INT_UPB')"
   ]
  },
  {
   "cell_type": "markdown",
   "metadata": {},
   "source": [
    "***Persist in order to gain performance***"
   ]
  },
  {
   "cell_type": "code",
   "execution_count": 74,
   "metadata": {},
   "outputs": [],
   "source": [
    "performance.write.parquet(temp_performance + '/1/', mode = 'overwrite')"
   ]
  },
  {
   "cell_type": "code",
   "execution_count": 75,
   "metadata": {
    "scrolled": true
   },
   "outputs": [],
   "source": [
    "performance = spark.read.parquet(temp_performance + '/1/')"
   ]
  },
  {
   "cell_type": "code",
   "execution_count": 76,
   "metadata": {},
   "outputs": [],
   "source": [
    "performance_grouped = performance.withColumn('MAT_UNIQUE', F.dense_rank().over(Window.partitionBy('LOAN_ID').orderBy('Maturity_Date')))\\\n",
    "                .groupBy('LOAN_ID', 'Maturity_Date').agg(F.sum('MAT_UNIQUE').alias('MAT_UNIQUE'))\\\n",
    "                        .withColumn('MODTRM_CHNG', F.when(F.col('MAT_UNIQUE') == 1, 1).otherwise(0))"
   ]
  },
  {
   "cell_type": "code",
   "execution_count": 77,
   "metadata": {},
   "outputs": [],
   "source": [
    "performance = performance.join(performance_grouped.select('LOAN_ID', 'Maturity_Date', 'MODTRM_CHNG'), ['LOAN_ID', 'Maturity_Date'], 'left')"
   ]
  },
  {
   "cell_type": "code",
   "execution_count": 78,
   "metadata": {},
   "outputs": [],
   "source": [
    "performance = performance.withColumn('NON_INT_UPB', F.col('NON_INT_UPB')*(-1))\\\n",
    "            .withColumn('NON_INT_UPB', F.when(F.col('NON_INT_UPB') == -0.0, F.lit(0.0)).otherwise(F.col('NON_INT_UPB')))"
   ]
  },
  {
   "cell_type": "code",
   "execution_count": 79,
   "metadata": {},
   "outputs": [],
   "source": [
    "performance = performance.withColumn('PRIN_FORG_UPB', F.col('PRIN_FORG_UPB')*(-1))"
   ]
  },
  {
   "cell_type": "code",
   "execution_count": 80,
   "metadata": {},
   "outputs": [],
   "source": [
    "performance = performance.withColumn('PREVIOUS_UPB', F.lag('LAST_UPB').over(Window.partitionBy('LOAN_ID')\\\n",
    "                                        .orderBy(F.substring(F.col('Monthly_Rpt_Prd'),7,4), F.substring(F.col('Monthly_Rpt_Prd'),1,2), F.substring(F.col('Monthly_Rpt_Prd'),4,2))))\\\n",
    "                         .withColumn('MODUPB_CHNG', F.when((F.col('LAST_UPB') > F.col('PREVIOUS_UPB')) & (F.col('MOD_FLAG') == 'Y'), F.lit(1)).otherwise(0)).drop('PREVIOUS_UPB')"
   ]
  },
  {
   "cell_type": "code",
   "execution_count": 81,
   "metadata": {},
   "outputs": [],
   "source": [
    "performance = performance.withColumn('FIN_UPB', F.col('LAST_UPB') + F.col('NON_INT_UPB') + F.col('PRIN_FORG_UPB'))"
   ]
  },
  {
   "cell_type": "code",
   "execution_count": 82,
   "metadata": {},
   "outputs": [],
   "source": [
    "performance = performance.withColumn('modir_cost', F.when(F.col('MOD_FLAG') == 'Y', F.lit(F.round(((F.col('ORIG_RT')-F.col('LAST_RT'))/1200)*F.col('LAST_UPB'), 2))).otherwise(F.lit(0)))"
   ]
  },
  {
   "cell_type": "code",
   "execution_count": 83,
   "metadata": {},
   "outputs": [],
   "source": [
    "performance = performance.withColumn('modfb_cost', F.when(F.col('MOD_FLAG') == 'Y', F.lit(F.round(((F.col('LAST_RT')*(-1))/1200)*F.col('NON_INT_UPB'), 2))).otherwise(F.lit(0)))"
   ]
  },
  {
   "cell_type": "code",
   "execution_count": 84,
   "metadata": {},
   "outputs": [],
   "source": [
    "performance = performance.withColumn('modfg_cost', F.when((F.col('PRIN_FORG_UPB') > 0), F.col('PRIN_FORG_UPB')*(-1)).otherwise(F.lit(0*(-1))))"
   ]
  },
  {
   "cell_type": "code",
   "execution_count": 85,
   "metadata": {},
   "outputs": [],
   "source": [
    "performance = performance.withColumn('c_modir_cost', F.round(F.sum('modir_cost').over(Window.partitionBy('LOAN_ID')\\\n",
    "                            .orderBy(F.substring(F.col('Monthly_Rpt_Prd'),7,4), F.substring(F.col('Monthly_Rpt_Prd'),1,2), F.substring(F.col('Monthly_Rpt_Prd'),4,2))\\\n",
    "                              .rangeBetween(Window.unboundedPreceding, 0)), 2))"
   ]
  },
  {
   "cell_type": "code",
   "execution_count": 86,
   "metadata": {},
   "outputs": [],
   "source": [
    "performance = performance.withColumn('c_modfb_cost', F.round(F.sum('modfb_cost').over(Window.partitionBy('LOAN_ID')\\\n",
    "                            .orderBy(F.substring(F.col('Monthly_Rpt_Prd'),7,4), F.substring(F.col('Monthly_Rpt_Prd'),1,2), F.substring(F.col('Monthly_Rpt_Prd'),4,2))\\\n",
    "                              .rangeBetween(Window.unboundedPreceding, 0)), 2))"
   ]
  },
  {
   "cell_type": "markdown",
   "metadata": {},
   "source": [
    "***Persist in order to gain performance***"
   ]
  },
  {
   "cell_type": "code",
   "execution_count": 87,
   "metadata": {},
   "outputs": [],
   "source": [
    "performance.write.parquet(temp_performance + '/2/', mode = 'overwrite')"
   ]
  },
  {
   "cell_type": "code",
   "execution_count": 88,
   "metadata": {
    "scrolled": true
   },
   "outputs": [],
   "source": [
    "performance = spark.read.parquet(temp_performance + '/2/')"
   ]
  },
  {
   "cell_type": "markdown",
   "metadata": {},
   "source": [
    "***Now we are going to count the number of months a LOAN is active***"
   ]
  },
  {
   "cell_type": "code",
   "execution_count": 89,
   "metadata": {},
   "outputs": [],
   "source": [
    "performance_grouped = performance.groupBy('LOAN_ID').agg(F.count(F.substring(F.col('Monthly_Rpt_Prd'),1,2)).alias('Count'))"
   ]
  },
  {
   "cell_type": "code",
   "execution_count": 90,
   "metadata": {},
   "outputs": [],
   "source": [
    "performance = performance.join(performance_grouped.select('LOAN_ID', 'Count'), ['LOAN_ID'], 'left')"
   ]
  },
  {
   "cell_type": "markdown",
   "metadata": {},
   "source": [
    "***Obtain the date of the first time each loan was modified***"
   ]
  },
  {
   "cell_type": "code",
   "execution_count": 91,
   "metadata": {},
   "outputs": [],
   "source": [
    "performance = performance.withColumn('FMOD_DTE', F.lit(F.first('Monthly_Rpt_Prd').over(Window.partitionBy('LOAN_ID')\\\n",
    "        .orderBy(F.desc('MOD_FLAG')))))\\\n",
    "                         .withColumn('FMOD_UPB', F.lit(F.first('LAST_UPB').over(Window.partitionBy('LOAN_ID')\\\n",
    "        .orderBy(F.desc('MOD_FLAG')))))"
   ]
  },
  {
   "cell_type": "markdown",
   "metadata": {},
   "source": [
    "***Obtain the date and UPB of each loan's first credit event***"
   ]
  },
  {
   "cell_type": "code",
   "execution_count": 92,
   "metadata": {},
   "outputs": [],
   "source": [
    "performance = performance.withColumn('x', F.when((F.col('Zero_Bal_Code') == '03') | \n",
    "                                                  (F.col('Zero_Bal_Code') == '09') |\n",
    "                                                  ((F.col('Delq_Status') < 999) &\n",
    "                                                   (F.col('Delq_Status') >= 6)), F.lit(1)).otherwise(0))\\\n",
    "                    .withColumn('FCE_DTE',F.lit(F.first('Monthly_Rpt_Prd').over(Window.partitionBy('LOAN_ID').orderBy(F.desc('x')))))\\\n",
    "                    .withColumn('FCE_UPB',F.lit(F.first('LAST_UPB').over(Window.partitionBy('LOAN_ID').orderBy(F.desc('x')))))\\\n",
    "                    .withColumn('SPDelq1',F.lit(F.first('Delq_Status').over(Window.partitionBy('LOAN_ID').orderBy(F.desc('x')))))\\\n",
    "                    .withColumn('CountFC',F.lit(F.first('Count').over(Window.partitionBy('LOAN_ID').orderBy(F.desc('x'))))).drop('x')\n",
    "    "
   ]
  },
  {
   "cell_type": "markdown",
   "metadata": {},
   "source": [
    "***Obtain the date and UPB of each loan's becoming 180 days delinquent***"
   ]
  },
  {
   "cell_type": "code",
   "execution_count": 93,
   "metadata": {},
   "outputs": [],
   "source": [
    "performance = performance.withColumn('x', F.when(((F.col('Delq_Status') < 999) &\n",
    "                                                   (F.col('Delq_Status') >= 6)), F.lit(1)).otherwise(0))\\\n",
    "                    .withColumn('F180_DTE',F.lit(F.first('Monthly_Rpt_Prd').over(Window.partitionBy('LOAN_ID').orderBy(F.desc('x')))))\\\n",
    "                    .withColumn('F180_UPB',F.lit(F.first('LAST_UPB').over(Window.partitionBy('LOAN_ID').orderBy(F.desc('x')))))\\\n",
    "                    .withColumn('SPDelq2',F.lit(F.first('Delq_Status').over(Window.partitionBy('LOAN_ID').orderBy(F.desc('x')))))\\\n",
    "                    .withColumn('CountF1',F.lit(F.first('Count').over(Window.partitionBy('LOAN_ID').orderBy(F.desc('x'))))).drop('x')\n",
    "    "
   ]
  },
  {
   "cell_type": "markdown",
   "metadata": {},
   "source": [
    "***Define the last status of a loan***"
   ]
  },
  {
   "cell_type": "code",
   "execution_count": 94,
   "metadata": {},
   "outputs": [],
   "source": [
    "performance = performance.withColumn('LAST_STAT', F.when(F.col('Zero_Bal_Code') == '01', F.lit('P'))\\\n",
    "                              .otherwise(F.when(F.col('Zero_Bal_Code') == '02', F.lit('T'))\\\n",
    "                              .otherwise(F.when(F.col('Zero_Bal_Code') == '03', F.lit('S'))\\\n",
    "                              .otherwise(F.when(F.col('Zero_Bal_Code') == '06', F.lit('R'))\\\n",
    "                              .otherwise(F.when(F.col('Zero_Bal_Code') == '09', F.lit('F'))\\\n",
    "                              .otherwise(F.when(F.col('Zero_Bal_Code') == '15', F.lit('N'))\\\n",
    "                              .otherwise(F.when(F.col('Zero_Bal_Code') == '16', F.lit('L'))\\\n",
    "                              .otherwise(F.when(F.col('Delq_Status') == '999', F.lit('X'))\\\n",
    "                              .otherwise(F.when(F.col('Delq_Status') > 9, F.lit('9'))\\\n",
    "                              .otherwise(F.when(F.col('Delq_Status') == 0, F.lit('C')).otherwise(F.col('Delq_Status'))))))))))))"
   ]
  },
  {
   "cell_type": "code",
   "execution_count": 95,
   "metadata": {},
   "outputs": [],
   "source": [
    "performance.write.parquet(temp_performance + '/3/', mode = 'overwrite')"
   ]
  },
  {
   "cell_type": "code",
   "execution_count": 96,
   "metadata": {
    "scrolled": true
   },
   "outputs": [],
   "source": [
    "performance = spark.read.parquet(temp_performance + '/3/')"
   ]
  },
  {
   "cell_type": "markdown",
   "metadata": {},
   "source": [
    "***Now we summarize the performance dataset by keeping the last row of a loan's activity***"
   ]
  },
  {
   "cell_type": "code",
   "execution_count": 97,
   "metadata": {},
   "outputs": [],
   "source": [
    "performance_last = performance.withColumn('last', F.lit(F.last('Monthly_Rpt_Prd').over(Window.partitionBy('LOAN_ID'))))\\\n",
    "                                .where(F.col('Monthly_Rpt_Prd') == F.col('last')).drop('last')"
   ]
  },
  {
   "cell_type": "markdown",
   "metadata": {},
   "source": [
    "***Persist in order to gain performance***"
   ]
  },
  {
   "cell_type": "code",
   "execution_count": 98,
   "metadata": {},
   "outputs": [
    {
     "data": {
      "text/plain": [
       "9366882"
      ]
     },
     "execution_count": 98,
     "metadata": {},
     "output_type": "execute_result"
    }
   ],
   "source": [
    "performance_last.count()"
   ]
  },
  {
   "cell_type": "code",
   "execution_count": 99,
   "metadata": {},
   "outputs": [],
   "source": [
    "udf_date = F.udf(lambda x: parse_closing_date(x), DateType())"
   ]
  },
  {
   "cell_type": "code",
   "execution_count": 100,
   "metadata": {},
   "outputs": [],
   "source": [
    "udf_date1 = F.udf(lambda x: parse_closing_date1(x), DateType())"
   ]
  },
  {
   "cell_type": "code",
   "execution_count": 101,
   "metadata": {},
   "outputs": [],
   "source": [
    "performance_last = performance_last.fillna('01/01/9999', ['LPI_DTE', 'FCC_DTE', 'DISP_DT']).fillna('01/9999', ['ZB_DTE'])\\\n",
    "                         .withColumn('DISP_DT', udf_date(F.col('DISP_DT')))\\\n",
    "                         .withColumn('LPI_DTE', udf_date(F.col('LPI_DTE')))\\\n",
    "                         .withColumn('FCC_DTE', udf_date(F.col('FCC_DTE')))\\\n",
    "                         .withColumn('ZB_DTE', udf_date1(F.col('ZB_DTE')))\\\n",
    "                         .withColumn('Monthly_Rpt_Prd', udf_date(F.col('Monthly_Rpt_Prd')))"
   ]
  },
  {
   "cell_type": "markdown",
   "metadata": {},
   "source": [
    "***Calculate the months between Last Paid Installment and Disposition date (for Lost Interest Calculation)***"
   ]
  },
  {
   "cell_type": "code",
   "execution_count": 102,
   "metadata": {},
   "outputs": [],
   "source": [
    "performance_last = performance_last.withColumn('lpi2disp', F.months_between(F.col('DISP_DT'), F.col('LPI_DTE')).cast('integer'))\\\n",
    "                                   .withColumn('lpi2disp', F.when(F.col('lpi2disp') < 0, F.col('lpi2disp')*(-1))\\\n",
    "                                                .otherwise(F.when(F.col('lpi2disp') > 100, F.lit('Nulo'))))\\\n",
    "                                   .withColumn('zb2disp', F.months_between(F.col('DISP_DT'), F.col('ZB_DTE')).cast('integer'))\\\n",
    "                                   .withColumn('zb2disp', F.when(F.col('zb2disp') < 0, F.col('zb2disp')*(-1))\\\n",
    "                                                .otherwise(F.when((F.col('zb2disp') > 100) |\n",
    "                                                                  (F.col('zb2disp').isNull()), F.lit('Nulo')).otherwise(F.col('zb2disp'))))"
   ]
  },
  {
   "cell_type": "code",
   "execution_count": 103,
   "metadata": {},
   "outputs": [],
   "source": [
    "performance_last.write.parquet(temp_performance + '/4/', mode = 'overwrite')"
   ]
  },
  {
   "cell_type": "code",
   "execution_count": 104,
   "metadata": {
    "scrolled": true
   },
   "outputs": [],
   "source": [
    "performance_last = spark.read.parquet(temp_performance + '/4/')"
   ]
  },
  {
   "cell_type": "markdown",
   "metadata": {},
   "source": [
    "***Calculate Interest Cost, total expenses and total proceeds***"
   ]
  },
  {
   "cell_type": "code",
   "execution_count": 105,
   "metadata": {},
   "outputs": [],
   "source": [
    "performance_last = performance_last.withColumn('INT_COST', F.lit(F.col('FIN_UPB')*(((F.col('LAST_RT')/100) - 0.0035)/12)*F.col('lpi2disp')))\\\n",
    "                                   .withColumn('INT_COST', F.when(F.col('INT_COST') < 0, F.lit(0)).otherwise(F.col('INT_COST')))"
   ]
  },
  {
   "cell_type": "code",
   "execution_count": 106,
   "metadata": {},
   "outputs": [],
   "source": [
    "performance_last = performance_last.fillna(0.0, ['PP_COST', \n",
    "                                            'AR_COST', \n",
    "                                            'TAX_COST',\n",
    "                                            'FCC_COST',\n",
    "                                            'IE_COST']).withColumn('total_expense', F.col('FCC_COST') + \n",
    "                                                                                   F.col('PP_COST') + \n",
    "                                                                                   F.col('AR_COST') + \n",
    "                                                                                   F.col('TAX_COST') + \n",
    "                                                                                   F.col('IE_COST'))"
   ]
  },
  {
   "cell_type": "code",
   "execution_count": 107,
   "metadata": {},
   "outputs": [],
   "source": [
    "performance_last = performance_last.fillna(0.0, ['NS_PROCS', \n",
    "                                                 'CE_PROCS', \n",
    "                                                 'RMW_PROCS',\n",
    "                                                 'O_PROCS']).withColumn('total_proceeds', ((F.col('NS_PROCS') + \n",
    "                                                                                             F.col('CE_PROCS') + \n",
    "                                                                                             F.col('RMW_PROCS') + \n",
    "                                                                                             F.col('O_PROCS'))*(-1)))"
   ]
  },
  {
   "cell_type": "markdown",
   "metadata": {},
   "source": [
    "***Calculate the Net Loss, Net Severity, Total Costs, Total Proceeds and Liquidation Expenses. Define Last Date variable***"
   ]
  },
  {
   "cell_type": "code",
   "execution_count": 108,
   "metadata": {},
   "outputs": [],
   "source": [
    "performance_last = performance_last.fillna(0.0, ['LAST_UPB', \n",
    "                                                 'INT_COST', \n",
    "                                                 'total_expense',\n",
    "                                                 'total_proceeds']).withColumn('NET_LOSS', F.lit(F.col('LAST_UPB') + \n",
    "                                                                                                 F.col('INT_COST') + \n",
    "                                                                                                 F.col('total_expense') + \n",
    "                                                                                                 F.col('total_proceeds')))"
   ]
  },
  {
   "cell_type": "code",
   "execution_count": 109,
   "metadata": {},
   "outputs": [],
   "source": [
    "performance_last = performance_last.fillna(0.0, ['LAST_UPB', \n",
    "                                                 'INT_COST', \n",
    "                                                 'total_expense',\n",
    "                                                 'total_proceeds']).withColumn('NET_SEV',F.lit((F.col('LAST_UPB') + \n",
    "                                                                                             F.col('INT_COST') + \n",
    "                                                                                             F.col('total_expense') + \n",
    "                                                                                             F.col('total_proceeds'))/F.col('LAST_UPB'))).fillna(0.0, ['NET_SEV'])"
   ]
  },
  {
   "cell_type": "code",
   "execution_count": 110,
   "metadata": {},
   "outputs": [],
   "source": [
    "performance_last = performance_last.fillna(0.0, ['LAST_UPB', \n",
    "                                                 'INT_COST', \n",
    "                                                 'FCC_COST',\n",
    "                                                 'PP_COST',\n",
    "                                                 'AR_COST',\n",
    "                                                 'IE_COST',\n",
    "                                                 'TAX_COST']).withColumn('Total_Cost', F.lit(F.col('LAST_UPB') + \n",
    "                                                                                             F.col('INT_COST') + \n",
    "                                                                                             F.col('FCC_COST') + \n",
    "                                                                                             F.col('PP_COST') + \n",
    "                                                                                             F.col('AR_COST') + \n",
    "                                                                                             F.col('IE_COST') + \n",
    "                                                                                             F.col('TAX_COST')))"
   ]
  },
  {
   "cell_type": "code",
   "execution_count": 111,
   "metadata": {},
   "outputs": [],
   "source": [
    "performance_last = performance_last.fillna(0.0, ['NS_PROCS', \n",
    "                                                 'CE_PROCS', \n",
    "                                                 'RMW_PROCS',\n",
    "                                                 'O_PROCS']).withColumn('Tot_Procs', F.lit(F.col('NS_PROCS') + \n",
    "                                                                                         F.col('CE_PROCS') + \n",
    "                                                                                         F.col('RMW_PROCS') + \n",
    "                                                                                         F.col('O_PROCS')))"
   ]
  },
  {
   "cell_type": "code",
   "execution_count": 112,
   "metadata": {},
   "outputs": [],
   "source": [
    "performance_last = performance_last.fillna(0.0, ['FCC_COST', \n",
    "                                                 'PP_COST', \n",
    "                                                 'AR_COST',\n",
    "                                                 'IE_COST',\n",
    "                                                 'TAX_COST']).withColumn('Tot_Liq_Ex', F.lit(F.col('FCC_COST') + \n",
    "                                                                                     F.col('PP_COST') + \n",
    "                                                                                     F.col('AR_COST') + \n",
    "                                                                                     F.col('IE_COST') + \n",
    "                                                                                     F.col('TAX_COST')))"
   ]
  },
  {
   "cell_type": "code",
   "execution_count": 113,
   "metadata": {},
   "outputs": [],
   "source": [
    "performance_last = performance_last.withColumn('LAST_DTE', F.col('DISP_DT'))"
   ]
  },
  {
   "cell_type": "code",
   "execution_count": 114,
   "metadata": {},
   "outputs": [],
   "source": [
    "performance = performance_last.drop('Count', \n",
    "                               'Monthly_Rpt_Prd', \n",
    "                               'ZB_DTE', \n",
    "                               'ORIG_RT', \n",
    "                               'Servicer_Name', \n",
    "                               'Loan_Age', \n",
    "                               'Months_To_Legal_Mat', \n",
    "                               'Adj_Month_To_Mat', \n",
    "                               'Maturity_Date', \n",
    "                               'Delq_Status', \n",
    "                               'total_expense', \n",
    "                               'total_proceeds', \n",
    "                               'lpi2disp')"
   ]
  },
  {
   "cell_type": "markdown",
   "metadata": {},
   "source": [
    "***Merge together full Acquisitions and Performance Data***"
   ]
  },
  {
   "cell_type": "code",
   "execution_count": 115,
   "metadata": {},
   "outputs": [],
   "source": [
    "combined_data = acquisitions.join(performance, 'LOAN_ID', 'full')"
   ]
  },
  {
   "cell_type": "code",
   "execution_count": 116,
   "metadata": {},
   "outputs": [],
   "source": [
    "combined_data.write.parquet(temp_combined, mode = 'overwrite')"
   ]
  },
  {
   "cell_type": "code",
   "execution_count": 117,
   "metadata": {
    "scrolled": true
   },
   "outputs": [],
   "source": [
    "combined_data = spark.read.parquet(temp_combined)"
   ]
  },
  {
   "cell_type": "code",
   "execution_count": 118,
   "metadata": {},
   "outputs": [
    {
     "data": {
      "text/plain": [
       "9366884"
      ]
     },
     "execution_count": 118,
     "metadata": {},
     "output_type": "execute_result"
    }
   ],
   "source": [
    "combined_data.count()"
   ]
  },
  {
   "cell_type": "markdown",
   "metadata": {},
   "source": [
    "***Create Vintage Year and Activity Year Attributes, set missing F180_UPB and FCE_UPB equal to ORIG_AMT if the loan goes to delinquency during first six month of loan activity***"
   ]
  },
  {
   "cell_type": "code",
   "execution_count": 119,
   "metadata": {},
   "outputs": [],
   "source": [
    "combined_data = combined_data.withColumn('VinYr', F.substring(F.col('ORIG_DTE'), 4, 4))\\\n",
    "                             .withColumn('ActYr', F.year(F.col('LAST_DTE'))) \\\n",
    "                             .withColumn('DispYr', F.when(F.col('DISP_DT').isNotNull(), F.substring(F.col('DISP_DT'), 1, 4)).otherwise(F.lit('NO_DISP_DT')))"
   ]
  },
  {
   "cell_type": "code",
   "execution_count": 120,
   "metadata": {},
   "outputs": [],
   "source": [
    "combined_data = combined_data.withColumn('F180_UPB', F.when((F.col('SPDelq2') == 6) &\n",
    "                                                            (F.col('CountF1') <= 6) &\n",
    "                                                            ((F.col('F180_UPB') == 0) |\n",
    "                                                             (F.col('F180_UPB').isNull())), F.col('ORIG_AMT'))\\\n",
    "                                          .otherwise(F.when((F.col('F180_UPB').isNotNull()), F.col('F180_UPB')).otherwise(F.lit(0))))"
   ]
  },
  {
   "cell_type": "code",
   "execution_count": 121,
   "metadata": {},
   "outputs": [],
   "source": [
    "combined_data = combined_data.withColumn('FCE_UPB', F.when((F.col('SPDelq1') == 6) &\n",
    "                                                           (F.col('CountFC') <= 6) &\n",
    "                                                           ((F.col('FCE_UPB') == 0) |\n",
    "                                                            (F.col('FCE_UPB').isNull())), F.col('ORIG_AMT'))\\\n",
    "                                         .otherwise(F.when((F.col('FCE_UPB').isNotNull()), F.col('FCE_UPB')).otherwise(F.lit(0))))"
   ]
  },
  {
   "cell_type": "markdown",
   "metadata": {},
   "source": [
    "***Calculate Modification Costs when loans default***"
   ]
  },
  {
   "cell_type": "code",
   "execution_count": 122,
   "metadata": {},
   "outputs": [],
   "source": [
    "combined_data = combined_data.withColumn('MODIR_COST', F.when((F.col('MOD_FLAG') == 'Y') &\n",
    "                                              (F.col('DISP_DT').isNotNull()), \n",
    "                                               F.lit((F.col('zb2disp')*((F.col('ORIG_RT') - F.col('LAST_RT'))/1200)*F.col('LAST_UPB')) + F.col('c_modir_cost'))).otherwise(F.lit(0)))\\\n",
    "                             .withColumn('MODFB_COST', F.when((F.col('MOD_FLAG') == 'Y') &\n",
    "                                              ((F.col('NON_INT_UPB').isNotNull()) |\n",
    "                                               (F.col('NON_INT_UPB') == 0)), \n",
    "                                               F.lit((F.col('zb2disp')*(F.col('LAST_RT')/1200)*((-1)*(F.col('NON_INT_UPB')))) + F.col('c_modfb_cost'))).otherwise(F.lit(0)))"
   ]
  },
  {
   "cell_type": "code",
   "execution_count": 123,
   "metadata": {},
   "outputs": [],
   "source": [
    "combined_data = combined_data.withColumn('MODTOT_COST', F.col('modfg_cost') +\n",
    "                                                        F.col('MODIR_COST') +\n",
    "                                                        F.col('MODFB_COST'))"
   ]
  },
  {
   "cell_type": "code",
   "execution_count": 124,
   "metadata": {},
   "outputs": [],
   "source": [
    "combined_data = combined_data.drop('SPDelq1',\n",
    "                                   'SPDelq2',\n",
    "                                   'CountF1',\n",
    "                                   'CountFC',\n",
    "                                   'modfg_cost',\n",
    "                                   'modir_cost')"
   ]
  },
  {
   "cell_type": "markdown",
   "metadata": {},
   "source": [
    "***Drop Loans whose Origination Process is not defined***"
   ]
  },
  {
   "cell_type": "code",
   "execution_count": 125,
   "metadata": {},
   "outputs": [],
   "source": [
    "combined_data = combined_data.where(F.col('ORIG_CHN').isNotNull())"
   ]
  },
  {
   "cell_type": "code",
   "execution_count": 126,
   "metadata": {},
   "outputs": [],
   "source": [
    "combined_data.write.parquet(temp_combined + '/1/', mode = 'overwrite')"
   ]
  },
  {
   "cell_type": "code",
   "execution_count": 9,
   "metadata": {
    "scrolled": true
   },
   "outputs": [],
   "source": [
    "combined_data = spark.read.parquet(temp_combined + '/1/')"
   ]
  },
  {
   "cell_type": "markdown",
   "metadata": {},
   "source": [
    "# 4. Analyzer"
   ]
  },
  {
   "cell_type": "code",
   "execution_count": 10,
   "metadata": {},
   "outputs": [
    {
     "name": "stdout",
     "output_type": "stream",
     "text": [
      "+------------+--------+-------+--------+--------+--------+--------+----+-----+------+---+--------+--------+-------+--------+--------+--------+-----+-----+------+--------+-------+--------------+---------+--------+-------+---------+-----+--------+-------------+----------+----------+----------+--------+-------+-------+-------+--------+--------+--------+---------+-------+-----------+----------+------------+-------------+-----------+-----------+---------+----------+------------+------------+----------+---------+----------+---------+----------+---------+---------+-------+--------+---------+-------+----------+---------+----------+----------+-----+-----+------+----------+----------+-----------+\n",
      "|     LOAN_ID|ORIG_CHN|ORIG_RT|ORIG_AMT|ORIG_TRM|ORIG_DTE|FRST_DTE|OLTV|OCLTV|NUM_BO|DTI|CSCORE_B|FTHB_FLG|PURPOSE|PROP_TYP|NUM_UNIT|OCC_STAT|STATE|ZIP_3|MI_PCT|CSCORE_C|MI_TYPE|RELOCATION_FLG|CSCORE_MN|ORIG_VAL|LAST_RT| LAST_UPB|  MSA|MOD_FLAG|Zero_Bal_Code|   LPI_DTE|   FCC_DTE|   DISP_DT|FCC_COST|PP_COST|AR_COST|IE_COST|TAX_COST|NS_PROCS|CE_PROCS|RMW_PROCS|O_PROCS|NON_INT_UPB|REPCH_FLAG|TRANSFER_FLG|PRIN_FORG_UPB|MODTRM_CHNG|MODUPB_CHNG|  FIN_UPB|modfb_cost|c_modir_cost|c_modfb_cost|  FMOD_DTE| FMOD_UPB|   FCE_DTE|  FCE_UPB|  F180_DTE| F180_UPB|LAST_STAT|zb2disp|INT_COST| NET_LOSS|NET_SEV|Total_Cost|Tot_Procs|Tot_Liq_Ex|  LAST_DTE|VinYr|ActYr|DispYr|MODIR_COST|MODFB_COST|MODTOT_COST|\n",
      "+------------+--------+-------+--------+--------+--------+--------+----+-----+------+---+--------+--------+-------+--------+--------+--------+-----+-----+------+--------+-------+--------------+---------+--------+-------+---------+-----+--------+-------------+----------+----------+----------+--------+-------+-------+-------+--------+--------+--------+---------+-------+-----------+----------+------------+-------------+-----------+-----------+---------+----------+------------+------------+----------+---------+----------+---------+----------+---------+---------+-------+--------+---------+-------+----------+---------+----------+----------+-----+-----+------+----------+----------+-----------+\n",
      "|100029343670|       C|   3.75|   81000|     180| 11/2014| 01/2015|  64|   64|     1| 35|     802|       N|      R|      SF|       1|       I|   TX|  750|  null|     802|   null|             N|      802|126562.5|   3.75| 54619.88|19100|       N|         null|9999-01-01|9999-01-01|9999-01-01|     0.0|    0.0|    0.0|    0.0|     0.0|     0.0|     0.0|      0.0|    0.0|        0.0|      null|           N|         -0.0|          0|          0| 54619.88|       0.0|         0.0|         0.0|12/01/2014| 78968.65|12/01/2014| 78968.65|12/01/2014| 78968.65|        C|      0|     0.0| 54619.88|    1.0|  54619.88|      0.0|       0.0|9999-01-01| 2014| 9999|  9999|       0.0|       0.0|        0.0|\n",
      "|100036566317|       C|  4.125|  194000|     360| 09/2016| 11/2016|  80|   80|     1| 34|     678|       Y|      P|      PU|       1|       P|   TX|  750|  null|     678|   null|             N|      678|242500.0|  4.125|183846.37|19100|       N|         null|9999-01-01|9999-01-01|9999-01-01|     0.0|    0.0|    0.0|    0.0|     0.0|     0.0|     0.0|      0.0|    0.0|        0.0|      null|           N|         -0.0|          0|          0|183846.37|       0.0|         0.0|         0.0|11/01/2016|192102.84|11/01/2016|192102.84|11/01/2016|192102.84|        C|      0|     0.0|183846.37|    1.0| 183846.37|      0.0|       0.0|9999-01-01| 2016| 9999|  9999|       0.0|       0.0|        0.0|\n",
      "|100037635725|       B|    3.0|  356000|     180| 02/2016| 04/2016|  77|   77|     2| 37|     744|       N|      R|      PU|       1|       P|   IN|  460|  null|     751|   null|             N|      744|462337.7|    3.0|286632.78|26900|       N|         null|9999-01-01|9999-01-01|9999-01-01|     0.0|    0.0|    0.0|    0.0|     0.0|     0.0|     0.0|      0.0|    0.0|        0.0|      null|           N|         -0.0|          0|          0|286632.78|       0.0|         0.0|         0.0|03/01/2016|346530.18|03/01/2016|346530.18|03/01/2016|346530.18|        C|      0|     0.0|286632.78|    1.0| 286632.78|      0.0|       0.0|9999-01-01| 2016| 9999|  9999|       0.0|       0.0|        0.0|\n",
      "|100075037796|       C|   4.25|  223000|     360| 01/2017| 03/2017|  95|   95|     2| 37|     794|       N|      P|      PU|       1|       P|   NE|  681|    30|     791|      1|             N|      791|234736.8|   4.25| 223000.0|36540|       N|            1|9999-01-01|9999-01-01|9999-01-01|     0.0|    0.0|    0.0|    0.0|     0.0|     0.0|     0.0|      0.0|    0.0|        0.0|         N|        null|         -0.0|          0|          0| 223000.0|       0.0|         0.0|         0.0|03/01/2017| 223000.0|03/01/2017| 223000.0|03/01/2017| 223000.0|        P|   Nulo|     0.0| 223000.0|    1.0|  223000.0|      0.0|       0.0|9999-01-01| 2017| 9999|  9999|       0.0|       0.0|        0.0|\n",
      "|100085289964|       C|    4.5|  180000|     360| 06/2014| 08/2014|  80|   80|     2| 27|     780|       N|      P|      SF|       1|       P|   MI|  483|  null|     795|   null|             N|      780|225000.0|    4.5|176041.32|19820|       N|            1|9999-01-01|9999-01-01|9999-01-01|     0.0|    0.0|    0.0|    0.0|     0.0|     0.0|     0.0|      0.0|    0.0|        0.0|         N|        null|         -0.0|          0|          0|176041.32|       0.0|         0.0|         0.0|08/01/2014|178268.74|08/01/2014|178268.74|08/01/2014|178268.74|        P|   Nulo|     0.0|176041.32|    1.0| 176041.32|      0.0|       0.0|9999-01-01| 2014| 9999|  9999|       0.0|       0.0|        0.0|\n",
      "|100092572770|       C|    3.5|   42000|     240| 05/2015| 07/2015|  29|   29|     1| 25|     769|       N|      C|      SF|       1|       P|   IN|  475|  null|     769|   null|             N|      769|144827.6|    3.5| 35568.24|    0|       N|            1|9999-01-01|9999-01-01|9999-01-01|     0.0|    0.0|    0.0|    0.0|     0.0|     0.0|     0.0|      0.0|    0.0|        0.0|         N|        null|         -0.0|          0|          0| 35568.24|       0.0|         0.0|         0.0|05/01/2015| 40996.85|05/01/2015| 40996.85|05/01/2015| 40996.85|        P|   Nulo|     0.0| 35568.24|    1.0|  35568.24|      0.0|       0.0|9999-01-01| 2015| 9999|  9999|       0.0|       0.0|        0.0|\n",
      "|100094252280|       B|  3.875|  200000|     360| 07/2017| 09/2017|  38|   38|     1| 39|     732|       N|      C|      SF|       1|       P|   CA|  913|  null|     732|   null|             N|      732|526315.8|  3.875| 192324.2|31080|       N|         null|9999-01-01|9999-01-01|9999-01-01|     0.0|    0.0|    0.0|    0.0|     0.0|     0.0|     0.0|      0.0|    0.0|        0.0|      null|           N|         -0.0|          0|          0| 192324.2|       0.0|         0.0|         0.0|08/01/2017|198214.38|08/01/2017|198214.38|08/01/2017|198214.38|        C|      0|     0.0| 192324.2|    1.0|  192324.2|      0.0|       0.0|9999-01-01| 2017| 9999|  9999|       0.0|       0.0|        0.0|\n",
      "|100097254369|       R|  3.875|  162000|     240| 06/2017| 08/2017|  88|   88|     1| 32|     782|       Y|      P|      SF|       1|       P|   TX|  760|    12|     782|      1|             N|      782|184090.9|  3.875|149797.25|19100|       N|         null|9999-01-01|9999-01-01|9999-01-01|     0.0|    0.0|    0.0|    0.0|     0.0|     0.0|     0.0|      0.0|    0.0|        0.0|      null|           N|         -0.0|          0|          0|149797.25|       0.0|         0.0|         0.0|07/01/2017|159211.95|07/01/2017|159211.95|07/01/2017|159211.95|        C|      0|     0.0|149797.25|    1.0| 149797.25|      0.0|       0.0|9999-01-01| 2017| 9999|  9999|       0.0|       0.0|        0.0|\n",
      "|100156141536|       R|   3.65|  109000|     240| 12/2014| 02/2015|  64|   64|     2| 21|     800|       N|      R|      SF|       1|       P|   WI|  549|  null|     798|   null|             N|      798|170312.5|   3.65| 109000.0|11540|       N|            1|9999-01-01|9999-01-01|9999-01-01|     0.0|    0.0|    0.0|    0.0|     0.0|     0.0|     0.0|      0.0|    0.0|        0.0|         N|        null|         -0.0|          0|          0| 109000.0|       0.0|         0.0|         0.0|01/01/2015| 109000.0|01/01/2015| 109000.0|01/01/2015| 109000.0|        P|   Nulo|     0.0| 109000.0|    1.0|  109000.0|      0.0|       0.0|9999-01-01| 2014| 9999|  9999|       0.0|       0.0|        0.0|\n",
      "|100188377830|       R|   3.75|  230000|     360| 11/2015| 01/2016|  90|   90|     2| 17|     768|       N|      R|      SF|       1|       P|   ID|  832|    25|     781|      1|             N|      768|255555.6|   3.75|212891.07|38540|       N|         null|9999-01-01|9999-01-01|9999-01-01|     0.0|    0.0|    0.0|    0.0|     0.0|     0.0|     0.0|      0.0|    0.0|        0.0|      null|           N|         -0.0|          0|          0|212891.07|       0.0|         0.0|         0.0|01/01/2016| 227552.2|01/01/2016| 227552.2|01/01/2016| 227552.2|        C|      0|     0.0|212891.07|    1.0| 212891.07|      0.0|       0.0|9999-01-01| 2015| 9999|  9999|       0.0|       0.0|        0.0|\n",
      "|100196373121|       R|    4.5|  212000|     360| 09/2015| 11/2015|  80|   80|     1| 11|     681|       N|      P|      CO|       1|       P|   PA|  150|  null|     681|   null|             N|      681|265000.0|    4.5|197680.43|38300|       N|         null|9999-01-01|9999-01-01|9999-01-01|     0.0|    0.0|    0.0|    0.0|     0.0|     0.0|     0.0|      0.0|    0.0|        0.0|      null|           N|         -0.0|          0|          0|197680.43|       0.0|         0.0|         0.0|11/01/2015|210023.62|11/01/2015|210023.62|11/01/2015|210023.62|        C|      0|     0.0|197680.43|    1.0| 197680.43|      0.0|       0.0|9999-01-01| 2015| 9999|  9999|       0.0|       0.0|        0.0|\n",
      "|100228689240|       B|  3.875|  291000|     360| 11/2016| 01/2017|  84|   84|     2| 30|     689|       Y|      P|      SF|       1|       P|   VA|  233|    12|     749|      1|             N|      689|346428.6|  3.875|282155.76|47260|       N|            1|9999-01-01|9999-01-01|9999-01-01|     0.0|    0.0|    0.0|    0.0|     0.0|     0.0|     0.0|      0.0|    0.0|        0.0|         N|        null|         -0.0|          0|          0|282155.76|       0.0|         0.0|         0.0|12/01/2016|287987.87|12/01/2016|287987.87|12/01/2016|287987.87|        P|   Nulo|     0.0|282155.76|    1.0| 282155.76|      0.0|       0.0|9999-01-01| 2016| 9999|  9999|       0.0|       0.0|        0.0|\n",
      "|100245685385|       C|  3.875|  178000|     360| 08/2016| 10/2016|  97|   97|     1| 29|     774|       Y|      P|      SF|       1|       P|   TX|  760|    35|     774|      1|             N|      774|183505.2|  3.875|170202.69|19100|       N|            1|9999-01-01|9999-01-01|9999-01-01|     0.0|    0.0|    0.0|    0.0|     0.0|     0.0|     0.0|      0.0|    0.0|        0.0|         N|        null|         -0.0|          0|          0|170202.69|       0.0|         0.0|         0.0|10/01/2016| 176350.1|10/01/2016| 176350.1|10/01/2016| 176350.1|        P|   Nulo|     0.0|170202.69|    1.0| 170202.69|      0.0|       0.0|9999-01-01| 2016| 9999|  9999|       0.0|       0.0|        0.0|\n",
      "|100249077606|       R|    3.4|   55000|     180| 10/2014| 12/2014|  36|   36|     2| 26|     819|       N|      P|      SF|       1|       P|   TN|  371|  null|     804|   null|             N|      804|152777.8|    3.4| 44549.31|34980|       N|            1|9999-01-01|9999-01-01|9999-01-01|     0.0|    0.0|    0.0|    0.0|     0.0|     0.0|     0.0|      0.0|    0.0|        0.0|         N|        null|         -0.0|          0|          0| 44549.31|       0.0|         0.0|         0.0|11/01/2014| 53581.98|11/01/2014| 53581.98|11/01/2014| 53581.98|        P|   Nulo|     0.0| 44549.31|    1.0|  44549.31|      0.0|       0.0|9999-01-01| 2014| 9999|  9999|       0.0|       0.0|        0.0|\n",
      "|100277138164|       B|  3.875|  225000|     360| 08/2016| 10/2016|  75|   75|     2| 27|     753|       N|      R|      CO|       1|       I|   CA|  921|  null|     759|   null|             N|      753|300000.0|  3.875|209640.94|41740|       N|         null|9999-01-01|9999-01-01|9999-01-01|     0.0|    0.0|    0.0|    0.0|     0.0|     0.0|     0.0|      0.0|    0.0|        0.0|      null|           N|         -0.0|          0|          0|209640.94|       0.0|         0.0|         0.0|09/01/2016|222725.08|09/01/2016|222725.08|09/01/2016|222725.08|        C|      0|     0.0|209640.94|    1.0| 209640.94|      0.0|       0.0|9999-01-01| 2016| 9999|  9999|       0.0|       0.0|        0.0|\n",
      "|100313544239|       C|   3.25|   87000|     180| 07/2015| 10/2015|  44|   44|     2| 22|     641|       N|      C|      PU|       1|       P|   VA|  231|  null|     643|   null|             N|      641|197727.3|   3.25| 67380.07|40060|       N|         null|9999-01-01|9999-01-01|9999-01-01|     0.0|    0.0|    0.0|    0.0|     0.0|     0.0|     0.0|      0.0|    0.0|        0.0|      null|           N|         -0.0|          0|          0| 67380.07|       0.0|         0.0|         0.0|09/01/2015| 84243.53|09/01/2015| 84243.53|09/01/2015| 84243.53|        C|      0|     0.0| 67380.07|    1.0|  67380.07|      0.0|       0.0|9999-01-01| 2015| 9999|  9999|       0.0|       0.0|        0.0|\n",
      "|100359129484|       C|   4.75|   49000|     360| 08/2015| 10/2015|  82|  100|     1| 24|     695|       Y|      P|      SF|       1|       P|   IL|  623|     6|     695|      1|             N|      695| 59756.1|   4.75| 44629.97|    0|       N|         null|9999-01-01|9999-01-01|9999-01-01|     0.0|    0.0|    0.0|    0.0|     0.0|     0.0|     0.0|      0.0|    0.0|        0.0|      null|           N|         -0.0|          0|          0| 44629.97|       0.0|         0.0|         0.0|01/01/2016| 48308.25|01/01/2016| 48308.25|01/01/2016| 48308.25|        C|      0|     0.0| 44629.97|    1.0|  44629.97|      0.0|       0.0|9999-01-01| 2015| 9999|  9999|       0.0|       0.0|        0.0|\n",
      "|100387459460|       R|  4.125|   90000|     360| 06/2017| 08/2017|  60|   60|     2| 11|     816|       N|      P|      SF|       1|       P|   NC|  278|  null|     813|   null|             N|      813|150000.0|  4.125|  1496.85|    0|       N|         null|9999-01-01|9999-01-01|9999-01-01|     0.0|    0.0|    0.0|    0.0|     0.0|     0.0|     0.0|      0.0|    0.0|        0.0|      null|           N|         -0.0|          0|          0|  1496.85|       0.0|         0.0|         0.0|07/01/2017| 87872.88|07/01/2017| 87872.88|07/01/2017| 87872.88|        C|      0|     0.0|  1496.85|    1.0|   1496.85|      0.0|       0.0|9999-01-01| 2017| 9999|  9999|       0.0|       0.0|        0.0|\n",
      "|100392776279|       C|  3.875|  213000|     360| 12/2017| 02/2018|  85|   85|     2| 24|     760|       Y|      P|      PU|       1|       P|   NC|  275|    12|     760|      1|             N|      760|250588.2|  3.875| 200150.0|39580|       N|         null|9999-01-01|9999-01-01|9999-01-01|     0.0|    0.0|    0.0|    0.0|     0.0|     0.0|     0.0|      0.0|    0.0|        0.0|      null|           N|         -0.0|          0|          0| 200150.0|       0.0|         0.0|         0.0|02/01/2018|208655.02|02/01/2018|208655.02|02/01/2018|208655.02|        C|      0|     0.0| 200150.0|    1.0|  200150.0|      0.0|       0.0|9999-01-01| 2017| 9999|  9999|       0.0|       0.0|        0.0|\n",
      "|100394897992|       B|  4.875|  186000|     360| 09/2018| 11/2018|  75|   75|     2| 24|     778|       N|      P|      CO|       1|       I|   NC|  287|  null|     760|   null|             N|      760|248000.0|  4.875|183432.53|11700|       N|         null|9999-01-01|9999-01-01|9999-01-01|     0.0|    0.0|    0.0|    0.0|     0.0|     0.0|     0.0|      0.0|    0.0|        0.0|      null|           N|         -0.0|          0|          0|183432.53|       0.0|         0.0|         0.0|10/01/2018|184613.77|10/01/2018|184613.77|10/01/2018|184613.77|        C|      0|     0.0|183432.53|    1.0| 183432.53|      0.0|       0.0|9999-01-01| 2018| 9999|  9999|       0.0|       0.0|        0.0|\n",
      "+------------+--------+-------+--------+--------+--------+--------+----+-----+------+---+--------+--------+-------+--------+--------+--------+-----+-----+------+--------+-------+--------------+---------+--------+-------+---------+-----+--------+-------------+----------+----------+----------+--------+-------+-------+-------+--------+--------+--------+---------+-------+-----------+----------+------------+-------------+-----------+-----------+---------+----------+------------+------------+----------+---------+----------+---------+----------+---------+---------+-------+--------+---------+-------+----------+---------+----------+----------+-----+-----+------+----------+----------+-----------+\n",
      "only showing top 20 rows\n",
      "\n"
     ]
    }
   ],
   "source": [
    "combined_data.show()"
   ]
  },
  {
   "cell_type": "markdown",
   "metadata": {},
   "source": [
    "## 4.1. NULL Treatment"
   ]
  },
  {
   "cell_type": "code",
   "execution_count": 11,
   "metadata": {},
   "outputs": [
    {
     "data": {
      "text/html": [
       "<div>\n",
       "<style scoped>\n",
       "    .dataframe tbody tr th:only-of-type {\n",
       "        vertical-align: middle;\n",
       "    }\n",
       "\n",
       "    .dataframe tbody tr th {\n",
       "        vertical-align: top;\n",
       "    }\n",
       "\n",
       "    .dataframe thead th {\n",
       "        text-align: right;\n",
       "    }\n",
       "</style>\n",
       "<table border=\"1\" class=\"dataframe\">\n",
       "  <thead>\n",
       "    <tr style=\"text-align: right;\">\n",
       "      <th></th>\n",
       "      <th>DTI</th>\n",
       "      <th>MI_PCT</th>\n",
       "      <th>MI_TYPE</th>\n",
       "      <th>LAST_RT</th>\n",
       "      <th>LAST_UPB</th>\n",
       "      <th>MSA</th>\n",
       "      <th>MOD_FLAG</th>\n",
       "      <th>Zero_Bal_Code</th>\n",
       "      <th>LPI_DTE</th>\n",
       "      <th>FCC_DTE</th>\n",
       "      <th>...</th>\n",
       "      <th>zb2disp</th>\n",
       "      <th>INT_COST</th>\n",
       "      <th>NET_LOSS</th>\n",
       "      <th>NET_SEV</th>\n",
       "      <th>Total_Cost</th>\n",
       "      <th>Tot_Procs</th>\n",
       "      <th>Tot_Liq_Ex</th>\n",
       "      <th>LAST_DTE</th>\n",
       "      <th>ActYr</th>\n",
       "      <th>MODTOT_COST</th>\n",
       "    </tr>\n",
       "  </thead>\n",
       "  <tbody>\n",
       "    <tr>\n",
       "      <th>0</th>\n",
       "      <td>1976</td>\n",
       "      <td>6696295</td>\n",
       "      <td>6696295</td>\n",
       "      <td>2</td>\n",
       "      <td>2</td>\n",
       "      <td>2</td>\n",
       "      <td>2</td>\n",
       "      <td>6854886</td>\n",
       "      <td>2</td>\n",
       "      <td>2</td>\n",
       "      <td>...</td>\n",
       "      <td>2</td>\n",
       "      <td>2</td>\n",
       "      <td>2</td>\n",
       "      <td>2</td>\n",
       "      <td>2</td>\n",
       "      <td>2</td>\n",
       "      <td>2</td>\n",
       "      <td>2</td>\n",
       "      <td>2</td>\n",
       "      <td>2</td>\n",
       "    </tr>\n",
       "  </tbody>\n",
       "</table>\n",
       "<p>1 rows × 45 columns</p>\n",
       "</div>"
      ],
      "text/plain": [
       "    DTI   MI_PCT  MI_TYPE  LAST_RT  LAST_UPB  MSA  MOD_FLAG  Zero_Bal_Code  \\\n",
       "0  1976  6696295  6696295        2         2    2         2        6854886   \n",
       "\n",
       "   LPI_DTE  FCC_DTE  ...  zb2disp  INT_COST  NET_LOSS  NET_SEV  Total_Cost  \\\n",
       "0        2        2  ...        2         2         2        2           2   \n",
       "\n",
       "   Tot_Procs  Tot_Liq_Ex  LAST_DTE  ActYr  MODTOT_COST  \n",
       "0          2           2         2      2            2  \n",
       "\n",
       "[1 rows x 45 columns]"
      ]
     },
     "execution_count": 11,
     "metadata": {},
     "output_type": "execute_result"
    }
   ],
   "source": [
    "combined_data.agg(*[F.count(F.when(F.isnull(c),c)).alias(c) for c in combined_data.columns if combined_data.where(F.col(c).isNull()).count() > 0]).toPandas().head()"
   ]
  },
  {
   "cell_type": "markdown",
   "metadata": {},
   "source": [
    "### 4.1.1. Debt to Income Ratio (DTI)"
   ]
  },
  {
   "cell_type": "markdown",
   "metadata": {},
   "source": [
    "The debt-to-income ratio is a personal finance measure that compares an individual's monthly debt paymont to his/her monthly gross income. A DTI of 43% is tipically the highest ratio a borrower can have and still get qualified for a mortgage, although lenders seek ratios of no more than 36%. Instead of dropping those loans without the DTI informed, I am going to fill these nulls with the mean value of the whole Dataset."
   ]
  },
  {
   "cell_type": "code",
   "execution_count": 12,
   "metadata": {},
   "outputs": [
    {
     "name": "stdout",
     "output_type": "stream",
     "text": [
      "The mean value of the debt to income ratio is 34.27013905818701\n"
     ]
    }
   ],
   "source": [
    "print ('The mean value of the debt to income ratio is', combined_data.agg(F.mean('DTI').alias('DTI')).collect()[0][0])"
   ]
  },
  {
   "cell_type": "code",
   "execution_count": 13,
   "metadata": {},
   "outputs": [],
   "source": [
    "df = combined_data.withColumn('DTI', F.when(F.col('DTI').isNull(), F.lit(combined_data.agg(F.mean('DTI').alias('DTI')).collect()[0][0])).otherwise(F.col('DTI')))"
   ]
  },
  {
   "cell_type": "markdown",
   "metadata": {},
   "source": [
    "### 4.1.2. Primary Mortgage Insurance Percent (MI_PCT)"
   ]
  },
  {
   "cell_type": "markdown",
   "metadata": {},
   "source": [
    "The original percentage of mortgage insurance coverage obtained following the ocurrence of an event of default to calculate the insurance benefit. This field will be drop as it will not be used during the training."
   ]
  },
  {
   "cell_type": "code",
   "execution_count": 14,
   "metadata": {},
   "outputs": [],
   "source": [
    "df = df.drop('MI_PCT')"
   ]
  },
  {
   "cell_type": "markdown",
   "metadata": {},
   "source": [
    "### 4.1.2. Mortgage Insurance Type (MI_TYPE)"
   ]
  },
  {
   "cell_type": "markdown",
   "metadata": {},
   "source": [
    "The entity that is responsible for the Mortgage Insurance premium payment"
   ]
  },
  {
   "cell_type": "code",
   "execution_count": 15,
   "metadata": {},
   "outputs": [],
   "source": [
    "df = df.drop('MI_TYPE')"
   ]
  },
  {
   "cell_type": "markdown",
   "metadata": {},
   "source": [
    "### 4.1.3. Current Actual Rate (LAST_RT) and Current Actual UPB (LAST_UPB)"
   ]
  },
  {
   "cell_type": "markdown",
   "metadata": {},
   "source": [
    "This fields represent the current actual outstanding unpaid pincipal balance of the mortgage loan and the rate of interest in effect for the periodic installment due. As there were only two rows where this two fields where null, this rows will dropped."
   ]
  },
  {
   "cell_type": "code",
   "execution_count": 16,
   "metadata": {},
   "outputs": [],
   "source": [
    "df = df.where((F.col('LAST_RT').isNotNull()) |\n",
    "              (F.col('LAST_UPB').isNotNull()))"
   ]
  },
  {
   "cell_type": "markdown",
   "metadata": {},
   "source": [
    "### 4.1.4. Zero Balance Code (Zero_Bal_Code)"
   ]
  },
  {
   "cell_type": "markdown",
   "metadata": {},
   "source": [
    "A code indicating the reason the mortgage loan's balance was reduced to zero, which could help us understand which type of loans are prepaid, short sale, repurchased, etc. The null values will be filled with the value 'Not-Zero' to indicate the loan is still unpaid."
   ]
  },
  {
   "cell_type": "code",
   "execution_count": 17,
   "metadata": {},
   "outputs": [],
   "source": [
    "df = df.withColumn('Zero_Bal_Code', F.when(F.col('Zero_Bal_Code').isNull(), F.lit('Not-Zero')).otherwise(F.col('Zero_Bal_Code')))"
   ]
  },
  {
   "cell_type": "markdown",
   "metadata": {},
   "source": [
    "### 4.1.5. Repurchase Make Whole Proceeds Flag (REPCH_FLAG)"
   ]
  },
  {
   "cell_type": "markdown",
   "metadata": {},
   "source": [
    "Indicates if Fannie Mae received proceeds under the terms of its representation and warranty arrangements for the repurchase of the mortgage loan. This field won't be necessary."
   ]
  },
  {
   "cell_type": "code",
   "execution_count": 18,
   "metadata": {},
   "outputs": [],
   "source": [
    "df = df.drop('REPCH_FLAG')"
   ]
  },
  {
   "cell_type": "markdown",
   "metadata": {},
   "source": [
    "### 4.1.6. Servicing Activity Indicator (TRANSFER_FLG)"
   ]
  },
  {
   "cell_type": "markdown",
   "metadata": {},
   "source": [
    "An indicator that denotes a charge in servicing activity during the corresponging reporting period."
   ]
  },
  {
   "cell_type": "code",
   "execution_count": 19,
   "metadata": {},
   "outputs": [],
   "source": [
    "df = df.drop('TRANSFER_FLG')"
   ]
  },
  {
   "cell_type": "markdown",
   "metadata": {},
   "source": [
    "### 4.1.7. Metropolitan Statistical Area (MSA)"
   ]
  },
  {
   "cell_type": "markdown",
   "metadata": {},
   "source": [
    "An indicator that denotes if a property is inside a Metropolitan Area. As there are only 2 values uninformed, they will be deleted."
   ]
  },
  {
   "cell_type": "code",
   "execution_count": 20,
   "metadata": {},
   "outputs": [],
   "source": [
    "df = df.where(F.col('MSA').isNotNull())"
   ]
  },
  {
   "cell_type": "markdown",
   "metadata": {},
   "source": [
    "### 4.1.7. Final Check"
   ]
  },
  {
   "cell_type": "code",
   "execution_count": 21,
   "metadata": {},
   "outputs": [
    {
     "data": {
      "text/plain": [
       "[]"
      ]
     },
     "execution_count": 21,
     "metadata": {},
     "output_type": "execute_result"
    }
   ],
   "source": [
    "[print (c, df.where(F.col(c).isNull()).count()) for c in df.columns if df.where(F.col(c).isNull()).count() > 0]"
   ]
  },
  {
   "cell_type": "markdown",
   "metadata": {},
   "source": [
    "There aren't any nulls anymore, we can proceed with the preprocessing of the data."
   ]
  },
  {
   "cell_type": "markdown",
   "metadata": {},
   "source": [
    "## 4.2. Preprocess Data"
   ]
  },
  {
   "cell_type": "markdown",
   "metadata": {},
   "source": [
    "- **Preprocess Data**: First of all I am going to 'tag' a subset of the data, to determine whose loans are profitable to investors and lenders to purchase or sell by the borrower's information and the behaviour of the loan: \n",
    "    - **CSCORE_MN**: credit score of the borrower/coborrower, where a credit greater than 670 indicates good credit score.\n",
    "    - **OLTV/OCLTV**: the percentage of the total value of the property that is provided by the lender. A lower OLTV than 80 % secures lower interest, but Fannie mae allow ratios of 97% but require mortgage insurance until the ratio falls to 80%.\n",
    "    - **DTI**: personal finance measure that compares an individual’s monthly debt payment to his or her monthly gross income(pay before taxes and other deductions taken out). A DTI of 43% is typically the highest ratio a borrower can have and still get qualified for a mortgage, but lenders generally seek ratios of no more than 36%\n",
    "    - **ORIG_AMT**: The original amount of the mortgage loan as indicated by the mortgage contract, also known as the original principal balance. The lower this value is, the more likelyhood to get a loan.\n",
    "    - **NUM_BO**: The number of borrowers obligated to pay the mortgage loan. The bigger the number, the easier it will be to pay back the mortgage and thus the easier to receive the loan.\n",
    "    - **SATO**: Another calculated variable is called spread at origination (SATO), which is the difference between the loan’s interest rate, and the prevailing market rate at the time of origination. Typically borrowers with weaker credit get higher rates, so we’d expect a larger value of SATO to correlate to higher default rates(percentage of all outstanding loans that a lender has written off after 270 days of missed payments.\n",
    "    - **NET_SEV**: net total loss to Fannie Mae, as a percentage of defaulted UPB. It is usually represented as a percentage, and is sometimes referred to as a 'loss given default' statistic. The greater the net severity, the more costs associated with the loan.\n",
    "\n",
    "- **BUCKETS**: In order to determine whether a loan is profitable or not I will make use of this fields, creating buckets with values from 1 to 5, and performing an average. When the average is greater than 3. the loan could be profitable and will be marked with a '1'."
   ]
  },
  {
   "cell_type": "code",
   "execution_count": 22,
   "metadata": {},
   "outputs": [],
   "source": [
    "summary_statistics_sato = df.withColumn('SATO1', F.col('ORIG_RT')*F.col('ORIG_AMT'))\\\n",
    "                             .withColumn('SATO2', F.col('ORIG_AMT')).groupBy('ORIG_DTE').agg((F.round(F.sum('SATO1')/F.sum('SATO2'), 2)).alias('Avg_NoteRt'))\\\n",
    "                                                    .orderBy(F.substring(F.col('ORIG_DTE'), 4,4), F.substring(F.col('ORIG_DTE'), 1,2))"
   ]
  },
  {
   "cell_type": "code",
   "execution_count": 23,
   "metadata": {},
   "outputs": [],
   "source": [
    "df = df.join(summary_statistics_sato, 'ORIG_DTE', 'left')"
   ]
  },
  {
   "cell_type": "code",
   "execution_count": 24,
   "metadata": {},
   "outputs": [],
   "source": [
    "df = df.withColumn('SATO', F.round(F.col('ORIG_RT') - F.col('Avg_NoteRt'),2))"
   ]
  },
  {
   "cell_type": "code",
   "execution_count": 25,
   "metadata": {},
   "outputs": [],
   "source": [
    "df = df.withColumn('FicoBkt', F.when((F.col('CSCORE_MN') > 0) & \n",
    "                                     (F.col('CSCORE_MN') <= 620), F.lit(0))\\\n",
    "                         .otherwise(F.when((F.col('CSCORE_MN') > 620) & \n",
    "                                           (F.col('CSCORE_MN') <= 660), F.lit(1))\\\n",
    "                         .otherwise(F.when((F.col('CSCORE_MN') > 660) & \n",
    "                                           (F.col('CSCORE_MN') <= 700), F.lit(2))\\\n",
    "                         .otherwise(F.when((F.col('CSCORE_MN') > 700) & \n",
    "                                           (F.col('CSCORE_MN') <= 740), F.lit(3))\\\n",
    "                         .otherwise(F.when((F.col('CSCORE_MN') > 740) & \n",
    "                                           (F.col('CSCORE_MN') <= 780), F.lit(4))\\\n",
    "                         .otherwise(F.when((F.col('CSCORE_MN') > 780), F.lit(5))))))))"
   ]
  },
  {
   "cell_type": "code",
   "execution_count": 26,
   "metadata": {},
   "outputs": [],
   "source": [
    "df = df.withColumn('OcltvBkt', F.when((F.col('OCLTV') > 0) & \n",
    "                                     ( F.col('OCLTV') <= 60), F.lit(5))\\\n",
    "                         .otherwise(F.when((F.col('OCLTV') > 65) & \n",
    "                                           (F.col('OCLTV') <= 70), F.lit(4))\\\n",
    "                         .otherwise(F.when((F.col('OCLTV') > 75) & \n",
    "                                           (F.col('OCLTV') <= 80), F.lit(3))\\\n",
    "                         .otherwise(F.when((F.col('OCLTV') > 80) & \n",
    "                                           (F.col('OCLTV') <= 85), F.lit(2))\\\n",
    "                         .otherwise(F.when((F.col('OCLTV') > 90) & \n",
    "                                           (F.col('OCLTV') <= 97), F.lit(1))\\\n",
    "                         .otherwise(F.when((F.col('OCLTV') > 97), F.lit(0))))))))"
   ]
  },
  {
   "cell_type": "code",
   "execution_count": 27,
   "metadata": {},
   "outputs": [],
   "source": [
    "df = df.withColumn('OltvBkt', F.when((F.col('OLTV') > 0) & \n",
    "                                      (F.col('OLTV') <= 60), F.lit(5))\\\n",
    "                         .otherwise(F.when((F.col('OLTV') > 65) & \n",
    "                                           (F.col('OLTV') <= 70), F.lit(4))\\\n",
    "                         .otherwise(F.when((F.col('OLTV') > 75) & \n",
    "                                           (F.col('OLTV') <= 80), F.lit(3))\\\n",
    "                         .otherwise(F.when((F.col('OLTV') > 80) & \n",
    "                                           (F.col('OLTV') <= 85), F.lit(2))\\\n",
    "                         .otherwise(F.when((F.col('OLTV') > 90) & \n",
    "                                           (F.col('OLTV') <= 97), F.lit(1))\\\n",
    "                         .otherwise(F.when((F.col('OLTV') > 97), F.lit(0))))))))"
   ]
  },
  {
   "cell_type": "code",
   "execution_count": 28,
   "metadata": {},
   "outputs": [],
   "source": [
    "df = df.withColumn('DtiBkt', F.when((F.col('DTI') > 0) & \n",
    "                                    (F.col('DTI') <= 10), F.lit(5))\\\n",
    "                         .otherwise(F.when((F.col('DTI') > 20) & \n",
    "                                           (F.col('DTI') <= 30), F.lit(4))\\\n",
    "                         .otherwise(F.when((F.col('DTI') > 20) & \n",
    "                                           (F.col('DTI') <= 30), F.lit(3))\\\n",
    "                         .otherwise(F.when((F.col('DTI') > 30) & \n",
    "                                           (F.col('DTI') <= 40), F.lit(2))\\\n",
    "                         .otherwise(F.when((F.col('DTI') > 40) & \n",
    "                                           (F.col('DTI') <= 45), F.lit(1))\\\n",
    "                         .otherwise(F.when((F.col('DTI') > 45), F.lit(0))))))))"
   ]
  },
  {
   "cell_type": "code",
   "execution_count": 29,
   "metadata": {},
   "outputs": [],
   "source": [
    "df = df.withColumn('OrigAmtBkt', F.when((F.col('ORIG_AMT') > 0) & \n",
    "                                           (F.col('ORIG_AMT') <= 100000), F.lit(5))\\\n",
    "                         .otherwise(F.when((F.col('ORIG_AMT') > 100000) & \n",
    "                                           (F.col('ORIG_AMT') <= 150000), F.lit(4))\\\n",
    "                         .otherwise(F.when((F.col('ORIG_AMT') > 150000) & \n",
    "                                           (F.col('ORIG_AMT') <= 200000), F.lit(3))\\\n",
    "                         .otherwise(F.when((F.col('ORIG_AMT') > 250000) & \n",
    "                                           (F.col('ORIG_AMT') <= 300000), F.lit(2))\\\n",
    "                         .otherwise(F.when((F.col('ORIG_AMT') > 350000) & \n",
    "                                           (F.col('ORIG_AMT') <= 400000), F.lit(1))\\\n",
    "                         .otherwise(F.when((F.col('ORIG_AMT') > 400000), F.lit(0))))))))"
   ]
  },
  {
   "cell_type": "code",
   "execution_count": 30,
   "metadata": {},
   "outputs": [],
   "source": [
    "df = df.withColumn('NumBoBkt', F.when((F.col('NUM_BO') == 1), F.lit(2))\\\n",
    "                         .otherwise(F.when((F.col('NUM_BO') == 2), F.lit(3)).otherwise(F.lit(4))))"
   ]
  },
  {
   "cell_type": "code",
   "execution_count": 31,
   "metadata": {},
   "outputs": [],
   "source": [
    "df = df.withColumn('SATOBkt', F.when((F.col('SATO') <= (-2)), F.lit(5))\\\n",
    "                         .otherwise(F.when((F.col('SATO') > (-2)) & \n",
    "                                           (F.col('SATO') <= (-1)), F.lit(4))\\\n",
    "                         .otherwise(F.when((F.col('SATO') > (-1)) & \n",
    "                                           (F.col('SATO') <= 0), F.lit(3))\\\n",
    "                         .otherwise(F.when((F.col('SATO') > 0) & \n",
    "                                           (F.col('SATO') <= 1), F.lit(2))\\\n",
    "                         .otherwise(F.when((F.col('SATO') > 1) & \n",
    "                                           (F.col('SATO') <= 2), F.lit(1))\\\n",
    "                         .otherwise(F.when((F.col('SATO') > 2), F.lit(0))))))))"
   ]
  },
  {
   "cell_type": "code",
   "execution_count": 32,
   "metadata": {},
   "outputs": [],
   "source": [
    "df = df.withColumn('SevBkt', F.when((F.col('NET_SEV') <= (-1)), F.lit(5))\\\n",
    "                         .otherwise(F.when((F.col('NET_SEV') > (-1)) & \n",
    "                                           (F.col('NET_SEV') <= (-0.5)), F.lit(4))\\\n",
    "                         .otherwise(F.when((F.col('NET_SEV') > (-0.5)) & \n",
    "                                           (F.col('NET_SEV') <= 0), F.lit(3))\\\n",
    "                         .otherwise(F.when((F.col('NET_SEV') > 0) & \n",
    "                                           (F.col('NET_SEV') <= 0.5), F.lit(2))\\\n",
    "                         .otherwise(F.when((F.col('NET_SEV') > 0.5) & \n",
    "                                           (F.col('NET_SEV') <= 1), F.lit(1))\\\n",
    "                         .otherwise(F.when((F.col('NET_SEV') > 1), F.lit(0))))))))"
   ]
  },
  {
   "cell_type": "code",
   "execution_count": 33,
   "metadata": {},
   "outputs": [],
   "source": [
    "df = df.withColumn('LastStatBkt', F.when((F.col('LAST_STAT') == 'C'), F.lit(5))\\\n",
    "                         .otherwise(F.when((F.col('LAST_STAT') == 'P'), F.lit(4))\\\n",
    "                         .otherwise(F.when((F.col('LAST_STAT').isin('1','5','R','2','3','4')), F.lit(2)))))"
   ]
  },
  {
   "cell_type": "code",
   "execution_count": 34,
   "metadata": {},
   "outputs": [],
   "source": [
    "df = df.fillna(0, ['FicoBkt',\n",
    "             'OcltvBkt',\n",
    "             'OltvBkt',\n",
    "             'DtiBkt',\n",
    "             'OrigAmtBkt',\n",
    "             'NumBoBkt',\n",
    "             'SATOBkt',\n",
    "             'SevBkt',\n",
    "             'LastStatBkt']).withColumn('x', F.round((F.col('FicoBkt')+\n",
    "                   F.col('OcltvBkt')+\n",
    "                   F.col('OltvBkt')+\n",
    "                   F.col('DtiBkt')+\n",
    "                   F.col('OrigAmtBkt')+\n",
    "                   F.col('NumBoBkt')+\n",
    "                   F.col('SATOBkt')+\n",
    "                   F.col('SevBkt')+\n",
    "                   F.col('LastStatBkt'))/9, 1)).withColumn('profitable', F.when(F.col('x') > 3.2, F.lit(1)).otherwise(F.lit(0))).drop('x')"
   ]
  },
  {
   "cell_type": "code",
   "execution_count": 35,
   "metadata": {},
   "outputs": [
    {
     "name": "stdout",
     "output_type": "stream",
     "text": [
      "The percentage of loans that are profitable is 11.53\n"
     ]
    }
   ],
   "source": [
    "print ('The percentage of loans that are profitable is %4.2f' % round(df.where(F.col('profitable') == 1).count()*100/df.count(), 2))"
   ]
  },
  {
   "cell_type": "markdown",
   "metadata": {},
   "source": [
    "## 4.3. Field Treatment"
   ]
  },
  {
   "cell_type": "code",
   "execution_count": 36,
   "metadata": {},
   "outputs": [
    {
     "name": "stdout",
     "output_type": "stream",
     "text": [
      "+--------+------------+--------+-------+--------+--------+--------+----+-----+------+----+--------+--------+-------+--------+--------+--------+-----+-----+--------+--------------+---------+--------+-------+---------+-----+--------+-------------+----------+----------+----------+--------+-------+-------+-------+--------+--------+--------+---------+-------+-----------+-------------+-----------+-----------+---------+----------+------------+------------+----------+---------+----------+---------+----------+---------+---------+-------+--------+---------+-------+----------+---------+----------+----------+-----+-----+------+----------+----------+-----------+----------+-----+-------+--------+-------+------+----------+--------+-------+------+-----------+----------+\n",
      "|ORIG_DTE|     LOAN_ID|ORIG_CHN|ORIG_RT|ORIG_AMT|ORIG_TRM|FRST_DTE|OLTV|OCLTV|NUM_BO| DTI|CSCORE_B|FTHB_FLG|PURPOSE|PROP_TYP|NUM_UNIT|OCC_STAT|STATE|ZIP_3|CSCORE_C|RELOCATION_FLG|CSCORE_MN|ORIG_VAL|LAST_RT| LAST_UPB|  MSA|MOD_FLAG|Zero_Bal_Code|   LPI_DTE|   FCC_DTE|   DISP_DT|FCC_COST|PP_COST|AR_COST|IE_COST|TAX_COST|NS_PROCS|CE_PROCS|RMW_PROCS|O_PROCS|NON_INT_UPB|PRIN_FORG_UPB|MODTRM_CHNG|MODUPB_CHNG|  FIN_UPB|modfb_cost|c_modir_cost|c_modfb_cost|  FMOD_DTE| FMOD_UPB|   FCE_DTE|  FCE_UPB|  F180_DTE| F180_UPB|LAST_STAT|zb2disp|INT_COST| NET_LOSS|NET_SEV|Total_Cost|Tot_Procs|Tot_Liq_Ex|  LAST_DTE|VinYr|ActYr|DispYr|MODIR_COST|MODFB_COST|MODTOT_COST|Avg_NoteRt| SATO|FicoBkt|OcltvBkt|OltvBkt|DtiBkt|OrigAmtBkt|NumBoBkt|SATOBkt|SevBkt|LastStatBkt|profitable|\n",
      "+--------+------------+--------+-------+--------+--------+--------+----+-----+------+----+--------+--------+-------+--------+--------+--------+-----+-----+--------+--------------+---------+--------+-------+---------+-----+--------+-------------+----------+----------+----------+--------+-------+-------+-------+--------+--------+--------+---------+-------+-----------+-------------+-----------+-----------+---------+----------+------------+------------+----------+---------+----------+---------+----------+---------+---------+-------+--------+---------+-------+----------+---------+----------+----------+-----+-----+------+----------+----------+-----------+----------+-----+-------+--------+-------+------+----------+--------+-------+------+-----------+----------+\n",
      "| 10/2013|114992590427|       C|  5.125|  179000|     360| 12/2013|  95|   95|     1|37.0|     765|       N|      P|      CO|       1|       P|   MA|   10|     765|             N|      765|188421.1|  5.125|167421.15|44140|       N|            1|9999-01-01|9999-01-01|9999-01-01|     0.0|    0.0|    0.0|    0.0|     0.0|     0.0|     0.0|      0.0|    0.0|        0.0|         -0.0|          0|          0|167421.15|       0.0|         0.0|         0.0|01/01/2014|176915.75|01/01/2014|176915.75|01/01/2014|176915.75|        P|   Nulo|     0.0|167421.15|    1.0| 167421.15|      0.0|       0.0|9999-01-01| 2013| 9999|  9999|       0.0|       0.0|        0.0|      4.47| 0.66|      4|       1|      1|     2|         3|       2|      2|     1|          4|         0|\n",
      "| 10/2013|117428017139|       C|   4.25|  328000|     360| 12/2013|  80|   80|     1|34.0|     814|       N|      P|      SF|       1|       P|   VA|  223|     814|             N|      814|410000.0|   4.25|292172.79|47900|       N|     Not-Zero|9999-01-01|9999-01-01|9999-01-01|     0.0|    0.0|    0.0|    0.0|     0.0|     0.0|     0.0|      0.0|    0.0|        0.0|         -0.0|          0|          0|292172.79|       0.0|         0.0|         0.0|01/01/2014|324339.73|01/01/2014|324339.73|01/01/2014|324339.73|        C|      0|     0.0|292172.79|    1.0| 292172.79|      0.0|       0.0|9999-01-01| 2013| 9999|  9999|       0.0|       0.0|        0.0|      4.47|-0.22|      5|       3|      3|     2|         0|       2|      3|     1|          5|         0|\n",
      "| 10/2013|145072241310|       R|   4.75|   69000|     360| 12/2013|  80|   80|     1|22.0|     801|       Y|      P|      CO|       1|       P|   IL|  604|     801|             N|      801| 86250.0|   4.75| 61833.38|16980|       N|     Not-Zero|9999-01-01|9999-01-01|9999-01-01|     0.0|    0.0|    0.0|    0.0|     0.0|     0.0|     0.0|      0.0|    0.0|        0.0|         -0.0|          0|          0| 61833.38|       0.0|         0.0|         0.0|01/01/2014|  68097.8|01/01/2014|  68097.8|01/01/2014|  68097.8|        C|      0|     0.0| 61833.38|    1.0|  61833.38|      0.0|       0.0|9999-01-01| 2013| 9999|  9999|       0.0|       0.0|        0.0|      4.47| 0.28|      5|       3|      3|     4|         5|       2|      2|     1|          5|         1|\n",
      "| 10/2013|207032892808|       R|  4.875|   66000|     360| 12/2013|  50|   50|     1|43.0|     642|       N|      C|      SF|       1|       P|   RI|   28|     642|             N|      642|132000.0|  4.875| 62098.79|39300|       N|            1|9999-01-01|9999-01-01|9999-01-01|     0.0|    0.0|    0.0|    0.0|     0.0|     0.0|     0.0|      0.0|    0.0|        0.0|         -0.0|          0|          0| 62098.79|       0.0|         0.0|         0.0|01/01/2014| 65341.45|01/01/2014| 65341.45|01/01/2014| 65341.45|        P|   Nulo|     0.0| 62098.79|    1.0|  62098.79|      0.0|       0.0|9999-01-01| 2013| 9999|  9999|       0.0|       0.0|        0.0|      4.47| 0.41|      1|       5|      5|     1|         5|       2|      2|     1|          4|         0|\n",
      "| 10/2013|219672013617|       C|   4.75|  179000|     180| 01/2014|  80|   80|     1|32.0|     636|       N|      C|      PU|       1|       P|   IN|  461|     636|             N|      636|223750.0|   4.75|146547.06|26900|       N|            1|9999-01-01|9999-01-01|9999-01-01|     0.0|    0.0|    0.0|    0.0|     0.0|     0.0|     0.0|      0.0|    0.0|        0.0|         -0.0|          0|          0|146547.06|       0.0|         0.0|         0.0|02/01/2014|172993.99|02/01/2014|172993.99|02/01/2014|172993.99|        P|   Nulo|     0.0|146547.06|    1.0| 146547.06|      0.0|       0.0|9999-01-01| 2013| 9999|  9999|       0.0|       0.0|        0.0|      4.47| 0.28|      1|       3|      3|     2|         3|       2|      2|     1|          4|         0|\n",
      "| 10/2013|221995197507|       R|    5.5|  120000|     360| 12/2013|  76|   76|     2|35.0|     715|       N|      C|      SF|       1|       P|   TX|  775|     724|             N|      715|157894.7|    5.5|117448.48|26420|       N|            1|9999-01-01|9999-01-01|9999-01-01|     0.0|    0.0|    0.0|    0.0|     0.0|     0.0|     0.0|      0.0|    0.0|        0.0|         -0.0|          0|          0|117448.48|       0.0|         0.0|         0.0|02/01/2014|117873.71|02/01/2014|117873.71|02/01/2014|117873.71|        P|   Nulo|     0.0|117448.48|    1.0| 117448.48|      0.0|       0.0|9999-01-01| 2013| 9999|  9999|       0.0|       0.0|        0.0|      4.47| 1.03|      3|       3|      3|     2|         4|       3|      1|     1|          4|         0|\n",
      "| 10/2013|260109834205|       C|    4.5|  227000|     360| 12/2013|  76|   76|     2|44.0|     776|       N|      C|      PU|       1|       P|   MD|  212|     802|             N|      776|298684.2|    4.5|203122.43|12580|       N|     Not-Zero|9999-01-01|9999-01-01|9999-01-01|     0.0|    0.0|    0.0|    0.0|     0.0|     0.0|     0.0|      0.0|    0.0|        0.0|         -0.0|          0|          0|203122.43|       0.0|         0.0|         0.0|02/01/2014| 224268.9|02/01/2014| 224268.9|02/01/2014| 224268.9|        C|      0|     0.0|203122.43|    1.0| 203122.43|      0.0|       0.0|9999-01-01| 2013| 9999|  9999|       0.0|       0.0|        0.0|      4.47| 0.03|      4|       3|      3|     1|         0|       3|      2|     1|          5|         0|\n",
      "| 10/2013|286000715275|       C|  4.625|  337000|     360| 01/2014|  95|   95|     2|42.0|     762|       N|      R|      SF|       1|       P|   UT|  840|     711|             N|      711|354736.8|  4.625|312160.36|36260|       N|            1|9999-01-01|9999-01-01|9999-01-01|     0.0|    0.0|    0.0|    0.0|     0.0|     0.0|     0.0|      0.0|    0.0|        0.0|         -0.0|          0|          0|312160.36|       0.0|         0.0|         0.0|01/01/2014|333701.18|01/01/2014|333701.18|01/01/2014|333701.18|        P|   Nulo|     0.0|312160.36|    1.0| 312160.36|      0.0|       0.0|9999-01-01| 2013| 9999|  9999|       0.0|       0.0|        0.0|      4.47| 0.16|      3|       1|      1|     1|         0|       3|      2|     1|          4|         0|\n",
      "| 10/2013|286208744060|       C|  4.625|  417000|     360| 12/2013|  70|   70|     2|23.0|     793|       N|      P|      CO|       1|       P|   TX|  787|     801|             N|      793|595714.3|  4.625| 136000.0|12420|       N|     Not-Zero|9999-01-01|9999-01-01|9999-01-01|     0.0|    0.0|    0.0|    0.0|     0.0|     0.0|     0.0|      0.0|    0.0|        0.0|         -0.0|          0|          0| 136000.0|       0.0|         0.0|         0.0|01/01/2014|407523.89|01/01/2014|407523.89|01/01/2014|407523.89|        C|      0|     0.0| 136000.0|    1.0|  136000.0|      0.0|       0.0|9999-01-01| 2013| 9999|  9999|       0.0|       0.0|        0.0|      4.47| 0.16|      5|       4|      4|     4|         0|       3|      2|     1|          5|         0|\n",
      "| 10/2013|302274728957|       C|   5.25|  194000|     360| 12/2013|  97|  101|     1|42.0|     704|       Y|      P|      SF|       1|       P|   MN|  554|     704|             N|      704|200000.0|   5.25|183228.66|33460|       N|            1|9999-01-01|9999-01-01|9999-01-01|     0.0|    0.0|    0.0|    0.0|     0.0|     0.0|     0.0|      0.0|    0.0|        0.0|         -0.0|          0|          0|183228.66|       0.0|         0.0|         0.0|01/01/2014|192192.26|01/01/2014|192192.26|01/01/2014|192192.26|        P|   Nulo|     0.0|183228.66|    1.0| 183228.66|      0.0|       0.0|9999-01-01| 2013| 9999|  9999|       0.0|       0.0|        0.0|      4.47| 0.78|      3|       0|      1|     1|         3|       2|      2|     1|          4|         0|\n",
      "| 10/2013|358742411121|       C|    4.5|  295000|     360| 12/2013|  80|   80|     1|33.0|     737|       N|      P|      PU|       1|       P|   CA|  930|     737|             N|      737|368750.0|    4.5|264147.18|37100|       N|     Not-Zero|9999-01-01|9999-01-01|9999-01-01|     0.0|    0.0|    0.0|    0.0|     0.0|     0.0|     0.0|      0.0|    0.0|        0.0|         -0.0|          0|          0|264147.18|       0.0|         0.0|         0.0|01/01/2014|292048.96|01/01/2014|292048.96|01/01/2014|292048.96|        C|      0|     0.0|264147.18|    1.0| 264147.18|      0.0|       0.0|9999-01-01| 2013| 9999|  9999|       0.0|       0.0|        0.0|      4.47| 0.03|      3|       3|      3|     2|         2|       2|      2|     1|          5|         0|\n",
      "| 10/2013|394787600758|       R|  4.375|   78000|     180| 12/2013|  80|   80|     2|14.0|     806|       N|      C|      SF|       1|       P|   MI|  482|     779|             N|      779| 97500.0|  4.375|  78000.0|19820|       N|            1|9999-01-01|9999-01-01|9999-01-01|     0.0|    0.0|    0.0|    0.0|     0.0|     0.0|     0.0|      0.0|    0.0|        0.0|         -0.0|          0|          0|  78000.0|       0.0|         0.0|         0.0|01/01/2014|  78000.0|01/01/2014|  78000.0|01/01/2014|  78000.0|        P|   Nulo|     0.0|  78000.0|    1.0|   78000.0|      0.0|       0.0|9999-01-01| 2013| 9999|  9999|       0.0|       0.0|        0.0|      4.47|-0.09|      4|       3|      3|     0|         5|       3|      3|     1|          4|         0|\n",
      "| 10/2013|433890252798|       C|  4.875|  241000|     360| 12/2013|  95|   95|     2|32.0|     776|       Y|      P|      SF|       1|       P|   CO|  801|     738|             N|      738|253684.2|  4.875|233219.16|19740|       N|            1|9999-01-01|9999-01-01|9999-01-01|     0.0|    0.0|    0.0|    0.0|     0.0|     0.0|     0.0|      0.0|    0.0|        0.0|         -0.0|          0|          0|233219.16|       0.0|         0.0|         0.0|01/01/2014| 238595.4|01/01/2014| 238595.4|01/01/2014| 238595.4|        P|   Nulo|     0.0|233219.16|    1.0| 233219.16|      0.0|       0.0|9999-01-01| 2013| 9999|  9999|       0.0|       0.0|        0.0|      4.47| 0.41|      3|       1|      1|     2|         0|       3|      2|     1|          4|         0|\n",
      "| 10/2013|493353887676|       R|  4.625|  210000|     360| 12/2013|  72|   72|     1|40.0|     811|       N|      P|      PU|       1|       P|   NE|  685|     811|             N|      811|291666.7|  4.625|157835.96|30700|       N|     Not-Zero|9999-01-01|9999-01-01|9999-01-01|     0.0|    0.0|    0.0|    0.0|     0.0|     0.0|     0.0|      0.0|    0.0|        0.0|         -0.0|          0|          0|157835.96|       0.0|         0.0|         0.0|01/01/2014|195905.93|01/01/2014|195905.93|01/01/2014|195905.93|        C|      0|     0.0|157835.96|    1.0| 157835.96|      0.0|       0.0|9999-01-01| 2013| 9999|  9999|       0.0|       0.0|        0.0|      4.47| 0.16|      5|       0|      0|     2|         0|       2|      2|     1|          5|         0|\n",
      "| 10/2013|524532790182|       C|  4.875|  108000|     360| 12/2013|  72|   72|     2|45.0|     701|       Y|      P|      SF|       1|       P|   MO|  631|     707|             N|      701|150000.0|  4.875|103772.49|41180|       N|            1|9999-01-01|9999-01-01|9999-01-01|     0.0|    0.0|    0.0|    0.0|     0.0|     0.0|     0.0|      0.0|    0.0|        0.0|         -0.0|          0|          0|103772.49|       0.0|         0.0|         0.0|01/01/2014|106785.29|01/01/2014|106785.29|01/01/2014|106785.29|        P|   Nulo|     0.0|103772.49|    1.0| 103772.49|      0.0|       0.0|9999-01-01| 2013| 9999|  9999|       0.0|       0.0|        0.0|      4.47| 0.41|      3|       0|      0|     1|         4|       3|      2|     1|          4|         0|\n",
      "| 10/2013|560322190526|       C|  4.875|  475000|     360| 12/2013|  79|   79|     1|40.0|     700|       N|      R|      PU|       1|       P|   CA|  956|     700|             N|      700|601265.8|  4.875| 475000.0|40900|       N|            1|9999-01-01|9999-01-01|9999-01-01|     0.0|    0.0|    0.0|    0.0|     0.0|     0.0|     0.0|      0.0|    0.0|        0.0|         -0.0|          0|          0| 475000.0|       0.0|         0.0|         0.0|01/01/2014| 475000.0|01/01/2014| 475000.0|01/01/2014| 475000.0|        P|   Nulo|     0.0| 475000.0|    1.0|  475000.0|      0.0|       0.0|9999-01-01| 2013| 9999|  9999|       0.0|       0.0|        0.0|      4.47| 0.41|      2|       3|      3|     2|         0|       2|      2|     1|          4|         0|\n",
      "| 10/2013|636670687313|       R|    4.5|  299000|     360| 12/2013|  95|   95|     1|29.0|     723|       Y|      P|      CO|       1|       P|   NY|  125|     723|             Y|      723|314736.8|    4.5|252008.73|35620|       N|            1|9999-01-01|9999-01-01|9999-01-01|     0.0|    0.0|    0.0|    0.0|     0.0|     0.0|     0.0|      0.0|    0.0|        0.0|         -0.0|          0|          0|252008.73|       0.0|         0.0|         0.0|01/01/2014|296055.74|01/01/2014|296055.74|01/01/2014|296055.74|        P|   Nulo|     0.0|252008.73|    1.0| 252008.73|      0.0|       0.0|9999-01-01| 2013| 9999|  9999|       0.0|       0.0|        0.0|      4.47| 0.03|      3|       1|      1|     4|         2|       2|      2|     1|          4|         0|\n",
      "| 10/2013|666746925607|       C|  4.625|  198000|     360| 12/2013|  90|   90|     1|38.0|     769|       N|      P|      PU|       1|       P|   SC|  296|     769|             N|      769|220000.0|  4.625|185747.42|24860|       N|            1|9999-01-01|9999-01-01|9999-01-01|     0.0|    0.0|    0.0|    0.0|     0.0|     0.0|     0.0|      0.0|    0.0|        0.0|         -0.0|          0|          0|185747.42|       0.0|         0.0|         0.0|02/01/2014|195230.23|02/01/2014|195230.23|02/01/2014|195230.23|        P|   Nulo|     0.0|185747.42|    1.0| 185747.42|      0.0|       0.0|9999-01-01| 2013| 9999|  9999|       0.0|       0.0|        0.0|      4.47| 0.16|      4|       0|      0|     2|         3|       2|      2|     1|          4|         0|\n",
      "| 10/2013|676161872826|       C|  4.625|  310000|     360| 12/2013|  89|   89|     1|38.0|     710|       N|      R|      PU|       1|       P|   AK|  996|     710|             N|      710|348314.6|  4.625| 304690.8|11260|       N|            1|9999-01-01|9999-01-01|9999-01-01|     0.0|    0.0|    0.0|    0.0|     0.0|     0.0|     0.0|      0.0|    0.0|        0.0|         -0.0|          0|          0| 304690.8|       0.0|         0.0|         0.0|01/01/2014|306352.77|01/01/2014|306352.77|01/01/2014|306352.77|        P|   Nulo|     0.0| 304690.8|    1.0|  304690.8|      0.0|       0.0|9999-01-01| 2013| 9999|  9999|       0.0|       0.0|        0.0|      4.47| 0.16|      3|       0|      0|     2|         0|       2|      2|     1|          4|         0|\n",
      "| 10/2013|690006313318|       C|   5.25|  159000|     360| 12/2013|  70|   70|     1|44.0|     764|       N|      C|      PU|       1|       I|   MD|  210|     764|             N|      764|227142.9|   5.25|108893.45|12580|       N|            1|9999-01-01|9999-01-01|9999-01-01|     0.0|    0.0|    0.0|    0.0|     0.0|     0.0|     0.0|      0.0|    0.0|        0.0|         -0.0|          0|          0|108893.45|       0.0|         0.0|         0.0|01/01/2014| 155889.9|01/01/2014| 155889.9|01/01/2014| 155889.9|        P|   Nulo|     0.0|108893.45|    1.0| 108893.45|      0.0|       0.0|9999-01-01| 2013| 9999|  9999|       0.0|       0.0|        0.0|      4.47| 0.78|      4|       4|      4|     1|         3|       2|      2|     1|          4|         0|\n",
      "+--------+------------+--------+-------+--------+--------+--------+----+-----+------+----+--------+--------+-------+--------+--------+--------+-----+-----+--------+--------------+---------+--------+-------+---------+-----+--------+-------------+----------+----------+----------+--------+-------+-------+-------+--------+--------+--------+---------+-------+-----------+-------------+-----------+-----------+---------+----------+------------+------------+----------+---------+----------+---------+----------+---------+---------+-------+--------+---------+-------+----------+---------+----------+----------+-----+-----+------+----------+----------+-----------+----------+-----+-------+--------+-------+------+----------+--------+-------+------+-----------+----------+\n",
      "only showing top 20 rows\n",
      "\n"
     ]
    }
   ],
   "source": [
    "df.show()"
   ]
  },
  {
   "cell_type": "markdown",
   "metadata": {},
   "source": [
    "***Once I have eliminated the nulls in the final dataframe and preprocess the data, I am going to analyze every field that is left in the dataframe, and whether is useful or not for the model.The next step is to select only the necessary columns and analyze the correlation with the profitable field.***"
   ]
  },
  {
   "cell_type": "markdown",
   "metadata": {},
   "source": [
    "### 4.3.1. Origination Channel (ORIG_CHN)"
   ]
  },
  {
   "cell_type": "markdown",
   "metadata": {},
   "source": [
    "- **Origination Channel**: Also known as Third Party Originator, it refers to the three options listed below\n",
    "    - B: Broker\n",
    "    - C: Correspondent\n",
    "    - R: Retail"
   ]
  },
  {
   "cell_type": "code",
   "execution_count": 37,
   "metadata": {},
   "outputs": [],
   "source": [
    "df_origchn = df.groupBy('ORIG_CHN').agg(F.sum('profitable').alias('profitable'))"
   ]
  },
  {
   "cell_type": "code",
   "execution_count": 38,
   "metadata": {},
   "outputs": [
    {
     "name": "stdout",
     "output_type": "stream",
     "text": [
      "+--------+----------+\n",
      "|ORIG_CHN|profitable|\n",
      "+--------+----------+\n",
      "|       B|     88220|\n",
      "|       C|    256269|\n",
      "|       R|    735144|\n",
      "+--------+----------+\n",
      "\n"
     ]
    }
   ],
   "source": [
    "df_origchn.show()"
   ]
  },
  {
   "cell_type": "code",
   "execution_count": 39,
   "metadata": {},
   "outputs": [],
   "source": [
    "df_origchnpd = df_origchn.toPandas()"
   ]
  },
  {
   "cell_type": "code",
   "execution_count": 40,
   "metadata": {},
   "outputs": [
    {
     "data": {
      "text/plain": [
       "<matplotlib.axes._subplots.AxesSubplot at 0x7f171d9b1668>"
      ]
     },
     "execution_count": 40,
     "metadata": {},
     "output_type": "execute_result"
    },
    {
     "data": {
      "image/png": "[encoded data removed]",
      "text/plain": [
       "<Figure size 432x288 with 1 Axes>"
      ]
     },
     "metadata": {},
     "output_type": "display_data"
    }
   ],
   "source": [
    "sns.barplot(x=\"ORIG_CHN\", y='profitable', data=df_origchnpd)"
   ]
  },
  {
   "cell_type": "markdown",
   "metadata": {},
   "source": [
    "### 4.3.2. First Time Home Buyer (FTHB_FLG)"
   ]
  },
  {
   "cell_type": "markdown",
   "metadata": {},
   "source": [
    "- **First Time Home Buyer**: An indicator that denotes if the borrower or co-borrower qualifies as a first-time homebuyer.\n",
    "    - Y: Yes\n",
    "    - N: No\n",
    "    - U: Unknown"
   ]
  },
  {
   "cell_type": "code",
   "execution_count": 41,
   "metadata": {},
   "outputs": [],
   "source": [
    "df_fthbflg = df.groupBy('FTHB_FLG').agg(F.sum('profitable').alias('profitable'))"
   ]
  },
  {
   "cell_type": "code",
   "execution_count": 42,
   "metadata": {},
   "outputs": [
    {
     "name": "stdout",
     "output_type": "stream",
     "text": [
      "+--------+----------+\n",
      "|FTHB_FLG|profitable|\n",
      "+--------+----------+\n",
      "|       Y|     62912|\n",
      "|       U|         0|\n",
      "|       N|   1016721|\n",
      "+--------+----------+\n",
      "\n"
     ]
    }
   ],
   "source": [
    "df_fthbflg.show()"
   ]
  },
  {
   "cell_type": "code",
   "execution_count": 43,
   "metadata": {},
   "outputs": [],
   "source": [
    "df_fthbflgpd = df_fthbflg.toPandas()"
   ]
  },
  {
   "cell_type": "code",
   "execution_count": 44,
   "metadata": {},
   "outputs": [
    {
     "data": {
      "text/plain": [
       "<matplotlib.axes._subplots.AxesSubplot at 0x7f171d8323c8>"
      ]
     },
     "execution_count": 44,
     "metadata": {},
     "output_type": "execute_result"
    },
    {
     "data": {
      "image/png": "[encoded data removed]",
      "text/plain": [
       "<Figure size 432x288 with 1 Axes>"
      ]
     },
     "metadata": {},
     "output_type": "display_data"
    }
   ],
   "source": [
    "sns.barplot(x=\"FTHB_FLG\", y='profitable', data=df_fthbflgpd)"
   ]
  },
  {
   "cell_type": "markdown",
   "metadata": {},
   "source": [
    "### 4.3.3. Loan Purpose (PURPOSE)"
   ]
  },
  {
   "cell_type": "markdown",
   "metadata": {},
   "source": [
    "- **Loan Purpose**: An indicator that denotes whether the mortgage loan is either a refinance mortgage or a purchase money mortgage.\n",
    "    - P: Purchase\n",
    "    - C: Cash-out Refinance\n",
    "    - R: No Cash-out Refinance\n",
    "    - U: Unknown"
   ]
  },
  {
   "cell_type": "code",
   "execution_count": 45,
   "metadata": {},
   "outputs": [],
   "source": [
    "df_purpose = df.groupBy('PURPOSE').agg(F.sum('profitable').alias('profitable'))"
   ]
  },
  {
   "cell_type": "code",
   "execution_count": 46,
   "metadata": {},
   "outputs": [
    {
     "name": "stdout",
     "output_type": "stream",
     "text": [
      "+-------+----------+\n",
      "|PURPOSE|profitable|\n",
      "+-------+----------+\n",
      "|      U|         0|\n",
      "|      C|    365911|\n",
      "|      R|    362962|\n",
      "|      P|    350760|\n",
      "+-------+----------+\n",
      "\n"
     ]
    }
   ],
   "source": [
    "df_purpose.show()"
   ]
  },
  {
   "cell_type": "code",
   "execution_count": 47,
   "metadata": {},
   "outputs": [],
   "source": [
    "df_purposepd = df_purpose.toPandas()"
   ]
  },
  {
   "cell_type": "code",
   "execution_count": 48,
   "metadata": {},
   "outputs": [
    {
     "data": {
      "text/plain": [
       "<matplotlib.axes._subplots.AxesSubplot at 0x7f1717ffbfd0>"
      ]
     },
     "execution_count": 48,
     "metadata": {},
     "output_type": "execute_result"
    },
    {
     "data": {
      "image/png": "[encoded data removed]",
      "text/plain": [
       "<Figure size 432x288 with 1 Axes>"
      ]
     },
     "metadata": {},
     "output_type": "display_data"
    }
   ],
   "source": [
    "sns.barplot(x=\"PURPOSE\", y='profitable', data=df_purposepd)"
   ]
  },
  {
   "cell_type": "markdown",
   "metadata": {},
   "source": [
    "### 4.3.4. Occupancy Type (OCC_STAT)"
   ]
  },
  {
   "cell_type": "markdown",
   "metadata": {},
   "source": [
    "- **Occupancy Type**: An indicator that denotes whether the mortgage loan is secured by a principal residence, second home or investment property.\n",
    "    - P: Principal\n",
    "    - S: Second\n",
    "    - I: Investor"
   ]
  },
  {
   "cell_type": "code",
   "execution_count": 49,
   "metadata": {},
   "outputs": [],
   "source": [
    "df_occupancy = df.groupBy('OCC_STAT').agg(F.sum('profitable').alias('profitable'))"
   ]
  },
  {
   "cell_type": "code",
   "execution_count": 50,
   "metadata": {},
   "outputs": [
    {
     "name": "stdout",
     "output_type": "stream",
     "text": [
      "+--------+----------+\n",
      "|OCC_STAT|profitable|\n",
      "+--------+----------+\n",
      "|       S|     52297|\n",
      "|       I|     91715|\n",
      "|       P|    935621|\n",
      "+--------+----------+\n",
      "\n"
     ]
    }
   ],
   "source": [
    "df_occupancy.show()"
   ]
  },
  {
   "cell_type": "code",
   "execution_count": 51,
   "metadata": {},
   "outputs": [],
   "source": [
    "df_occupancypd = df_occupancy.toPandas()"
   ]
  },
  {
   "cell_type": "code",
   "execution_count": 52,
   "metadata": {},
   "outputs": [
    {
     "data": {
      "text/plain": [
       "<matplotlib.axes._subplots.AxesSubplot at 0x7f1717fb25f8>"
      ]
     },
     "execution_count": 52,
     "metadata": {},
     "output_type": "execute_result"
    },
    {
     "data": {
      "image/png": "[encoded data removed]",
      "text/plain": [
       "<Figure size 432x288 with 1 Axes>"
      ]
     },
     "metadata": {},
     "output_type": "display_data"
    }
   ],
   "source": [
    "sns.barplot(x='OCC_STAT', y='profitable', data=df_occupancypd)"
   ]
  },
  {
   "cell_type": "markdown",
   "metadata": {},
   "source": [
    "### 4.3.5. Last Status (LAST_STAT)"
   ]
  },
  {
   "cell_type": "markdown",
   "metadata": {},
   "source": [
    "- **Last Status**: An indicator that represents the latest status of a loan as available in the dataset\n",
    "    - C: Current\n",
    "    - 1: 30 day delinquency\n",
    "    - 2: 60 day delinquency\n",
    "    - 3: 90 day delinquency\n",
    "    - 4: 120 day delinquency\n",
    "    - 5: 150 day delinquency\n",
    "    - L: Reperforming Loan Sale\n",
    "    - N: Note Sale\n",
    "    - P: Prepaid or Matured\n",
    "    - R: Repurchased\n",
    "    - T: Third party sale\n",
    "    - X: Unknown"
   ]
  },
  {
   "cell_type": "code",
   "execution_count": 53,
   "metadata": {},
   "outputs": [],
   "source": [
    "df_laststat = df.orderBy('LAST_STAT').groupBy('LAST_STAT').agg(F.sum('profitable').alias('profitable'))"
   ]
  },
  {
   "cell_type": "code",
   "execution_count": 54,
   "metadata": {},
   "outputs": [],
   "source": [
    "df_laststatpd = df_laststat.toPandas()"
   ]
  },
  {
   "cell_type": "code",
   "execution_count": 55,
   "metadata": {},
   "outputs": [
    {
     "name": "stdout",
     "output_type": "stream",
     "text": [
      "+---------+----------+\n",
      "|LAST_STAT|profitable|\n",
      "+---------+----------+\n",
      "|        C|    890350|\n",
      "|        P|    188510|\n",
      "|        1|       394|\n",
      "|        5|       126|\n",
      "|        R|       104|\n",
      "|        2|        57|\n",
      "|        3|        47|\n",
      "|        4|        41|\n",
      "|        T|         4|\n",
      "|        X|         0|\n",
      "|        L|         0|\n",
      "|        N|         0|\n",
      "+---------+----------+\n",
      "\n"
     ]
    }
   ],
   "source": [
    "df_laststat.groupBy('LAST_STAT').agg(F.sum('profitable').alias('profitable')).orderBy('profitable', ascending = False).show()"
   ]
  },
  {
   "cell_type": "code",
   "execution_count": 56,
   "metadata": {},
   "outputs": [
    {
     "data": {
      "text/plain": [
       "<matplotlib.axes._subplots.AxesSubplot at 0x7f1717f7d5c0>"
      ]
     },
     "execution_count": 56,
     "metadata": {},
     "output_type": "execute_result"
    },
    {
     "data": {
      "image/png": "[encoded data removed]",
      "text/plain": [
       "<Figure size 432x288 with 1 Axes>"
      ]
     },
     "metadata": {},
     "output_type": "display_data"
    }
   ],
   "source": [
    "sns.barplot(x='LAST_STAT', y='profitable', data=df_laststatpd)"
   ]
  },
  {
   "cell_type": "markdown",
   "metadata": {},
   "source": [
    "### 4.3.6. Total Cost (Total_Cost)"
   ]
  },
  {
   "cell_type": "markdown",
   "metadata": {},
   "source": [
    "***As this is a continuous variable, I will create a bucket from the field in order to aggregate the loans***"
   ]
  },
  {
   "cell_type": "code",
   "execution_count": 57,
   "metadata": {},
   "outputs": [
    {
     "name": "stdout",
     "output_type": "stream",
     "text": [
      "+-------+------------------+\n",
      "|summary|        Total_Cost|\n",
      "+-------+------------------+\n",
      "|  count|           9362516|\n",
      "|   mean| 209027.9200940559|\n",
      "| stddev|116259.53691997674|\n",
      "|    min|               0.0|\n",
      "|    max|        1369302.51|\n",
      "+-------+------------------+\n",
      "\n"
     ]
    }
   ],
   "source": [
    "df.select('Total_Cost').describe().show()"
   ]
  },
  {
   "cell_type": "code",
   "execution_count": 58,
   "metadata": {},
   "outputs": [],
   "source": [
    "df = df.withColumn('totcostbkt', F.when((F.col('Total_Cost') >= 0) & \n",
    "                                           (F.col('Total_Cost') <= 100000), F.lit(1))\\\n",
    "                         .otherwise(F.when((F.col('Total_Cost') > 100000) &\n",
    "                                           (F.col('Total_Cost') <= 200000), F.lit(2))\\\n",
    "                         .otherwise(F.when((F.col('Total_Cost') > 200000) & \n",
    "                                           (F.col('Total_Cost') <= 300000), F.lit(3))\\\n",
    "                         .otherwise(F.when((F.col('Total_Cost') > 300000) & \n",
    "                                           (F.col('Total_Cost') <= 500000), F.lit(4))\\\n",
    "                         .otherwise(F.when((F.col('Total_Cost') > 500000), F.lit(5)))))))"
   ]
  },
  {
   "cell_type": "code",
   "execution_count": 59,
   "metadata": {},
   "outputs": [
    {
     "name": "stdout",
     "output_type": "stream",
     "text": [
      "+----------+-------+\n",
      "|totcostbkt|  count|\n",
      "+----------+-------+\n",
      "|         1|1629280|\n",
      "|         2|3418702|\n",
      "|         3|2361285|\n",
      "|         4|1764158|\n",
      "|         5| 189091|\n",
      "+----------+-------+\n",
      "\n"
     ]
    }
   ],
   "source": [
    "df.orderBy('totcostbkt').groupBy('totcostbkt').count().show()"
   ]
  },
  {
   "cell_type": "markdown",
   "metadata": {},
   "source": [
    "- **Total Cost**: An indicator that denotes the total cost suffered by the lender or investor.\n",
    "    - 1: 0 to 100000 dollars\n",
    "    - 2: 100000 to 200000 dollars\n",
    "    - 3: 200000 to 300000 dollars\n",
    "    - 4: 300000 to 500000 dollars\n",
    "    - 5: greater than 500000 dollars"
   ]
  },
  {
   "cell_type": "code",
   "execution_count": 60,
   "metadata": {},
   "outputs": [],
   "source": [
    "df_totcost = df.orderBy('totcostbkt').groupBy('totcostbkt').agg(F.sum('profitable').alias('profitable'))"
   ]
  },
  {
   "cell_type": "code",
   "execution_count": 61,
   "metadata": {},
   "outputs": [],
   "source": [
    "df_totcostpd = df_totcost.toPandas()"
   ]
  },
  {
   "cell_type": "code",
   "execution_count": 62,
   "metadata": {},
   "outputs": [
    {
     "data": {
      "text/plain": [
       "<matplotlib.axes._subplots.AxesSubplot at 0x7f1717eec5c0>"
      ]
     },
     "execution_count": 62,
     "metadata": {},
     "output_type": "execute_result"
    },
    {
     "data": {
      "image/png": "[encoded data removed]",
      "text/plain": [
       "<Figure size 432x288 with 1 Axes>"
      ]
     },
     "metadata": {},
     "output_type": "display_data"
    }
   ],
   "source": [
    "sns.barplot(x='totcostbkt', y='profitable', data=df_totcostpd)"
   ]
  },
  {
   "cell_type": "code",
   "execution_count": 63,
   "metadata": {},
   "outputs": [],
   "source": [
    "df.write.parquet(temp_combined + '/2/', mode = 'overwrite')"
   ]
  },
  {
   "cell_type": "code",
   "execution_count": 9,
   "metadata": {
    "scrolled": true
   },
   "outputs": [],
   "source": [
    "df = spark.read.parquet(temp_combined + '/2/')"
   ]
  },
  {
   "cell_type": "markdown",
   "metadata": {},
   "source": [
    "# 5. Models"
   ]
  },
  {
   "cell_type": "code",
   "execution_count": 10,
   "metadata": {},
   "outputs": [],
   "source": [
    "df = df.select('ORIG_CHN',\n",
    "                 'ORIG_AMT',\n",
    "                 'OLTV',\n",
    "                 'OCLTV',\n",
    "                 'NUM_BO',\n",
    "                 'DTI',\n",
    "                 'FTHB_FLG',\n",
    "                 'PURPOSE',\n",
    "                 'OCC_STAT',\n",
    "                 'CSCORE_MN',\n",
    "                 'LAST_STAT',\n",
    "                 'NET_SEV',\n",
    "                 'Total_Cost',\n",
    "                 'SATO',\n",
    "                 'profitable')"
   ]
  },
  {
   "cell_type": "markdown",
   "metadata": {},
   "source": [
    "## IMPORTANT: Handle different fields in different ways \n",
    "\n",
    "We have features of at least three kinds:\n",
    "\n",
    "* __Numeric continuous fields__, which we can use as input to many algorithms as they are. In particular, decision trees can take continuous variables with any value as input, since they only look for the cutoff point that most increases the homogeneity of the resulting groups. In contrast, if we were using a logistic regression with regularization, for example, we would need to first scale the variables to have comparable magnitudes.\n",
    "\n",
    "* There are fields which we will treat as __categorical variables__, but which are already integers. These need to be __one-hot encoded__.\n",
    "\n",
    "* Finally, there are several __categorical variables that are encoded as strings__. These need to be one-hot encoded, but __OneHotEncoder__ requires numeric input. Therefore, we will need to apply a __StringIndexer__ to each of them before one-hot encoding.\n",
    "\n",
    "___PySpark Pipeline___\n",
    "\n",
    "| Types      |StrIndex   | OneHot   | Model  |\n",
    "|----------- | --------- | -------- | ----   |\n",
    "|CAT         | NO        | YES      | YES    |\n",
    "|STR         | YES       | YES      | YES    |\n",
    "|CONT        | NO        | NO       | YES    |\n"
   ]
  },
  {
   "cell_type": "markdown",
   "metadata": {},
   "source": [
    "***First, I am going to select those field that I previously analyzed that could be useful for the model***"
   ]
  },
  {
   "cell_type": "markdown",
   "metadata": {},
   "source": [
    "***Then, I am going to analyze the type for later treatment***"
   ]
  },
  {
   "cell_type": "code",
   "execution_count": 11,
   "metadata": {},
   "outputs": [
    {
     "name": "stdout",
     "output_type": "stream",
     "text": [
      "root\n",
      " |-- ORIG_CHN: string (nullable = true)\n",
      " |-- ORIG_AMT: integer (nullable = true)\n",
      " |-- OLTV: integer (nullable = true)\n",
      " |-- OCLTV: integer (nullable = true)\n",
      " |-- NUM_BO: integer (nullable = true)\n",
      " |-- DTI: double (nullable = true)\n",
      " |-- FTHB_FLG: string (nullable = true)\n",
      " |-- PURPOSE: string (nullable = true)\n",
      " |-- OCC_STAT: string (nullable = true)\n",
      " |-- CSCORE_MN: integer (nullable = true)\n",
      " |-- LAST_STAT: string (nullable = true)\n",
      " |-- NET_SEV: double (nullable = true)\n",
      " |-- Total_Cost: double (nullable = true)\n",
      " |-- SATO: double (nullable = true)\n",
      " |-- profitable: integer (nullable = true)\n",
      "\n"
     ]
    }
   ],
   "source": [
    "df.printSchema()"
   ]
  },
  {
   "cell_type": "code",
   "execution_count": 12,
   "metadata": {},
   "outputs": [
    {
     "name": "stdout",
     "output_type": "stream",
     "text": [
      "+--------+--------+----+-----+------+----+--------+-------+--------+---------+---------+-------+----------+-----+----------+\n",
      "|ORIG_CHN|ORIG_AMT|OLTV|OCLTV|NUM_BO| DTI|FTHB_FLG|PURPOSE|OCC_STAT|CSCORE_MN|LAST_STAT|NET_SEV|Total_Cost| SATO|profitable|\n",
      "+--------+--------+----+-----+------+----+--------+-------+--------+---------+---------+-------+----------+-----+----------+\n",
      "|       R|  215000|  80|   80|     2|43.0|       N|      P|       S|      728|        C|    1.0| 203093.52| 0.13|         0|\n",
      "|       R|  112000|  65|   65|     2|35.0|       N|      R|       I|      739|        C|    1.0| 107492.02| 0.63|         0|\n",
      "|       R|  200000|  57|   57|     2|45.0|       N|      C|       P|      717|        P|    1.0| 182416.51|-0.38|         0|\n",
      "|       R|  410000|  74|   74|     1|45.0|       N|      C|       P|      666|        1|    1.0| 395172.95| 0.88|         0|\n",
      "|       R|  242000|  97|   97|     2|42.0|       Y|      P|       P|      789|        C|    1.0| 231017.32|  0.0|         0|\n",
      "|       R|  190000|  51|   51|     2|26.0|       N|      P|       P|      701|        C|    1.0| 178473.58| 0.13|         1|\n",
      "|       R|  260000|  95|   95|     1|43.0|       N|      P|       P|      752|        C|    1.0| 247838.81|  0.0|         0|\n",
      "|       C|  417000|  40|   40|     1|44.0|       N|      P|       P|      720|        C|    1.0| 319741.04|-0.13|         0|\n",
      "|       C|  116000|  75|   75|     1|41.0|       N|      P|       I|      692|        C|    1.0| 111985.14|  1.0|         0|\n",
      "|       R|  150000|  97|   97|     2|31.0|       Y|      P|       P|      741|        5|    1.0| 148274.69| 0.63|         0|\n",
      "|       R|  101000|  75|   75|     1|44.0|       N|      P|       I|      768|        C|    1.0|  97200.65|  0.5|         0|\n",
      "|       R|  119000|  97|   97|     1|30.0|       Y|      P|       P|      731|        C|    1.0| 113875.41|  0.0|         0|\n",
      "|       R|  243000|  95|   95|     2|40.0|       Y|      P|       P|      746|        C|    1.0| 229997.39|-0.25|         0|\n",
      "|       B|  254000|  80|   80|     1|42.0|       N|      P|       P|      776|        C|    1.0| 243092.93|-0.13|         0|\n",
      "|       R|   75000|  32|   32|     1|31.0|       N|      R|       P|      786|        C|    1.0|  58549.19|-0.88|         1|\n",
      "|       R|  130000|  72|   72|     1|43.0|       N|      C|       P|      782|        C|    1.0| 119249.39| 0.13|         0|\n",
      "|       R|  175000|  58|   58|     1|43.0|       Y|      P|       P|      652|        1|    1.0| 160497.52|-0.25|         0|\n",
      "|       R|  276000|  95|   95|     2|17.0|       Y|      P|       P|      790|        P|    1.0| 264810.38| 0.25|         0|\n",
      "|       R|   70000|  95|   95|     2|24.0|       Y|      P|       P|      740|        P|    1.0|  67454.42|  0.0|         0|\n",
      "|       C|  138000|  75|   75|     1|32.0|       N|      R|       P|      701|        C|    1.0| 132037.66| 0.25|         0|\n",
      "+--------+--------+----+-----+------+----+--------+-------+--------+---------+---------+-------+----------+-----+----------+\n",
      "only showing top 20 rows\n",
      "\n"
     ]
    }
   ],
   "source": [
    "df.show()"
   ]
  },
  {
   "cell_type": "markdown",
   "metadata": {},
   "source": [
    "- **14 columns (the profitable field is not counted)**: \n",
    "    - 8 continuous variables: it is not necessary to handle these fields for the model.\n",
    "    - 1 categorical variable: it will be one-hot encoded\n",
    "    - 5 categorical variables that are encoded as a string: there are two steps, a string indexer and later on one hot encoder"
   ]
  },
  {
   "cell_type": "markdown",
   "metadata": {},
   "source": [
    "## 5.1. StringIndexer \n",
    "\n",
    "A [StringIndexer](https://spark.apache.org/docs/2.2.0/ml-features.html#stringindexer) is an estimator that takes a single string field, then produces a transformer that codifies said field as numeric labels that are fit for feeding to a one-hot encoding. \n",
    "\n",
    "We need to specify an input column, an output column, and a way to handle invalids. In this case, invalids are values that the indexer has not seen during fitting but that the transformer finds during processing. Its values are 'error' (the default), which is pretty self-explanatory, 'skip', which drops them, and 'keep', which is what we want. It will assign all unseen labels to a single category index."
   ]
  },
  {
   "cell_type": "code",
   "execution_count": 13,
   "metadata": {},
   "outputs": [],
   "source": [
    "string_fields = [field.name for field in df.schema.fields if field.dataType == types.StringType()]"
   ]
  },
  {
   "cell_type": "code",
   "execution_count": 14,
   "metadata": {},
   "outputs": [
    {
     "data": {
      "text/plain": [
       "['ORIG_CHN', 'FTHB_FLG', 'PURPOSE', 'OCC_STAT', 'LAST_STAT']"
      ]
     },
     "execution_count": 14,
     "metadata": {},
     "output_type": "execute_result"
    }
   ],
   "source": [
    "string_fields"
   ]
  },
  {
   "cell_type": "code",
   "execution_count": 15,
   "metadata": {},
   "outputs": [],
   "source": [
    "string_indexers =[StringIndexer(inputCol=field,outputCol=field+'Index',handleInvalid='keep') for field in string_fields]"
   ]
  },
  {
   "cell_type": "code",
   "execution_count": 16,
   "metadata": {},
   "outputs": [
    {
     "name": "stdout",
     "output_type": "stream",
     "text": [
      "+--------+--------+----+-----+------+----+--------+-------+--------+---------+---------+-------+----------+-----+----------+-------------+-------------+------------+-------------+--------------+\n",
      "|ORIG_CHN|ORIG_AMT|OLTV|OCLTV|NUM_BO| DTI|FTHB_FLG|PURPOSE|OCC_STAT|CSCORE_MN|LAST_STAT|NET_SEV|Total_Cost| SATO|profitable|ORIG_CHNIndex|FTHB_FLGIndex|PURPOSEIndex|OCC_STATIndex|LAST_STATIndex|\n",
      "+--------+--------+----+-----+------+----+--------+-------+--------+---------+---------+-------+----------+-----+----------+-------------+-------------+------------+-------------+--------------+\n",
      "|       R|  215000|  80|   80|     2|43.0|       N|      P|       S|      728|        C|    1.0| 203093.52| 0.13|         0|          0.0|          0.0|         0.0|          2.0|           0.0|\n",
      "|       R|  112000|  65|   65|     2|35.0|       N|      R|       I|      739|        C|    1.0| 107492.02| 0.63|         0|          0.0|          0.0|         1.0|          1.0|           0.0|\n",
      "|       R|  200000|  57|   57|     2|45.0|       N|      C|       P|      717|        P|    1.0| 182416.51|-0.38|         0|          0.0|          0.0|         2.0|          0.0|           1.0|\n",
      "|       R|  410000|  74|   74|     1|45.0|       N|      C|       P|      666|        1|    1.0| 395172.95| 0.88|         0|          0.0|          0.0|         2.0|          0.0|           2.0|\n",
      "|       R|  242000|  97|   97|     2|42.0|       Y|      P|       P|      789|        C|    1.0| 231017.32|  0.0|         0|          0.0|          1.0|         0.0|          0.0|           0.0|\n",
      "|       R|  190000|  51|   51|     2|26.0|       N|      P|       P|      701|        C|    1.0| 178473.58| 0.13|         1|          0.0|          0.0|         0.0|          0.0|           0.0|\n",
      "|       R|  260000|  95|   95|     1|43.0|       N|      P|       P|      752|        C|    1.0| 247838.81|  0.0|         0|          0.0|          0.0|         0.0|          0.0|           0.0|\n",
      "|       C|  417000|  40|   40|     1|44.0|       N|      P|       P|      720|        C|    1.0| 319741.04|-0.13|         0|          1.0|          0.0|         0.0|          0.0|           0.0|\n",
      "|       C|  116000|  75|   75|     1|41.0|       N|      P|       I|      692|        C|    1.0| 111985.14|  1.0|         0|          1.0|          0.0|         0.0|          1.0|           0.0|\n",
      "|       R|  150000|  97|   97|     2|31.0|       Y|      P|       P|      741|        5|    1.0| 148274.69| 0.63|         0|          0.0|          1.0|         0.0|          0.0|           3.0|\n",
      "|       R|  101000|  75|   75|     1|44.0|       N|      P|       I|      768|        C|    1.0|  97200.65|  0.5|         0|          0.0|          0.0|         0.0|          1.0|           0.0|\n",
      "|       R|  119000|  97|   97|     1|30.0|       Y|      P|       P|      731|        C|    1.0| 113875.41|  0.0|         0|          0.0|          1.0|         0.0|          0.0|           0.0|\n",
      "|       R|  243000|  95|   95|     2|40.0|       Y|      P|       P|      746|        C|    1.0| 229997.39|-0.25|         0|          0.0|          1.0|         0.0|          0.0|           0.0|\n",
      "|       B|  254000|  80|   80|     1|42.0|       N|      P|       P|      776|        C|    1.0| 243092.93|-0.13|         0|          2.0|          0.0|         0.0|          0.0|           0.0|\n",
      "|       R|   75000|  32|   32|     1|31.0|       N|      R|       P|      786|        C|    1.0|  58549.19|-0.88|         1|          0.0|          0.0|         1.0|          0.0|           0.0|\n",
      "|       R|  130000|  72|   72|     1|43.0|       N|      C|       P|      782|        C|    1.0| 119249.39| 0.13|         0|          0.0|          0.0|         2.0|          0.0|           0.0|\n",
      "|       R|  175000|  58|   58|     1|43.0|       Y|      P|       P|      652|        1|    1.0| 160497.52|-0.25|         0|          0.0|          1.0|         0.0|          0.0|           2.0|\n",
      "|       R|  276000|  95|   95|     2|17.0|       Y|      P|       P|      790|        P|    1.0| 264810.38| 0.25|         0|          0.0|          1.0|         0.0|          0.0|           1.0|\n",
      "|       R|   70000|  95|   95|     2|24.0|       Y|      P|       P|      740|        P|    1.0|  67454.42|  0.0|         0|          0.0|          1.0|         0.0|          0.0|           1.0|\n",
      "|       C|  138000|  75|   75|     1|32.0|       N|      R|       P|      701|        C|    1.0| 132037.66| 0.25|         0|          1.0|          0.0|         1.0|          0.0|           0.0|\n",
      "+--------+--------+----+-----+------+----+--------+-------+--------+---------+---------+-------+----------+-----+----------+-------------+-------------+------------+-------------+--------------+\n",
      "only showing top 20 rows\n",
      "\n"
     ]
    }
   ],
   "source": [
    "for field in string_fields:\n",
    "    indexer = StringIndexer(inputCol=field, outputCol=field+'Index').fit(df)\n",
    "    if (field == string_fields[0]):\n",
    "        df_ind = indexer.transform(df)\n",
    "    else:\n",
    "        df_ind = indexer.transform(df_ind)  \n",
    "df_ind.show()"
   ]
  },
  {
   "cell_type": "markdown",
   "metadata": {},
   "source": [
    "## 5.2. OneHotEncoder\n",
    "\n",
    "A [OneHotEncoder](https://spark.apache.org/docs/2.2.0/ml-features.html#onehotencoder) generates a n-1 length vector column for an n-category column of category indices. \n",
    "\n",
    "We need to specify an input and an output column.\n",
    "\n",
    "One OneHotEncoder per categorical column. We are also going to build these stages programatically"
   ]
  },
  {
   "cell_type": "code",
   "execution_count": 17,
   "metadata": {},
   "outputs": [],
   "source": [
    "categorical_fields = ['NUM_BO']"
   ]
  },
  {
   "cell_type": "code",
   "execution_count": 18,
   "metadata": {},
   "outputs": [],
   "source": [
    "encoders_cat =[OneHotEncoder(inputCol=field,outputCol=field+'OneHot') for field in categorical_fields \n",
    "                                                                        if field not in string_indexers] \n",
    "encoders_str =[OneHotEncoder(inputCol=field+'Index',outputCol=field+'OneHot') for field in string_fields] "
   ]
  },
  {
   "cell_type": "code",
   "execution_count": 19,
   "metadata": {},
   "outputs": [
    {
     "name": "stdout",
     "output_type": "stream",
     "text": [
      "+--------+--------+----+-----+------+----+--------+-------+--------+---------+---------+-------+----------+-----+----------+-------------+-------------+------------+-------------+--------------+--------------+--------------+-------------+--------------+---------------+\n",
      "|ORIG_CHN|ORIG_AMT|OLTV|OCLTV|NUM_BO| DTI|FTHB_FLG|PURPOSE|OCC_STAT|CSCORE_MN|LAST_STAT|NET_SEV|Total_Cost| SATO|profitable|ORIG_CHNIndex|FTHB_FLGIndex|PURPOSEIndex|OCC_STATIndex|LAST_STATIndex|ORIG_CHNOneHot|FTHB_FLGOneHot|PURPOSEOneHot|OCC_STATOneHot|LAST_STATOneHot|\n",
      "+--------+--------+----+-----+------+----+--------+-------+--------+---------+---------+-------+----------+-----+----------+-------------+-------------+------------+-------------+--------------+--------------+--------------+-------------+--------------+---------------+\n",
      "|       R|  215000|  80|   80|     2|43.0|       N|      P|       S|      728|        C|    1.0| 203093.52| 0.13|         0|          0.0|          0.0|         0.0|          2.0|           0.0| (2,[0],[1.0])| (2,[0],[1.0])|(3,[0],[1.0])|     (2,[],[])| (11,[0],[1.0])|\n",
      "|       R|  112000|  65|   65|     2|35.0|       N|      R|       I|      739|        C|    1.0| 107492.02| 0.63|         0|          0.0|          0.0|         1.0|          1.0|           0.0| (2,[0],[1.0])| (2,[0],[1.0])|(3,[1],[1.0])| (2,[1],[1.0])| (11,[0],[1.0])|\n",
      "|       R|  200000|  57|   57|     2|45.0|       N|      C|       P|      717|        P|    1.0| 182416.51|-0.38|         0|          0.0|          0.0|         2.0|          0.0|           1.0| (2,[0],[1.0])| (2,[0],[1.0])|(3,[2],[1.0])| (2,[0],[1.0])| (11,[1],[1.0])|\n",
      "|       R|  410000|  74|   74|     1|45.0|       N|      C|       P|      666|        1|    1.0| 395172.95| 0.88|         0|          0.0|          0.0|         2.0|          0.0|           2.0| (2,[0],[1.0])| (2,[0],[1.0])|(3,[2],[1.0])| (2,[0],[1.0])| (11,[2],[1.0])|\n",
      "|       R|  242000|  97|   97|     2|42.0|       Y|      P|       P|      789|        C|    1.0| 231017.32|  0.0|         0|          0.0|          1.0|         0.0|          0.0|           0.0| (2,[0],[1.0])| (2,[1],[1.0])|(3,[0],[1.0])| (2,[0],[1.0])| (11,[0],[1.0])|\n",
      "|       R|  190000|  51|   51|     2|26.0|       N|      P|       P|      701|        C|    1.0| 178473.58| 0.13|         1|          0.0|          0.0|         0.0|          0.0|           0.0| (2,[0],[1.0])| (2,[0],[1.0])|(3,[0],[1.0])| (2,[0],[1.0])| (11,[0],[1.0])|\n",
      "|       R|  260000|  95|   95|     1|43.0|       N|      P|       P|      752|        C|    1.0| 247838.81|  0.0|         0|          0.0|          0.0|         0.0|          0.0|           0.0| (2,[0],[1.0])| (2,[0],[1.0])|(3,[0],[1.0])| (2,[0],[1.0])| (11,[0],[1.0])|\n",
      "|       C|  417000|  40|   40|     1|44.0|       N|      P|       P|      720|        C|    1.0| 319741.04|-0.13|         0|          1.0|          0.0|         0.0|          0.0|           0.0| (2,[1],[1.0])| (2,[0],[1.0])|(3,[0],[1.0])| (2,[0],[1.0])| (11,[0],[1.0])|\n",
      "|       C|  116000|  75|   75|     1|41.0|       N|      P|       I|      692|        C|    1.0| 111985.14|  1.0|         0|          1.0|          0.0|         0.0|          1.0|           0.0| (2,[1],[1.0])| (2,[0],[1.0])|(3,[0],[1.0])| (2,[1],[1.0])| (11,[0],[1.0])|\n",
      "|       R|  150000|  97|   97|     2|31.0|       Y|      P|       P|      741|        5|    1.0| 148274.69| 0.63|         0|          0.0|          1.0|         0.0|          0.0|           3.0| (2,[0],[1.0])| (2,[1],[1.0])|(3,[0],[1.0])| (2,[0],[1.0])| (11,[3],[1.0])|\n",
      "|       R|  101000|  75|   75|     1|44.0|       N|      P|       I|      768|        C|    1.0|  97200.65|  0.5|         0|          0.0|          0.0|         0.0|          1.0|           0.0| (2,[0],[1.0])| (2,[0],[1.0])|(3,[0],[1.0])| (2,[1],[1.0])| (11,[0],[1.0])|\n",
      "|       R|  119000|  97|   97|     1|30.0|       Y|      P|       P|      731|        C|    1.0| 113875.41|  0.0|         0|          0.0|          1.0|         0.0|          0.0|           0.0| (2,[0],[1.0])| (2,[1],[1.0])|(3,[0],[1.0])| (2,[0],[1.0])| (11,[0],[1.0])|\n",
      "|       R|  243000|  95|   95|     2|40.0|       Y|      P|       P|      746|        C|    1.0| 229997.39|-0.25|         0|          0.0|          1.0|         0.0|          0.0|           0.0| (2,[0],[1.0])| (2,[1],[1.0])|(3,[0],[1.0])| (2,[0],[1.0])| (11,[0],[1.0])|\n",
      "|       B|  254000|  80|   80|     1|42.0|       N|      P|       P|      776|        C|    1.0| 243092.93|-0.13|         0|          2.0|          0.0|         0.0|          0.0|           0.0|     (2,[],[])| (2,[0],[1.0])|(3,[0],[1.0])| (2,[0],[1.0])| (11,[0],[1.0])|\n",
      "|       R|   75000|  32|   32|     1|31.0|       N|      R|       P|      786|        C|    1.0|  58549.19|-0.88|         1|          0.0|          0.0|         1.0|          0.0|           0.0| (2,[0],[1.0])| (2,[0],[1.0])|(3,[1],[1.0])| (2,[0],[1.0])| (11,[0],[1.0])|\n",
      "|       R|  130000|  72|   72|     1|43.0|       N|      C|       P|      782|        C|    1.0| 119249.39| 0.13|         0|          0.0|          0.0|         2.0|          0.0|           0.0| (2,[0],[1.0])| (2,[0],[1.0])|(3,[2],[1.0])| (2,[0],[1.0])| (11,[0],[1.0])|\n",
      "|       R|  175000|  58|   58|     1|43.0|       Y|      P|       P|      652|        1|    1.0| 160497.52|-0.25|         0|          0.0|          1.0|         0.0|          0.0|           2.0| (2,[0],[1.0])| (2,[1],[1.0])|(3,[0],[1.0])| (2,[0],[1.0])| (11,[2],[1.0])|\n",
      "|       R|  276000|  95|   95|     2|17.0|       Y|      P|       P|      790|        P|    1.0| 264810.38| 0.25|         0|          0.0|          1.0|         0.0|          0.0|           1.0| (2,[0],[1.0])| (2,[1],[1.0])|(3,[0],[1.0])| (2,[0],[1.0])| (11,[1],[1.0])|\n",
      "|       R|   70000|  95|   95|     2|24.0|       Y|      P|       P|      740|        P|    1.0|  67454.42|  0.0|         0|          0.0|          1.0|         0.0|          0.0|           1.0| (2,[0],[1.0])| (2,[1],[1.0])|(3,[0],[1.0])| (2,[0],[1.0])| (11,[1],[1.0])|\n",
      "|       C|  138000|  75|   75|     1|32.0|       N|      R|       P|      701|        C|    1.0| 132037.66| 0.25|         0|          1.0|          0.0|         1.0|          0.0|           0.0| (2,[1],[1.0])| (2,[0],[1.0])|(3,[1],[1.0])| (2,[0],[1.0])| (11,[0],[1.0])|\n",
      "+--------+--------+----+-----+------+----+--------+-------+--------+---------+---------+-------+----------+-----+----------+-------------+-------------+------------+-------------+--------------+--------------+--------------+-------------+--------------+---------------+\n",
      "only showing top 20 rows\n",
      "\n"
     ]
    }
   ],
   "source": [
    "for field in string_fields:\n",
    "    encoders_str = OneHotEncoder(inputCol=field+'Index',outputCol=field+'OneHot')\n",
    "    if (field == string_fields[0]):\n",
    "        df_encdtr= encoders_str.transform(df_ind)\n",
    "    else:\n",
    "        df_encdtr = encoders_str.transform(df_encdtr)  \n",
    "df_encdtr.show()"
   ]
  },
  {
   "cell_type": "code",
   "execution_count": 20,
   "metadata": {},
   "outputs": [
    {
     "name": "stdout",
     "output_type": "stream",
     "text": [
      "+--------+--------+----+-----+------+----+--------+-------+--------+---------+---------+-------+----------+-----+----------+-------------+-------------+------------+-------------+--------------+--------------+--------------+-------------+--------------+---------------+-------------+\n",
      "|ORIG_CHN|ORIG_AMT|OLTV|OCLTV|NUM_BO| DTI|FTHB_FLG|PURPOSE|OCC_STAT|CSCORE_MN|LAST_STAT|NET_SEV|Total_Cost| SATO|profitable|ORIG_CHNIndex|FTHB_FLGIndex|PURPOSEIndex|OCC_STATIndex|LAST_STATIndex|ORIG_CHNOneHot|FTHB_FLGOneHot|PURPOSEOneHot|OCC_STATOneHot|LAST_STATOneHot| NUM_BOOneHot|\n",
      "+--------+--------+----+-----+------+----+--------+-------+--------+---------+---------+-------+----------+-----+----------+-------------+-------------+------------+-------------+--------------+--------------+--------------+-------------+--------------+---------------+-------------+\n",
      "|       R|  215000|  80|   80|     2|43.0|       N|      P|       S|      728|        C|    1.0| 203093.52| 0.13|         0|          0.0|          0.0|         0.0|          2.0|           0.0| (2,[0],[1.0])| (2,[0],[1.0])|(3,[0],[1.0])|     (2,[],[])| (11,[0],[1.0])|(8,[2],[1.0])|\n",
      "|       R|  112000|  65|   65|     2|35.0|       N|      R|       I|      739|        C|    1.0| 107492.02| 0.63|         0|          0.0|          0.0|         1.0|          1.0|           0.0| (2,[0],[1.0])| (2,[0],[1.0])|(3,[1],[1.0])| (2,[1],[1.0])| (11,[0],[1.0])|(8,[2],[1.0])|\n",
      "|       R|  200000|  57|   57|     2|45.0|       N|      C|       P|      717|        P|    1.0| 182416.51|-0.38|         0|          0.0|          0.0|         2.0|          0.0|           1.0| (2,[0],[1.0])| (2,[0],[1.0])|(3,[2],[1.0])| (2,[0],[1.0])| (11,[1],[1.0])|(8,[2],[1.0])|\n",
      "|       R|  410000|  74|   74|     1|45.0|       N|      C|       P|      666|        1|    1.0| 395172.95| 0.88|         0|          0.0|          0.0|         2.0|          0.0|           2.0| (2,[0],[1.0])| (2,[0],[1.0])|(3,[2],[1.0])| (2,[0],[1.0])| (11,[2],[1.0])|(8,[1],[1.0])|\n",
      "|       R|  242000|  97|   97|     2|42.0|       Y|      P|       P|      789|        C|    1.0| 231017.32|  0.0|         0|          0.0|          1.0|         0.0|          0.0|           0.0| (2,[0],[1.0])| (2,[1],[1.0])|(3,[0],[1.0])| (2,[0],[1.0])| (11,[0],[1.0])|(8,[2],[1.0])|\n",
      "|       R|  190000|  51|   51|     2|26.0|       N|      P|       P|      701|        C|    1.0| 178473.58| 0.13|         1|          0.0|          0.0|         0.0|          0.0|           0.0| (2,[0],[1.0])| (2,[0],[1.0])|(3,[0],[1.0])| (2,[0],[1.0])| (11,[0],[1.0])|(8,[2],[1.0])|\n",
      "|       R|  260000|  95|   95|     1|43.0|       N|      P|       P|      752|        C|    1.0| 247838.81|  0.0|         0|          0.0|          0.0|         0.0|          0.0|           0.0| (2,[0],[1.0])| (2,[0],[1.0])|(3,[0],[1.0])| (2,[0],[1.0])| (11,[0],[1.0])|(8,[1],[1.0])|\n",
      "|       C|  417000|  40|   40|     1|44.0|       N|      P|       P|      720|        C|    1.0| 319741.04|-0.13|         0|          1.0|          0.0|         0.0|          0.0|           0.0| (2,[1],[1.0])| (2,[0],[1.0])|(3,[0],[1.0])| (2,[0],[1.0])| (11,[0],[1.0])|(8,[1],[1.0])|\n",
      "|       C|  116000|  75|   75|     1|41.0|       N|      P|       I|      692|        C|    1.0| 111985.14|  1.0|         0|          1.0|          0.0|         0.0|          1.0|           0.0| (2,[1],[1.0])| (2,[0],[1.0])|(3,[0],[1.0])| (2,[1],[1.0])| (11,[0],[1.0])|(8,[1],[1.0])|\n",
      "|       R|  150000|  97|   97|     2|31.0|       Y|      P|       P|      741|        5|    1.0| 148274.69| 0.63|         0|          0.0|          1.0|         0.0|          0.0|           3.0| (2,[0],[1.0])| (2,[1],[1.0])|(3,[0],[1.0])| (2,[0],[1.0])| (11,[3],[1.0])|(8,[2],[1.0])|\n",
      "|       R|  101000|  75|   75|     1|44.0|       N|      P|       I|      768|        C|    1.0|  97200.65|  0.5|         0|          0.0|          0.0|         0.0|          1.0|           0.0| (2,[0],[1.0])| (2,[0],[1.0])|(3,[0],[1.0])| (2,[1],[1.0])| (11,[0],[1.0])|(8,[1],[1.0])|\n",
      "|       R|  119000|  97|   97|     1|30.0|       Y|      P|       P|      731|        C|    1.0| 113875.41|  0.0|         0|          0.0|          1.0|         0.0|          0.0|           0.0| (2,[0],[1.0])| (2,[1],[1.0])|(3,[0],[1.0])| (2,[0],[1.0])| (11,[0],[1.0])|(8,[1],[1.0])|\n",
      "|       R|  243000|  95|   95|     2|40.0|       Y|      P|       P|      746|        C|    1.0| 229997.39|-0.25|         0|          0.0|          1.0|         0.0|          0.0|           0.0| (2,[0],[1.0])| (2,[1],[1.0])|(3,[0],[1.0])| (2,[0],[1.0])| (11,[0],[1.0])|(8,[2],[1.0])|\n",
      "|       B|  254000|  80|   80|     1|42.0|       N|      P|       P|      776|        C|    1.0| 243092.93|-0.13|         0|          2.0|          0.0|         0.0|          0.0|           0.0|     (2,[],[])| (2,[0],[1.0])|(3,[0],[1.0])| (2,[0],[1.0])| (11,[0],[1.0])|(8,[1],[1.0])|\n",
      "|       R|   75000|  32|   32|     1|31.0|       N|      R|       P|      786|        C|    1.0|  58549.19|-0.88|         1|          0.0|          0.0|         1.0|          0.0|           0.0| (2,[0],[1.0])| (2,[0],[1.0])|(3,[1],[1.0])| (2,[0],[1.0])| (11,[0],[1.0])|(8,[1],[1.0])|\n",
      "|       R|  130000|  72|   72|     1|43.0|       N|      C|       P|      782|        C|    1.0| 119249.39| 0.13|         0|          0.0|          0.0|         2.0|          0.0|           0.0| (2,[0],[1.0])| (2,[0],[1.0])|(3,[2],[1.0])| (2,[0],[1.0])| (11,[0],[1.0])|(8,[1],[1.0])|\n",
      "|       R|  175000|  58|   58|     1|43.0|       Y|      P|       P|      652|        1|    1.0| 160497.52|-0.25|         0|          0.0|          1.0|         0.0|          0.0|           2.0| (2,[0],[1.0])| (2,[1],[1.0])|(3,[0],[1.0])| (2,[0],[1.0])| (11,[2],[1.0])|(8,[1],[1.0])|\n",
      "|       R|  276000|  95|   95|     2|17.0|       Y|      P|       P|      790|        P|    1.0| 264810.38| 0.25|         0|          0.0|          1.0|         0.0|          0.0|           1.0| (2,[0],[1.0])| (2,[1],[1.0])|(3,[0],[1.0])| (2,[0],[1.0])| (11,[1],[1.0])|(8,[2],[1.0])|\n",
      "|       R|   70000|  95|   95|     2|24.0|       Y|      P|       P|      740|        P|    1.0|  67454.42|  0.0|         0|          0.0|          1.0|         0.0|          0.0|           1.0| (2,[0],[1.0])| (2,[1],[1.0])|(3,[0],[1.0])| (2,[0],[1.0])| (11,[1],[1.0])|(8,[2],[1.0])|\n",
      "|       C|  138000|  75|   75|     1|32.0|       N|      R|       P|      701|        C|    1.0| 132037.66| 0.25|         0|          1.0|          0.0|         1.0|          0.0|           0.0| (2,[1],[1.0])| (2,[0],[1.0])|(3,[1],[1.0])| (2,[0],[1.0])| (11,[0],[1.0])|(8,[1],[1.0])|\n",
      "+--------+--------+----+-----+------+----+--------+-------+--------+---------+---------+-------+----------+-----+----------+-------------+-------------+------------+-------------+--------------+--------------+--------------+-------------+--------------+---------------+-------------+\n",
      "only showing top 20 rows\n",
      "\n"
     ]
    }
   ],
   "source": [
    "for field in categorical_fields:\n",
    "    encoders_cat = OneHotEncoder(inputCol=field,outputCol=field+'OneHot')\n",
    "    if (field == categorical_fields[0]):\n",
    "        df_enccat= encoders_cat.transform(df_encdtr)\n",
    "    else:\n",
    "        df_enccat = encoders_cat.transform(df_enccat)  \n",
    "df_enccat.show()"
   ]
  },
  {
   "cell_type": "markdown",
   "metadata": {},
   "source": [
    "## 5.3. VectorAssembler"
   ]
  },
  {
   "cell_type": "code",
   "execution_count": 21,
   "metadata": {},
   "outputs": [],
   "source": [
    "continuous_fields = ['ORIG_AMT', 'OLTV', 'OCLTV', 'DTI', 'CSCORE_MN', 'NET_SEV', 'Total_Cost', 'SATO']"
   ]
  },
  {
   "cell_type": "code",
   "execution_count": 22,
   "metadata": {},
   "outputs": [
    {
     "data": {
      "text/plain": [
       "['NUM_BOOneHot',\n",
       " 'ORIG_AMT',\n",
       " 'OLTV',\n",
       " 'OCLTV',\n",
       " 'DTI',\n",
       " 'CSCORE_MN',\n",
       " 'NET_SEV',\n",
       " 'Total_Cost',\n",
       " 'SATO',\n",
       " 'ORIG_CHNOneHot',\n",
       " 'FTHB_FLGOneHot',\n",
       " 'PURPOSEOneHot',\n",
       " 'OCC_STATOneHot',\n",
       " 'LAST_STATOneHot']"
      ]
     },
     "execution_count": 22,
     "metadata": {},
     "output_type": "execute_result"
    }
   ],
   "source": [
    "cols_to_concatenate = [ field + 'OneHot' for field in categorical_fields] + continuous_fields + [field +'OneHot' for field in string_fields]\n",
    "cols_to_concatenate"
   ]
  },
  {
   "cell_type": "code",
   "execution_count": 23,
   "metadata": {},
   "outputs": [],
   "source": [
    "assembler = VectorAssembler(inputCols=cols_to_concatenate, outputCol='features')"
   ]
  },
  {
   "cell_type": "markdown",
   "metadata": {},
   "source": [
    "## 5.4. Train-Split"
   ]
  },
  {
   "cell_type": "markdown",
   "metadata": {},
   "source": [
    "Now that we have gone to the trouble of building our Pipeline, fitting it and using it to predict the probabilty of delay on unseen data is as easy as using a single Estimator:"
   ]
  },
  {
   "cell_type": "code",
   "execution_count": 24,
   "metadata": {},
   "outputs": [],
   "source": [
    "df_transform = df_enccat.select(cols_to_concatenate + ['profitable'])"
   ]
  },
  {
   "cell_type": "code",
   "execution_count": 25,
   "metadata": {},
   "outputs": [],
   "source": [
    "df_transform.write.parquet(temp_combined + '/3/', mode = 'overwrite')"
   ]
  },
  {
   "cell_type": "code",
   "execution_count": 26,
   "metadata": {
    "scrolled": true
   },
   "outputs": [],
   "source": [
    "df_transform = spark.read.parquet(temp_combined + '/3/')"
   ]
  },
  {
   "cell_type": "code",
   "execution_count": 27,
   "metadata": {},
   "outputs": [],
   "source": [
    "(df_train, df_test) = df_transform.randomSplit([0.8, 0.2],seed = 11)"
   ]
  },
  {
   "cell_type": "code",
   "execution_count": 28,
   "metadata": {},
   "outputs": [
    {
     "data": {
      "text/plain": [
       "7489680"
      ]
     },
     "execution_count": 28,
     "metadata": {},
     "output_type": "execute_result"
    }
   ],
   "source": [
    "df_train.count()"
   ]
  },
  {
   "cell_type": "code",
   "execution_count": 29,
   "metadata": {},
   "outputs": [
    {
     "data": {
      "text/plain": [
       "1872836"
      ]
     },
     "execution_count": 29,
     "metadata": {},
     "output_type": "execute_result"
    }
   ],
   "source": [
    "df_test.count()"
   ]
  },
  {
   "cell_type": "markdown",
   "metadata": {},
   "source": [
    "## 5.5. Random Forest Classifier"
   ]
  },
  {
   "cell_type": "code",
   "execution_count": 30,
   "metadata": {},
   "outputs": [],
   "source": [
    "rf = RandomForestClassifier(featuresCol='features', labelCol='profitable')"
   ]
  },
  {
   "cell_type": "markdown",
   "metadata": {},
   "source": [
    "### 5.5.1. Pipeline"
   ]
  },
  {
   "cell_type": "markdown",
   "metadata": {},
   "source": [
    "Now that we have all the stages, we are finally ready to put them together into a single Estimator, our Pipeline."
   ]
  },
  {
   "cell_type": "code",
   "execution_count": 31,
   "metadata": {},
   "outputs": [],
   "source": [
    "pipeline = Pipeline(stages= [assembler,rf])"
   ]
  },
  {
   "cell_type": "code",
   "execution_count": 33,
   "metadata": {},
   "outputs": [],
   "source": [
    "params = paramGrid = ParamGridBuilder().build()"
   ]
  },
  {
   "cell_type": "code",
   "execution_count": 34,
   "metadata": {},
   "outputs": [],
   "source": [
    "crossval = CrossValidator(estimator=pipeline,\n",
    "                          estimatorParamMaps=params,\n",
    "                          evaluator=MulticlassClassificationEvaluator(labelCol='profitable'),\n",
    "                          numFolds=5)"
   ]
  },
  {
   "cell_type": "code",
   "execution_count": 35,
   "metadata": {},
   "outputs": [],
   "source": [
    "model = crossval.fit(df_train)"
   ]
  },
  {
   "cell_type": "code",
   "execution_count": 36,
   "metadata": {},
   "outputs": [],
   "source": [
    "bestModel = model.bestModel"
   ]
  },
  {
   "cell_type": "markdown",
   "metadata": {},
   "source": [
    "### 5.5.2. Evaluating the model"
   ]
  },
  {
   "cell_type": "code",
   "execution_count": 39,
   "metadata": {},
   "outputs": [],
   "source": [
    "tunedprediction = bestModel.transform(df_test)"
   ]
  },
  {
   "cell_type": "code",
   "execution_count": 40,
   "metadata": {},
   "outputs": [
    {
     "name": "stdout",
     "output_type": "stream",
     "text": [
      "accuracy of RandomForest is = 0.942973\n",
      "Test Error of RandomForest = 0.0570269 \n"
     ]
    }
   ],
   "source": [
    "evaluator = MulticlassClassificationEvaluator(labelCol=\"profitable\", predictionCol=\"prediction\", metricName=\"accuracy\")\n",
    "accuracy = evaluator.evaluate(tunedprediction)\n",
    "print(\"accuracy of RandomForest is = %g\"% (accuracy))\n",
    "print(\"Test Error of RandomForest = %g \" % (1.0 - accuracy))"
   ]
  },
  {
   "cell_type": "code",
   "execution_count": 41,
   "metadata": {},
   "outputs": [
    {
     "name": "stdout",
     "output_type": "stream",
     "text": [
      "              precision    recall  f1-score   support\n",
      "\n",
      "           0       0.95      0.99      0.97   1656396\n",
      "           1       0.89      0.58      0.70    216650\n",
      "\n",
      "    accuracy                           0.94   1873046\n",
      "   macro avg       0.92      0.79      0.84   1873046\n",
      "weighted avg       0.94      0.94      0.94   1873046\n",
      "\n"
     ]
    }
   ],
   "source": [
    "expected = tunedprediction.select(['profitable']).collect()\n",
    "predicted = tunedprediction.select(['prediction']).collect()\n",
    "\n",
    "print(classification_report(expected, predicted))"
   ]
  },
  {
   "cell_type": "code",
   "execution_count": 42,
   "metadata": {},
   "outputs": [
    {
     "name": "stdout",
     "output_type": "stream",
     "text": [
      "[[1640351   16045]\n",
      " [  90769  125881]]\n"
     ]
    }
   ],
   "source": [
    "# Confusion matrix\n",
    "print(metrics.confusion_matrix(expected, predicted))"
   ]
  },
  {
   "cell_type": "markdown",
   "metadata": {},
   "source": [
    "### 5.5.3. Feature Importance"
   ]
  },
  {
   "cell_type": "code",
   "execution_count": 43,
   "metadata": {},
   "outputs": [],
   "source": [
    "def ExtractFeatureImp(featureImp, dataset, featuresCol):\n",
    "    list_extract = []\n",
    "    for i in dataset.schema[featuresCol].metadata[\"ml_attr\"][\"attrs\"]:\n",
    "        list_extract = list_extract + dataset.schema[featuresCol].metadata[\"ml_attr\"][\"attrs\"][i]\n",
    "    varlist = pd.DataFrame(list_extract)\n",
    "    varlist['score'] = varlist['idx'].apply(lambda x: featureImp[x])\n",
    "    return(varlist.sort_values('score', ascending = False))"
   ]
  },
  {
   "cell_type": "code",
   "execution_count": 45,
   "metadata": {},
   "outputs": [
    {
     "data": {
      "text/html": [
       "<div>\n",
       "<style scoped>\n",
       "    .dataframe tbody tr th:only-of-type {\n",
       "        vertical-align: middle;\n",
       "    }\n",
       "\n",
       "    .dataframe tbody tr th {\n",
       "        vertical-align: top;\n",
       "    }\n",
       "\n",
       "    .dataframe thead th {\n",
       "        text-align: right;\n",
       "    }\n",
       "</style>\n",
       "<table border=\"1\" class=\"dataframe\">\n",
       "  <thead>\n",
       "    <tr style=\"text-align: right;\">\n",
       "      <th></th>\n",
       "      <th>idx</th>\n",
       "      <th>name</th>\n",
       "      <th>score</th>\n",
       "    </tr>\n",
       "  </thead>\n",
       "  <tbody>\n",
       "    <tr>\n",
       "      <th>30</th>\n",
       "      <td>10</td>\n",
       "      <td>OCLTV</td>\n",
       "      <td>0.336976</td>\n",
       "    </tr>\n",
       "    <tr>\n",
       "      <th>29</th>\n",
       "      <td>9</td>\n",
       "      <td>OLTV</td>\n",
       "      <td>0.268246</td>\n",
       "    </tr>\n",
       "    <tr>\n",
       "      <th>28</th>\n",
       "      <td>8</td>\n",
       "      <td>ORIG_AMT</td>\n",
       "      <td>0.115159</td>\n",
       "    </tr>\n",
       "    <tr>\n",
       "      <th>34</th>\n",
       "      <td>14</td>\n",
       "      <td>Total_Cost</td>\n",
       "      <td>0.075202</td>\n",
       "    </tr>\n",
       "    <tr>\n",
       "      <th>32</th>\n",
       "      <td>12</td>\n",
       "      <td>CSCORE_MN</td>\n",
       "      <td>0.055333</td>\n",
       "    </tr>\n",
       "    <tr>\n",
       "      <th>35</th>\n",
       "      <td>15</td>\n",
       "      <td>SATO</td>\n",
       "      <td>0.054906</td>\n",
       "    </tr>\n",
       "    <tr>\n",
       "      <th>31</th>\n",
       "      <td>11</td>\n",
       "      <td>DTI</td>\n",
       "      <td>0.050355</td>\n",
       "    </tr>\n",
       "    <tr>\n",
       "      <th>12</th>\n",
       "      <td>20</td>\n",
       "      <td>PURPOSEOneHot_P</td>\n",
       "      <td>0.009083</td>\n",
       "    </tr>\n",
       "    <tr>\n",
       "      <th>17</th>\n",
       "      <td>25</td>\n",
       "      <td>LAST_STATOneHot_C</td>\n",
       "      <td>0.007471</td>\n",
       "    </tr>\n",
       "    <tr>\n",
       "      <th>11</th>\n",
       "      <td>19</td>\n",
       "      <td>FTHB_FLGOneHot_Y</td>\n",
       "      <td>0.006758</td>\n",
       "    </tr>\n",
       "  </tbody>\n",
       "</table>\n",
       "</div>"
      ],
      "text/plain": [
       "    idx               name     score\n",
       "30   10              OCLTV  0.336976\n",
       "29    9               OLTV  0.268246\n",
       "28    8           ORIG_AMT  0.115159\n",
       "34   14         Total_Cost  0.075202\n",
       "32   12          CSCORE_MN  0.055333\n",
       "35   15               SATO  0.054906\n",
       "31   11                DTI  0.050355\n",
       "12   20    PURPOSEOneHot_P  0.009083\n",
       "17   25  LAST_STATOneHot_C  0.007471\n",
       "11   19   FTHB_FLGOneHot_Y  0.006758"
      ]
     },
     "execution_count": 45,
     "metadata": {},
     "output_type": "execute_result"
    }
   ],
   "source": [
    "ExtractFeatureImp(bestModel.stages[-1].featureImportances, tunedprediction, \"features\").head(10)"
   ]
  },
  {
   "cell_type": "code",
   "execution_count": 46,
   "metadata": {},
   "outputs": [],
   "source": [
    "most_important_features = list(ExtractFeatureImp(bestModel.stages[-1].featureImportances, tunedprediction, \"features\")['name'].head(10))"
   ]
  },
  {
   "cell_type": "code",
   "execution_count": 47,
   "metadata": {},
   "outputs": [],
   "source": [
    "best_scores = list(ExtractFeatureImp(bestModel.stages[-1].featureImportances, tunedprediction, \"features\")['score'].head(10))"
   ]
  },
  {
   "cell_type": "code",
   "execution_count": 48,
   "metadata": {},
   "outputs": [],
   "source": [
    "x_values = list(range(11)[1:11])"
   ]
  },
  {
   "cell_type": "code",
   "execution_count": 49,
   "metadata": {},
   "outputs": [],
   "source": [
    "plt.rcParams['figure.figsize'] = (20, 8)"
   ]
  },
  {
   "cell_type": "code",
   "execution_count": 50,
   "metadata": {},
   "outputs": [
    {
     "data": {
      "text/plain": [
       "Text(0.5, 1.0, 'Feature Importances')"
      ]
     },
     "execution_count": 50,
     "metadata": {},
     "output_type": "execute_result"
    },
    {
     "data": {
      "image/png": "[encoded data removed]",
      "text/plain": [
       "<Figure size 1440x576 with 1 Axes>"
      ]
     },
     "metadata": {},
     "output_type": "display_data"
    }
   ],
   "source": [
    "plt.bar(x_values, best_scores, orientation = 'vertical')\n",
    "plt.xticks(x_values, most_important_features, rotation=90)\n",
    "plt.ylabel('Importance')\n",
    "plt.xlabel('Feature')\n",
    "plt.title('Feature Importances')"
   ]
  },
  {
   "cell_type": "markdown",
   "metadata": {},
   "source": [
    "## 5.6. Decision Tree Classifier"
   ]
  },
  {
   "cell_type": "code",
   "execution_count": 51,
   "metadata": {},
   "outputs": [],
   "source": [
    "dt = DecisionTreeClassifier(featuresCol='features', labelCol='profitable')"
   ]
  },
  {
   "cell_type": "markdown",
   "metadata": {},
   "source": [
    "### 5.6.1. Pipeline"
   ]
  },
  {
   "cell_type": "markdown",
   "metadata": {},
   "source": [
    "Now that we have all the stages, we are finally ready to put them together into a single Estimator, our Pipeline."
   ]
  },
  {
   "cell_type": "code",
   "execution_count": 52,
   "metadata": {},
   "outputs": [],
   "source": [
    "pipeline = Pipeline(stages= [assembler,dt])"
   ]
  },
  {
   "cell_type": "code",
   "execution_count": 54,
   "metadata": {},
   "outputs": [],
   "source": [
    "params = paramGrid = ParamGridBuilder().build()"
   ]
  },
  {
   "cell_type": "code",
   "execution_count": 55,
   "metadata": {},
   "outputs": [],
   "source": [
    "crossval = CrossValidator(estimator=pipeline,\n",
    "                          estimatorParamMaps=params,\n",
    "                          evaluator=MulticlassClassificationEvaluator(labelCol='profitable'),\n",
    "                          numFolds=5)"
   ]
  },
  {
   "cell_type": "code",
   "execution_count": 56,
   "metadata": {},
   "outputs": [],
   "source": [
    "model = crossval.fit(df_train)"
   ]
  },
  {
   "cell_type": "code",
   "execution_count": 57,
   "metadata": {},
   "outputs": [],
   "source": [
    "bestModel = model.bestModel"
   ]
  },
  {
   "cell_type": "markdown",
   "metadata": {},
   "source": [
    "### 5.6.2. Evaluating the model"
   ]
  },
  {
   "cell_type": "code",
   "execution_count": 58,
   "metadata": {},
   "outputs": [],
   "source": [
    "tunedprediction = bestModel.transform(df_test)"
   ]
  },
  {
   "cell_type": "code",
   "execution_count": 59,
   "metadata": {},
   "outputs": [
    {
     "name": "stdout",
     "output_type": "stream",
     "text": [
      "Accuracy of DecisionTree is = 0.952215\n",
      "Test Error of DecisionTree = 0.0477847 \n"
     ]
    }
   ],
   "source": [
    "evaluator = MulticlassClassificationEvaluator(labelCol=\"profitable\", predictionCol=\"prediction\", metricName=\"accuracy\")\n",
    "\n",
    "accuracy = evaluator.evaluate(tunedprediction)\n",
    "print(\"Accuracy of DecisionTree is = %g\"% (accuracy))\n",
    "print(\"Test Error of DecisionTree = %g \" % (1.0 - accuracy))"
   ]
  },
  {
   "cell_type": "code",
   "execution_count": 60,
   "metadata": {},
   "outputs": [
    {
     "name": "stdout",
     "output_type": "stream",
     "text": [
      "              precision    recall  f1-score   support\n",
      "\n",
      "           0       0.97      0.98      0.97   1656396\n",
      "           1       0.81      0.77      0.79    216650\n",
      "\n",
      "    accuracy                           0.95   1873046\n",
      "   macro avg       0.89      0.87      0.88   1873046\n",
      "weighted avg       0.95      0.95      0.95   1873046\n",
      "\n"
     ]
    }
   ],
   "source": [
    "expected = tunedprediction.select(['profitable']).collect()\n",
    "predicted = tunedprediction.select(['prediction']).collect()\n",
    "\n",
    "print(classification_report(expected, predicted))"
   ]
  },
  {
   "cell_type": "code",
   "execution_count": 61,
   "metadata": {},
   "outputs": [
    {
     "name": "stdout",
     "output_type": "stream",
     "text": [
      "[[1616802   39594]\n",
      " [  49909  166741]]\n"
     ]
    }
   ],
   "source": [
    "# Confusion matrix\n",
    "print(metrics.confusion_matrix(expected, predicted))"
   ]
  },
  {
   "cell_type": "markdown",
   "metadata": {},
   "source": [
    "### 5.6.3. Feature Importance"
   ]
  },
  {
   "cell_type": "code",
   "execution_count": 62,
   "metadata": {},
   "outputs": [],
   "source": [
    "def ExtractFeatureImp(featureImp, dataset, featuresCol):\n",
    "    list_extract = []\n",
    "    for i in dataset.schema[featuresCol].metadata[\"ml_attr\"][\"attrs\"]:\n",
    "        list_extract = list_extract + dataset.schema[featuresCol].metadata[\"ml_attr\"][\"attrs\"][i]\n",
    "    varlist = pd.DataFrame(list_extract)\n",
    "    varlist['score'] = varlist['idx'].apply(lambda x: featureImp[x])\n",
    "    return(varlist.sort_values('score', ascending = False))"
   ]
  },
  {
   "cell_type": "code",
   "execution_count": 63,
   "metadata": {},
   "outputs": [
    {
     "data": {
      "text/html": [
       "<div>\n",
       "<style scoped>\n",
       "    .dataframe tbody tr th:only-of-type {\n",
       "        vertical-align: middle;\n",
       "    }\n",
       "\n",
       "    .dataframe tbody tr th {\n",
       "        vertical-align: top;\n",
       "    }\n",
       "\n",
       "    .dataframe thead th {\n",
       "        text-align: right;\n",
       "    }\n",
       "</style>\n",
       "<table border=\"1\" class=\"dataframe\">\n",
       "  <thead>\n",
       "    <tr style=\"text-align: right;\">\n",
       "      <th></th>\n",
       "      <th>idx</th>\n",
       "      <th>name</th>\n",
       "      <th>score</th>\n",
       "    </tr>\n",
       "  </thead>\n",
       "  <tbody>\n",
       "    <tr>\n",
       "      <th>30</th>\n",
       "      <td>10</td>\n",
       "      <td>OCLTV</td>\n",
       "      <td>0.549121</td>\n",
       "    </tr>\n",
       "    <tr>\n",
       "      <th>28</th>\n",
       "      <td>8</td>\n",
       "      <td>ORIG_AMT</td>\n",
       "      <td>0.171700</td>\n",
       "    </tr>\n",
       "    <tr>\n",
       "      <th>31</th>\n",
       "      <td>11</td>\n",
       "      <td>DTI</td>\n",
       "      <td>0.142987</td>\n",
       "    </tr>\n",
       "    <tr>\n",
       "      <th>32</th>\n",
       "      <td>12</td>\n",
       "      <td>CSCORE_MN</td>\n",
       "      <td>0.117318</td>\n",
       "    </tr>\n",
       "    <tr>\n",
       "      <th>34</th>\n",
       "      <td>14</td>\n",
       "      <td>Total_Cost</td>\n",
       "      <td>0.014506</td>\n",
       "    </tr>\n",
       "    <tr>\n",
       "      <th>29</th>\n",
       "      <td>9</td>\n",
       "      <td>OLTV</td>\n",
       "      <td>0.004322</td>\n",
       "    </tr>\n",
       "    <tr>\n",
       "      <th>35</th>\n",
       "      <td>15</td>\n",
       "      <td>SATO</td>\n",
       "      <td>0.000047</td>\n",
       "    </tr>\n",
       "    <tr>\n",
       "      <th>24</th>\n",
       "      <td>32</td>\n",
       "      <td>LAST_STATOneHot_R</td>\n",
       "      <td>0.000000</td>\n",
       "    </tr>\n",
       "    <tr>\n",
       "      <th>20</th>\n",
       "      <td>28</td>\n",
       "      <td>LAST_STATOneHot_5</td>\n",
       "      <td>0.000000</td>\n",
       "    </tr>\n",
       "    <tr>\n",
       "      <th>21</th>\n",
       "      <td>29</td>\n",
       "      <td>LAST_STATOneHot_2</td>\n",
       "      <td>0.000000</td>\n",
       "    </tr>\n",
       "  </tbody>\n",
       "</table>\n",
       "</div>"
      ],
      "text/plain": [
       "    idx               name     score\n",
       "30   10              OCLTV  0.549121\n",
       "28    8           ORIG_AMT  0.171700\n",
       "31   11                DTI  0.142987\n",
       "32   12          CSCORE_MN  0.117318\n",
       "34   14         Total_Cost  0.014506\n",
       "29    9               OLTV  0.004322\n",
       "35   15               SATO  0.000047\n",
       "24   32  LAST_STATOneHot_R  0.000000\n",
       "20   28  LAST_STATOneHot_5  0.000000\n",
       "21   29  LAST_STATOneHot_2  0.000000"
      ]
     },
     "execution_count": 63,
     "metadata": {},
     "output_type": "execute_result"
    }
   ],
   "source": [
    "ExtractFeatureImp(bestModel.stages[-1].featureImportances, tunedprediction, \"features\").head(10)"
   ]
  },
  {
   "cell_type": "code",
   "execution_count": 64,
   "metadata": {},
   "outputs": [],
   "source": [
    "most_important_features = list(ExtractFeatureImp(bestModel.stages[-1].featureImportances, tunedprediction, \"features\")['name'].head(10))"
   ]
  },
  {
   "cell_type": "code",
   "execution_count": 65,
   "metadata": {},
   "outputs": [],
   "source": [
    "best_scores = list(ExtractFeatureImp(bestModel.stages[-1].featureImportances, tunedprediction, \"features\")['score'].head(10))"
   ]
  },
  {
   "cell_type": "code",
   "execution_count": 66,
   "metadata": {},
   "outputs": [],
   "source": [
    "x_values = list(range(11)[1:11])"
   ]
  },
  {
   "cell_type": "code",
   "execution_count": 67,
   "metadata": {},
   "outputs": [],
   "source": [
    "plt.rcParams['figure.figsize'] = (20, 8)"
   ]
  },
  {
   "cell_type": "code",
   "execution_count": 68,
   "metadata": {},
   "outputs": [
    {
     "data": {
      "text/plain": [
       "Text(0.5, 1.0, 'Feature Importances')"
      ]
     },
     "execution_count": 68,
     "metadata": {},
     "output_type": "execute_result"
    },
    {
     "data": {
      "image/png": "[encoded data removed]",
      "text/plain": [
       "<Figure size 1440x576 with 1 Axes>"
      ]
     },
     "metadata": {},
     "output_type": "display_data"
    }
   ],
   "source": [
    "plt.bar(x_values, best_scores, orientation = 'vertical')\n",
    "plt.xticks(x_values, most_important_features, rotation=90)\n",
    "plt.ylabel('Importance')\n",
    "plt.xlabel('Feature')\n",
    "plt.title('Feature Importances')"
   ]
  },
  {
   "cell_type": "markdown",
   "metadata": {},
   "source": [
    "Now that we have gone to the trouble of building our Pipeline, fitting it and using it to predict the probabilty of delay on unseen data is as easy as using Cross Validation:"
   ]
  },
  {
   "cell_type": "markdown",
   "metadata": {},
   "source": [
    "## 5.7. Logistic Regression"
   ]
  },
  {
   "cell_type": "code",
   "execution_count": 69,
   "metadata": {},
   "outputs": [],
   "source": [
    "lr = LogisticRegression(featuresCol='features', labelCol='profitable')"
   ]
  },
  {
   "cell_type": "markdown",
   "metadata": {},
   "source": [
    "### 5.7.1. Pipeline"
   ]
  },
  {
   "cell_type": "markdown",
   "metadata": {},
   "source": [
    "Now that we have all the stages, we are finally ready to put them together into a single Estimator, our Pipeline."
   ]
  },
  {
   "cell_type": "code",
   "execution_count": 70,
   "metadata": {},
   "outputs": [],
   "source": [
    "pipeline = Pipeline(stages= [assembler,lr])"
   ]
  },
  {
   "cell_type": "code",
   "execution_count": 72,
   "metadata": {},
   "outputs": [],
   "source": [
    "params = paramGrid = ParamGridBuilder().build()"
   ]
  },
  {
   "cell_type": "code",
   "execution_count": 73,
   "metadata": {},
   "outputs": [],
   "source": [
    "crossval = CrossValidator(estimator=pipeline,\n",
    "                          estimatorParamMaps=params,\n",
    "                          evaluator=MulticlassClassificationEvaluator(labelCol='profitable'),\n",
    "                          numFolds=5)"
   ]
  },
  {
   "cell_type": "code",
   "execution_count": 74,
   "metadata": {},
   "outputs": [],
   "source": [
    "model = crossval.fit(df_train)"
   ]
  },
  {
   "cell_type": "code",
   "execution_count": 75,
   "metadata": {},
   "outputs": [],
   "source": [
    "bestModel = model.bestModel"
   ]
  },
  {
   "cell_type": "markdown",
   "metadata": {},
   "source": [
    "### 5.7.2. Evaluating the model"
   ]
  },
  {
   "cell_type": "code",
   "execution_count": 76,
   "metadata": {},
   "outputs": [],
   "source": [
    "tunedprediction = bestModel.transform(df_test)"
   ]
  },
  {
   "cell_type": "code",
   "execution_count": 77,
   "metadata": {},
   "outputs": [
    {
     "name": "stdout",
     "output_type": "stream",
     "text": [
      "accuracy of LogisticRegression is = 0.930346\n",
      "Test Error of LogisticRegression = 0.0696545 \n"
     ]
    }
   ],
   "source": [
    "evaluator = MulticlassClassificationEvaluator(labelCol=\"profitable\", predictionCol=\"prediction\", metricName=\"accuracy\")\n",
    "accuracy = evaluator.evaluate(tunedprediction)\n",
    "print(\"accuracy of LogisticRegression is = %g\"% (accuracy))\n",
    "print(\"Test Error of LogisticRegression = %g \" % (1.0 - accuracy))"
   ]
  },
  {
   "cell_type": "code",
   "execution_count": 78,
   "metadata": {},
   "outputs": [
    {
     "name": "stdout",
     "output_type": "stream",
     "text": [
      "              precision    recall  f1-score   support\n",
      "\n",
      "           0       0.95      0.97      0.96   1656396\n",
      "           1       0.75      0.59      0.66    216650\n",
      "\n",
      "    accuracy                           0.93   1873046\n",
      "   macro avg       0.85      0.78      0.81   1873046\n",
      "weighted avg       0.93      0.93      0.93   1873046\n",
      "\n"
     ]
    }
   ],
   "source": [
    "expected = tunedprediction.select(['profitable']).collect()\n",
    "predicted = tunedprediction.select(['prediction']).collect()\n",
    "\n",
    "print(classification_report(expected, predicted))"
   ]
  },
  {
   "cell_type": "code",
   "execution_count": 79,
   "metadata": {},
   "outputs": [
    {
     "name": "stdout",
     "output_type": "stream",
     "text": [
      "[[1614557   41839]\n",
      " [  88627  128023]]\n"
     ]
    }
   ],
   "source": [
    "# Confusion matrix\n",
    "print(metrics.confusion_matrix(expected, predicted))"
   ]
  },
  {
   "cell_type": "markdown",
   "metadata": {},
   "source": [
    "## 5.8. Gradient Boosting Classifier"
   ]
  },
  {
   "cell_type": "code",
   "execution_count": 80,
   "metadata": {},
   "outputs": [],
   "source": [
    "gbt = GBTClassifier(featuresCol='features', labelCol='profitable')"
   ]
  },
  {
   "cell_type": "markdown",
   "metadata": {},
   "source": [
    "### 5.8.1. Pipeline"
   ]
  },
  {
   "cell_type": "markdown",
   "metadata": {},
   "source": [
    "Now that we have all the stages, we are finally ready to put them together into a single Estimator, our Pipeline."
   ]
  },
  {
   "cell_type": "code",
   "execution_count": 81,
   "metadata": {},
   "outputs": [],
   "source": [
    "pipeline = Pipeline(stages= [assembler,gbt])"
   ]
  },
  {
   "cell_type": "code",
   "execution_count": 83,
   "metadata": {},
   "outputs": [],
   "source": [
    "params = paramGrid = ParamGridBuilder().build()"
   ]
  },
  {
   "cell_type": "code",
   "execution_count": 84,
   "metadata": {},
   "outputs": [],
   "source": [
    "crossval = CrossValidator(estimator=pipeline,\n",
    "                          estimatorParamMaps=params,\n",
    "                          evaluator=MulticlassClassificationEvaluator(labelCol='profitable'),\n",
    "                          numFolds=5)"
   ]
  },
  {
   "cell_type": "code",
   "execution_count": 85,
   "metadata": {},
   "outputs": [],
   "source": [
    "model = crossval.fit(df_train)"
   ]
  },
  {
   "cell_type": "code",
   "execution_count": 86,
   "metadata": {},
   "outputs": [],
   "source": [
    "bestModel = model.bestModel"
   ]
  },
  {
   "cell_type": "markdown",
   "metadata": {},
   "source": [
    "### 5.8.2. Evaluating the model"
   ]
  },
  {
   "cell_type": "code",
   "execution_count": 87,
   "metadata": {},
   "outputs": [],
   "source": [
    "tunedprediction = bestModel.transform(df_test)"
   ]
  },
  {
   "cell_type": "code",
   "execution_count": 88,
   "metadata": {},
   "outputs": [
    {
     "name": "stdout",
     "output_type": "stream",
     "text": [
      "Accuracy of DecisionTree is = 0.965434\n",
      "Test Error of DecisionTree = 0.0345662 \n"
     ]
    }
   ],
   "source": [
    "evaluator = MulticlassClassificationEvaluator(labelCol=\"profitable\", predictionCol=\"prediction\", metricName=\"accuracy\")\n",
    "\n",
    "accuracy = evaluator.evaluate(tunedprediction)\n",
    "print(\"Accuracy of GBTClassifier is = %g\"% (accuracy))\n",
    "print(\"Test Error of GBTClassifier = %g \" % (1.0 - accuracy))"
   ]
  },
  {
   "cell_type": "code",
   "execution_count": 89,
   "metadata": {},
   "outputs": [
    {
     "name": "stdout",
     "output_type": "stream",
     "text": [
      "              precision    recall  f1-score   support\n",
      "\n",
      "           0       0.97      0.99      0.98   1656396\n",
      "           1       0.90      0.79      0.84    216650\n",
      "\n",
      "    accuracy                           0.97   1873046\n",
      "   macro avg       0.94      0.89      0.91   1873046\n",
      "weighted avg       0.96      0.97      0.96   1873046\n",
      "\n"
     ]
    }
   ],
   "source": [
    "expected = tunedprediction.select(['profitable']).collect()\n",
    "predicted = tunedprediction.select(['prediction']).collect()\n",
    "\n",
    "print(classification_report(expected, predicted))"
   ]
  },
  {
   "cell_type": "code",
   "execution_count": 90,
   "metadata": {},
   "outputs": [
    {
     "name": "stdout",
     "output_type": "stream",
     "text": [
      "[[1638120   18276]\n",
      " [  46468  170182]]\n"
     ]
    }
   ],
   "source": [
    "# Confusion matrix\n",
    "print(metrics.confusion_matrix(expected, predicted))"
   ]
  },
  {
   "cell_type": "markdown",
   "metadata": {},
   "source": [
    "### 5.8.3. Feature Importance"
   ]
  },
  {
   "cell_type": "code",
   "execution_count": 91,
   "metadata": {},
   "outputs": [],
   "source": [
    "def ExtractFeatureImp(featureImp, dataset, featuresCol):\n",
    "    list_extract = []\n",
    "    for i in dataset.schema[featuresCol].metadata[\"ml_attr\"][\"attrs\"]:\n",
    "        list_extract = list_extract + dataset.schema[featuresCol].metadata[\"ml_attr\"][\"attrs\"][i]\n",
    "    varlist = pd.DataFrame(list_extract)\n",
    "    varlist['score'] = varlist['idx'].apply(lambda x: featureImp[x])\n",
    "    return(varlist.sort_values('score', ascending = False))"
   ]
  },
  {
   "cell_type": "code",
   "execution_count": 92,
   "metadata": {},
   "outputs": [
    {
     "data": {
      "text/html": [
       "<div>\n",
       "<style scoped>\n",
       "    .dataframe tbody tr th:only-of-type {\n",
       "        vertical-align: middle;\n",
       "    }\n",
       "\n",
       "    .dataframe tbody tr th {\n",
       "        vertical-align: top;\n",
       "    }\n",
       "\n",
       "    .dataframe thead th {\n",
       "        text-align: right;\n",
       "    }\n",
       "</style>\n",
       "<table border=\"1\" class=\"dataframe\">\n",
       "  <thead>\n",
       "    <tr style=\"text-align: right;\">\n",
       "      <th></th>\n",
       "      <th>idx</th>\n",
       "      <th>name</th>\n",
       "      <th>score</th>\n",
       "    </tr>\n",
       "  </thead>\n",
       "  <tbody>\n",
       "    <tr>\n",
       "      <th>30</th>\n",
       "      <td>10</td>\n",
       "      <td>OCLTV</td>\n",
       "      <td>0.235263</td>\n",
       "    </tr>\n",
       "    <tr>\n",
       "      <th>28</th>\n",
       "      <td>8</td>\n",
       "      <td>ORIG_AMT</td>\n",
       "      <td>0.185835</td>\n",
       "    </tr>\n",
       "    <tr>\n",
       "      <th>31</th>\n",
       "      <td>11</td>\n",
       "      <td>DTI</td>\n",
       "      <td>0.177391</td>\n",
       "    </tr>\n",
       "    <tr>\n",
       "      <th>32</th>\n",
       "      <td>12</td>\n",
       "      <td>CSCORE_MN</td>\n",
       "      <td>0.131474</td>\n",
       "    </tr>\n",
       "    <tr>\n",
       "      <th>29</th>\n",
       "      <td>9</td>\n",
       "      <td>OLTV</td>\n",
       "      <td>0.077001</td>\n",
       "    </tr>\n",
       "    <tr>\n",
       "      <th>35</th>\n",
       "      <td>15</td>\n",
       "      <td>SATO</td>\n",
       "      <td>0.066500</td>\n",
       "    </tr>\n",
       "    <tr>\n",
       "      <th>1</th>\n",
       "      <td>1</td>\n",
       "      <td>NUM_BOOneHot_1</td>\n",
       "      <td>0.053728</td>\n",
       "    </tr>\n",
       "    <tr>\n",
       "      <th>17</th>\n",
       "      <td>25</td>\n",
       "      <td>LAST_STATOneHot_C</td>\n",
       "      <td>0.042256</td>\n",
       "    </tr>\n",
       "    <tr>\n",
       "      <th>34</th>\n",
       "      <td>14</td>\n",
       "      <td>Total_Cost</td>\n",
       "      <td>0.028378</td>\n",
       "    </tr>\n",
       "    <tr>\n",
       "      <th>18</th>\n",
       "      <td>26</td>\n",
       "      <td>LAST_STATOneHot_P</td>\n",
       "      <td>0.002168</td>\n",
       "    </tr>\n",
       "  </tbody>\n",
       "</table>\n",
       "</div>"
      ],
      "text/plain": [
       "    idx               name     score\n",
       "30   10              OCLTV  0.235263\n",
       "28    8           ORIG_AMT  0.185835\n",
       "31   11                DTI  0.177391\n",
       "32   12          CSCORE_MN  0.131474\n",
       "29    9               OLTV  0.077001\n",
       "35   15               SATO  0.066500\n",
       "1     1     NUM_BOOneHot_1  0.053728\n",
       "17   25  LAST_STATOneHot_C  0.042256\n",
       "34   14         Total_Cost  0.028378\n",
       "18   26  LAST_STATOneHot_P  0.002168"
      ]
     },
     "execution_count": 92,
     "metadata": {},
     "output_type": "execute_result"
    }
   ],
   "source": [
    "ExtractFeatureImp(bestModel.stages[-1].featureImportances, tunedprediction, \"features\").head(10)"
   ]
  },
  {
   "cell_type": "code",
   "execution_count": 93,
   "metadata": {},
   "outputs": [],
   "source": [
    "most_important_features = list(ExtractFeatureImp(bestModel.stages[-1].featureImportances, tunedprediction, \"features\")['name'].head(10))"
   ]
  },
  {
   "cell_type": "code",
   "execution_count": 94,
   "metadata": {},
   "outputs": [],
   "source": [
    "best_scores = list(ExtractFeatureImp(bestModel.stages[-1].featureImportances, tunedprediction, \"features\")['score'].head(10))"
   ]
  },
  {
   "cell_type": "code",
   "execution_count": 95,
   "metadata": {},
   "outputs": [],
   "source": [
    "x_values = list(range(11)[1:11])"
   ]
  },
  {
   "cell_type": "code",
   "execution_count": 96,
   "metadata": {},
   "outputs": [],
   "source": [
    "plt.rcParams['figure.figsize'] = (20, 8)"
   ]
  },
  {
   "cell_type": "code",
   "execution_count": 97,
   "metadata": {},
   "outputs": [
    {
     "data": {
      "text/plain": [
       "Text(0.5, 1.0, 'Feature Importances')"
      ]
     },
     "execution_count": 97,
     "metadata": {},
     "output_type": "execute_result"
    },
    {
     "data": {
      "image/png": "[encoded data removed]",
      "text/plain": [
       "<Figure size 1440x576 with 1 Axes>"
      ]
     },
     "metadata": {},
     "output_type": "display_data"
    }
   ],
   "source": [
    "plt.bar(x_values, best_scores, orientation = 'vertical')\n",
    "plt.xticks(x_values, most_important_features, rotation=90)\n",
    "plt.ylabel('Importance')\n",
    "plt.xlabel('Feature')\n",
    "plt.title('Feature Importances')"
   ]
  },
  {
   "cell_type": "markdown",
   "metadata": {},
   "source": [
    "### 5.8.4. Parameter Tuning"
   ]
  },
  {
   "cell_type": "code",
   "execution_count": 35,
   "metadata": {},
   "outputs": [],
   "source": [
    "new_cols = ['OCLTV',\n",
    "            'ORIG_AMT',\n",
    "            'DTI',\n",
    "            'CSCORE_MN',\n",
    "            'OLTV',\n",
    "            'SATO',\n",
    "            'NUM_BOOneHot',\n",
    "            'LAST_STAT',\n",
    "            'Total_Cost']"
   ]
  },
  {
   "cell_type": "code",
   "execution_count": 36,
   "metadata": {},
   "outputs": [],
   "source": [
    "assembler = VectorAssembler(inputCols=new_cols, outputCol='features')"
   ]
  },
  {
   "cell_type": "code",
   "execution_count": 37,
   "metadata": {},
   "outputs": [],
   "source": [
    "gbt = GBTClassifier(featuresCol='features', labelCol='profitable')"
   ]
  },
  {
   "cell_type": "code",
   "execution_count": 38,
   "metadata": {},
   "outputs": [],
   "source": [
    "pipeline = Pipeline(stages= [assembler,gbt])"
   ]
  },
  {
   "cell_type": "markdown",
   "metadata": {},
   "source": [
    "#### 5.8.4.1. Pipeline"
   ]
  },
  {
   "cell_type": "markdown",
   "metadata": {},
   "source": [
    "Now that we have all the stages, we are finally ready to put them together into a single Estimator, our Pipeline."
   ]
  },
  {
   "cell_type": "code",
   "execution_count": 39,
   "metadata": {},
   "outputs": [],
   "source": [
    "params = ParamGridBuilder()\n",
    "             .addGrid(gbt.maxDepth, [2, 4, 6])\n",
    "             .addGrid(gbt.maxBins, [20, 60])\n",
    "             .addGrid(gbt.maxIter, [10, 20])\n",
    "             .build()"
   ]
  },
  {
   "cell_type": "code",
   "execution_count": 40,
   "metadata": {},
   "outputs": [],
   "source": [
    "crossval = CrossValidator(estimator=pipeline,\n",
    "                          estimatorParamMaps=params,\n",
    "                          evaluator=MulticlassClassificationEvaluator(labelCol='profitable'),\n",
    "                          numFolds=5)"
   ]
  },
  {
   "cell_type": "code",
   "execution_count": 41,
   "metadata": {},
   "outputs": [],
   "source": [
    "model = crossval.fit(df_train)"
   ]
  },
  {
   "cell_type": "code",
   "execution_count": 42,
   "metadata": {},
   "outputs": [],
   "source": [
    "bestModel = model.bestModel"
   ]
  },
  {
   "cell_type": "markdown",
   "metadata": {},
   "source": [
    "#### 5.8.4.2. Re-evaluating the model"
   ]
  },
  {
   "cell_type": "code",
   "execution_count": 43,
   "metadata": {},
   "outputs": [],
   "source": [
    "tunedprediction = bestModel.transform(df_test)"
   ]
  },
  {
   "cell_type": "code",
   "execution_count": 44,
   "metadata": {},
   "outputs": [
    {
     "name": "stdout",
     "output_type": "stream",
     "text": [
      "Accuracy of DecisionTree is = 0.977994\n",
      "Test Error of DecisionTree = 0.0220062 \n"
     ]
    }
   ],
   "source": [
    "evaluator = MulticlassClassificationEvaluator(labelCol=\"profitable\", predictionCol=\"prediction\", metricName=\"accuracy\")\n",
    "\n",
    "accuracy = evaluator.evaluate(tunedprediction)\n",
    "print(\"Accuracy of GBTClassifier is = %g\"% (accuracy))\n",
    "print(\"Test Error of GBTClassifier = %g \" % (1.0 - accuracy))"
   ]
  },
  {
   "cell_type": "code",
   "execution_count": 45,
   "metadata": {},
   "outputs": [
    {
     "name": "stdout",
     "output_type": "stream",
     "text": [
      "              precision    recall  f1-score   support\n",
      "\n",
      "           0       0.98      0.99      0.99   1656307\n",
      "           1       0.93      0.88      0.90    216529\n",
      "\n",
      "    accuracy                           0.98   1872836\n",
      "   macro avg       0.96      0.93      0.94   1872836\n",
      "weighted avg       0.98      0.98      0.98   1872836\n",
      "\n"
     ]
    }
   ],
   "source": [
    "expected = tunedprediction.select(['profitable']).collect()\n",
    "predicted = tunedprediction.select(['prediction']).collect()\n",
    "\n",
    "print(classification_report(expected, predicted))"
   ]
  },
  {
   "cell_type": "code",
   "execution_count": 46,
   "metadata": {},
   "outputs": [
    {
     "name": "stdout",
     "output_type": "stream",
     "text": [
      "[[1641429   14878]\n",
      " [  26336  190193]]\n"
     ]
    }
   ],
   "source": [
    "# Confusion matrix\n",
    "print(metrics.confusion_matrix(expected, predicted))"
   ]
  },
  {
   "cell_type": "code",
   "execution_count": 48,
   "metadata": {},
   "outputs": [
    {
     "name": "stdout",
     "output_type": "stream",
     "text": [
      "The percentage of errors found for the system is 2.25\n"
     ]
    }
   ],
   "source": [
    "print ('The percentage of errors found for the system is' , round((14878+26336)*100/(1641429+190193), 2))"
   ]
  }
 ],
 "metadata": {
  "kernelspec": {
   "display_name": "d1-spark2python3",
   "language": "python",
   "name": "spark-python-d1-spark2python3"
  },
  "language_info": {
   "codemirror_mode": {
    "name": "ipython",
    "version": 3
   },
   "file_extension": ".py",
   "mimetype": "text/x-python",
   "name": "python",
   "nbconvert_exporter": "python",
   "pygments_lexer": "ipython3",
   "version": "3.5.2"
  }
 },
 "nbformat": 4,
 "nbformat_minor": 4
}
